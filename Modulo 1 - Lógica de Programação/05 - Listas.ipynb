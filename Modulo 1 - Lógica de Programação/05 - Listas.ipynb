{
 "cells": [
  {
   "cell_type": "markdown",
   "metadata": {},
   "source": [
    "## Aula 05\n",
    "\n",
    "- Estruturas de Repetição\n",
    "    - For\n",
    "    - Range\n",
    "\n",
    "- Listas\n",
    "    - Criando Listas\n",
    "    - Acessando valores de uma lista\n",
    "    - Mudando valores de uma lista\n",
    "    - Adicionando elementos\n",
    "    - Slicing\n",
    "    - Metodos/Funções\n",
    "        - Max\n",
    "        - Min \n",
    "        - Pop\n",
    "        - Split (string)\n",
    "        - Sum\n",
    "        - Sort - altera definitivamente a ordem\n",
    "        - Sorted - altera temporariamente a ordem\n",
    "\n",
    "    - Lista dentro de lista\n",
    "- Exercicios"
   ]
  },
  {
   "cell_type": "code",
   "execution_count": 2,
   "metadata": {},
   "outputs": [
    {
     "name": "stdout",
     "output_type": "stream",
     "text": [
      "0\n",
      "1\n",
      "2\n",
      "3\n",
      "4\n",
      "5\n",
      "6\n",
      "7\n",
      "8\n",
      "9\n"
     ]
    }
   ],
   "source": [
    "# range (inicio, final, passos(steps))\n",
    "for i in range(10):\n",
    "    print(i)\n"
   ]
  },
  {
   "cell_type": "code",
   "execution_count": 3,
   "metadata": {},
   "outputs": [
    {
     "data": {
      "text/plain": [
       "range(-10, 10, 2)"
      ]
     },
     "execution_count": 3,
     "metadata": {},
     "output_type": "execute_result"
    }
   ],
   "source": [
    "range (-10,10,2)"
   ]
  },
  {
   "cell_type": "code",
   "execution_count": 4,
   "metadata": {},
   "outputs": [
    {
     "name": "stdout",
     "output_type": "stream",
     "text": [
      "10\n",
      "45\n"
     ]
    }
   ],
   "source": [
    "contador = 0\n",
    "contador_2 = 0\n",
    "\n",
    "for i in range(0,10):\n",
    "    contador = contador + 1\n",
    "    contador_2 = contador_2 + i\n",
    "\n",
    "print(contador)\n",
    "print(contador_2)"
   ]
  },
  {
   "cell_type": "code",
   "execution_count": 5,
   "metadata": {},
   "outputs": [
    {
     "name": "stdout",
     "output_type": "stream",
     "text": [
      "29\n",
      "K\n",
      "a\n",
      "i\n",
      "o\n",
      " \n",
      "H\n",
      "e\n",
      "n\n",
      "r\n",
      "i\n",
      "q\n",
      "u\n",
      "e\n",
      " \n",
      "d\n",
      "e\n",
      " \n",
      "j\n",
      "e\n",
      "s\n",
      "u\n",
      "s\n",
      " \n",
      "S\n",
      "a\n",
      "n\n",
      "t\n",
      "o\n",
      "s\n"
     ]
    }
   ],
   "source": [
    "nome = 'Kaio Henrique de jesus Santos'\n",
    "\n",
    "print(len(nome))\n",
    "\n",
    "for i in range(len(nome)):\n",
    "    print(nome[i])\n"
   ]
  },
  {
   "cell_type": "code",
   "execution_count": 8,
   "metadata": {},
   "outputs": [
    {
     "name": "stdout",
     "output_type": "stream",
     "text": [
      "['Kaio', 25, True, 10.5]\n"
     ]
    }
   ],
   "source": [
    "lista = ['Kaio', 25, True, 10.5]\n",
    "print(lista)"
   ]
  },
  {
   "cell_type": "code",
   "execution_count": 36,
   "metadata": {},
   "outputs": [],
   "source": [
    "lista[3] = 100"
   ]
  },
  {
   "cell_type": "code",
   "execution_count": 37,
   "metadata": {},
   "outputs": [
    {
     "name": "stdout",
     "output_type": "stream",
     "text": [
      "['Kaio', 25, True, 100]\n"
     ]
    }
   ],
   "source": [
    "print(lista)"
   ]
  },
  {
   "cell_type": "code",
   "execution_count": 13,
   "metadata": {},
   "outputs": [
    {
     "data": {
      "text/plain": [
       "'s'"
      ]
     },
     "execution_count": 13,
     "metadata": {},
     "output_type": "execute_result"
    }
   ],
   "source": [
    "nome[-1]"
   ]
  },
  {
   "cell_type": "code",
   "execution_count": 16,
   "metadata": {},
   "outputs": [],
   "source": [
    "# Inicializando uma lista\n",
    "alunos = []"
   ]
  },
  {
   "cell_type": "code",
   "execution_count": 31,
   "metadata": {},
   "outputs": [
    {
     "name": "stdout",
     "output_type": "stream",
     "text": [
      "['Kaio', 'Aiko', 'Milica', 'LULA NELES', 'Teo', 'Marcio', 'joana', 'Lulinha', 'Jorge']\n"
     ]
    }
   ],
   "source": [
    "nome = input('Digite seu nome: ')\n",
    "\n",
    "alunos.append(nome) # append serve para adicionar os itens em uma lista\n",
    "print(alunos)"
   ]
  },
  {
   "cell_type": "code",
   "execution_count": 35,
   "metadata": {},
   "outputs": [
    {
     "name": "stdout",
     "output_type": "stream",
     "text": [
      "['Kaio', 'Aiko']\n",
      "['Kaio', 'Aiko', 'Milica']\n",
      "['Milica', 'LULA NELES', 'Teo', 'Marcio', 'joana', 'Lulinha', 'Jorge']\n",
      "['Kaio', 'Aiko', 'Milica', 'LULA NELES', 'Teo', 'Marcio', 'joana', 'Lulinha', 'Jorge']\n",
      "['Kaio', 'Aiko', 'Milica', 'LULA NELES', 'Teo', 'Marcio', 'joana', 'Lulinha', 'Jorge']\n",
      "['Kaio', 'Milica', 'Teo', 'joana', 'Jorge']\n",
      "['Aiko']\n",
      "['Jorge', 'Lulinha', 'joana', 'Marcio', 'Teo', 'LULA NELES', 'Milica', 'Aiko', 'Kaio']\n"
     ]
    }
   ],
   "source": [
    "# slicing [start (inclusivo):end (não inclusivo):step]\n",
    "print(alunos[0:2]) # Defino inicio e fim do intervalo\n",
    "print(alunos[:3]) # Começa de 0 e vai atré 10 até o fim definido\n",
    "print(alunos[2:]) # começa do número definido e vai até o final\n",
    "print(alunos[:]) # Vai do inicio ao fim, mesma coisa de não colocar nada\n",
    "print(alunos) # Igual o de cima\n",
    "print(alunos[::2]) # Santando 2\n",
    "print(alunos[1:4:4]) # Começando na posição 1 (inclusivo), terminando na posição 4 (não - inclusivo) e pulando 4 casas por vez. Logo, o item exibido seria somente o 1 \n",
    "print(alunos[::-1])"
   ]
  },
  {
   "cell_type": "markdown",
   "metadata": {},
   "source": [
    "- Metodos/Funções\n",
    "\n",
    "        - Max\n",
    "        - Min \n",
    "        - Pop\n",
    "        - Split (string)\n",
    "        - Sum\n",
    "        - Sort - altera definitivamente a ordem\n",
    "        - Sorted - altera temporariamente a ordem"
   ]
  },
  {
   "cell_type": "code",
   "execution_count": 38,
   "metadata": {},
   "outputs": [
    {
     "name": "stdout",
     "output_type": "stream",
     "text": [
      "7\n",
      "1\n"
     ]
    }
   ],
   "source": [
    "lista = [1,4,7,3,2,6,1,2,7,4,6]\n",
    "\n",
    "print(max(lista))\n",
    "print(min(lista))"
   ]
  },
  {
   "cell_type": "code",
   "execution_count": 39,
   "metadata": {},
   "outputs": [
    {
     "name": "stdout",
     "output_type": "stream",
     "text": [
      "[1, 4, 7, 3, 2, 6, 1, 2, 7, 4, 6]\n",
      "[1, 1, 2, 2, 3, 4, 4, 6, 6, 7, 7]\n"
     ]
    }
   ],
   "source": [
    "lista = [1,4,7,3,2,6,1,2,7,4,6]\n",
    "print(lista)\n",
    "lista.sort()\n",
    "print(lista)"
   ]
  },
  {
   "cell_type": "code",
   "execution_count": 41,
   "metadata": {},
   "outputs": [
    {
     "name": "stdout",
     "output_type": "stream",
     "text": [
      "[1, 4, 7, 3, 2, 6, 1, 2, 7, 4, 6]\n",
      "[1, 1, 2, 2, 3, 4, 4, 6, 6, 7, 7]\n",
      "[1, 4, 7, 3, 2, 6, 1, 2, 7, 4, 6]\n"
     ]
    }
   ],
   "source": [
    "lista = [1,4,7,3,2,6,1,2,7,4,6]\n",
    "print(lista)\n",
    "print(sorted(lista)) # Ordena temporariamente, sem ordenar ela pra sempre\n",
    "print(lista)"
   ]
  },
  {
   "cell_type": "code",
   "execution_count": 42,
   "metadata": {},
   "outputs": [],
   "source": [
    "notas = [10, 2, 6, 3, 1, 6]\n",
    "alunos = ['Julia','Teo','Elizabeth', 'Kaio', 'Ilmen', 'Guilherme']"
   ]
  },
  {
   "cell_type": "code",
   "execution_count": 43,
   "metadata": {},
   "outputs": [
    {
     "name": "stdout",
     "output_type": "stream",
     "text": [
      "A nota de Julia é 10\n"
     ]
    }
   ],
   "source": [
    "print(f'A nota de {alunos[0]} é {notas[0]}')"
   ]
  },
  {
   "cell_type": "code",
   "execution_count": 45,
   "metadata": {},
   "outputs": [
    {
     "name": "stdout",
     "output_type": "stream",
     "text": [
      "A nota de Julia é 10\n",
      "A nota de Teo é 2\n",
      "A nota de Elizabeth é 6\n",
      "A nota de Kaio é 3\n",
      "A nota de Ilmen é 1\n",
      "A nota de Guilherme é 6\n"
     ]
    }
   ],
   "source": [
    "for i in range(len(notas)):\n",
    "    print(f'A nota de {alunos[i]} é {notas[i]}')"
   ]
  },
  {
   "cell_type": "code",
   "execution_count": 48,
   "metadata": {},
   "outputs": [
    {
     "name": "stdout",
     "output_type": "stream",
     "text": [
      "10\n",
      "2\n",
      "6\n",
      "3\n",
      "1\n",
      "6\n"
     ]
    }
   ],
   "source": [
    "# For Each -> percorre a lista por cada elemento dela, porém não consigo acompanhar o indice, efetivo para trabalhar em uma lista porém fica mais trabalhoso trabalhar com várias listas\n",
    "\n",
    "for nota in notas:\n",
    "    print(nota)"
   ]
  },
  {
   "cell_type": "code",
   "execution_count": 51,
   "metadata": {},
   "outputs": [
    {
     "name": "stdout",
     "output_type": "stream",
     "text": [
      "[1, 4, 7, 3, 2, 6, 1, 2, 7, 4, 6]\n",
      "[6, 4, 7, 2, 1, 6, 2, 3, 7, 4, 1]\n"
     ]
    }
   ],
   "source": [
    "lista = [1,4,7,3,2,6,1,2,7,4,6]\n",
    "print(lista)\n",
    "lista.reverse()\n",
    "print(lista)"
   ]
  },
  {
   "cell_type": "code",
   "execution_count": 53,
   "metadata": {},
   "outputs": [
    {
     "name": "stdout",
     "output_type": "stream",
     "text": [
      "28\n"
     ]
    }
   ],
   "source": [
    "notas = [10, 2, 6, 3, 1, 6]\n",
    "\n",
    "print(sum(notas))"
   ]
  },
  {
   "cell_type": "code",
   "execution_count": 54,
   "metadata": {},
   "outputs": [
    {
     "name": "stdout",
     "output_type": "stream",
     "text": [
      "['Kaio', 'Henrique', 'de', 'Jesus', 'Santos']\n"
     ]
    }
   ],
   "source": [
    "nome = 'Kaio Henrique de Jesus Santos'\n",
    "lista = nome.split(' ')\n",
    "\n",
    "print(lista)"
   ]
  },
  {
   "cell_type": "code",
   "execution_count": 55,
   "metadata": {},
   "outputs": [
    {
     "name": "stdout",
     "output_type": "stream",
     "text": [
      "['Kaio', ' 25', ' Jogar']\n"
     ]
    }
   ],
   "source": [
    "dados = input('Digite seu nome e idade e hobby saparado por vírgulas: ')\n",
    "\n",
    "lista_dados = dados.strip().split(',')\n",
    "print(lista_dados)"
   ]
  },
  {
   "cell_type": "code",
   "execution_count": 57,
   "metadata": {},
   "outputs": [
    {
     "name": "stdout",
     "output_type": "stream",
     "text": [
      "eng.kaio17@gmail.com\n",
      "        eng.kaio17@gmail.com\n",
      "eng.kaio17@gmail.com         \n"
     ]
    }
   ],
   "source": [
    "email = '        eng.kaio17@gmail.com         '\n",
    "\n",
    "print(email.strip()) # Strip - remove espaços em branco a esquerda e direita da variavel\n",
    "print(email.rstrip()) # rstrip - remove espaçõs à direita da variável\n",
    "print(email.lstrip())"
   ]
  },
  {
   "cell_type": "code",
   "execution_count": 58,
   "metadata": {},
   "outputs": [
    {
     "name": "stdout",
     "output_type": "stream",
     "text": [
      "['Kaio', 'Paulo', 'Guilherme', 'Ilmen', 'Elizabeth', 'Guilherme']\n",
      "['Kaio', 'Paulo', 'Guilherme', 'Ilmen', 'Elizabeth']\n",
      "Guilherme\n"
     ]
    }
   ],
   "source": [
    "alunos = ['Kaio', 'Paulo','Guilherme','Ilmen','Elizabeth','Guilherme']\n",
    "\n",
    "print(alunos)\n",
    "\n",
    "aluno_excluido = alunos.pop()\n",
    "\n",
    "print(alunos)\n",
    "print(aluno_excluido)"
   ]
  },
  {
   "cell_type": "code",
   "execution_count": 61,
   "metadata": {},
   "outputs": [
    {
     "name": "stdout",
     "output_type": "stream",
     "text": [
      "['Kaio', 'Paulo', 'Guilherme', 'Ilmen', 'Elizabeth', 'Guilherme']\n",
      "['Kaio', 'Guilherme', 'Ilmen', 'Elizabeth', 'Guilherme']\n"
     ]
    }
   ],
   "source": [
    "alunos = ['Kaio', 'Paulo','Guilherme','Ilmen','Elizabeth','Guilherme']\n",
    "\n",
    "print(alunos)\n",
    "\n",
    "del(alunos[1])\n",
    "\n",
    "print(alunos)"
   ]
  },
  {
   "cell_type": "code",
   "execution_count": 65,
   "metadata": {},
   "outputs": [
    {
     "ename": "SyntaxError",
     "evalue": "f-string: invalid syntax. Perhaps you forgot a comma? (1469461281.py, line 10)",
     "output_type": "error",
     "traceback": [
      "\u001b[1;36m  Input \u001b[1;32mIn [65]\u001b[1;36m\u001b[0m\n\u001b[1;33m    aprovados.append(f'{alunos[i], notas{i}}')\u001b[0m\n\u001b[1;37m        ^\u001b[0m\n\u001b[1;31mSyntaxError\u001b[0m\u001b[1;31m:\u001b[0m f-string: invalid syntax. Perhaps you forgot a comma?\n"
     ]
    }
   ],
   "source": [
    "alunos = ['Kaio', 'Paulo','Guilherme','Ilmen','Elizabeth','Guilherme']\n",
    "notas = [2,6,7,4,3,2,8]\n",
    "\n",
    "aprovados = []\n",
    "reprovados = []\n",
    "\n",
    "for i in range(len(alunos)):\n",
    "\n",
    "    if notas[i] > 6:\n",
    "        aprovados.append(f'{alunos[i], notas{i}}')\n",
    "    else:\n",
    "        reprovados.append(f'{alunos[i], notas{i}}')\n",
    "\n",
    "print(alunos)\n",
    "\n",
    "ex_alunos = []\n",
    "\n",
    "ex_alunos.append(alunos.pop(alunos.index('Guilherme')))\n",
    "\n",
    "print(alunos)\n",
    "print(ex_alunos)"
   ]
  },
  {
   "cell_type": "code",
   "execution_count": 67,
   "metadata": {},
   "outputs": [
    {
     "name": "stdout",
     "output_type": "stream",
     "text": [
      "Aprovados: [\"('Guilherme', 7)\"]\n",
      "Reprovados: [\"('Kaio', 2)\", \"('Paulo', 6)\", \"('Ilmen', 4)\", \"('Elizabeth', 3)\", \"('Guilherme', 2)\"] \n"
     ]
    }
   ],
   "source": [
    "alunos = ['Kaio', 'Paulo','Guilherme','Ilmen','Elizabeth','Guilherme']\n",
    "notas = [2,6,7,4,3,2,8]\n",
    "\n",
    "aprovados = []\n",
    "reprovados = []\n",
    "\n",
    "for i in range(len(alunos)):\n",
    "\n",
    "    if notas[i] > 6:\n",
    "        aprovados.append(f'{alunos[i], notas[i]}')\n",
    "    else:\n",
    "        reprovados.append(f'{alunos[i], notas[i] }')\n",
    "\n",
    "print(f'Aprovados: {aprovados}')\n",
    "print(f'Reprovados: {reprovados} ')"
   ]
  },
  {
   "cell_type": "code",
   "execution_count": 68,
   "metadata": {},
   "outputs": [
    {
     "name": "stdout",
     "output_type": "stream",
     "text": [
      "['Kaio', 'Paulo', 'Guilherme', 'Ilmen', 'Elizabeth', 'Guilherme']\n",
      "['Kaio', 'Julia', 'Paulo', 'Guilherme', 'Ilmen', 'Elizabeth', 'Guilherme']\n"
     ]
    }
   ],
   "source": [
    "alunos = ['Kaio', 'Paulo','Guilherme','Ilmen','Elizabeth','Guilherme']\n",
    "\n",
    "print(alunos)\n",
    "alunos.insert(1, 'Julia')\n",
    "print(alunos)"
   ]
  },
  {
   "cell_type": "code",
   "execution_count": 71,
   "metadata": {},
   "outputs": [
    {
     "name": "stdout",
     "output_type": "stream",
     "text": [
      "['Kaio', 25, 30.5, False, ['Guilherme', 'ProjetoLegal']]\n",
      "<class 'str'>\n",
      "<class 'int'>\n",
      "<class 'float'>\n",
      "<class 'bool'>\n",
      "<class 'list'>\n"
     ]
    }
   ],
   "source": [
    "lista = ['Kaio', 25, 30.5, False, ['Guilherme', 'ProjetoLegal']]\n",
    "\n",
    "print(lista)\n",
    "\n",
    "for item in lista:\n",
    "    print(type(item))"
   ]
  },
  {
   "cell_type": "code",
   "execution_count": 72,
   "metadata": {},
   "outputs": [
    {
     "name": "stdout",
     "output_type": "stream",
     "text": [
      "[['Kaio', 10], ['Julia', 8], ['Gabriel', 9]]\n"
     ]
    }
   ],
   "source": [
    "notas = [['Kaio', 10], ['Julia', 8], ['Gabriel', 9]]\n",
    "\n",
    "print(notas)"
   ]
  },
  {
   "cell_type": "code",
   "execution_count": 74,
   "metadata": {},
   "outputs": [
    {
     "name": "stdout",
     "output_type": "stream",
     "text": [
      "Guilherme\n"
     ]
    }
   ],
   "source": [
    "lista = ['Kaio', 25, 30.5, False, ['Guilherme', 'ProjetoLegal']]\n",
    "print(lista[4][0])"
   ]
  },
  {
   "cell_type": "code",
   "execution_count": 79,
   "metadata": {},
   "outputs": [
    {
     "name": "stdout",
     "output_type": "stream",
     "text": [
      "For com índice\n",
      "Kaio\n",
      "Teo\n",
      "Gabriel\n",
      "For com elemento\n",
      "Kaio\n",
      "Teo\n",
      "Gabriel\n"
     ]
    }
   ],
   "source": [
    "nomes = ['Kaio', 'Teo', 'Gabriel']\n",
    "\n",
    "print('For com índice')\n",
    "for i in range(len(nomes)):\n",
    "    print(nomes[i])\n",
    "\n",
    "print('For com elemento')\n",
    "for elemento in nomes:\n",
    "    print(elemento)"
   ]
  },
  {
   "cell_type": "code",
   "execution_count": 78,
   "metadata": {},
   "outputs": [
    {
     "name": "stdout",
     "output_type": "stream",
     "text": [
      "Kaio\n",
      "Julia\n",
      "Gabriel\n"
     ]
    }
   ],
   "source": [
    "notas = [['Kaio', 10], ['Julia', 8], ['Gabriel', 9]]\n",
    "\n",
    "notas[0][1]\n",
    "\n",
    "for nota in notas:\n",
    "    print(nota[0])"
   ]
  },
  {
   "cell_type": "code",
   "execution_count": 81,
   "metadata": {},
   "outputs": [
    {
     "name": "stdout",
     "output_type": "stream",
     "text": [
      "For com indices\n",
      "Kaio\n",
      "Julia\n",
      "Gabriel\n",
      "\n",
      " \n",
      " For com Elemento:\n",
      "Kaio\n",
      "Julia\n",
      "Gabriel\n"
     ]
    }
   ],
   "source": [
    "notas = [['Kaio', 10], ['Julia', 8], ['Gabriel', 9]]\n",
    "\n",
    "print('For com indices')\n",
    "for i in range(len(notas)):\n",
    "    print(notas[i][0])\n",
    "\n",
    "print('\\n \\nFor com Elemento:')\n",
    "for elemento in notas:\n",
    "    print(elemento[0])"
   ]
  },
  {
   "cell_type": "code",
   "execution_count": 82,
   "metadata": {},
   "outputs": [
    {
     "name": "stdout",
     "output_type": "stream",
     "text": [
      "[1, 0, 0]\n",
      "[0, 1, 0]\n",
      "[0, 0, 1]\n"
     ]
    }
   ],
   "source": [
    "matriz = [[1,0,0], [0,1,0], [0,0,1]]\n",
    "\n",
    "for item in matriz:\n",
    "    print(item)"
   ]
  },
  {
   "cell_type": "markdown",
   "metadata": {},
   "source": [
    "## Exercícios"
   ]
  },
  {
   "cell_type": "markdown",
   "metadata": {},
   "source": [
    "1 - Concatene duas listas pelo seu indice. Por exemplo, dado duas listas abaixo:\n",
    "\n",
    "list1 = [\"Me\", \"n\", \"\", \"Teodor \"]\n",
    "\n",
    "list2 = [\"u\", \"ome\", \"é\", \"Henrique\"]\n",
    "\n",
    "o resultado esperado é\n",
    "\n",
    "['Meu', 'nome', é, 'Teodor Henrique']"
   ]
  },
  {
   "cell_type": "code",
   "execution_count": 3,
   "metadata": {},
   "outputs": [
    {
     "name": "stdout",
     "output_type": "stream",
     "text": [
      "['Meu', 'nome', 'é', 'Kaio Henrique']\n"
     ]
    }
   ],
   "source": [
    "list1 = [\"Me\",\"n\",\"\",\"Kaio \"]\n",
    "list2 = [\"u\",\"ome\",\"é\",\"Henrique\"]\n",
    "\n",
    "list3 = []\n",
    "\n",
    "for i in range(len(list1)):\n",
    "    list3.append(list1[i] + list2[i])\n",
    "\n",
    "print(list3)\n"
   ]
  },
  {
   "cell_type": "markdown",
   "metadata": {},
   "source": [
    "2 - Receba duas listas e faça um único for, onde o resultado da primeira lista deve ficar na ordem original e a segunda na ordem inversa:\n",
    "\n",
    "Dado:\n",
    "list1 = [10, 20, 30, 40]\n",
    "\n",
    "list2 = [100, 200, 300, 400]\n",
    "\n",
    "Resultado esperado:\n",
    "\n",
    "10 400\n",
    "\n",
    "20 300\n",
    "\n",
    "30 200\n",
    "\n",
    "40 100"
   ]
  },
  {
   "cell_type": "code",
   "execution_count": 17,
   "metadata": {},
   "outputs": [
    {
     "name": "stdout",
     "output_type": "stream",
     "text": [
      "10 400\n",
      "20 300\n",
      "30 200\n",
      "40 100\n"
     ]
    }
   ],
   "source": [
    "list1 = []\n",
    "list2 = []\n",
    "\n",
    "for i in range(4):\n",
    "    list1.append(int(input(f'Digite o {i+1}º da primeira lista.')))\n",
    "    list2.append(int(input(f'Digite o {i+1}º da segunda lista.')))\n",
    "\n",
    "for i in range(len(list1)):\n",
    "    print(list1[i], list2[-(i+1)])\n"
   ]
  },
  {
   "cell_type": "markdown",
   "metadata": {},
   "source": [
    "3 - Faça um programa que peça para o usuário digitar o nome e a nota. O nome e a nota devem estar em um único input, e os valores digitados separados por , (por ex: teo,8).\n",
    "\n",
    "O usuário deverá digitar pelo menos 3 nome/notas, e escrever PARE caso não queira digitar mais nome e notas. As duas condições tem que ser verdadeiras, ter ao menos 3 nome e só parar ao digitar PARE\n",
    "\n",
    "Após a inclusão dos nome e notas, calcule a média, e mostre o nome dos nome que ficaram acima da média.\n",
    "\n",
    "Regras:\n",
    "\n",
    "a) As notas devem estar entre 0 e 10. Caso não estejam, exiba uma mensagem e peça para que seja digitado novamente\n",
    "\n",
    "b) O nome do aluno deve ter pelo menos 3 caracteres. Caso não esteja, peça para ser digitado novamente"
   ]
  },
  {
   "cell_type": "code",
   "execution_count": 2,
   "metadata": {},
   "outputs": [
    {
     "name": "stdout",
     "output_type": "stream",
     "text": [
      "[['kaio', 10], ['mila', 10], ['joao', 9], ['matheus', 5]]\n",
      "Os Alunos que obtiveram notas acima da média foram: [['kaio', 10], ['mila', 10], ['joao', 9]] \n"
     ]
    }
   ],
   "source": [
    "controle = False\n",
    "\n",
    "listSala = []\n",
    "\n",
    "count = 0\n",
    "\n",
    "# Preenchimento e Verificação dos Inputs\n",
    "while controle != True:\n",
    "    dado = input('Digite o nome e a nota (separado por vírgulas):')\n",
    "\n",
    "    listAluno = []\n",
    "\n",
    "    # Verificação de Continuidade da captura de notas\n",
    "    if dado == 'pare' and count >= 3:\n",
    "        controle == True\n",
    "        break\n",
    "\n",
    "    listAluno = dado.split(',')\n",
    "\n",
    "    listAluno[1] = int(listAluno[1])\n",
    "\n",
    "    # Verificação de dados do Aluno: Nome\n",
    "    while len(listAluno[0]) < 3:\n",
    "        listAluno[0] = input('Nome inválido, favor digitar novamente:')\n",
    "\n",
    "    while listAluno[1] < 0 or listAluno[1] > 10:\n",
    "        listAluno[1] = int(input('Nota Inválida, digite novamente:'))\n",
    "\n",
    "    # Adicionando as informações do aluno à lista da sala\n",
    "    listSala.append(listAluno)\n",
    "    # listSala.append(listAluno = dado.split(','))\n",
    "    count += 1\n",
    "\n",
    "\n",
    "print(listSala)\n",
    "\n",
    "media = 0\n",
    "\n",
    "for i in range(len(listSala)):\n",
    "    media += listSala[i][1]\n",
    "\n",
    "media /= len(listSala)\n",
    "\n",
    "aprovados = []\n",
    "for i in range(len(listSala)):\n",
    "    if listSala[i][1] >= media:\n",
    "        aprovados.append(listSala[i][0])\n",
    "\n",
    "print(f'Os Alunos que obtiveram notas acima da média foram: {aprovados} ')\n",
    "\n",
    "\n",
    "\n",
    "\n"
   ]
  },
  {
   "cell_type": "markdown",
   "metadata": {},
   "source": [
    "4 - Abaixo é definido um n-poligono. O objetivo é achar a area de um poligono dado n. Um 1-poligono é um quadrado com um tamanho 1. Um n-poligono é obtido pegando n-1-poligono e adicionado 1-poligonos a lateral, lado a lado. \n",
    "\n",
    "<img src='data:image/png;base64,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'>\n",
    "\n",
    "Por exemplo:\n",
    "\n",
    "- para um n=2, a saida deve ser 5\n",
    "- para um n=3, a saida deve ser 13\n",
    "- para um n=4, a saida deve ser 25"
   ]
  },
  {
   "cell_type": "code",
   "execution_count": 6,
   "metadata": {},
   "outputs": [
    {
     "name": "stdout",
     "output_type": "stream",
     "text": [
      "10\n"
     ]
    }
   ],
   "source": [
    "n = 3\n",
    "\n",
    "poligono = 1 + (n-1)*2\n",
    "\n",
    "n = n-1\n",
    "\n",
    "poligono = poligono + (1 + ((n-1)*2)*2)\n",
    "\n",
    "print(poligono)"
   ]
  },
  {
   "cell_type": "code",
   "execution_count": 7,
   "metadata": {},
   "outputs": [
    {
     "ename": "KeyboardInterrupt",
     "evalue": "",
     "output_type": "error",
     "traceback": [
      "\u001b[1;31m---------------------------------------------------------------------------\u001b[0m",
      "\u001b[1;31mKeyboardInterrupt\u001b[0m                         Traceback (most recent call last)",
      "\u001b[1;32mc:\\Users\\Viatec\\Documents\\Estudos\\Diversidade Tech\\DiversidadeTech\\Modulo 1 - Lógica de Programação\\05 - Listas.ipynb Célula: 47\u001b[0m in \u001b[0;36m<cell line: 7>\u001b[1;34m()\u001b[0m\n\u001b[0;32m      <a href='vscode-notebook-cell:/c%3A/Users/Viatec/Documents/Estudos/Diversidade%20Tech/DiversidadeTech/Modulo%201%20-%20L%C3%B3gica%20de%20Programa%C3%A7%C3%A3o/05%20-%20Listas.ipynb#Y103sZmlsZQ%3D%3D?line=6'>7</a>\u001b[0m \u001b[39mwhile\u001b[39;00m (n \u001b[39m>\u001b[39m \u001b[39m0\u001b[39m):\n\u001b[0;32m      <a href='vscode-notebook-cell:/c%3A/Users/Viatec/Documents/Estudos/Diversidade%20Tech/DiversidadeTech/Modulo%201%20-%20L%C3%B3gica%20de%20Programa%C3%A7%C3%A3o/05%20-%20Listas.ipynb#Y103sZmlsZQ%3D%3D?line=7'>8</a>\u001b[0m     i \u001b[39m+\u001b[39m\u001b[39m=\u001b[39m \u001b[39m1\u001b[39m\n\u001b[1;32m---> <a href='vscode-notebook-cell:/c%3A/Users/Viatec/Documents/Estudos/Diversidade%20Tech/DiversidadeTech/Modulo%201%20-%20L%C3%B3gica%20de%20Programa%C3%A7%C3%A3o/05%20-%20Listas.ipynb#Y103sZmlsZQ%3D%3D?line=9'>10</a>\u001b[0m     \u001b[39mif\u001b[39;00m i \u001b[39m==\u001b[39;49m \u001b[39m1\u001b[39;49m:\n\u001b[0;32m     <a href='vscode-notebook-cell:/c%3A/Users/Viatec/Documents/Estudos/Diversidade%20Tech/DiversidadeTech/Modulo%201%20-%20L%C3%B3gica%20de%20Programa%C3%A7%C3%A3o/05%20-%20Listas.ipynb#Y103sZmlsZQ%3D%3D?line=10'>11</a>\u001b[0m         poligono \u001b[39m+\u001b[39m\u001b[39m=\u001b[39m \u001b[39m1\u001b[39m \u001b[39m+\u001b[39m (n\u001b[39m-\u001b[39m\u001b[39m1\u001b[39m)\u001b[39m*\u001b[39m\u001b[39m2\u001b[39m\n\u001b[0;32m     <a href='vscode-notebook-cell:/c%3A/Users/Viatec/Documents/Estudos/Diversidade%20Tech/DiversidadeTech/Modulo%201%20-%20L%C3%B3gica%20de%20Programa%C3%A7%C3%A3o/05%20-%20Listas.ipynb#Y103sZmlsZQ%3D%3D?line=11'>12</a>\u001b[0m     \u001b[39melse\u001b[39;00m:\n",
      "\u001b[1;31mKeyboardInterrupt\u001b[0m: "
     ]
    }
   ],
   "source": [
    "n = int(input('Digite o valor n: '))\n",
    "\n",
    "poligono = 0\n",
    "\n",
    "i = 0\n",
    "\n",
    "while (n > 0):\n",
    "    i += 1\n",
    "\n",
    "    if i == 1:\n",
    "        poligono += 1 + (n-1)*2\n",
    "    else:\n",
    "        poligono += (1+(n-1)*2)*2\n",
    "\n",
    "print(f'Para {n}, o a área é {poligono}')"
   ]
  },
  {
   "cell_type": "markdown",
   "metadata": {},
   "source": [
    "5- Dada a seguinte lista:\n",
    "[['Teo', 20], ['Maria', 10], ['Rosana', 15],['Luana',18]]\n",
    "\n",
    "Calcule a média e mostre apenas os nomes das pessoas abaixo da média"
   ]
  },
  {
   "cell_type": "code",
   "execution_count": 8,
   "metadata": {},
   "outputs": [
    {
     "name": "stdout",
     "output_type": "stream",
     "text": [
      "Os Alunos que obtiveram notas abaixo da média foram: ['Teo', 'Luana'] \n"
     ]
    }
   ],
   "source": [
    "list1 = [['Teo', 20], ['Maria', 10], ['Rosana', 15],['Luana',18]]\n",
    "\n",
    "media = 0\n",
    "\n",
    "for i in range(len(list1)):\n",
    "    media += list1[i][1]\n",
    "\n",
    "media /= len(list1)\n",
    "\n",
    "reprovados = []\n",
    "for i in range(len(list1)):\n",
    "    if list1[i][1] >= media:\n",
    "        reprovados.append(list1[i][0])\n",
    "\n",
    "print(f'Os Alunos que obtiveram notas abaixo da média foram: {reprovados} ')\n",
    "\n"
   ]
  },
  {
   "cell_type": "code",
   "execution_count": null,
   "metadata": {},
   "outputs": [],
   "source": []
  }
 ],
 "metadata": {
  "kernelspec": {
   "display_name": "Python 3.10.5 64-bit",
   "language": "python",
   "name": "python3"
  },
  "language_info": {
   "codemirror_mode": {
    "name": "ipython",
    "version": 3
   },
   "file_extension": ".py",
   "mimetype": "text/x-python",
   "name": "python",
   "nbconvert_exporter": "python",
   "pygments_lexer": "ipython3",
   "version": "3.10.5"
  },
  "orig_nbformat": 4,
  "vscode": {
   "interpreter": {
    "hash": "8e76ed3c32135994001530bed0f811497db14313295d850ff0a56919f27a1e47"
   }
  }
 },
 "nbformat": 4,
 "nbformat_minor": 2
}
