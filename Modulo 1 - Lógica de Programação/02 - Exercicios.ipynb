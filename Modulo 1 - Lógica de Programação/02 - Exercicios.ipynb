{
 "cells": [
  {
   "cell_type": "markdown",
   "metadata": {},
   "source": [
    "# Exercícios\n",
    "\n",
    "- 1 - Escreva em um único print, seu nome completo, onde cada palavra do seu nome deve estar em uma linha\n",
    "\n",
    "- 2 - Escreva um programa que receba seu nome, sua idade e filme predileto, e escreva uma única sentença \"Meu nome é 'nome', tenho 'anos' anos e meu filme predileto é\"\n",
    "\n",
    "- 3 - Crie um algoritmo que calcule o IMC (índice de massa corporal). O IMC é calculado com a formula PESO/(ALTURA elevado a 2). Para isso, coloque as informações nas variáveis e no final apresente o resultado como: \"O IMC é [resultado]\"\n",
    "\n",
    "- 4 - Crie um programa que receba a temperatura em CELSIUS e converta para FAHRENHEIT (pesquise no google a fórmula)\n",
    "\n",
    "- 5 - Receba o raio de uma circulo e calcule a circunferencia (não use bibliotecas externas). Circunferencia é 2 * pi * raio\n",
    "\n",
    "- 6 - Escreva um algoritmo que armazene um valor X em uma variável A e um valor Y em uma variável B. Troque os valores das duas variáveis sem criar uma terceira e usando operações matemáticas.\n",
    "\n",
    "- Questão extra:\n",
    "\n",
    "    Faça um programa para uma loja de tintas. O programa deverá pedir o tamanho em metros quadrados da área a ser pintada. Considere que a cobertura da tinta é de 1 litro para cada 6 metros quadrados e que a tinta é vendida em latas de 18 litros, que custam 80.00 reais ou em galões de 3.6 litros, que custam 25.00 reais.\n",
    "\n",
    "    Informe ao usuário as quantidades de tinta a serem compradas e os respectivos preços em 3 situações:\n",
    "\n",
    "    Comprar apenas latas de 18 litros; Comprar apenas galões de 3.6\n",
    "\n",
    "- Questão extra 2\n",
    "    \n",
    "    Receba o ano (comecando com 1). Informe qual o século que aquele ano pertence, sendo:\n",
    "\n",
    "    1 a 100 - século 1\n",
    "    101 a 200 - século 2\n",
    "\n",
    "    e por ai vai\n",
    "\n",
    "    2000 - Século 20"
   ]
  },
  {
   "cell_type": "code",
   "execution_count": 3,
   "metadata": {},
   "outputs": [
    {
     "name": "stdout",
     "output_type": "stream",
     "text": [
      "Kaio\n",
      "Henrique\n",
      "de\n",
      "Jesus\n",
      "Santos\n"
     ]
    }
   ],
   "source": [
    "# 1:\n",
    "\n",
    "print('Kaio\\nHenrique\\nde\\nJesus\\nSantos')\n"
   ]
  },
  {
   "cell_type": "code",
   "execution_count": 16,
   "metadata": {},
   "outputs": [
    {
     "name": "stdout",
     "output_type": "stream",
     "text": [
      "Meu nome é KAio Henrique, tenho 25 anos e meu filme favorito é de Star Wars - O império contra-ataca\n"
     ]
    }
   ],
   "source": [
    "# 2:\n",
    "nome = input('Digite seu nome: ')\n",
    "idade = int(input('Digite sua idade: '))\n",
    "filme = input('Digite o filme favorito: ')\n",
    "print(f\"Meu nome é {nome}, tenho {idade} anos e meu filme favorito é de {filme}\")"
   ]
  },
  {
   "cell_type": "code",
   "execution_count": 19,
   "metadata": {},
   "outputs": [
    {
     "name": "stdout",
     "output_type": "stream",
     "text": [
      "O IMC é 27.44.\n",
      "O IMC é 27.44059917355372.\n",
      "O IMC é 27.\n",
      "O IMC é 27.44060.\n"
     ]
    }
   ],
   "source": [
    "# 3:\n",
    "\n",
    "peso = float(input('Digite seu peso: '))\n",
    "altura = float(input('Digite sua altura: '))\n",
    "\n",
    "imc = peso / (altura**2)\n",
    "\n",
    "print(f\"O IMC é {round(imc,2)}.\")\n",
    "print(f\"O IMC é {imc}.\")\n",
    "print(f\"O IMC é {int(imc)}.\") # Só Trunca (ignora)\n",
    "print(f\"O IMC é {imc:.5f}.\") # Após a variável, :xf onde x é a quantidade de casas decimais. FAST"
   ]
  },
  {
   "cell_type": "code",
   "execution_count": 5,
   "metadata": {},
   "outputs": [
    {
     "name": "stdout",
     "output_type": "stream",
     "text": [
      "A temperatura em Fahrenheit é:59.0 \n"
     ]
    }
   ],
   "source": [
    "# 4:\n",
    "celsius = float(input(\"Digite a temperatura em Celsius: \"))\n",
    "\n",
    "fahrenheit = (celsius * (9/5)) + 32\n",
    "\n",
    "print(f\"A temperatura em Fahrenheit é:{fahrenheit} ºF\")"
   ]
  },
  {
   "cell_type": "code",
   "execution_count": 7,
   "metadata": {},
   "outputs": [
    {
     "name": "stdout",
     "output_type": "stream",
     "text": [
      "A área da circunferência é:94.2\n"
     ]
    }
   ],
   "source": [
    "# 5:\n",
    "\n",
    "raio = float(input(\"Digite o raio do círculo: \"))\n",
    "\n",
    "comprimento = 2 * 3.14 * raio\n",
    "\n",
    "print(f'O comprimento da circunferência é:{comprimento}')"
   ]
  },
  {
   "cell_type": "code",
   "execution_count": 15,
   "metadata": {},
   "outputs": [
    {
     "name": "stdout",
     "output_type": "stream",
     "text": [
      "O valor de X é 10 e o valor de Y é 5\n"
     ]
    }
   ],
   "source": [
    "# 6:\n",
    "\n",
    "A = int(input(\"Digite o valor X: \")) # 5\n",
    "B = int(input(\"Digite o valor Y: \")) # 10\n",
    "\n",
    "A = A + B # A =  15\n",
    "B = A - B # B = 15 - 5 = 10\n",
    "A = A - B # A = 15 - 10 = 5\n",
    "\n",
    "print(f'O valor de X é {A} e o valor de Y é {B}')"
   ]
  },
  {
   "cell_type": "code",
   "execution_count": 14,
   "metadata": {},
   "outputs": [
    {
     "name": "stdout",
     "output_type": "stream",
     "text": [
      "Serão necessários 2.0 litros de tinta para pintar a área solicitada.\n",
      "Podem ser comprados: 1 galões ou 1 latas\n",
      "Caso opte pela compra em lata, o valor será: 80 reais.\n",
      "Caso opte pela compra apenas em galões, o valor será: 25 reais. \n"
     ]
    }
   ],
   "source": [
    "# 6:\n",
    "def verifica(valor):\n",
    "    if valor != int(valor):\n",
    "        valor = int(valor) + 1\n",
    "        return valor\n",
    "    else:\n",
    "        return int(valor)\n",
    "\n",
    "\n",
    "areaSolicitada = float(input('Digite a área a ser pintada.'))\n",
    "\n",
    "litrosTinta = areaSolicitada / 6\n",
    "\n",
    "print(f'Serão necessários {round(litrosTinta,2)} litros de tinta para pintar a área solicitada.')\n",
    "\n",
    "quantGaloes = litrosTinta / 3.6\n",
    "quantLatas = litrosTinta / 18\n",
    "\n",
    "quantGaloes = verifica(quantGaloes)\n",
    "quantLatas = verifica(quantLatas)\n",
    "\n",
    "print(f'Podem ser comprados: {round(quantGaloes)} galões ou {round(quantLatas)} latas')\n",
    "print(f'Caso opte pela compra em lata, o valor será: {round(quantLatas)*80} reais.')\n",
    "print(f'Caso opte pela compra apenas em galões, o valor será: {round(quantGaloes)*25} reais. ')\n",
    "\n",
    "\n"
   ]
  },
  {
   "cell_type": "code",
   "execution_count": 15,
   "metadata": {},
   "outputs": [
    {
     "name": "stdout",
     "output_type": "stream",
     "text": [
      "O século do ano digitado é: 2\n"
     ]
    }
   ],
   "source": [
    "ano = int(input('Digite o ano desejado, a partir do ano 1: '))\n",
    "\n",
    "seculo = int(ano/100) + 1\n",
    "\n",
    "print(f'O século do ano digitado é: {seculo}')"
   ]
  },
  {
   "cell_type": "code",
   "execution_count": null,
   "metadata": {},
   "outputs": [],
   "source": []
  }
 ],
 "metadata": {
  "kernelspec": {
   "display_name": "Python 3.10.5 64-bit",
   "language": "python",
   "name": "python3"
  },
  "language_info": {
   "codemirror_mode": {
    "name": "ipython",
    "version": 3
   },
   "file_extension": ".py",
   "mimetype": "text/x-python",
   "name": "python",
   "nbconvert_exporter": "python",
   "pygments_lexer": "ipython3",
   "version": "3.10.5"
  },
  "orig_nbformat": 4,
  "vscode": {
   "interpreter": {
    "hash": "8e76ed3c32135994001530bed0f811497db14313295d850ff0a56919f27a1e47"
   }
  }
 },
 "nbformat": 4,
 "nbformat_minor": 2
}
