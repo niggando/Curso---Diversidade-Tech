{
 "cells": [
  {
   "cell_type": "code",
   "execution_count": 1,
   "metadata": {},
   "outputs": [
    {
     "name": "stdout",
     "output_type": "stream",
     "text": [
      "O aluno passou de ano!\n"
     ]
    }
   ],
   "source": [
    "# Escreva um programa que peça a nota de 3 provas de um aluno e verifique se ele passou ou não de ano.\n",
    "\n",
    "# Obs.: O aluno irá passar de ano se sua média for maior que 6.\n",
    "\n",
    "nota1 = float(input('Digite a primeira nota do aluno:'))\n",
    "nota2 = float(input('Digite a segunda nota do aluno:'))\n",
    "nota3 = float(input('Digite a terceira nota do aluno:'))\n",
    "\n",
    "media = (nota1 + nota2 + nota3)/3\n",
    "\n",
    "if media >= 6:\n",
    "    print('O aluno passou de ano!')\n",
    "else:\n",
    "    print('O aluno reprovou.')"
   ]
  },
  {
   "cell_type": "code",
   "execution_count": 7,
   "metadata": {},
   "outputs": [
    {
     "ename": "TypeError",
     "evalue": "'str' object does not support item assignment",
     "output_type": "error",
     "traceback": [
      "\u001b[1;31m---------------------------------------------------------------------------\u001b[0m",
      "\u001b[1;31mTypeError\u001b[0m                                 Traceback (most recent call last)",
      "\u001b[1;32mc:\\Users\\Viatec\\Documents\\Estudos\\Diversidade Tech\\DiversidadeTech\\08 - Lista Condicionais.ipynb Célula: 2\u001b[0m in \u001b[0;36m<cell line: 17>\u001b[1;34m()\u001b[0m\n\u001b[0;32m     <a href='vscode-notebook-cell:/c%3A/Users/Viatec/Documents/Estudos/Diversidade%20Tech/DiversidadeTech/08%20-%20Lista%20Condicionais.ipynb#W1sZmlsZQ%3D%3D?line=12'>13</a>\u001b[0m palavra \u001b[39m=\u001b[39m \u001b[39minput\u001b[39m(\u001b[39m'\u001b[39m\u001b[39mDigite uma palavra:\u001b[39m\u001b[39m'\u001b[39m)\n\u001b[0;32m     <a href='vscode-notebook-cell:/c%3A/Users/Viatec/Documents/Estudos/Diversidade%20Tech/DiversidadeTech/08%20-%20Lista%20Condicionais.ipynb#W1sZmlsZQ%3D%3D?line=14'>15</a>\u001b[0m palavra \u001b[39m=\u001b[39m palavra\u001b[39m.\u001b[39mupper()\n\u001b[1;32m---> <a href='vscode-notebook-cell:/c%3A/Users/Viatec/Documents/Estudos/Diversidade%20Tech/DiversidadeTech/08%20-%20Lista%20Condicionais.ipynb#W1sZmlsZQ%3D%3D?line=16'>17</a>\u001b[0m palavra_criptografada \u001b[39m=\u001b[39m criptografia(palavra)\n\u001b[0;32m     <a href='vscode-notebook-cell:/c%3A/Users/Viatec/Documents/Estudos/Diversidade%20Tech/DiversidadeTech/08%20-%20Lista%20Condicionais.ipynb#W1sZmlsZQ%3D%3D?line=18'>19</a>\u001b[0m \u001b[39mprint\u001b[39m(\u001b[39mf\u001b[39m\u001b[39m'\u001b[39m\u001b[39mO resultado da criptografia de \u001b[39m\u001b[39m{\u001b[39;00mpalavra\u001b[39m}\u001b[39;00m\u001b[39m é \u001b[39m\u001b[39m{\u001b[39;00mpalavra_criptografada\u001b[39m}\u001b[39;00m\u001b[39m'\u001b[39m)\n",
      "\u001b[1;32mc:\\Users\\Viatec\\Documents\\Estudos\\Diversidade Tech\\DiversidadeTech\\08 - Lista Condicionais.ipynb Célula: 2\u001b[0m in \u001b[0;36mcriptografia\u001b[1;34m(x)\u001b[0m\n\u001b[0;32m      <a href='vscode-notebook-cell:/c%3A/Users/Viatec/Documents/Estudos/Diversidade%20Tech/DiversidadeTech/08%20-%20Lista%20Condicionais.ipynb#W1sZmlsZQ%3D%3D?line=4'>5</a>\u001b[0m \u001b[39mfor\u001b[39;00m j \u001b[39min\u001b[39;00m \u001b[39mrange\u001b[39m(\u001b[39mlen\u001b[39m(alfabeto)):\n\u001b[0;32m      <a href='vscode-notebook-cell:/c%3A/Users/Viatec/Documents/Estudos/Diversidade%20Tech/DiversidadeTech/08%20-%20Lista%20Condicionais.ipynb#W1sZmlsZQ%3D%3D?line=5'>6</a>\u001b[0m     \u001b[39mif\u001b[39;00m x[i] \u001b[39m==\u001b[39m alfabeto[j]:\n\u001b[1;32m----> <a href='vscode-notebook-cell:/c%3A/Users/Viatec/Documents/Estudos/Diversidade%20Tech/DiversidadeTech/08%20-%20Lista%20Condicionais.ipynb#W1sZmlsZQ%3D%3D?line=6'>7</a>\u001b[0m         x[i] \u001b[39m=\u001b[39m alfabeto[\u001b[39mlen\u001b[39m(alfabeto)\u001b[39m-\u001b[39mj]\n\u001b[0;32m      <a href='vscode-notebook-cell:/c%3A/Users/Viatec/Documents/Estudos/Diversidade%20Tech/DiversidadeTech/08%20-%20Lista%20Condicionais.ipynb#W1sZmlsZQ%3D%3D?line=7'>8</a>\u001b[0m     \u001b[39melse\u001b[39;00m:\n\u001b[0;32m      <a href='vscode-notebook-cell:/c%3A/Users/Viatec/Documents/Estudos/Diversidade%20Tech/DiversidadeTech/08%20-%20Lista%20Condicionais.ipynb#W1sZmlsZQ%3D%3D?line=8'>9</a>\u001b[0m         \u001b[39mcontinue\u001b[39;00m\n",
      "\u001b[1;31mTypeError\u001b[0m: 'str' object does not support item assignment"
     ]
    }
   ],
   "source": [
    "\n",
    "\n"
   ]
  },
  {
   "cell_type": "code",
   "execution_count": null,
   "metadata": {},
   "outputs": [],
   "source": []
  }
 ],
 "metadata": {
  "kernelspec": {
   "display_name": "Python 3.10.5 64-bit",
   "language": "python",
   "name": "python3"
  },
  "language_info": {
   "codemirror_mode": {
    "name": "ipython",
    "version": 3
   },
   "file_extension": ".py",
   "mimetype": "text/x-python",
   "name": "python",
   "nbconvert_exporter": "python",
   "pygments_lexer": "ipython3",
   "version": "3.10.5"
  },
  "orig_nbformat": 4,
  "vscode": {
   "interpreter": {
    "hash": "8e76ed3c32135994001530bed0f811497db14313295d850ff0a56919f27a1e47"
   }
  }
 },
 "nbformat": 4,
 "nbformat_minor": 2
}
