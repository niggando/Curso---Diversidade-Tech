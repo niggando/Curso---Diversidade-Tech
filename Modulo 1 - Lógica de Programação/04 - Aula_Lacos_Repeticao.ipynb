{
 "cells": [
  {
   "cell_type": "code",
   "execution_count": 10,
   "metadata": {},
   "outputs": [
    {
     "name": "stdout",
     "output_type": "stream",
     "text": [
      "O CPF é: 060.841.325-96\n",
      "O primeiro dígito bateu!\n",
      "O segundo dígito bateu!\n",
      "O CPF é True\n"
     ]
    }
   ],
   "source": [
    "# Desafio do Validador de CPF\n",
    "\n",
    "# cpf = '005.097.938-86'\n",
    "cpf = '060.841.325-96'\n",
    "print(f'O CPF é: {cpf}')\n",
    "\n",
    "# Tratando o CPF digitado\n",
    "cpf = cpf.replace('.','').replace('-','')\n",
    "\n",
    "cpf_valido = True\n",
    "\n",
    "if not len(cpf) == 11:\n",
    "    cpf_valido = False\n",
    "\n",
    "# Primeira verificação\n",
    "\n",
    "digito = 0\n",
    "\n",
    "digito += int(cpf[0]) * 10\n",
    "digito += int(cpf[1]) * 9\n",
    "digito += int(cpf[2]) * 8\n",
    "digito += int(cpf[3]) * 7\n",
    "digito += int(cpf[4]) * 6\n",
    "digito += int(cpf[5]) * 5\n",
    "digito += int(cpf[6]) * 4\n",
    "digito += int(cpf[7]) * 3\n",
    "digito += int(cpf[8]) * 2\n",
    "\n",
    "# Calculando o Resto da operação\n",
    "digito = (digito*10) % 11\n",
    "\n",
    "if digito == 10:\n",
    "    digito = 0\n",
    "\n",
    "if str(digito) == cpf[-2]:\n",
    "    print('O primeiro dígito bateu!')\n",
    "else:\n",
    "    cpf_valido = False\n",
    "\n",
    "\n",
    "## Segundo dígito verificador\n",
    "\n",
    "digito = 0\n",
    "\n",
    "digito += int(cpf[0]) * 11\n",
    "digito += int(cpf[1]) * 10\n",
    "digito += int(cpf[2]) * 9\n",
    "digito += int(cpf[3]) * 8\n",
    "digito += int(cpf[4]) * 7\n",
    "digito += int(cpf[5]) * 6\n",
    "digito += int(cpf[6]) * 5\n",
    "digito += int(cpf[7]) * 4\n",
    "digito += int(cpf[8]) * 3\n",
    "digito += int(cpf[9]) * 2\n",
    "\n",
    "digito = (digito*10) % 11\n",
    "\n",
    "if digito == 10:\n",
    "    digito = 0\n",
    "\n",
    "if str(digito) == cpf[-1]:\n",
    "    print('O segundo dígito bateu!')\n",
    "else:\n",
    "    cpf_valido = False\n",
    "\n",
    "print(f'O CPF é {cpf_valido}')\n"
   ]
  },
  {
   "cell_type": "code",
   "execution_count": 18,
   "metadata": {},
   "outputs": [
    {
     "name": "stdout",
     "output_type": "stream",
     "text": [
      "O Erro foi de divisão por 0\n",
      "Independente do que acontecer, eu estarei aqui\n"
     ]
    }
   ],
   "source": [
    "a = input()\n",
    "b = input()\n",
    "\n",
    "try:\n",
    "    if (a != 0 or b != 0):\n",
    "        resultado = int(a) / int(b)\n",
    "\n",
    "    print(f'Meu resultado é {resultado}')\n",
    "\n",
    "except ZeroDivisionError:\n",
    "    print('O Erro foi de divisão por 0')\n",
    "\n",
    "except Exception as mensagem_erro: #Criando uma variável mensagem_erro com o valor da exceção\n",
    "    print(f'Deu erro muito genérico que é: {mensagem_erro}')\n",
    "\n",
    "finally:\n",
    "    print('Independente do que acontecer, eu estarei aqui')"
   ]
  },
  {
   "cell_type": "code",
   "execution_count": 19,
   "metadata": {},
   "outputs": [
    {
     "name": "stdout",
     "output_type": "stream",
     "text": [
      "Você não digitou um número\n"
     ]
    },
    {
     "ename": "ValueError",
     "evalue": "Deu Ruim",
     "output_type": "error",
     "traceback": [
      "\u001b[1;31m---------------------------------------------------------------------------\u001b[0m",
      "\u001b[1;31mValueError\u001b[0m                                Traceback (most recent call last)",
      "\u001b[1;32mc:\\Users\\Viatec\\Documents\\Estudos\\Diversidade Tech\\DiversidadeTech\\04 - Aula_Lacos_Repeticao.ipynb Célula: 3\u001b[0m in \u001b[0;36m<cell line: 3>\u001b[1;34m()\u001b[0m\n\u001b[0;32m      <a href='vscode-notebook-cell:/c%3A/Users/Viatec/Documents/Estudos/Diversidade%20Tech/DiversidadeTech/04%20-%20Aula_Lacos_Repeticao.ipynb#W3sZmlsZQ%3D%3D?line=5'>6</a>\u001b[0m \u001b[39melse\u001b[39;00m:\n\u001b[0;32m      <a href='vscode-notebook-cell:/c%3A/Users/Viatec/Documents/Estudos/Diversidade%20Tech/DiversidadeTech/04%20-%20Aula_Lacos_Repeticao.ipynb#W3sZmlsZQ%3D%3D?line=6'>7</a>\u001b[0m     \u001b[39mprint\u001b[39m(\u001b[39m'\u001b[39m\u001b[39mVocê não digitou um número\u001b[39m\u001b[39m'\u001b[39m)\n\u001b[1;32m----> <a href='vscode-notebook-cell:/c%3A/Users/Viatec/Documents/Estudos/Diversidade%20Tech/DiversidadeTech/04%20-%20Aula_Lacos_Repeticao.ipynb#W3sZmlsZQ%3D%3D?line=7'>8</a>\u001b[0m     \u001b[39mraise\u001b[39;00m \u001b[39mValueError\u001b[39;00m(\u001b[39m'\u001b[39m\u001b[39mDeu Ruim\u001b[39m\u001b[39m'\u001b[39m)\n",
      "\u001b[1;31mValueError\u001b[0m: Deu Ruim"
     ]
    }
   ],
   "source": [
    "numero = input('Digite um numero')\n",
    "\n",
    "if numero.isdigit():\n",
    "    print('Você digitou um número')\n",
    "\n",
    "else:\n",
    "    print('Você não digitou um número')\n",
    "    raise ValueError('Deu Ruim') # Estou Forçando um erro"
   ]
  },
  {
   "cell_type": "markdown",
   "metadata": {},
   "source": [
    "### Estruturas de Repetição"
   ]
  },
  {
   "cell_type": "code",
   "execution_count": 20,
   "metadata": {},
   "outputs": [
    {
     "name": "stdout",
     "output_type": "stream",
     "text": [
      "10\n"
     ]
    }
   ],
   "source": [
    "# Estruturas de Repetição - While\n",
    "\n",
    "soma = 0\n",
    "\n",
    "soma += 1\n",
    "soma = soma + 1\n",
    "soma = soma + 1\n",
    "soma = soma + 1\n",
    "soma = soma + 1\n",
    "soma = soma + 1\n",
    "soma = soma + 1\n",
    "soma = soma + 1\n",
    "soma = soma + 1\n",
    "soma = soma + 1\n",
    "print(soma)"
   ]
  },
  {
   "cell_type": "code",
   "execution_count": 24,
   "metadata": {},
   "outputs": [
    {
     "name": "stdout",
     "output_type": "stream",
     "text": [
      "Meu valor de soma é 1\n",
      "Meu valor de i é 9\n",
      "Meu valor de soma é 2\n",
      "Meu valor de i é 8\n",
      "Meu valor de soma é 3\n",
      "Meu valor de i é 7\n",
      "Meu valor de soma é 4\n",
      "Meu valor de i é 6\n",
      "Meu valor de soma é 5\n",
      "Meu valor de i é 5\n",
      "Meu valor de soma é 6\n",
      "Meu valor de i é 4\n",
      "Meu valor de soma é 7\n",
      "Meu valor de i é 3\n",
      "Meu valor de soma é 8\n",
      "Meu valor de i é 2\n",
      "Meu valor de soma é 9\n",
      "Meu valor de i é 1\n",
      "Meu valor de soma é 10\n",
      "Meu valor de i é 0\n",
      "Saiu do while\n"
     ]
    }
   ],
   "source": [
    "i = 10\n",
    "soma = 0\n",
    "\n",
    "while i > 0:\n",
    "    soma += 1\n",
    "    i -= 1\n",
    "\n",
    "    print(f'Meu valor de soma é {soma}')\n",
    "    print(f'Meu valor de i é {i}')\n",
    "\n",
    "print('Saiu do while')"
   ]
  },
  {
   "cell_type": "code",
   "execution_count": 26,
   "metadata": {},
   "outputs": [
    {
     "name": "stdout",
     "output_type": "stream",
     "text": [
      "K\n",
      "a\n",
      "i\n",
      "o\n",
      " \n",
      "H\n",
      "e\n",
      "n\n",
      "r\n",
      "i\n",
      "q\n",
      "u\n",
      "e\n",
      " \n",
      "d\n",
      "e\n",
      " \n",
      "J\n",
      "e\n",
      "s\n",
      "u\n",
      "s\n",
      " \n",
      "S\n",
      "a\n",
      "n\n",
      "t\n",
      "o\n",
      "s\n"
     ]
    }
   ],
   "source": [
    "nome = 'Kaio Henrique de Jesus Santos'\n",
    "\n",
    "i = 0\n",
    "\n",
    "while i < len(nome):\n",
    "    print(nome[i])\n",
    "    i+=1"
   ]
  },
  {
   "cell_type": "code",
   "execution_count": 28,
   "metadata": {},
   "outputs": [
    {
     "name": "stdout",
     "output_type": "stream",
     "text": [
      "A sua idade é: 1\n"
     ]
    }
   ],
   "source": [
    "idade = input('Digite sua idade')\n",
    "\n",
    "while not idade.isdigit():\n",
    "    idade = input('Digite sua idade')\n",
    "\n",
    "print(f'A sua idade é: {int(idade)}')"
   ]
  },
  {
   "cell_type": "code",
   "execution_count": 30,
   "metadata": {},
   "outputs": [
    {
     "name": "stdout",
     "output_type": "stream",
     "text": [
      "False\n",
      "-10\n"
     ]
    }
   ],
   "source": [
    "numero = '-10'\n",
    "print (numero.isdigit())\n",
    "numero = int(numero)\n",
    "\n",
    "print(numero)"
   ]
  },
  {
   "cell_type": "code",
   "execution_count": 32,
   "metadata": {},
   "outputs": [
    {
     "name": "stdout",
     "output_type": "stream",
     "text": [
      "1 x 1 = 1\n",
      "1 x 2 = 2\n",
      "1 x 3 = 3\n",
      "1 x 4 = 4\n",
      "1 x 5 = 5\n",
      "1 x 6 = 6\n",
      "1 x 7 = 7\n",
      "1 x 8 = 8\n",
      "1 x 9 = 9\n",
      "1 x 10 = 10\n",
      "2 x 1 = 2\n",
      "2 x 2 = 4\n",
      "2 x 3 = 6\n",
      "2 x 4 = 8\n",
      "2 x 5 = 10\n",
      "2 x 6 = 12\n",
      "2 x 7 = 14\n",
      "2 x 8 = 16\n",
      "2 x 9 = 18\n",
      "2 x 10 = 20\n",
      "3 x 1 = 3\n",
      "3 x 2 = 6\n",
      "3 x 3 = 9\n",
      "3 x 4 = 12\n",
      "3 x 5 = 15\n",
      "3 x 6 = 18\n",
      "3 x 7 = 21\n",
      "3 x 8 = 24\n",
      "3 x 9 = 27\n",
      "3 x 10 = 30\n",
      "4 x 1 = 4\n",
      "4 x 2 = 8\n",
      "4 x 3 = 12\n",
      "4 x 4 = 16\n",
      "4 x 5 = 20\n",
      "4 x 6 = 24\n",
      "4 x 7 = 28\n",
      "4 x 8 = 32\n",
      "4 x 9 = 36\n",
      "4 x 10 = 40\n",
      "5 x 1 = 5\n",
      "5 x 2 = 10\n",
      "5 x 3 = 15\n",
      "5 x 4 = 20\n",
      "5 x 5 = 25\n",
      "5 x 6 = 30\n",
      "5 x 7 = 35\n",
      "5 x 8 = 40\n",
      "5 x 9 = 45\n",
      "5 x 10 = 50\n",
      "6 x 1 = 6\n",
      "6 x 2 = 12\n",
      "6 x 3 = 18\n",
      "6 x 4 = 24\n",
      "6 x 5 = 30\n",
      "6 x 6 = 36\n",
      "6 x 7 = 42\n",
      "6 x 8 = 48\n",
      "6 x 9 = 54\n",
      "6 x 10 = 60\n",
      "7 x 1 = 7\n",
      "7 x 2 = 14\n",
      "7 x 3 = 21\n",
      "7 x 4 = 28\n",
      "7 x 5 = 35\n",
      "7 x 6 = 42\n",
      "7 x 7 = 49\n",
      "7 x 8 = 56\n",
      "7 x 9 = 63\n",
      "7 x 10 = 70\n",
      "8 x 1 = 8\n",
      "8 x 2 = 16\n",
      "8 x 3 = 24\n",
      "8 x 4 = 32\n",
      "8 x 5 = 40\n",
      "8 x 6 = 48\n",
      "8 x 7 = 56\n",
      "8 x 8 = 64\n",
      "8 x 9 = 72\n",
      "8 x 10 = 80\n",
      "9 x 1 = 9\n",
      "9 x 2 = 18\n",
      "9 x 3 = 27\n",
      "9 x 4 = 36\n",
      "9 x 5 = 45\n",
      "9 x 6 = 54\n",
      "9 x 7 = 63\n",
      "9 x 8 = 72\n",
      "9 x 9 = 81\n",
      "9 x 10 = 90\n",
      "10 x 1 = 10\n",
      "10 x 2 = 20\n",
      "10 x 3 = 30\n",
      "10 x 4 = 40\n",
      "10 x 5 = 50\n",
      "10 x 6 = 60\n",
      "10 x 7 = 70\n",
      "10 x 8 = 80\n",
      "10 x 9 = 90\n",
      "10 x 10 = 100\n"
     ]
    }
   ],
   "source": [
    "i = 1\n",
    "while i <= 10:\n",
    "\n",
    "    j = 1\n",
    "    \n",
    "    while j <= 10:\n",
    "        print(f'{i} x {j} = {i*j}')\n",
    "        j += 1\n",
    "\n",
    "    i += 1"
   ]
  },
  {
   "cell_type": "code",
   "execution_count": 34,
   "metadata": {},
   "outputs": [
    {
     "name": "stdout",
     "output_type": "stream",
     "text": [
      "O resultado é: 120\n"
     ]
    }
   ],
   "source": [
    "# 5!\n",
    "\n",
    "# 5*4*3*2*1\n",
    "\n",
    "fatorial = int(input('Digite um número para calcular o fatorial'))\n",
    "resultado = 1\n",
    "\n",
    "while fatorial >= 1:\n",
    "    resultado = resultado * fatorial\n",
    "    fatorial -= 1\n",
    "\n",
    "print(f'O resultado é: {resultado}')"
   ]
  },
  {
   "cell_type": "code",
   "execution_count": 38,
   "metadata": {},
   "outputs": [
    {
     "name": "stdout",
     "output_type": "stream",
     "text": [
      "A sua idade é: 2\n",
      "Você tentou 1 vezes\n"
     ]
    }
   ],
   "source": [
    "idade = input('Digite sua idade')\n",
    "\n",
    "i = 1\n",
    "\n",
    "while not idade.isdigit() and i <= 3:\n",
    "    idade = input('Digite sua idade')\n",
    "    i += 1\n",
    "\n",
    "   # if i == 3:\n",
    "    #    print('Você estourou a quantidade de vezes')\n",
    "     #   break\n",
    "\n",
    "print(f'A sua idade é: {idade}')\n",
    "print(f'Você tentou {i} vezes')"
   ]
  },
  {
   "cell_type": "code",
   "execution_count": 47,
   "metadata": {},
   "outputs": [
    {
     "name": "stdout",
     "output_type": "stream",
     "text": [
      "Você acertou o número 6 com 2 tentativas\n"
     ]
    }
   ],
   "source": [
    "import random\n",
    "\n",
    "aleatorio = random.randint(1,10)\n",
    "# print(numero)\n",
    "\n",
    "numero = int(input('Digite um número'))\n",
    "\n",
    "i = 1\n",
    "\n",
    "while numero != aleatorio:\n",
    "    numero = int(input('Digite outro número:'))\n",
    "    i += 1\n",
    "\n",
    "    if (i == 3):\n",
    "        print('Você estourou o número de tentativas.')\n",
    "        break\n",
    "else:\n",
    "    print(f'Você acertou o número {numero} com {i} tentativas')"
   ]
  },
  {
   "cell_type": "markdown",
   "metadata": {},
   "source": [
    "1 - Receba uma string e verifique se esta string é palíndroma. Por ex: aabaa é um palíndromo."
   ]
  },
  {
   "cell_type": "code",
   "execution_count": 71,
   "metadata": {},
   "outputs": [
    {
     "name": "stdout",
     "output_type": "stream",
     "text": [
      "A palavra é palíndromo\n"
     ]
    }
   ],
   "source": [
    "palindromo = input('Digite uma palavra:')\n",
    "\n",
    "palindromo = palindromo.replace(' ', '')\n",
    "i = 0\n",
    "j = len(palindromo) - 1\n",
    "eh_palindromo = True\n",
    "\n",
    "while i < len(palindromo):\n",
    "    if not palindromo[i] == palindromo[j]:\n",
    "        eh_palindromo = False\n",
    "    i += 1\n",
    "    j -= 1\n",
    "\n",
    "if eh_palindromo == False:\n",
    "    print('A palavra ou frase não é palíndromo')\n",
    "else: \n",
    "    print('A palavra ou frase é palíndromo')"
   ]
  },
  {
   "cell_type": "markdown",
   "metadata": {},
   "source": [
    "2 - Receba um número de 1 a 100 (faça ifs pra saber se está dentro entre este intervalo). Verifique quantos números pares existem neste intervalo e exiba na tela."
   ]
  },
  {
   "cell_type": "code",
   "execution_count": 73,
   "metadata": {},
   "outputs": [
    {
     "name": "stdout",
     "output_type": "stream",
     "text": [
      "25\n"
     ]
    }
   ],
   "source": [
    "numero = int(input('Digite um número entre 1 e 100:'))\n",
    "\n",
    "if numero >= 1 and numero <= 100:\n",
    "    i = 1\n",
    "    count = 0\n",
    "\n",
    "    while i <= numero:\n",
    "        if i%2 == 0:\n",
    "            count += 1\n",
    "        i += 1\n",
    "    print (count)\n",
    "else:\n",
    "    print('Você não digitou um número válido.')"
   ]
  },
  {
   "cell_type": "markdown",
   "metadata": {},
   "source": [
    "3 - Faça um programa que leia um nome de usuário e sua senha e não aceite a senha igual ao nome do usuário, mostrando uma mensagem de erro e voltando a pedir informações.\n",
    "\n",
    "Verifique se na senha existe uma exclamação e um número"
   ]
  },
  {
   "cell_type": "code",
   "execution_count": 77,
   "metadata": {},
   "outputs": [
    {
     "ename": "KeyboardInterrupt",
     "evalue": "Interrupted by user",
     "output_type": "error",
     "traceback": [
      "\u001b[1;31m---------------------------------------------------------------------------\u001b[0m",
      "\u001b[1;31mKeyboardInterrupt\u001b[0m                         Traceback (most recent call last)",
      "\u001b[1;32mc:\\Users\\Viatec\\Documents\\Estudos\\Diversidade Tech\\DiversidadeTech\\04 - Aula_Lacos_Repeticao.ipynb Célula: 19\u001b[0m in \u001b[0;36m<cell line: 9>\u001b[1;34m()\u001b[0m\n\u001b[0;32m      <a href='vscode-notebook-cell:/c%3A/Users/Viatec/Documents/Estudos/Diversidade%20Tech/DiversidadeTech/04%20-%20Aula_Lacos_Repeticao.ipynb#X31sZmlsZQ%3D%3D?line=4'>5</a>\u001b[0m ha_numero \u001b[39m=\u001b[39m \u001b[39mFalse\u001b[39;00m\n\u001b[0;32m      <a href='vscode-notebook-cell:/c%3A/Users/Viatec/Documents/Estudos/Diversidade%20Tech/DiversidadeTech/04%20-%20Aula_Lacos_Repeticao.ipynb#X31sZmlsZQ%3D%3D?line=8'>9</a>\u001b[0m \u001b[39mwhile\u001b[39;00m nome \u001b[39m==\u001b[39m senha \u001b[39mor\u001b[39;00m \u001b[39mnot\u001b[39;00m ha_exclamacao \u001b[39mor\u001b[39;00m \u001b[39mnot\u001b[39;00m ha_numero:\n\u001b[1;32m---> <a href='vscode-notebook-cell:/c%3A/Users/Viatec/Documents/Estudos/Diversidade%20Tech/DiversidadeTech/04%20-%20Aula_Lacos_Repeticao.ipynb#X31sZmlsZQ%3D%3D?line=9'>10</a>\u001b[0m     senha \u001b[39m=\u001b[39m \u001b[39minput\u001b[39;49m(\u001b[39m'\u001b[39;49m\u001b[39mSenha inválida. Digite uma nova senha.\u001b[39;49m\u001b[39m'\u001b[39;49m)\n\u001b[0;32m     <a href='vscode-notebook-cell:/c%3A/Users/Viatec/Documents/Estudos/Diversidade%20Tech/DiversidadeTech/04%20-%20Aula_Lacos_Repeticao.ipynb#X31sZmlsZQ%3D%3D?line=11'>12</a>\u001b[0m     ha_exclamacao \u001b[39m=\u001b[39m \u001b[39mFalse\u001b[39;00m\n\u001b[0;32m     <a href='vscode-notebook-cell:/c%3A/Users/Viatec/Documents/Estudos/Diversidade%20Tech/DiversidadeTech/04%20-%20Aula_Lacos_Repeticao.ipynb#X31sZmlsZQ%3D%3D?line=12'>13</a>\u001b[0m     ha_numero \u001b[39m=\u001b[39m \u001b[39mFalse\u001b[39;00m\n",
      "File \u001b[1;32mc:\\Users\\Viatec\\AppData\\Local\\Programs\\Python\\Python310\\lib\\site-packages\\ipykernel\\kernelbase.py:1177\u001b[0m, in \u001b[0;36mKernel.raw_input\u001b[1;34m(self, prompt)\u001b[0m\n\u001b[0;32m   1173\u001b[0m \u001b[39mif\u001b[39;00m \u001b[39mnot\u001b[39;00m \u001b[39mself\u001b[39m\u001b[39m.\u001b[39m_allow_stdin:\n\u001b[0;32m   1174\u001b[0m     \u001b[39mraise\u001b[39;00m StdinNotImplementedError(\n\u001b[0;32m   1175\u001b[0m         \u001b[39m\"\u001b[39m\u001b[39mraw_input was called, but this frontend does not support input requests.\u001b[39m\u001b[39m\"\u001b[39m\n\u001b[0;32m   1176\u001b[0m     )\n\u001b[1;32m-> 1177\u001b[0m \u001b[39mreturn\u001b[39;00m \u001b[39mself\u001b[39;49m\u001b[39m.\u001b[39;49m_input_request(\n\u001b[0;32m   1178\u001b[0m     \u001b[39mstr\u001b[39;49m(prompt),\n\u001b[0;32m   1179\u001b[0m     \u001b[39mself\u001b[39;49m\u001b[39m.\u001b[39;49m_parent_ident[\u001b[39m\"\u001b[39;49m\u001b[39mshell\u001b[39;49m\u001b[39m\"\u001b[39;49m],\n\u001b[0;32m   1180\u001b[0m     \u001b[39mself\u001b[39;49m\u001b[39m.\u001b[39;49mget_parent(\u001b[39m\"\u001b[39;49m\u001b[39mshell\u001b[39;49m\u001b[39m\"\u001b[39;49m),\n\u001b[0;32m   1181\u001b[0m     password\u001b[39m=\u001b[39;49m\u001b[39mFalse\u001b[39;49;00m,\n\u001b[0;32m   1182\u001b[0m )\n",
      "File \u001b[1;32mc:\\Users\\Viatec\\AppData\\Local\\Programs\\Python\\Python310\\lib\\site-packages\\ipykernel\\kernelbase.py:1219\u001b[0m, in \u001b[0;36mKernel._input_request\u001b[1;34m(self, prompt, ident, parent, password)\u001b[0m\n\u001b[0;32m   1216\u001b[0m             \u001b[39mbreak\u001b[39;00m\n\u001b[0;32m   1217\u001b[0m \u001b[39mexcept\u001b[39;00m \u001b[39mKeyboardInterrupt\u001b[39;00m:\n\u001b[0;32m   1218\u001b[0m     \u001b[39m# re-raise KeyboardInterrupt, to truncate traceback\u001b[39;00m\n\u001b[1;32m-> 1219\u001b[0m     \u001b[39mraise\u001b[39;00m \u001b[39mKeyboardInterrupt\u001b[39;00m(\u001b[39m\"\u001b[39m\u001b[39mInterrupted by user\u001b[39m\u001b[39m\"\u001b[39m) \u001b[39mfrom\u001b[39;00m \u001b[39mNone\u001b[39m\n\u001b[0;32m   1220\u001b[0m \u001b[39mexcept\u001b[39;00m \u001b[39mException\u001b[39;00m:\n\u001b[0;32m   1221\u001b[0m     \u001b[39mself\u001b[39m\u001b[39m.\u001b[39mlog\u001b[39m.\u001b[39mwarning(\u001b[39m\"\u001b[39m\u001b[39mInvalid Message:\u001b[39m\u001b[39m\"\u001b[39m, exc_info\u001b[39m=\u001b[39m\u001b[39mTrue\u001b[39;00m)\n",
      "\u001b[1;31mKeyboardInterrupt\u001b[0m: Interrupted by user"
     ]
    }
   ],
   "source": [
    "nome = input('Digite seu nome:')\n",
    "senha = input('Digite sua senha:')\n",
    "\n",
    "ha_exclamacao = False\n",
    "ha_numero = False\n",
    "\n",
    "\n",
    "\n",
    "while nome == senha or not ha_exclamacao or not ha_numero:\n",
    "    senha = input('Senha inválida. Digite uma nova senha.')\n",
    "\n",
    "    ha_exclamacao = False\n",
    "    ha_numero = False\n",
    "\n",
    "    i = 0\n",
    "\n",
    "    while i < len(senha):\n",
    "        if senha[i] == '!':\n",
    "            ha_exclamacao == True\n",
    "        if senha[i].isdigit():\n",
    "            ha_numero == True\n",
    "        i += 1\n",
    "\n",
    "print(f'O nome é {nome} e a senha é {senha}')\n"
   ]
  },
  {
   "cell_type": "markdown",
   "metadata": {},
   "source": [
    "4 - Faça um programa que receba um número. Verifique quantos números primos existem entre 1 e o número digitado (lembrando que 1 não é primo)\n",
    "\n",
    "ex: 12 existem 3 números primos entre 1 e 12"
   ]
  },
  {
   "cell_type": "markdown",
   "metadata": {},
   "source": []
  }
 ],
 "metadata": {
  "kernelspec": {
   "display_name": "Python 3.10.5 64-bit",
   "language": "python",
   "name": "python3"
  },
  "language_info": {
   "codemirror_mode": {
    "name": "ipython",
    "version": 3
   },
   "file_extension": ".py",
   "mimetype": "text/x-python",
   "name": "python",
   "nbconvert_exporter": "python",
   "pygments_lexer": "ipython3",
   "version": "3.10.5"
  },
  "orig_nbformat": 4,
  "vscode": {
   "interpreter": {
    "hash": "8e76ed3c32135994001530bed0f811497db14313295d850ff0a56919f27a1e47"
   }
  }
 },
 "nbformat": 4,
 "nbformat_minor": 2
}
