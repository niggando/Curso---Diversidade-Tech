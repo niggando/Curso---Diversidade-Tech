{
 "cells": [
  {
   "cell_type": "code",
   "execution_count": 1,
   "metadata": {},
   "outputs": [
    {
     "name": "stdout",
     "output_type": "stream",
     "text": [
      "K\n",
      "a\n",
      "i\n",
      "o\n"
     ]
    }
   ],
   "source": [
    "# Faça um programa que peça para o usuário digitar uma palavra e imprima cada letra em uma linha.\n",
    "\n",
    "palavra = input('Digite uma palavra.')\n",
    "\n",
    "for i in range(len(palavra)):\n",
    "    print(palavra[i])\n",
    "\n"
   ]
  },
  {
   "cell_type": "code",
   "execution_count": 3,
   "metadata": {},
   "outputs": [
    {
     "name": "stdout",
     "output_type": "stream",
     "text": [
      "Kaio\n"
     ]
    }
   ],
   "source": [
    "# Faça um programa que pede para o usuário digitar uma palavra e cria uma nova string igual, copiando letra por letra a palavra digitada, depois imprima a nova string.\n",
    "\n",
    "palavra = input('Digite uma palavra')\n",
    "\n",
    "palavra_copiada = ''\n",
    "\n",
    "for i in range(len(palavra)):\n",
    "    palavra_copiada += palavra[i]\n",
    "\n",
    "print(palavra_copiada)"
   ]
  },
  {
   "cell_type": "code",
   "execution_count": 4,
   "metadata": {},
   "outputs": [
    {
     "name": "stdout",
     "output_type": "stream",
     "text": [
      "KAIO\n"
     ]
    }
   ],
   "source": [
    "# Altere o exercício anterior para que a string copiada alterne entre letras maiúsculas e minúsculas.\n",
    "\n",
    "# Exemplo: se o usuário digitar \"latex\" o programa deve imprimir \"LaTeX\".\n",
    "\n",
    "palavra = input('Digite uma palavra')\n",
    "\n",
    "palavra_copiada = ''\n",
    "\n",
    "for i in range(len(palavra)):\n",
    "    palavra_copiada += palavra[i].upper()\n",
    "\n",
    "print(palavra_copiada)"
   ]
  },
  {
   "cell_type": "code",
   "execution_count": 5,
   "metadata": {},
   "outputs": [
    {
     "name": "stdout",
     "output_type": "stream",
     "text": [
      "K a i o \n"
     ]
    }
   ],
   "source": [
    "# Faça um programa que pede para o usuário digitar uma palavra e cria uma nova string igual, porém com espaço entre cada letra, depois imprima a nova string:\n",
    "\n",
    "# Exemplo: se o usuário digitar \"python\" o programa deve imprimir \"p y t h o n \"\n",
    "\n",
    "palavra = input('Digite uma palavra')\n",
    "\n",
    "palavra_copiada = ''\n",
    "\n",
    "for i in range(len(palavra)):\n",
    "    palavra_copiada += palavra[i] + ' '\n",
    "\n",
    "print(palavra_copiada)"
   ]
  },
  {
   "cell_type": "code",
   "execution_count": 8,
   "metadata": {},
   "outputs": [
    {
     "name": "stdout",
     "output_type": "stream",
     "text": [
      "A palavra nova é: 4317K4io\n"
     ]
    }
   ],
   "source": [
    "def encripitador(palavra):\n",
    "    palavra_nova = ''\n",
    "    for i in range(len(palavra)):\n",
    "        if palavra[i] == 'a':\n",
    "            palavra_nova += '4'\n",
    "        elif palavra[i] == 'e':\n",
    "            palavra_nova += '3'\n",
    "        elif palavra[i] == 'l':\n",
    "            palavra_nova += '1'\n",
    "        elif palavra[i] == 't':\n",
    "            palavra_nova += '7'\n",
    "        else:\n",
    "            palavra_nova += palavra[i]\n",
    "        \n",
    "    return palavra_nova\n",
    "\n",
    "palavra = input('Digite uma palavra:')\n",
    "\n",
    "palavrinha = encripitador(palavra)\n",
    "\n",
    "print(f'A palavra nova é: {palavrinha}')\n",
    "\n"
   ]
  },
  {
   "cell_type": "code",
   "execution_count": 10,
   "metadata": {},
   "outputs": [
    {
     "name": "stdout",
     "output_type": "stream",
     "text": [
      "oiaK\n"
     ]
    }
   ],
   "source": [
    "# Faça uma função que recebe uma string e retorna ela ao contrário.\n",
    "\n",
    "# Exemplo: Recebe \"teste\" e retorna \"etset\".\n",
    "def inversa(palavra):\n",
    "    palavra_inversa = palavra[::-1]\n",
    "\n",
    "    return palavra_inversa\n",
    "\n",
    "palavra = input('Digite uma palavra: ')\n",
    "\n",
    "palavra_inversa = inversa(palavra)\n",
    "\n",
    "print(palavra_inversa)\n",
    "\n"
   ]
  },
  {
   "cell_type": "code",
   "execution_count": 12,
   "metadata": {},
   "outputs": [
    {
     "name": "stdout",
     "output_type": "stream",
     "text": [
      "A palavra é um palíndromo.\n"
     ]
    }
   ],
   "source": [
    "# Agora faça uma função que recebe uma palavra e diz se ela é um palíndromo, ou seja, se ela é igual a ela mesma ao contrário.\n",
    "\n",
    "# Dica: Use a função do exercício 6.\n",
    "def inversa(palavra):\n",
    "    palavra_inversa = palavra[::-1]\n",
    "\n",
    "    return palavra_inversa\n",
    "\n",
    "palavra = input('Digite uma palavra: ')\n",
    "\n",
    "palavra_inversa = inversa(palavra)\n",
    "\n",
    "if palavra == palavra_inversa:\n",
    "    print('A palavra é um palíndromo.')\n",
    "\n",
    "else: \n",
    "    print('A palavra não é um palíndromo!')\n"
   ]
  },
  {
   "cell_type": "code",
   "execution_count": 14,
   "metadata": {},
   "outputs": [
    {
     "name": "stdout",
     "output_type": "stream",
     "text": [
      "A palavra não existe no texto\n"
     ]
    }
   ],
   "source": [
    "# Faça uma função que receba um texto e uma palavra, então verifique se a palavra está no texto, retornando True ou False.\n",
    "\n",
    "def procura(texto, palavra):\n",
    "    lista_texto = []\n",
    "\n",
    "    lista_texto = texto.split(' ')\n",
    "    contem_palavra = False\n",
    "\n",
    "    for i in range(len(lista_texto)):\n",
    "        if palavra == lista_texto[i]:\n",
    "            contem_palavra = True\n",
    "        else:\n",
    "            continue\n",
    "    \n",
    "    return contem_palavra\n",
    "\n",
    "palavra = input('Digite uma palavra: ')\n",
    "texto = input('Digite um texto: ')\n",
    "\n",
    "existe = procura(texto, palavra)\n",
    "\n",
    "if existe:\n",
    "    print('A palavra está contida no texto.')\n",
    "else: \n",
    "    print('A palavra não existe no texto')\n",
    "\n"
   ]
  },
  {
   "cell_type": "code",
   "execution_count": 21,
   "metadata": {},
   "outputs": [
    {
     "name": "stdout",
     "output_type": "stream",
     "text": [
      "As letras na string são: \n",
      "Os números na string são: 1 2 3 4  \n"
     ]
    }
   ],
   "source": [
    "# Faça uma função que receba uma string que contém tanto números quanto letras e caracteres especiais, e que separe as letras em uma variável e os números em outra (os caracteres especiais podem ser descartados). Ao final a função deve imprimir as duas variáveis.\n",
    "\n",
    "def filtro(texto):\n",
    "    letras = ''\n",
    "    numeros = ''\n",
    "\n",
    "    for i in range(len(texto)):\n",
    "        if texto[i].isdigit():\n",
    "            numeros += texto[i] + ' '\n",
    "        elif texto[i].isalnum():\n",
    "            letras += texto[i] + ' '\n",
    "        else:\n",
    "            continue\n",
    "    \n",
    "    print(f'As letras na string são: {letras}')\n",
    "    print(f'Os números na string são: {numeros} ')\n",
    "\n",
    "texto = input('Digite alguma frase: ')\n",
    "\n",
    "filtro(texto)"
   ]
  },
  {
   "cell_type": "code",
   "execution_count": 22,
   "metadata": {},
   "outputs": [
    {
     "name": "stdout",
     "output_type": "stream",
     "text": [
      "A letra apareceu 3 vezes\n",
      "Nas posições: Aparece na posicao 3 \n",
      "Aparece na posicao 11 \n",
      "Aparece na posicao 17 \n",
      "\n",
      "A distância entre sua primeira e última aparições foi:  14\n"
     ]
    }
   ],
   "source": [
    "def procura(texto, letra):\n",
    "    conta_letra = 0\n",
    "    posicao = ''\n",
    "    primeira_aparicao = 0\n",
    "    ultima_aparicao = 0\n",
    "\n",
    "    for i in range(len(texto)):\n",
    "        if letra == texto[i]:\n",
    "            conta_letra += 1\n",
    "            posicao += f'Aparece na posicao {i} \\n'\n",
    "            if conta_letra == 1:\n",
    "                primeira_aparicao = i\n",
    "            else:\n",
    "                # fica sobrescrevendo até acabar o for\n",
    "                ultima_aparicao = i\n",
    "    \n",
    "    if conta_letra > 0:\n",
    "        print(f'A letra apareceu {conta_letra} vezes')\n",
    "        print(f'{posicao}')\n",
    "        print(f'A distância entre sua primeira e última aparições foi:  {ultima_aparicao - primeira_aparicao}')\n",
    "\n",
    "    else:\n",
    "        print('A letra não apareceu no texto')\n",
    "\n",
    "\n",
    "texto = input('Digite um texto qualquer: ')\n",
    "letra = input('Digite a letra procurada: ')\n",
    "\n",
    "if len(letra) != 1:\n",
    "    letra = input('Letra inválida, digite somente uma letra.')\n",
    "\n",
    "texto = texto.lower()\n",
    "letra = letra.lower()\n",
    "\n",
    "procura(texto, letra)\n"
   ]
  },
  {
   "cell_type": "code",
   "execution_count": null,
   "metadata": {},
   "outputs": [],
   "source": []
  }
 ],
 "metadata": {
  "kernelspec": {
   "display_name": "Python 3.10.5 64-bit",
   "language": "python",
   "name": "python3"
  },
  "language_info": {
   "codemirror_mode": {
    "name": "ipython",
    "version": 3
   },
   "file_extension": ".py",
   "mimetype": "text/x-python",
   "name": "python",
   "nbconvert_exporter": "python",
   "pygments_lexer": "ipython3",
   "version": "3.10.5"
  },
  "orig_nbformat": 4,
  "vscode": {
   "interpreter": {
    "hash": "8e76ed3c32135994001530bed0f811497db14313295d850ff0a56919f27a1e47"
   }
  }
 },
 "nbformat": 4,
 "nbformat_minor": 2
}
