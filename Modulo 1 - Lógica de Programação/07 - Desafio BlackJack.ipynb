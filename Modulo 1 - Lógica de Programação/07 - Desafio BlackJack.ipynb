{
 "cells": [
  {
   "cell_type": "markdown",
   "metadata": {},
   "source": [
    "Super Desafio! - Faça um jogo de BlackJack usando funções: o BlackJack, ou Vinte e Um, é um jogo em que os jogadores podem comprar cartas livremente, enquanto tiverem menos de 21 pontos. No nosso jogo, o Ás vale um ponto; as cartas de 2 a 10 valem o número de pontos que elas representam; e Valete, Dama e Rei valem 10 pontos cada. Ganha o jogador que tiver o maior número de pontos, desde que este seja menor ou igual a 21. Nosso jogo deve ter as seguintes funções:\n",
    "\n",
    "a. Função principal: a função que vamos chamar para iniciar o jogo. Essa função não irá receber nem retornar nenhuma variável. Ela deve perguntar o número de jogadores participantes e o nome de cada um. Em seguida ela chama as outras funções do jogo.\n",
    "\n",
    "b. Função para criar o baralho: essa função deve criar um baralho (uma lista) com as cartas do baralho.\n",
    "\n",
    "c. Função para a jogada: essa função deve receber o nome do jogador que irá realizar a jogada e, caso ele ainda esteja ativo (tenha menos de 21 pontos e ainda não tenha desistido de comprar cartas) deve perguntar se ele quer comprar uma carta. Se ele responder que sim, a função deve chamar a próxima função para sortear uma carta e somar o valor retornado na pontuação do jogador; se ele responder que não, a função deve desativar o jogador para que ele não possa mais comprar cartas; Essa função só deve ser chamada enquanto houver jogadores ativos.\n",
    "\n",
    "d. Função para o sorteio: essa função retira uma carta aleatória do baralho e retorna o número de pontos que essa carta vale.\n",
    "\n",
    "e. Função verificação: verifica e indica qual/quais jogador/jogadores tem o maior número de pontos, que seja menor ou igual a 21."
   ]
  },
  {
   "cell_type": "code",
   "execution_count": 40,
   "metadata": {},
   "outputs": [],
   "source": [
    "# b. Função para criar o baralho: essa função deve criar um baralho (uma lista) com as cartas do baralho.\n",
    "\n",
    "# No nosso jogo, o Ás vale um ponto;\n",
    "# as cartas de 2 a 10 valem o número de pontos que elas representam;\n",
    "# Valete, Dama e Rei valem 10 pontos cada\n",
    "\n",
    "def criar_baralho():\n",
    "\n",
    "    naipes = ['♥','♦','♣','♠']\n",
    "\n",
    "    baralho = []\n",
    "\n",
    "    for naipe in naipes:\n",
    "\n",
    "        for i in range(1,14):\n",
    "\n",
    "            if (i == 1):\n",
    "                carta = [naipe, 'AS', i]\n",
    "\n",
    "            elif (i == 11):\n",
    "                carta = [naipe, 'Valete', 10]\n",
    "            \n",
    "            elif (i == 12):\n",
    "                carta = [naipe, 'Dama', 10]\n",
    "            \n",
    "            elif (i == 13):\n",
    "                carta = [naipe, 'Rei', 10]\n",
    "            \n",
    "            else:\n",
    "                carta = [naipe, str(i), i]\n",
    "\n",
    "            baralho.append(carta)\n",
    "\n",
    "    \n",
    "    return baralho \n",
    "            \n",
    "\n",
    "            # carta = [naipe, numero, valor]\n",
    "\n"
   ]
  },
  {
   "cell_type": "code",
   "execution_count": 41,
   "metadata": {},
   "outputs": [],
   "source": [
    "# baralho = criar_baralho()\n",
    "# print(baralho)"
   ]
  },
  {
   "cell_type": "code",
   "execution_count": 42,
   "metadata": {},
   "outputs": [],
   "source": [
    "import random \n",
    "\n",
    "def sorteio(baralho):\n",
    "    # pop - removeu um item da lista e salvou em uma variável\n",
    "    carta = baralho.pop(random.randint(0,len(baralho)-1))\n",
    "    print(f'A carta sorteada foi {carta[1]} de {carta[0]} que vale {carta[2]} pontos')\n",
    "\n",
    "    return carta"
   ]
  },
  {
   "cell_type": "code",
   "execution_count": 43,
   "metadata": {},
   "outputs": [],
   "source": [
    "# c. Função para a jogada: essa função deve receber \n",
    "# o nome do jogador que irá realizar a jogada e, \n",
    "# caso ele ainda esteja ativo (tenha menos de 21 pontos e ainda \n",
    "# não tenha desistido de comprar cartas) deve perguntar se ele quer comprar uma carta. \n",
    "# Se ele responder que sim, a função deve chamar a próxima função para sortear uma carta e somar o valor retornado na pontuação do jogador; \n",
    "# se ele responder que não, a função deve desativar o jogador para que ele não possa mais comprar cartas; \n",
    "# Essa função só deve ser chamada enquanto houver jogadores ativos.\n",
    "\n",
    "# jogador = [nome (string), ativo (bool), pontuacao(inteiro)]\n",
    "\n",
    "def jogada(jogador, baralho):\n",
    "\n",
    "    resposta = ''\n",
    "\n",
    "    while(resposta != 'N' and resposta != 'S'):\n",
    "        resposta = input(f'Jogador {jogador[0]}, deseja comprar uma carta (S/N)?:').upper()\n",
    "\n",
    "    if resposta == 'S':\n",
    "        carta = sorteio(baralho)\n",
    "\n",
    "        jogador[2] += int(carta[2])\n",
    "\n",
    "        if jogador[2] >= 21:\n",
    "            jogador[1] = False\n",
    "\n",
    "            # jogador[1] = not jogador [2] > 21\n",
    "\n",
    "    else: \n",
    "        jogador[1] = False"
   ]
  },
  {
   "cell_type": "code",
   "execution_count": 44,
   "metadata": {},
   "outputs": [],
   "source": [
    "# e. Função verificação: verifica e indica qual/quais jogador/jogadores tem o maior número de pontos, que seja menor ou igual a 21.\n",
    "\n",
    "def pontuacao(jogadores):\n",
    "\n",
    "    maior_pontuacao = []\n",
    "\n",
    "    for jogador in jogadores:\n",
    "\n",
    "        if jogador[2] <= 21:\n",
    "            maior_pontuacao.append(jogador)\n",
    "\n",
    "    print(f'As maiores pontuações foram: {maior_pontuacao}')\n",
    "    "
   ]
  },
  {
   "cell_type": "code",
   "execution_count": 49,
   "metadata": {},
   "outputs": [],
   "source": [
    "# a. Função principal: a função que vamos chamar para iniciar o jogo. \n",
    "# Essa função não irá receber nem retornar nenhuma variável. \n",
    "# Ela deve perguntar o número de jogadores participantes e o nome de cada um. \n",
    "# Em seguida ela chama as outras funções do jogo.\n",
    "\n",
    "def blackjack():\n",
    "\n",
    "    numero_jogadores = int(input('Digite o número de jogadores:'))\n",
    "\n",
    "    jogadores = []\n",
    "\n",
    "    for i in range(numero_jogadores):\n",
    "        nome = input('Digite o nome do jogador: ')\n",
    "\n",
    "        # jogador = [nome, status, pontuacao]\n",
    "        jogador = [nome, True, 0]\n",
    "        jogadores.append(jogador)\n",
    "    \n",
    "    baralho = criar_baralho()\n",
    "    \n",
    "    jogo_ativo = True\n",
    "\n",
    "    i = 0\n",
    "\n",
    "    while jogo_ativo:\n",
    "        if(jogadores[i][1]):\n",
    "            jogada(jogadores[i], baralho)\n",
    "            print(f'Pontuação atual do jogador {jogadores[i][0]}: {jogadores[i][2]}')\n",
    "\n",
    "        i += 1\n",
    "\n",
    "        if (i == len(jogadores)):\n",
    "            i = 0\n",
    "\n",
    "        for jogador in jogadores:\n",
    "            if jogador[1] == True:\n",
    "                break\n",
    "\n",
    "        else:\n",
    "            jogo_ativo = False\n",
    "\n",
    "    pontuacao(jogadores)\n",
    "\n",
    "    print('Fim de jogo')\n",
    "        "
   ]
  },
  {
   "cell_type": "code",
   "execution_count": 50,
   "metadata": {},
   "outputs": [
    {
     "name": "stdout",
     "output_type": "stream",
     "text": [
      "A carta sorteada foi 9 de ♥ que vale 9 pontos\n",
      "Restam 51 cartas.\n",
      "Pontuação atual do jogador Kaio: 9\n",
      "Pontuação atual do jogador Marcelo: 0\n",
      "A carta sorteada foi 8 de ♠ que vale 8 pontos\n",
      "Restam 50 cartas.\n",
      "Pontuação atual do jogador Kaio: 17\n",
      "A carta sorteada foi 3 de ♥ que vale 3 pontos\n",
      "Restam 49 cartas.\n",
      "Pontuação atual do jogador Kaio: 20\n",
      "Pontuação atual do jogador Kaio: 20\n",
      "As maiores pontuações foram: [['Kaio', False, 20], ['Marcelo', False, 0]]\n",
      "Fim de jogo\n"
     ]
    }
   ],
   "source": [
    "blackjack()"
   ]
  },
  {
   "cell_type": "code",
   "execution_count": null,
   "metadata": {},
   "outputs": [],
   "source": []
  }
 ],
 "metadata": {
  "kernelspec": {
   "display_name": "Python 3.10.5 64-bit",
   "language": "python",
   "name": "python3"
  },
  "language_info": {
   "codemirror_mode": {
    "name": "ipython",
    "version": 3
   },
   "file_extension": ".py",
   "mimetype": "text/x-python",
   "name": "python",
   "nbconvert_exporter": "python",
   "pygments_lexer": "ipython3",
   "version": "3.10.5"
  },
  "orig_nbformat": 4,
  "vscode": {
   "interpreter": {
    "hash": "8e76ed3c32135994001530bed0f811497db14313295d850ff0a56919f27a1e47"
   }
  }
 },
 "nbformat": 4,
 "nbformat_minor": 2
}
