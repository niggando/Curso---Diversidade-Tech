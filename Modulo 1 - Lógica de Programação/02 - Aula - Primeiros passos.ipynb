{
 "cells": [
  {
   "cell_type": "markdown",
   "metadata": {},
   "source": [
    "# Primeiros Comandos"
   ]
  },
  {
   "cell_type": "code",
   "execution_count": 2,
   "metadata": {},
   "outputs": [
    {
     "name": "stdout",
     "output_type": "stream",
     "text": [
      "Hello World\n"
     ]
    }
   ],
   "source": [
    "print(\"Hello World\")"
   ]
  },
  {
   "cell_type": "markdown",
   "metadata": {},
   "source": [
    "## Dicas do Notebook\n",
    "\n",
    "esc + d d (exclui a célula)\n",
    "\n",
    "esc + b (inclui uma linha de código abaixo)\n",
    "\n",
    "esc + a (coloca o código acima)\n",
    "\n",
    "shift + enter (executa a linha atual)\n",
    "\n",
    "ctrl + enter (executa sem ir pra linha (bloco) abaixo)\n",
    "\n",
    "shift + tab (recua a identação)\n",
    "\n",
    " shift + alt + seta para baixo -> repete o código"
   ]
  },
  {
   "cell_type": "code",
   "execution_count": 3,
   "metadata": {},
   "outputs": [
    {
     "name": "stdout",
     "output_type": "stream",
     "text": [
      "Não precisa do ponto e vírgula\n"
     ]
    }
   ],
   "source": [
    "print('Não precisa do ponto e vírgula')\n",
    "# Python não é necessário colocar o ponto e vírgula "
   ]
  },
  {
   "cell_type": "code",
   "execution_count": 5,
   "metadata": {},
   "outputs": [
    {
     "name": "stdout",
     "output_type": "stream",
     "text": [
      "Teste do comando\n"
     ]
    }
   ],
   "source": [
    "print('Teste do comando')"
   ]
  },
  {
   "cell_type": "code",
   "execution_count": 7,
   "metadata": {},
   "outputs": [
    {
     "name": "stdout",
     "output_type": "stream",
     "text": [
      "Kaio\n",
      "Henrique\n",
      "de\n",
      "Jesus\n",
      "Santos\n"
     ]
    }
   ],
   "source": [
    "print('Kaio')\n",
    "print('Henrique')\n",
    "print('de')\n",
    "print('Jesus')\n",
    "print('Santos')"
   ]
  },
  {
   "cell_type": "code",
   "execution_count": 9,
   "metadata": {},
   "outputs": [
    {
     "name": "stdout",
     "output_type": "stream",
     "text": [
      "Kaio\n",
      "Henrique\n",
      "de\n",
      "Jesus\n",
      "Santos\n"
     ]
    }
   ],
   "source": [
    "print('Kaio\\nHenrique\\nde\\nJesus\\nSantos')"
   ]
  },
  {
   "cell_type": "code",
   "execution_count": 11,
   "metadata": {},
   "outputs": [
    {
     "name": "stdout",
     "output_type": "stream",
     "text": [
      "Texto 01\n",
      "\tQuebra 02\n"
     ]
    }
   ],
   "source": [
    "print('Texto 01')\n",
    "print('\\tQuebra 02')"
   ]
  },
  {
   "cell_type": "code",
   "execution_count": 13,
   "metadata": {},
   "outputs": [
    {
     "name": "stdout",
     "output_type": "stream",
     "text": [
      "Kaio Henrique Henrique "
     ]
    }
   ],
   "source": [
    "print('Kaio', end=' ')\n",
    "print('Henrique', end=' ')\n",
    "print('Henrique', end=' ')\n",
    "\n",
    "# shift + alt + seta para baixo -> repete o código"
   ]
  },
  {
   "cell_type": "code",
   "execution_count": 14,
   "metadata": {},
   "outputs": [
    {
     "name": "stdout",
     "output_type": "stream",
     "text": [
      "Kaio com aspas simples\n",
      "Kaio com aspas duplas\n",
      "Teste de \"aspas\"\n",
      "Teste de \"aspas\"\n"
     ]
    }
   ],
   "source": [
    "print('Kaio com aspas simples')\n",
    "print(\"Kaio com aspas duplas\")\n",
    "\n",
    "print(\"Teste de \\\"aspas\\\"\")\n",
    "print('Teste de \"aspas\"')"
   ]
  },
  {
   "cell_type": "code",
   "execution_count": 16,
   "metadata": {},
   "outputs": [
    {
     "name": "stdout",
     "output_type": "stream",
     "text": [
      "4\r"
     ]
    }
   ],
   "source": [
    "import time\n",
    "for i in range(5):\n",
    "    print(i, end='\\r')\n",
    "    time.sleep(i)"
   ]
  },
  {
   "cell_type": "code",
   "execution_count": 17,
   "metadata": {},
   "outputs": [
    {
     "name": "stdout",
     "output_type": "stream",
     "text": [
      "Kaio\n",
      "Henrique\n",
      "Mais um texto\n"
     ]
    }
   ],
   "source": [
    "print('Kaio','Henrique','Mais um texto', sep='\\n')"
   ]
  },
  {
   "cell_type": "markdown",
   "metadata": {},
   "source": [
    "## Tipos básicos\n",
    "\n",
    "> inteiro\n",
    "\n",
    "> string\n",
    "\n",
    "> float (ou decimais)\n",
    "\n",
    "> booleanos\n",
    "\n",
    "> Outros: lista, dict"
   ]
  },
  {
   "cell_type": "code",
   "execution_count": 18,
   "metadata": {},
   "outputs": [
    {
     "data": {
      "text/plain": [
       "'Isto é uma string'"
      ]
     },
     "execution_count": 18,
     "metadata": {},
     "output_type": "execute_result"
    }
   ],
   "source": [
    "# inteiro -> números\n",
    "# float (decimais) -> números com casas decimais\n",
    "# string -> textos\n",
    "\n",
    "\"Isto é uma string\"\n",
    "\n",
    "# booleano -> true ou false"
   ]
  },
  {
   "cell_type": "code",
   "execution_count": 19,
   "metadata": {},
   "outputs": [
    {
     "data": {
      "text/plain": [
       "'15'"
      ]
     },
     "execution_count": 19,
     "metadata": {},
     "output_type": "execute_result"
    }
   ],
   "source": [
    "'1' + '5'"
   ]
  },
  {
   "cell_type": "code",
   "execution_count": 21,
   "metadata": {},
   "outputs": [
    {
     "name": "stdout",
     "output_type": "stream",
     "text": [
      "<class 'str'>\n",
      "<class 'str'>\n",
      "<class 'int'>\n",
      "<class 'float'>\n"
     ]
    }
   ],
   "source": [
    "print(type('Teo'))\n",
    "print(type('5'))\n",
    "print(type(5))\n",
    "print(type(5.5))\n",
    "\n",
    "# type() -> retorna o tipo de daquele conteúdo"
   ]
  },
  {
   "cell_type": "code",
   "execution_count": 25,
   "metadata": {},
   "outputs": [
    {
     "name": "stdout",
     "output_type": "stream",
     "text": [
      "Kaio Henrique <class 'str'>\n",
      "Meu nome é Kaio Henrique, tenho 25 anos e gosto de Guild wars 2\n"
     ]
    }
   ],
   "source": [
    "nome = 'Kaio Henrique'\n",
    "idade = '25'\n",
    "hobby = 'Guild wars 2'\n",
    "print(nome, type(nome))\n",
    "print(f\"Meu nome é {nome}, tenho {idade} anos e gosto de {hobby}\")"
   ]
  },
  {
   "cell_type": "code",
   "execution_count": 26,
   "metadata": {},
   "outputs": [
    {
     "name": "stdout",
     "output_type": "stream",
     "text": [
      "<class 'str'>\n",
      "<class 'int'>\n",
      "Seu nome é Kaio e tem 25 anos. \n"
     ]
    }
   ],
   "source": [
    "nome = input(\"Qual o seu nome? \")\n",
    "idade = input(\"Qual a sua idade? \")\n",
    "\n",
    "print(f\"Seu nome é {nome} e tem {idade} anos. \")"
   ]
  },
  {
   "cell_type": "code",
   "execution_count": 27,
   "metadata": {},
   "outputs": [
    {
     "name": "stdout",
     "output_type": "stream",
     "text": [
      "<class 'int'>\n",
      "<class 'int'>\n"
     ]
    },
    {
     "data": {
      "text/plain": [
       "55"
      ]
     },
     "execution_count": 27,
     "metadata": {},
     "output_type": "execute_result"
    }
   ],
   "source": [
    "print(type(idade))\n",
    "idade = int(idade)\n",
    "print(type(idade))\n",
    "idade + 30"
   ]
  },
  {
   "cell_type": "markdown",
   "metadata": {},
   "source": [
    "int() Converte para inteiro\n",
    "\n",
    "float() Converte para float\n",
    "\n",
    "str() converte para string"
   ]
  },
  {
   "cell_type": "code",
   "execution_count": 28,
   "metadata": {},
   "outputs": [
    {
     "name": "stdout",
     "output_type": "stream",
     "text": [
      "<class 'str'>\n",
      "<class 'float'>\n"
     ]
    }
   ],
   "source": [
    "valor = input('Digite um valor decimal')\n",
    "print(type(valor))\n",
    "valor = float(valor)\n",
    "print(type(valor))"
   ]
  },
  {
   "cell_type": "code",
   "execution_count": 29,
   "metadata": {},
   "outputs": [
    {
     "ename": "ZeroDivisionError",
     "evalue": "division by zero",
     "output_type": "error",
     "traceback": [
      "\u001b[1;31m---------------------------------------------------------------------------\u001b[0m",
      "\u001b[1;31mZeroDivisionError\u001b[0m                         Traceback (most recent call last)",
      "\u001b[1;32mc:\\Users\\Viatec\\Documents\\Estudos\\Diversidade Tech\\Curso - Python e Dados\\Modulo 1 - Lógica de Programação\\02 - Aula - Primeiros passos.ipynb Célula: 22\u001b[0m in \u001b[0;36m<cell line: 1>\u001b[1;34m()\u001b[0m\n\u001b[1;32m----> <a href='vscode-notebook-cell:/c%3A/Users/Viatec/Documents/Estudos/Diversidade%20Tech/Curso%20-%20Python%20e%20Dados/Modulo%201%20-%20L%C3%B3gica%20de%20Programa%C3%A7%C3%A3o/02%20-%20Aula%20-%20Primeiros%20passos.ipynb#X44sZmlsZQ%3D%3D?line=0'>1</a>\u001b[0m \u001b[39mTrue\u001b[39;49;00m \u001b[39m/\u001b[39;49m \u001b[39mFalse\u001b[39;49;00m\n",
      "\u001b[1;31mZeroDivisionError\u001b[0m: division by zero"
     ]
    }
   ],
   "source": [
    "True / False "
   ]
  },
  {
   "cell_type": "code",
   "execution_count": 31,
   "metadata": {},
   "outputs": [
    {
     "name": "stdout",
     "output_type": "stream",
     "text": [
      "True\n"
     ]
    }
   ],
   "source": [
    "print(bool('Teo'))\n",
    "\n",
    "# Convertendo números para bool -> 0 é falso, e qualquer coisa é true\n",
    "# convertendo texto para bool -> Texto vazio é falso, e qualquer outra coisa é true"
   ]
  },
  {
   "cell_type": "markdown",
   "metadata": {},
   "source": [
    "## Operadores Algébricos\n",
    "\n",
    "- Soma\n",
    "- Subtração\n",
    "- Divisão\n",
    "    - Mod (resto)\n",
    "- Multiplicação"
   ]
  },
  {
   "cell_type": "code",
   "execution_count": 32,
   "metadata": {},
   "outputs": [
    {
     "data": {
      "text/plain": [
       "1"
      ]
     },
     "execution_count": 32,
     "metadata": {},
     "output_type": "execute_result"
    }
   ],
   "source": [
    "11%2"
   ]
  },
  {
   "cell_type": "code",
   "execution_count": 33,
   "metadata": {},
   "outputs": [
    {
     "data": {
      "text/plain": [
       "1.2"
      ]
     },
     "execution_count": 33,
     "metadata": {},
     "output_type": "execute_result"
    }
   ],
   "source": [
    "(1+5)/(2+1*(1+2))"
   ]
  },
  {
   "cell_type": "markdown",
   "metadata": {},
   "source": []
  }
 ],
 "metadata": {
  "kernelspec": {
   "display_name": "Python 3.10.5 64-bit",
   "language": "python",
   "name": "python3"
  },
  "language_info": {
   "codemirror_mode": {
    "name": "ipython",
    "version": 3
   },
   "file_extension": ".py",
   "mimetype": "text/x-python",
   "name": "python",
   "nbconvert_exporter": "python",
   "pygments_lexer": "ipython3",
   "version": "3.10.5"
  },
  "orig_nbformat": 4,
  "vscode": {
   "interpreter": {
    "hash": "8e76ed3c32135994001530bed0f811497db14313295d850ff0a56919f27a1e47"
   }
  }
 },
 "nbformat": 4,
 "nbformat_minor": 2
}
