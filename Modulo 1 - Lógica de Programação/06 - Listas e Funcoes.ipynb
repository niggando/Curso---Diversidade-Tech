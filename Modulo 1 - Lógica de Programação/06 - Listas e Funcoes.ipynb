{
 "cells": [
  {
   "cell_type": "markdown",
   "metadata": {},
   "source": [
    "### Aula 06\n",
    "\n",
    "- Exercícios\n",
    "- Listas\n",
    "    - Copiando listas\n",
    "    - Item dentro de outra lista\n",
    "    - List Comprehension\n",
    "- Funções\n",
    "    - Declarando função\n",
    "    - Parametros\n",
    "    - Parametros padrão\n",
    "    - Importando um módulo"
   ]
  },
  {
   "cell_type": "markdown",
   "metadata": {},
   "source": [
    "## Exercícios"
   ]
  },
  {
   "cell_type": "markdown",
   "metadata": {},
   "source": [
    "- Listas\n",
    "    - Copiando listas\n",
    "    - Item dentro de outra lista\n",
    "    - List Comprehension\n",
    "- Tuplas"
   ]
  },
  {
   "cell_type": "markdown",
   "metadata": {},
   "source": [
    "# Tupla\n",
    "\n",
    "- Lista imutável"
   ]
  },
  {
   "cell_type": "code",
   "execution_count": 2,
   "metadata": {},
   "outputs": [
    {
     "name": "stdout",
     "output_type": "stream",
     "text": [
      "Segundo item da tupla: 2\n",
      "Segundo item da lista: 2\n",
      "tupla: (1, 2, 3, 4, 5)\n",
      "Lista: [1, 2, 3, 4, 5]\n"
     ]
    }
   ],
   "source": [
    "tupla = (1,2,3,4,5)\n",
    "lista = [1,2,3,4,5]\n",
    "\n",
    "print(f'Segundo item da tupla: {tupla[1]}')\n",
    "print(f'Segundo item da lista: {lista[1]}')\n",
    "\n",
    "print(f'tupla: {tupla}')\n",
    "print(f'Lista: {lista}')"
   ]
  },
  {
   "cell_type": "code",
   "execution_count": 3,
   "metadata": {},
   "outputs": [
    {
     "name": "stdout",
     "output_type": "stream",
     "text": [
      "[1, 20, 3, 4, 5]\n"
     ]
    }
   ],
   "source": [
    "lista[1] = 20\n",
    "print(lista)\n"
   ]
  },
  {
   "cell_type": "code",
   "execution_count": 4,
   "metadata": {},
   "outputs": [
    {
     "ename": "TypeError",
     "evalue": "'tuple' object does not support item assignment",
     "output_type": "error",
     "traceback": [
      "\u001b[1;31m---------------------------------------------------------------------------\u001b[0m",
      "\u001b[1;31mTypeError\u001b[0m                                 Traceback (most recent call last)",
      "\u001b[1;32mc:\\Users\\Viatec\\Documents\\Estudos\\Diversidade Tech\\DiversidadeTech\\Modulo 1 - Lógica de Programação\\06 - Listas e Funcoes.ipynb Célula: 7\u001b[0m in \u001b[0;36m<cell line: 1>\u001b[1;34m()\u001b[0m\n\u001b[1;32m----> <a href='vscode-notebook-cell:/c%3A/Users/Viatec/Documents/Estudos/Diversidade%20Tech/DiversidadeTech/Modulo%201%20-%20L%C3%B3gica%20de%20Programa%C3%A7%C3%A3o/06%20-%20Listas%20e%20Funcoes.ipynb#X16sZmlsZQ%3D%3D?line=0'>1</a>\u001b[0m tupla[\u001b[39m1\u001b[39m] \u001b[39m=\u001b[39m \u001b[39m20\u001b[39m\n\u001b[0;32m      <a href='vscode-notebook-cell:/c%3A/Users/Viatec/Documents/Estudos/Diversidade%20Tech/DiversidadeTech/Modulo%201%20-%20L%C3%B3gica%20de%20Programa%C3%A7%C3%A3o/06%20-%20Listas%20e%20Funcoes.ipynb#X16sZmlsZQ%3D%3D?line=1'>2</a>\u001b[0m \u001b[39mprint\u001b[39m(tupla)\n",
      "\u001b[1;31mTypeError\u001b[0m: 'tuple' object does not support item assignment"
     ]
    }
   ],
   "source": [
    "tupla[1] = 20\n",
    "print(tupla)"
   ]
  },
  {
   "cell_type": "markdown",
   "metadata": {},
   "source": [
    "- Funções\n",
    "    - Declarando função\n",
    "    - Parametros\n",
    "    - Parametros padrão\n",
    "    - Importando um módulo"
   ]
  },
  {
   "cell_type": "code",
   "execution_count": 9,
   "metadata": {},
   "outputs": [],
   "source": [
    "def oi_mundo():\n",
    "    print('Hello World')\n",
    "    print('Quase no fim')\n",
    "    print('Força')\n",
    "    print('Foco')\n",
    "    print('Fé')"
   ]
  },
  {
   "cell_type": "code",
   "execution_count": 10,
   "metadata": {},
   "outputs": [
    {
     "name": "stdout",
     "output_type": "stream",
     "text": [
      "Hello World\n",
      "Quase no fim\n",
      "Força\n",
      "Foco\n",
      "Fé\n"
     ]
    }
   ],
   "source": [
    "oi_mundo()"
   ]
  },
  {
   "cell_type": "code",
   "execution_count": 19,
   "metadata": {},
   "outputs": [],
   "source": [
    "def oi_pessoa(nome, sobrenome):\n",
    "    ''' Este método não faz nada de interessante, mas recebe um parâmetro '''\n",
    "    print('Hello World')\n",
    "    print(f'Você se chama {nome}, {sobrenome}')\n",
    "    print('Tudo bem?')\n"
   ]
  },
  {
   "cell_type": "code",
   "execution_count": 20,
   "metadata": {},
   "outputs": [
    {
     "name": "stdout",
     "output_type": "stream",
     "text": [
      "Hello World\n",
      "Você se chama Kaiozada, Zap\n",
      "Tudo bem?\n"
     ]
    }
   ],
   "source": [
    "oi_pessoa('Kaiozada','Zap')"
   ]
  },
  {
   "cell_type": "code",
   "execution_count": 26,
   "metadata": {},
   "outputs": [
    {
     "data": {
      "text/plain": [
       "8"
      ]
     },
     "execution_count": 26,
     "metadata": {},
     "output_type": "execute_result"
    }
   ],
   "source": [
    "def calcula_produto (a,b):\n",
    "    produto = a*b\n",
    "    return produto\n",
    "\n",
    "calcula_produto(2,4)"
   ]
  },
  {
   "cell_type": "code",
   "execution_count": 27,
   "metadata": {},
   "outputs": [
    {
     "name": "stdout",
     "output_type": "stream",
     "text": [
      "8\n"
     ]
    }
   ],
   "source": [
    "resultado = calcula_produto(2,4)\n",
    "print(resultado)"
   ]
  },
  {
   "cell_type": "code",
   "execution_count": 30,
   "metadata": {},
   "outputs": [],
   "source": [
    "def calcula_produto_lista(lista):\n",
    "    produto = 1\n",
    "    for item in lista:\n",
    "        produto *= item\n",
    "\n",
    "    return produto"
   ]
  },
  {
   "cell_type": "code",
   "execution_count": 31,
   "metadata": {},
   "outputs": [
    {
     "data": {
      "text/plain": [
       "13440"
      ]
     },
     "execution_count": 31,
     "metadata": {},
     "output_type": "execute_result"
    }
   ],
   "source": [
    "calcula_produto_lista([2,4,5,6,7,8])"
   ]
  },
  {
   "cell_type": "code",
   "execution_count": 36,
   "metadata": {},
   "outputs": [],
   "source": [
    "def mostra_nome(nome,sobrenome=None):\n",
    "\n",
    "    if sobrenome:\n",
    "        print(f'Seu nome é {nome} e seu sobrenome é {sobrenome}')\n",
    "    else:\n",
    "        print(f'Seu nome é {nome}')"
   ]
  },
  {
   "cell_type": "code",
   "execution_count": 37,
   "metadata": {},
   "outputs": [
    {
     "name": "stdout",
     "output_type": "stream",
     "text": [
      "Seu nome é Kaio\n",
      "Seu nome é Kaio e seu sobrenome é Santos\n"
     ]
    }
   ],
   "source": [
    "mostra_nome('Kaio')\n",
    "mostra_nome('Kaio','Santos')"
   ]
  },
  {
   "cell_type": "code",
   "execution_count": null,
   "metadata": {},
   "outputs": [],
   "source": []
  }
 ],
 "metadata": {
  "kernelspec": {
   "display_name": "Python 3.10.5 64-bit",
   "language": "python",
   "name": "python3"
  },
  "language_info": {
   "codemirror_mode": {
    "name": "ipython",
    "version": 3
   },
   "file_extension": ".py",
   "mimetype": "text/x-python",
   "name": "python",
   "nbconvert_exporter": "python",
   "pygments_lexer": "ipython3",
   "version": "3.10.5"
  },
  "orig_nbformat": 4,
  "vscode": {
   "interpreter": {
    "hash": "8e76ed3c32135994001530bed0f811497db14313295d850ff0a56919f27a1e47"
   }
  }
 },
 "nbformat": 4,
 "nbformat_minor": 2
}
