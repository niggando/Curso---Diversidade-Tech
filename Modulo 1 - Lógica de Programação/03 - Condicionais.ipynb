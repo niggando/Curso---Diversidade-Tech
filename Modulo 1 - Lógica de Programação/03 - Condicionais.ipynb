{
 "cells": [
  {
   "cell_type": "markdown",
   "metadata": {},
   "source": [
    "## Tópicos da aula\n",
    "\n",
    "- Estrutura condicional e controle de fluxo\n",
    "- Comando if\n",
    "- Comando else\n",
    "- Comando Elif\n",
    "- Métodos e funções\n",
    "- Métodos - https://www.w3schools.com/python/python_ref_string.asp\n",
    "- Métodos de strings:\n",
    "    - isdigit()\n",
    "    - replace()\n",
    "    - upper()\n",
    "    - *Pegando uma parte da string*\n",
    "- Controle de exceção\n",
    "    - try/catch\n",
    "    - Forçando uma exceção (raise exception)\n",
    "    - Mais de uma exceção\n",
    "    - Quando usar?\n",
    "- Bibliotecas\n",
    "    - *Sys (version/version_info)*\n",
    "    - *datetime*\n",
    "    - time"
   ]
  },
  {
   "cell_type": "code",
   "execution_count": 1,
   "metadata": {},
   "outputs": [
    {
     "name": "stdout",
     "output_type": "stream",
     "text": [
      "Isto vai acontecer sempre\n"
     ]
    }
   ],
   "source": [
    "if False:\n",
    "    print('Esta condição é verdadeira!')\n",
    "\n",
    "print('Isto vai acontecer sempre')"
   ]
  },
  {
   "cell_type": "code",
   "execution_count": 2,
   "metadata": {},
   "outputs": [
    {
     "data": {
      "text/plain": [
       "False"
      ]
     },
     "execution_count": 2,
     "metadata": {},
     "output_type": "execute_result"
    }
   ],
   "source": [
    "if False:\n",
    "    print('Teste de verdadeiro')\n",
    "    \n",
    "bool('')"
   ]
  },
  {
   "cell_type": "code",
   "execution_count": 3,
   "metadata": {},
   "outputs": [
    {
     "data": {
      "text/plain": [
       "True"
      ]
     },
     "execution_count": 3,
     "metadata": {},
     "output_type": "execute_result"
    }
   ],
   "source": [
    "#Booleana - True or False\n",
    "bool('Teodor')"
   ]
  },
  {
   "cell_type": "code",
   "execution_count": 6,
   "metadata": {},
   "outputs": [
    {
     "name": "stdout",
     "output_type": "stream",
     "text": [
      "True\n"
     ]
    }
   ],
   "source": [
    "# and -> condições da esquerda e da direita tem que ser verdadeiras\n",
    "# or -> Uma delas condições tem que ser verdadeira\n",
    "print(True or False)\n",
    "\n",
    "if True and False:\n",
    "    print('As duas condições são verdadeiras')"
   ]
  },
  {
   "cell_type": "code",
   "execution_count": 7,
   "metadata": {},
   "outputs": [
    {
     "data": {
      "text/plain": [
       "False"
      ]
     },
     "execution_count": 7,
     "metadata": {},
     "output_type": "execute_result"
    }
   ],
   "source": [
    "not True"
   ]
  },
  {
   "cell_type": "code",
   "execution_count": 9,
   "metadata": {},
   "outputs": [
    {
     "name": "stdout",
     "output_type": "stream",
     "text": [
      "Por favor digite o nome e idade\n"
     ]
    }
   ],
   "source": [
    "nome = input('Digite seu nome:')\n",
    "idade = input('Digite sua idade:')\n",
    "\n",
    "if bool(nome) == False or bool(idade) == False:\n",
    "    print('Por favor digite o nome e idade')\n"
   ]
  },
  {
   "cell_type": "code",
   "execution_count": 12,
   "metadata": {},
   "outputs": [
    {
     "name": "stdout",
     "output_type": "stream",
     "text": [
      "Caiu aqui pq a condição foi falsa\n"
     ]
    }
   ],
   "source": [
    "if 1 == 2:\n",
    "    print('Caiu aqui pq a condição foi verdadeira')\n",
    "else:\n",
    "    print('Caiu aqui pq a condição foi falsa')"
   ]
  },
  {
   "cell_type": "code",
   "execution_count": 13,
   "metadata": {},
   "outputs": [
    {
     "name": "stdout",
     "output_type": "stream",
     "text": [
      "Seu nome é Kaio e idade é 25\n"
     ]
    }
   ],
   "source": [
    "nome = input('Digite seu nome:')\n",
    "idade = input('Digite sua idade:')\n",
    "\n",
    "if bool(nome) == False or bool(idade) == False:\n",
    "    print('Por favor digite o nome e idade')\n",
    "else:\n",
    "    print(f'Seu nome é {nome} e idade é {idade}')"
   ]
  },
  {
   "cell_type": "code",
   "execution_count": 15,
   "metadata": {},
   "outputs": [
    {
     "name": "stdout",
     "output_type": "stream",
     "text": [
      "B é maior que A\n"
     ]
    }
   ],
   "source": [
    "numero_1 = int(input('Digite o numero A'))\n",
    "numero_2 = int(input('Digite o número B'))\n",
    "\n",
    "if numero_1 > numero_2:\n",
    "    print('A é maior que B')\n",
    "elif numero_1 == numero_2:\n",
    "    print('A é igual a B')\n",
    "else:\n",
    "    print('B é maior que A')"
   ]
  },
  {
   "cell_type": "code",
   "execution_count": 17,
   "metadata": {},
   "outputs": [
    {
     "name": "stdout",
     "output_type": "stream",
     "text": [
      "Você não digitou um número.\n"
     ]
    }
   ],
   "source": [
    "# try / except\n",
    "\n",
    "\n",
    "try:\n",
    "    numero_1 = int(input('Digite um número'))\n",
    "    numero_2 = int(input('Digite outro número'))\n",
    "\n",
    "    print(numero_1 + numero_2)\n",
    "\n",
    "except:\n",
    "    print('Você não digitou um número.')"
   ]
  },
  {
   "cell_type": "code",
   "execution_count": 22,
   "metadata": {},
   "outputs": [
    {
     "name": "stdout",
     "output_type": "stream",
     "text": [
      "11\n"
     ]
    }
   ],
   "source": [
    "numero_1 = input('Digite um número')\n",
    "numero_2 = input('Digite outro número')\n",
    "\n",
    "if numero_1.isdigit() and numero_2.isdigit():\n",
    "    print(int(numero_1) + int(numero_2))\n",
    "else:\n",
    "    print('Você não digitou um número')"
   ]
  },
  {
   "cell_type": "code",
   "execution_count": 23,
   "metadata": {},
   "outputs": [
    {
     "name": "stdout",
     "output_type": "stream",
     "text": [
      "O CPF está correto.\n"
     ]
    }
   ],
   "source": [
    "cpf = '111.222.333-11'\n",
    "\n",
    "cpf = cpf.replace('.','').replace('-','')\n",
    "\n",
    "if len(cpf) == 11 and cpf.isdigit():\n",
    "    print('O CPF está correto.')\n",
    "else:\n",
    "    print('O CPF não está correto.')"
   ]
  },
  {
   "cell_type": "code",
   "execution_count": 24,
   "metadata": {},
   "outputs": [
    {
     "data": {
      "text/plain": [
       "6"
      ]
     },
     "execution_count": 24,
     "metadata": {},
     "output_type": "execute_result"
    }
   ],
   "source": [
    "len('Teodor') # len -> Tamanho de uma variável"
   ]
  },
  {
   "cell_type": "code",
   "execution_count": 25,
   "metadata": {},
   "outputs": [
    {
     "data": {
      "text/plain": [
       "True"
      ]
     },
     "execution_count": 25,
     "metadata": {},
     "output_type": "execute_result"
    }
   ],
   "source": [
    "'555'.isdigit()"
   ]
  },
  {
   "cell_type": "code",
   "execution_count": 26,
   "metadata": {},
   "outputs": [
    {
     "name": "stdout",
     "output_type": "stream",
     "text": [
      "True\n"
     ]
    }
   ],
   "source": [
    "condicao = 1 == 1\n",
    "print(condicao)\n",
    "\n",
    "if condicao:\n",
    "    pass\n",
    "elif condicao:\n",
    "    pass # Comando que não faz nada, só pra guardar lugar\n",
    "else:\n",
    "    pass"
   ]
  },
  {
   "cell_type": "code",
   "execution_count": 27,
   "metadata": {},
   "outputs": [
    {
     "name": "stdout",
     "output_type": "stream",
     "text": [
      "1663372331.4917257\n"
     ]
    }
   ],
   "source": [
    "import time\n",
    "\n",
    "print(time.time())"
   ]
  },
  {
   "cell_type": "code",
   "execution_count": 30,
   "metadata": {},
   "outputs": [
    {
     "name": "stdout",
     "output_type": "stream",
     "text": [
      "2022-09-16 20:55:50.725481\n"
     ]
    }
   ],
   "source": [
    "from datetime import datetime\n",
    "\n",
    "datetime.now()\n",
    "hora_atual = str(datetime.now())\n",
    "print(hora_atual)\n"
   ]
  },
  {
   "cell_type": "code",
   "execution_count": 32,
   "metadata": {},
   "outputs": [
    {
     "data": {
      "text/plain": [
       "'2022'"
      ]
     },
     "execution_count": 32,
     "metadata": {},
     "output_type": "execute_result"
    }
   ],
   "source": [
    "hora_atual[0:10]\n",
    "hora_atual[0:4]"
   ]
  },
  {
   "cell_type": "code",
   "execution_count": 33,
   "metadata": {},
   "outputs": [
    {
     "data": {
      "text/plain": [
       "'Kaio Henri'"
      ]
     },
     "execution_count": 33,
     "metadata": {},
     "output_type": "execute_result"
    }
   ],
   "source": [
    "'Kaio Henrique de Jesus Santos'[0:10]"
   ]
  },
  {
   "cell_type": "code",
   "execution_count": 34,
   "metadata": {},
   "outputs": [
    {
     "data": {
      "text/plain": [
       "datetime.datetime(2022, 9, 16, 20, 57, 10, 873644)"
      ]
     },
     "execution_count": 34,
     "metadata": {},
     "output_type": "execute_result"
    }
   ],
   "source": [
    "datetime.today()"
   ]
  },
  {
   "cell_type": "code",
   "execution_count": 42,
   "metadata": {},
   "outputs": [
    {
     "data": {
      "text/plain": [
       "'21:29:35.443624'"
      ]
     },
     "execution_count": 42,
     "metadata": {},
     "output_type": "execute_result"
    }
   ],
   "source": [
    "str(datetime.today().time())"
   ]
  },
  {
   "cell_type": "code",
   "execution_count": 43,
   "metadata": {},
   "outputs": [
    {
     "name": "stdout",
     "output_type": "stream",
     "text": [
      "Erro de divisão por zero.\n"
     ]
    }
   ],
   "source": [
    "\n",
    "\n",
    "try:\n",
    "    x = 1/0\n",
    "except ZeroDivisionError as err: # Pegando uma exceção específica\n",
    "    print('Erro de divisão por zero.')\n",
    "except TypeError as err: # Pegando uma exceção específica\n",
    "    print('Outra exceção')"
   ]
  },
  {
   "cell_type": "markdown",
   "metadata": {},
   "source": [
    "# Exercicios"
   ]
  },
  {
   "cell_type": "markdown",
   "metadata": {},
   "source": [
    "1 - Usando a biblioteca datetime, pegue a data/hora atual. Faça um print que mostre: \"O ano é {ano}, o mês é {mês} e dia é {dia}\""
   ]
  },
  {
   "cell_type": "code",
   "execution_count": 55,
   "metadata": {},
   "outputs": [
    {
     "name": "stdout",
     "output_type": "stream",
     "text": [
      "O ano é 2022, o mês é 09 e dia é 16  \n"
     ]
    }
   ],
   "source": [
    "from datetime import datetime\n",
    "\n",
    "ano_atual = str(datetime.now())[0:4]\n",
    "mes_atual = str(datetime.now())[5:7]\n",
    "dia_atual = str(datetime.now())[8:11]\n",
    "\n",
    "print(f'O ano é {ano_atual}, o mês é {mes_atual} e dia é {dia_atual} ')"
   ]
  },
  {
   "cell_type": "markdown",
   "metadata": {},
   "source": [
    "2 - Receba o ano (comecando com 1). Informe qual o século que aquele ano pertence, sendo:\n",
    "\n",
    "1 a 100 - século 1\n",
    "101 a 200 - século 2\n",
    "\n",
    "e por ai vai\n",
    "\n",
    "2000 - Século 20"
   ]
  },
  {
   "cell_type": "code",
   "execution_count": 58,
   "metadata": {},
   "outputs": [
    {
     "name": "stdout",
     "output_type": "stream",
     "text": [
      "O ano digitado pertence ao século 2 \n"
     ]
    }
   ],
   "source": [
    "ano = int(input('Digite o ano desejado: '))\n",
    "\n",
    "seculo = ano / 100\n",
    "\n",
    "if int(seculo) == float(seculo):\n",
    "    print(f'O ano digitado pertence ao século {int(seculo)} ')\n",
    "\n",
    "else:\n",
    "    print(f'O ano digitado pertence ao século {int(seculo) + 1} ')"
   ]
  },
  {
   "cell_type": "markdown",
   "metadata": {},
   "source": [
    "3 - Uma empresa decidiu dar um aumento de 5% no salário de uma pessoa se ela trabalha na mesma empresa a mais de 5 anos. Faça um programa que receba o ano de contratação, o salário e mostre o novo salário. Considere o ano atual (2022) para o cálculo."
   ]
  },
  {
   "cell_type": "code",
   "execution_count": 61,
   "metadata": {},
   "outputs": [
    {
     "name": "stdout",
     "output_type": "stream",
     "text": [
      "Você tem 5 anos de casa. \n",
      "Houve o acréscimo de 5% do salário, totalizando: 1050.0\n"
     ]
    }
   ],
   "source": [
    "ano_contratacao = int(input('Digite o Ano de contratação:'))\n",
    "salario = float(input('Digite o salário'))\n",
    "\n",
    "ano_atual = 2022\n",
    "\n",
    "print(f'Você tem {ano_atual - ano_contratacao} anos de casa. ')\n",
    "if ano_atual - ano_contratacao >= 5:\n",
    "    print(f'Houve o acréscimo de 5% do salário, totalizando: {salario*1.05}')"
   ]
  },
  {
   "cell_type": "markdown",
   "metadata": {},
   "source": [
    "4 - Receba a largura e altura de um retangulo e informe ao usuário se é um quadrado ou não"
   ]
  },
  {
   "cell_type": "markdown",
   "metadata": {},
   "source": [
    "5- Receba a idade de 3 pessoas e informe o mais velho e o mais novo entre eles. Caso os 3 tenham a mesma idade, informe que todos tem a mesma idade."
   ]
  },
  {
   "cell_type": "markdown",
   "metadata": {},
   "source": [
    "6 - Um aluno não pode fazer a prova se a porcentagem de comparecimento nas aulas dele for menor que 75%.\n",
    "\n",
    "Receba o número de aulas de um módulo, o número de aulas que o aluno participou.\n",
    "\n",
    "Mostre o % de participação e se o estudante pode fazer a prova ou não.\n",
    "\n",
    "Inclua regras de preenchimento não explícitas no exercício"
   ]
  },
  {
   "cell_type": "markdown",
   "metadata": {},
   "source": [
    "7 - Validador de CPF : https://ogeradordecpf.com.br/algoritmo/"
   ]
  },
  {
   "cell_type": "markdown",
   "metadata": {},
   "source": []
  }
 ],
 "metadata": {
  "kernelspec": {
   "display_name": "Python 3.10.5 64-bit",
   "language": "python",
   "name": "python3"
  },
  "language_info": {
   "codemirror_mode": {
    "name": "ipython",
    "version": 3
   },
   "file_extension": ".py",
   "mimetype": "text/x-python",
   "name": "python",
   "nbconvert_exporter": "python",
   "pygments_lexer": "ipython3",
   "version": "3.10.5"
  },
  "orig_nbformat": 4,
  "vscode": {
   "interpreter": {
    "hash": "8e76ed3c32135994001530bed0f811497db14313295d850ff0a56919f27a1e47"
   }
  }
 },
 "nbformat": 4,
 "nbformat_minor": 2
}
