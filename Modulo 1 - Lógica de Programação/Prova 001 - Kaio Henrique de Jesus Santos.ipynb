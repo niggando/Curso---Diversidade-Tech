{
 "cells": [
  {
   "cell_type": "code",
   "execution_count": 2,
   "metadata": {},
   "outputs": [
    {
     "name": "stdout",
     "output_type": "stream",
     "text": [
      "O número aleatório é menor\n",
      "O número aleatório é menor\n",
      "Parabéns você acertou!\n",
      "Você ganhou 30 pontos!\n"
     ]
    }
   ],
   "source": [
    "import random\n",
    "\n",
    "# a) Pegue um número aleatório de 1 a 10\n",
    "\n",
    "numero_aleatorio = random.randint(1,10)\n",
    "\n",
    "# b) Peça para o usuário adivinhar o número. Ele deverá tentar NO MÁXIMO 3 vezes - caso ele tente mais que isso o programa deverá mostrar: \"Você não acertou o número. Ganhou 0 pontos\"\n",
    "\n",
    "tentativas = 1\n",
    "\n",
    "while tentativas <= 3:\n",
    "    chute = int(input('Digite um número inteiro entre 1 e 10: '))\n",
    "\n",
    "    if chute == numero_aleatorio:\n",
    "        print('Parabéns você acertou!')\n",
    "        break\n",
    "    elif chute > numero_aleatorio:\n",
    "        print('O número aleatório é menor')\n",
    "    else:\n",
    "        print('O número aleatório é maior')\n",
    "    \n",
    "    tentativas += 1\n",
    "\n",
    "if tentativas == 1:\n",
    "    print('Você ganhou 100 pontos!')\n",
    "elif tentativas == 2:\n",
    "    print('Você ganhou 60 pontos!')\n",
    "elif tentativas == 3 and chute == numero_aleatorio:\n",
    "    print('Você ganhou 30 pontos!')\n",
    "else:\n",
    "    print(f'Fim de jogo, o número aleatório era {numero_aleatorio}')"
   ]
  },
  {
   "cell_type": "code",
   "execution_count": 26,
   "metadata": {},
   "outputs": [
    {
     "name": "stdout",
     "output_type": "stream",
     "text": [
      "O termo \"a\" digitado não é um número e não pode ser convertido.\n",
      "Já que um dos itens digitados é inválido, a operação foi cancelada.\n"
     ]
    }
   ],
   "source": [
    "# 2 \n",
    "\n",
    "# Função deve receber dois números e uma operação matematica\n",
    "\n",
    "def calculadora (a,b,operacao):\n",
    "\n",
    "    if operacao.upper() == 'SOMA':\n",
    "        soma = a + b\n",
    "        print(f'O resultado da soma é: {soma}')\n",
    "    elif operacao.upper() == 'MULTIPLICAÇÃO':\n",
    "        multi = a * b\n",
    "        print(f'O resultado da multiplicação é: {multi}')\n",
    "    elif operacao.upper() == 'DIVISÃO':\n",
    "        if a == 0 or b == 0:\n",
    "            divi = 0\n",
    "            print(f'O resultado da divisão é {divi}')\n",
    "        else:\n",
    "            divi = a / b\n",
    "            print(f'O resultado da divisão é {divi}')\n",
    "    elif operacao.upper() == 'SUBTRAÇÃO':\n",
    "        sub = a - b\n",
    "        print(f'O resultado da subtração é {sub}')\n",
    "    else:\n",
    "        print('Operação inválida. Verifique se o termo foi digitado como solicitado e tente novamente.')\n",
    "\n",
    "def verifica_numero(num):\n",
    "    if num.isdigit():\n",
    "        # Decidi comentar essa linha já que não faz muito sentido o usuário ver que o número tá certo...\n",
    "        # print(f'O termo {num} digitado é de fato um número e pode ser convertido.')\n",
    "        return True\n",
    "    else:\n",
    "        print(f'O termo \"{num}\" digitado não é um caracter válido.')\n",
    "        return False\n",
    "\n",
    "def operar_calculadora():\n",
    "    operar = input('Digite, separado por vírgula, o valor de A, B e a operação. op: SOMA, MULTIPLICAÇÃO, DIVISÃO, SUBTRAÇÃO')\n",
    "\n",
    "    operar = operar.split(',')\n",
    "\n",
    "    a = operar[0]\n",
    "    b = operar[1]\n",
    "\n",
    "    if verifica_numero(a) and verifica_numero(b):\n",
    "        a = int(operar[0])\n",
    "        b = int(operar[1])\n",
    "        op = operar[2]\n",
    "        calculadora(a, b, op)\n",
    "    else:\n",
    "        print('Já que um dos itens digitados é inválido, a operação foi cancelada.')\n",
    "\n",
    "operar_calculadora()\n",
    "\n",
    "\n",
    "    \n",
    "\n",
    "\n",
    "\n",
    "\n",
    "\n"
   ]
  },
  {
   "cell_type": "code",
   "execution_count": 8,
   "metadata": {},
   "outputs": [
    {
     "name": "stdout",
     "output_type": "stream",
     "text": [
      "Aluno já inserido. Favor digitar novamente.\n",
      "[['Teo', 8], ['João', 5], ['Marília', 7], ['Jonathan', 9], ['Kaio', 7], ['Mila', 9]]\n",
      "Os Alunos que obtiveram notas acima da média foram: ['Teo', 'Jonathan', 'Mila'] \n"
     ]
    }
   ],
   "source": [
    "def verifica_nome(nome, sala):\n",
    "    for i in range(len(sala)):\n",
    "        if nome == sala[i][0]:\n",
    "            return True\n",
    "        else:\n",
    "            return False\n",
    "\n",
    "\n",
    "lista_sala = [['Teo', 8], ['João', 5], ['Marília', 7], ['Jonathan',9]]\n",
    "\n",
    "adiciona_lista = int(input('Digite quantas pessoas deseja adicionar à lista. (Entre 1 e 5)'))\n",
    "\n",
    "count = 0\n",
    "if adiciona_lista >= 1 and adiciona_lista <= 5:\n",
    "    while count < adiciona_lista:\n",
    "        dado = input('Digite o Nome a Nota do aluno, separados por vírgulas')\n",
    "\n",
    "        lista_aluno = []\n",
    "\n",
    "        lista_aluno = dado.split(',')\n",
    "\n",
    "        lista_aluno[1] = int(lista_aluno[1])\n",
    "\n",
    "        # Solicitando a inserção completa dos dados do aluno.\n",
    "        if verifica_nome(lista_aluno[0], lista_sala):\n",
    "            print('Aluno já inserido. Favor digitar novamente.')\n",
    "            continue\n",
    "        # Verificação de dados do aluno: nota. Caso inválida, repetir até digitar uma nota válida.\n",
    "        while lista_aluno[1] < 0 or lista_aluno[1] > 10:\n",
    "            lista_aluno[1] = int(input('Nota Inválida, digite novamente:'))\n",
    "\n",
    "        lista_sala.append(lista_aluno)\n",
    "\n",
    "        count += 1\n",
    "\n",
    "print(lista_sala)\n",
    "\n",
    "media = 0\n",
    "\n",
    "for i in range(len(lista_sala)):\n",
    "    media += lista_sala[i][1]\n",
    "\n",
    "media /= len(lista_sala)\n",
    "\n",
    "aprovados = []\n",
    "for i in range(len(lista_sala)):\n",
    "    if lista_sala[i][1] >= media:\n",
    "        aprovados.append(lista_sala[i][0])\n",
    "\n",
    "print(f'Os Alunos que obtiveram notas acima da média foram: {aprovados} ')\n",
    "\n",
    "\n",
    "\n"
   ]
  },
  {
   "cell_type": "code",
   "execution_count": null,
   "metadata": {},
   "outputs": [],
   "source": []
  }
 ],
 "metadata": {
  "kernelspec": {
   "display_name": "Python 3.10.5 64-bit",
   "language": "python",
   "name": "python3"
  },
  "language_info": {
   "codemirror_mode": {
    "name": "ipython",
    "version": 3
   },
   "file_extension": ".py",
   "mimetype": "text/x-python",
   "name": "python",
   "nbconvert_exporter": "python",
   "pygments_lexer": "ipython3",
   "version": "3.10.5"
  },
  "orig_nbformat": 4,
  "vscode": {
   "interpreter": {
    "hash": "8e76ed3c32135994001530bed0f811497db14313295d850ff0a56919f27a1e47"
   }
  }
 },
 "nbformat": 4,
 "nbformat_minor": 2
}
