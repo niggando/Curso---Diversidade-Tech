{
 "cells": [
  {
   "cell_type": "code",
   "execution_count": 2,
   "metadata": {},
   "outputs": [
    {
     "name": "stdout",
     "output_type": "stream",
     "text": [
      "Array [63 38 72 11 13 85 86 85 10 55 94 51 41 76 37  0 64 40 92 18 48 32 86 73\n",
      " 81 43 46 55 59 27 47  0 22 49 97 49  7  6 27 46 42 49 37 28 91 10 40 85\n",
      " 84 37 29 73 42 44 12 62  4 92 47 60  9 10 65 32 95 88  4 71 74 25 84 84\n",
      " 35 58 43 22 97  9 98  8 64 56 85 99 28 77 70 39  9 30 44 34  7  4 61 38\n",
      " 43 81 99 69]\n"
     ]
    }
   ],
   "source": [
    "# 1 \n",
    "import random\n",
    "import numpy as np\n",
    "\n",
    "lista = []\n",
    "\n",
    "for i in range(100):\n",
    "    lista.append(random.randint(0,100))\n",
    "\n",
    "arr = np.array(lista)\n",
    "print(\"Array\", arr)"
   ]
  },
  {
   "cell_type": "code",
   "execution_count": 3,
   "metadata": {},
   "outputs": [
    {
     "name": "stdout",
     "output_type": "stream",
     "text": [
      "[0 3 6 9]\n"
     ]
    }
   ],
   "source": [
    "# 2 \n",
    "import numpy as np\n",
    "\n",
    "arr = np.arange(0, 10, 3)\n",
    "print(arr)"
   ]
  },
  {
   "cell_type": "code",
   "execution_count": 4,
   "metadata": {},
   "outputs": [
    {
     "name": "stdout",
     "output_type": "stream",
     "text": [
      "[0 3 6 9]\n"
     ]
    }
   ],
   "source": [
    "# 3\n",
    "import numpy as np\n",
    "\n",
    "arr_3 = np.linspace(0, 3.14, 40)\n",
    "print(arr)\n",
    "\n"
   ]
  },
  {
   "cell_type": "code",
   "execution_count": 5,
   "metadata": {},
   "outputs": [
    {
     "name": "stdout",
     "output_type": "stream",
     "text": [
      "[0 3 6 9]\n"
     ]
    }
   ],
   "source": [
    "# 4\n",
    "import numpy as np\n",
    "\n",
    "arr_4 = np.ones(40)*6\n",
    "print(arr)"
   ]
  },
  {
   "cell_type": "code",
   "execution_count": 6,
   "metadata": {},
   "outputs": [
    {
     "name": "stdout",
     "output_type": "stream",
     "text": [
      "Array questão 03\n",
      "[0.         0.08051282 0.16102564 0.24153846 0.32205128 0.4025641\n",
      " 0.48307692 0.56358974 0.64410256 0.72461538 0.80512821 0.88564103\n",
      " 0.96615385 1.04666667 1.12717949 1.20769231 1.28820513 1.36871795\n",
      " 1.44923077 1.52974359 1.61025641 1.69076923 1.77128205 1.85179487\n",
      " 1.93230769 2.01282051 2.09333333 2.17384615 2.25435897 2.33487179\n",
      " 2.41538462 2.49589744 2.57641026 2.65692308 2.7374359  2.81794872\n",
      " 2.89846154 2.97897436 3.05948718 3.14      ]\n",
      "--------------------------------\n",
      "Array questão 04\n",
      "[6. 6. 6. 6. 6. 6. 6. 6. 6. 6. 6. 6. 6. 6. 6. 6. 6. 6. 6. 6. 6. 6. 6. 6.\n",
      " 6. 6. 6. 6. 6. 6. 6. 6. 6. 6. 6. 6. 6. 6. 6. 6.]\n",
      "--------------------------------\n",
      "Array questão 05\n",
      "[0.         0.16102564 0.32205128 0.48307692 0.64410256 0.80512821\n",
      " 0.96615385 1.12717949 1.28820513 1.44923077 1.61025641 1.77128205\n",
      " 1.93230769 2.09333333 2.25435897 2.41538462 2.57641026 2.7374359\n",
      " 2.89846154 3.05948718 3.22051282 3.38153846 3.5425641  3.70358974\n",
      " 3.86461538 4.02564103 4.18666667 4.34769231 4.50871795 4.66974359\n",
      " 4.83076923 4.99179487 5.15282051 5.31384615 5.47487179 5.63589744\n",
      " 5.79692308 5.95794872 6.11897436 6.28      ]\n",
      "--------------------------------\n"
     ]
    }
   ],
   "source": [
    "# 5 \n",
    "\n",
    "import numpy as np\n",
    "\n",
    "# Array Questão 3\n",
    "arr_3 = np.linspace(0, 3.14, 40)\n",
    "print(\"Array questão 03\")\n",
    "print(arr_3)\n",
    "print('-'*32)\n",
    "\n",
    "# Array Questão 4\n",
    "arr_4 = np.ones(40)*6\n",
    "print(\"Array questão 04\")\n",
    "print(arr_4)\n",
    "print('-'*32)\n",
    "\n",
    "# Array Questão 05\n",
    "arr_5 = (arr_4 / 3) * (arr_3)\n",
    "print(\"Array questão 05\")\n",
    "print(arr_5)\n",
    "print('-'*32)\n"
   ]
  },
  {
   "cell_type": "code",
   "execution_count": 7,
   "metadata": {},
   "outputs": [
    {
     "name": "stdout",
     "output_type": "stream",
     "text": [
      "Array questão 05\n",
      "[0.         0.16102564 0.32205128 0.48307692 0.64410256 0.80512821\n",
      " 0.96615385 1.12717949 1.28820513 1.44923077 1.61025641 1.77128205\n",
      " 1.93230769 2.09333333 2.25435897 2.41538462 2.57641026 2.7374359\n",
      " 2.89846154 3.05948718 3.22051282 3.38153846 3.5425641  3.70358974\n",
      " 3.86461538 4.02564103 4.18666667 4.34769231 4.50871795 4.66974359\n",
      " 4.83076923 4.99179487 5.15282051 5.31384615 5.47487179 5.63589744\n",
      " 5.79692308 5.95794872 6.11897436 6.28      ]\n",
      "--------------------------------\n",
      "Array aleatório\n",
      "[1 1 0 4 4 4 1 1 1 0 2 2 3 3 3 1 1 1 1 0 2 4 1 0 3 2 3 2 1 4 1 0 3 3 2 3 3\n",
      " 2 3 0]\n",
      "--------------------------------\n",
      "Array resultante\n",
      "[1.         1.16102564 0.32205128 4.48307692 4.64410256 4.80512821\n",
      " 1.96615385 2.12717949 2.28820513 1.44923077 3.61025641 3.77128205\n",
      " 4.93230769 5.09333333 5.25435897 3.41538462 3.57641026 3.7374359\n",
      " 3.89846154 3.05948718 5.22051282 7.38153846 4.5425641  3.70358974\n",
      " 6.86461538 6.02564103 7.18666667 6.34769231 5.50871795 8.66974359\n",
      " 5.83076923 4.99179487 8.15282051 8.31384615 7.47487179 8.63589744\n",
      " 8.79692308 7.95794872 9.11897436 6.28      ]\n",
      "--------------------------------\n"
     ]
    }
   ],
   "source": [
    "# 6\n",
    "import random\n",
    "import numpy as np\n",
    "np.random.seed(17) \n",
    "arr_6 = np.random.randint(0, 5, 40)\n",
    "\n",
    "print(\"Array questão 05\")\n",
    "print(arr_5)\n",
    "print('-'*32)\n",
    "\n",
    "print(\"Array aleatório\")\n",
    "print(arr_6)\n",
    "print('-'*32)\n",
    "\n",
    "arr_6 = arr_5 + arr_6\n",
    "\n",
    "print(\"Array resultante\")\n",
    "print(arr_6)\n",
    "print('-'*32)"
   ]
  },
  {
   "cell_type": "code",
   "execution_count": 8,
   "metadata": {},
   "outputs": [
    {
     "name": "stdout",
     "output_type": "stream",
     "text": [
      "Array da questão 06\n",
      "[1.         1.16102564 0.32205128 4.48307692 4.64410256 4.80512821\n",
      " 1.96615385 2.12717949 2.28820513 1.44923077 3.61025641 3.77128205\n",
      " 4.93230769 5.09333333 5.25435897 3.41538462 3.57641026 3.7374359\n",
      " 3.89846154 3.05948718 5.22051282 7.38153846 4.5425641  3.70358974\n",
      " 6.86461538 6.02564103 7.18666667 6.34769231 5.50871795 8.66974359\n",
      " 5.83076923 4.99179487 8.15282051 8.31384615 7.47487179 8.63589744\n",
      " 8.79692308 7.95794872 9.11897436 6.28      ]\n",
      "--------------------------------\n",
      "Seno do array da questão 06\n",
      "[ 0.84147098  0.91721221  0.31651305 -0.973823   -0.99766939 -0.9957028\n",
      "  0.92285893  0.84917078  0.7535118   0.99262    -0.45169453 -0.58889375\n",
      " -0.97591519 -0.92831394 -0.85669417 -0.27038409 -0.42124498 -0.56120689\n",
      " -0.68664853  0.08201326 -0.87365887  0.89045915 -0.98561438 -0.53287718\n",
      "  0.54921958 -0.2547066   0.78548621  0.06446227 -0.69933545  0.6853137\n",
      " -0.43713981 -0.96121945  0.95567898  0.89611264  0.92899445  0.70956489\n",
      "  0.58741009  0.99460029  0.30105959 -0.0031853 ]\n",
      "--------------------------------\n",
      "Cosseno do array da questão 06\n",
      "[ 0.54030231  0.39839901  0.94858816 -0.22730764 -0.06823336  0.09260635\n",
      " -0.38513815 -0.52811834 -0.65743438  0.12126636 -0.89217266 -0.80821046\n",
      "  0.21815029  0.37179729  0.51582467 -0.96275253 -0.90694689 -0.82767556\n",
      " -0.72698955 -0.99663124  0.48653898  0.45506319 -0.16900975 -0.8461926\n",
      "  0.83567808  0.96701838  0.61887916  0.99792014  0.71479363 -0.72824799\n",
      "  0.89939357  0.27578463 -0.29441075 -0.44382671  0.37009366 -0.7046401\n",
      " -0.80928943 -0.10377989 -0.95360533  0.99999493]\n",
      "--------------------------------\n",
      "Log (base 10) do array da questão 06\n",
      "[ 0.          0.06484181 -0.49207497  0.65157619  0.6669018   0.68170498\n",
      "  0.2936175   0.32780414  0.35949495  0.16113755  0.55753805  0.57648901\n",
      "  0.69305016  0.7070021   0.72051974  0.53343962  0.55344733  0.57257375\n",
      "  0.59089325  0.48564864  0.71771317  0.86814689  0.65730106  0.56862287\n",
      "  0.83661621  0.78000326  0.8565275   0.80261587  0.74105054  0.93800625\n",
      "  0.76572585  0.69825673  0.91130788  0.91980198  0.87360375  0.93630748\n",
      "  0.94433079  0.90080114  0.95994599  0.79795964]\n",
      "--------------------------------\n",
      "Valor arredondado do array da questão 06\n",
      "[1. 1. 0. 4. 5. 5. 2. 2. 2. 1. 4. 4. 5. 5. 5. 3. 4. 4. 4. 3. 5. 7. 5. 4.\n",
      " 7. 6. 7. 6. 6. 9. 6. 5. 8. 8. 7. 9. 9. 8. 9. 6.]\n",
      "--------------------------------\n"
     ]
    }
   ],
   "source": [
    "# 7 -\n",
    "print(\"Array da questão 06\")\n",
    "print(arr_6)\n",
    "print('-'*32)\n",
    "\n",
    "# O seno\n",
    "\n",
    "print(\"Seno do array da questão 06\")\n",
    "print(np.sin(arr_6))\n",
    "print('-'*32)\n",
    "\n",
    "# O cosseno\n",
    "\n",
    "print(\"Cosseno do array da questão 06\")\n",
    "print(np.cos(arr_6))\n",
    "print('-'*32)\n",
    "\n",
    "# O Log base 10\n",
    "\n",
    "print(\"Log (base 10) do array da questão 06\")\n",
    "print(np.log10(arr_6))\n",
    "print('-'*32)\n",
    "\n",
    "print(\"Valor arredondado do array da questão 06\")\n",
    "print(np.round(arr_6, 0))\n",
    "print('-'*32)\n"
   ]
  },
  {
   "cell_type": "code",
   "execution_count": 9,
   "metadata": {},
   "outputs": [
    {
     "name": "stdout",
     "output_type": "stream",
     "text": [
      "Array do seno da questão 06\n",
      "[ 0.84147098  0.91721221  0.31651305 -0.973823   -0.99766939 -0.9957028\n",
      "  0.92285893  0.84917078  0.7535118   0.99262    -0.45169453 -0.58889375\n",
      " -0.97591519 -0.92831394 -0.85669417 -0.27038409 -0.42124498 -0.56120689\n",
      " -0.68664853  0.08201326 -0.87365887  0.89045915 -0.98561438 -0.53287718\n",
      "  0.54921958 -0.2547066   0.78548621  0.06446227 -0.69933545  0.6853137\n",
      " -0.43713981 -0.96121945  0.95567898  0.89611264  0.92899445  0.70956489\n",
      "  0.58741009  0.99460029  0.30105959 -0.0031853 ]\n",
      "--------------------------------\n",
      "Array positivo da questão 06\n",
      "[0.84147098 0.91721221 0.31651305 0.92285893 0.84917078 0.7535118\n",
      " 0.99262    0.08201326 0.89045915 0.54921958 0.78548621 0.06446227\n",
      " 0.6853137  0.95567898 0.89611264 0.92899445 0.70956489 0.58741009\n",
      " 0.99460029 0.30105959]\n",
      "--------------------------------\n"
     ]
    }
   ],
   "source": [
    "# 8\n",
    "\n",
    "# E vamos de máscaras!!!\n",
    "\n",
    "arr_8 = np.sin(arr_6)\n",
    "\n",
    "print(\"Array do seno da questão 06\")\n",
    "print(arr_8)\n",
    "print('-'*32)\n",
    "\n",
    "mascara_positiva = arr_8[arr_8 > 0]\n",
    "\n",
    "print(\"Array positivo da questão 06\")\n",
    "print(mascara_positiva)\n",
    "print('-'*32)\n"
   ]
  },
  {
   "cell_type": "code",
   "execution_count": 10,
   "metadata": {},
   "outputs": [
    {
     "name": "stdout",
     "output_type": "stream",
     "text": [
      "Array da questão 06\n",
      "[1.         1.16102564 0.32205128 4.48307692 4.64410256 4.80512821\n",
      " 1.96615385 2.12717949 2.28820513 1.44923077 3.61025641 3.77128205\n",
      " 4.93230769 5.09333333 5.25435897 3.41538462 3.57641026 3.7374359\n",
      " 3.89846154 3.05948718 5.22051282 7.38153846 4.5425641  3.70358974\n",
      " 6.86461538 6.02564103 7.18666667 6.34769231 5.50871795 8.66974359\n",
      " 5.83076923 4.99179487 8.15282051 8.31384615 7.47487179 8.63589744\n",
      " 8.79692308 7.95794872 9.11897436 6.28      ]\n",
      "--------------------------------\n",
      "Valor mínimo <min>:  0.3220512820512821\n",
      "Valor máximo <max>:  9.11897435897436\n",
      "Posição valor mínimo <argmax>:  2\n",
      "Posição valor máximo <argmax>:  38\n",
      "Soma dos dados <sum>:  201.60000000000002\n",
      "Mediana dos dados <median>:  4.9620512820512825\n",
      "--------------------------------\n",
      "Moda dos dados (como cada um repete somente uma vez, a moda de todo mundo (1) é o próprio array) <>:  [[0.3220512820512821], [1.0], [1.161025641025641], [1.4492307692307693], [1.9661538461538464], [2.1271794871794873], [2.2882051282051283], [3.0594871794871796], [3.4153846153846157], [3.5764102564102567], [3.6102564102564103], [3.703589743589744], [3.7374358974358977], [3.7712820512820517], [3.8984615384615386], [4.483076923076923], [4.5425641025641035], [4.644102564102564], [4.805128205128205], [4.932307692307693], [4.991794871794872], [5.093333333333334], [5.220512820512821], [5.254358974358975], [5.508717948717949], [5.830769230769231], [6.025641025641026], [6.28], [6.347692307692308], [6.8646153846153855], [7.186666666666667], [7.381538461538462], [7.474871794871795], [7.957948717948718], [8.152820512820513], [8.313846153846153], [8.635897435897437], [8.66974358974359], [8.796923076923077], [9.11897435897436]]\n",
      "--------------------------------\n",
      "Variância dos dados <var>:  5.50568888888889\n",
      "Desvio padrão dos dados <std>:  5.50568888888889\n",
      "Array ordenado <sort>\n",
      "--------------------------------\n",
      "[0.32205128 1.         1.16102564 1.44923077 1.96615385 2.12717949\n",
      " 2.28820513 3.05948718 3.41538462 3.57641026 3.61025641 3.70358974\n",
      " 3.7374359  3.77128205 3.89846154 4.48307692 4.5425641  4.64410256\n",
      " 4.80512821 4.93230769 4.99179487 5.09333333 5.22051282 5.25435897\n",
      " 5.50871795 5.83076923 6.02564103 6.28       6.34769231 6.86461538\n",
      " 7.18666667 7.38153846 7.47487179 7.95794872 8.15282051 8.31384615\n",
      " 8.63589744 8.66974359 8.79692308 9.11897436]\n"
     ]
    }
   ],
   "source": [
    "# 9 \n",
    "print(\"Array da questão 06\")\n",
    "print(arr_6)\n",
    "print('-'*32)\n",
    "\n",
    "# Encontrando a mediana!\n",
    "\n",
    "# Encontrando valores únicos no array\n",
    "valores, contador = np.unique(arr_6, return_counts = True)\n",
    "\n",
    "# Encontrando a moda\n",
    "\n",
    "moda = np.argwhere(contador == np.max(contador))\n",
    "\n",
    "# Fonte: https://www.statology.org/numpy-mode/\n",
    "# Como todos os valores são únicos, todos eles possuem contador = 1\n",
    "\n",
    "# Valor máximo!\n",
    "print(\"Valor mínimo <min>: \", np.min(arr_6))\n",
    "print(\"Valor máximo <max>: \", np.max(arr_6))\n",
    "print(\"Posição valor mínimo <argmax>: \", np.argmin(arr_6))\n",
    "print(\"Posição valor máximo <argmax>: \", np.argmax(arr_6))\n",
    "print(\"Soma dos dados <sum>: \", np.sum(arr_6))\n",
    "print(\"Mediana dos dados <median>: \", np.median(arr_6))\n",
    "print('-'*32)\n",
    "print(\"Moda dos dados (como cada um repete somente uma vez, a moda de todo mundo (1) é o próprio array) <>: \", valores[moda].tolist())\n",
    "print('-'*32)\n",
    "print(\"Variância dos dados <var>: \", np.var(arr_6))\n",
    "print(\"Desvio padrão dos dados <std>: \", np.var(arr_6))\n",
    "print(\"Array ordenado <sort>\")\n",
    "print('-'*32)\n",
    "print(np.sort(arr_6))"
   ]
  },
  {
   "cell_type": "code",
   "execution_count": 11,
   "metadata": {},
   "outputs": [
    {
     "name": "stdout",
     "output_type": "stream",
     "text": [
      "Matriz 5x5\n",
      "[[65 96 60 52 99]\n",
      " [74 99 58 50 62]\n",
      " [70 65 76 86 86]\n",
      " [79 77 85 69 63]\n",
      " [57 90 71 62 67]]\n"
     ]
    }
   ],
   "source": [
    "# 10 - Matrizes!!\n",
    "# Criando Array\n",
    "arr_10 = np.random.randint(50, 100, 25)\n",
    "\n",
    "# Arrumando o Array em uma matriz 5x5\n",
    "mat_10 = arr_10.reshape(5, 5)\n",
    "\n",
    "print(\"Matriz 5x5\")\n",
    "print(mat_10)\n"
   ]
  },
  {
   "cell_type": "code",
   "execution_count": 30,
   "metadata": {},
   "outputs": [
    {
     "name": "stdout",
     "output_type": "stream",
     "text": [
      "Matriz 6x6\n",
      "[[ 0  1  2  3  4  5]\n",
      " [10 11 12 13 14 15]\n",
      " [20 21 22 23 24 25]\n",
      " [30 31 32 33 34 35]\n",
      " [40 41 42 43 44 45]\n",
      " [50 51 52 53 54 55]]\n",
      "--------------------------------\n",
      "Slice vermelho:  [3 4]\n",
      "Slice Azul:  [ 2 12 22 32 42 52]\n",
      "Slice Roxo:  [[20 22 24]\n",
      " [40 42 44]]\n",
      "Slice Verde:  [[44 45]\n",
      " [54 55]]\n"
     ]
    }
   ],
   "source": [
    "# Slicing!\n",
    "\n",
    "mat_11 = np.array([0, 1, 2, 3, 4, 5, 10, 11, 12, 13, 14, 15, 20, 21, 22, 23, 24, 25, 30, 31, 32, 33, 34, 35, 40, 41, 42, 43, 44, 45, 50, 51, 52, 53, 54, 55])\n",
    "# Tentei imaginar como fazer sem escrever todos os elementos, mas o passo me bugou eauhueah\n",
    "# Dando Reshape no array\n",
    "mat_11 = mat_11.reshape(6, 6)\n",
    "\n",
    "print(\"Matriz 6x6\")\n",
    "print(mat_11)\n",
    "print('-'*32)\n",
    "\n",
    "# Lembrando que o final do slice é exclusivo, logo é sempre n+1\n",
    "print(\"Slice vermelho: \", mat_11[0, 3:5])\n",
    "print(\"Slice Azul: \", mat_11[0:6, 2])\n",
    "print(\"Slice Roxo: \", mat_11[2:6:2, 0:6:2])\n",
    "print(\"Slice Verde: \", mat_11[4:6, 4:6])"
   ]
  },
  {
   "cell_type": "code",
   "execution_count": 32,
   "metadata": {},
   "outputs": [
    {
     "name": "stdout",
     "output_type": "stream",
     "text": [
      "Collecting scikit-image\n",
      "  Downloading scikit_image-0.19.3-cp310-cp310-win_amd64.whl (12.0 MB)\n",
      "     --------------------------------------- 12.0/12.0 MB 16.8 MB/s eta 0:00:00\n",
      "Collecting imageio>=2.4.1\n",
      "  Downloading imageio-2.22.4-py3-none-any.whl (3.4 MB)\n",
      "     ---------------------------------------- 3.4/3.4 MB 30.5 MB/s eta 0:00:00\n",
      "Collecting PyWavelets>=1.1.1\n",
      "  Downloading PyWavelets-1.4.1-cp310-cp310-win_amd64.whl (4.2 MB)\n",
      "     ---------------------------------------- 4.2/4.2 MB 26.6 MB/s eta 0:00:00\n",
      "Requirement already satisfied: scipy>=1.4.1 in c:\\users\\viatec\\appdata\\local\\programs\\python\\python310\\lib\\site-packages (from scikit-image) (1.9.3)\n",
      "Collecting networkx>=2.2\n",
      "  Downloading networkx-2.8.8-py3-none-any.whl (2.0 MB)\n",
      "     ---------------------------------------- 2.0/2.0 MB 32.5 MB/s eta 0:00:00\n",
      "Collecting tifffile>=2019.7.26\n",
      "  Downloading tifffile-2022.10.10-py3-none-any.whl (210 kB)\n",
      "     ---------------------------------------- 210.3/210.3 KB ? eta 0:00:00\n",
      "Requirement already satisfied: packaging>=20.0 in c:\\users\\viatec\\appdata\\local\\programs\\python\\python310\\lib\\site-packages (from scikit-image) (21.3)\n",
      "Requirement already satisfied: numpy>=1.17.0 in c:\\users\\viatec\\appdata\\local\\programs\\python\\python310\\lib\\site-packages (from scikit-image) (1.23.4)\n",
      "Requirement already satisfied: pillow!=7.1.0,!=7.1.1,!=8.3.0,>=6.1.0 in c:\\users\\viatec\\appdata\\local\\programs\\python\\python310\\lib\\site-packages (from scikit-image) (9.2.0)\n",
      "Requirement already satisfied: pyparsing!=3.0.5,>=2.0.2 in c:\\users\\viatec\\appdata\\local\\programs\\python\\python310\\lib\\site-packages (from packaging>=20.0->scikit-image) (3.0.9)\n",
      "Installing collected packages: tifffile, PyWavelets, networkx, imageio, scikit-image\n",
      "Successfully installed PyWavelets-1.4.1 imageio-2.22.4 networkx-2.8.8 scikit-image-0.19.3 tifffile-2022.10.10\n"
     ]
    },
    {
     "name": "stderr",
     "output_type": "stream",
     "text": [
      "WARNING: You are using pip version 22.0.4; however, version 22.3.1 is available.\n",
      "You should consider upgrading via the 'C:\\Users\\Viatec\\AppData\\Local\\Programs\\Python\\Python310\\python.exe -m pip install --upgrade pip' command.\n"
     ]
    }
   ],
   "source": [
    "!pip install scikit-image"
   ]
  },
  {
   "cell_type": "code",
   "execution_count": 33,
   "metadata": {},
   "outputs": [
    {
     "name": "stdout",
     "output_type": "stream",
     "text": [
      "Requirement already satisfied: matplotlib in c:\\users\\viatec\\appdata\\local\\programs\\python\\python310\\lib\\site-packages (3.6.2)\n",
      "Requirement already satisfied: fonttools>=4.22.0 in c:\\users\\viatec\\appdata\\local\\programs\\python\\python310\\lib\\site-packages (from matplotlib) (4.38.0)\n",
      "Requirement already satisfied: packaging>=20.0 in c:\\users\\viatec\\appdata\\local\\programs\\python\\python310\\lib\\site-packages (from matplotlib) (21.3)\n",
      "Requirement already satisfied: pillow>=6.2.0 in c:\\users\\viatec\\appdata\\local\\programs\\python\\python310\\lib\\site-packages (from matplotlib) (9.2.0)\n",
      "Requirement already satisfied: contourpy>=1.0.1 in c:\\users\\viatec\\appdata\\local\\programs\\python\\python310\\lib\\site-packages (from matplotlib) (1.0.6)\n",
      "Requirement already satisfied: numpy>=1.19 in c:\\users\\viatec\\appdata\\local\\programs\\python\\python310\\lib\\site-packages (from matplotlib) (1.23.4)\n",
      "Requirement already satisfied: pyparsing>=2.2.1 in c:\\users\\viatec\\appdata\\local\\programs\\python\\python310\\lib\\site-packages (from matplotlib) (3.0.9)\n",
      "Requirement already satisfied: kiwisolver>=1.0.1 in c:\\users\\viatec\\appdata\\local\\programs\\python\\python310\\lib\\site-packages (from matplotlib) (1.4.4)\n",
      "Requirement already satisfied: python-dateutil>=2.7 in c:\\users\\viatec\\appdata\\local\\programs\\python\\python310\\lib\\site-packages (from matplotlib) (2.8.2)\n",
      "Requirement already satisfied: cycler>=0.10 in c:\\users\\viatec\\appdata\\local\\programs\\python\\python310\\lib\\site-packages (from matplotlib) (0.11.0)\n",
      "Requirement already satisfied: six>=1.5 in c:\\users\\viatec\\appdata\\local\\programs\\python\\python310\\lib\\site-packages (from python-dateutil>=2.7->matplotlib) (1.16.0)\n"
     ]
    },
    {
     "name": "stderr",
     "output_type": "stream",
     "text": [
      "WARNING: You are using pip version 22.0.4; however, version 22.3.1 is available.\n",
      "You should consider upgrading via the 'C:\\Users\\Viatec\\AppData\\Local\\Programs\\Python\\Python310\\python.exe -m pip install --upgrade pip' command.\n"
     ]
    }
   ],
   "source": [
    "!pip install matplotlib"
   ]
  },
  {
   "cell_type": "code",
   "execution_count": 47,
   "metadata": {},
   "outputs": [
    {
     "name": "stdout",
     "output_type": "stream",
     "text": [
      "<class 'numpy.ndarray'>\n",
      "(576, 1280, 4)\n",
      "(288, 640, 4)\n"
     ]
    },
    {
     "data": {
      "text/plain": [
       "<matplotlib.image.AxesImage at 0x2a8962408b0>"
      ]
     },
     "execution_count": 47,
     "metadata": {},
     "output_type": "execute_result"
    },
    {
     "data": {
      "image/png": "[encoded data removed]",
      "text/plain": [
       "<Figure size 432x288 with 1 Axes>"
      ]
     },
     "metadata": {
      "needs_background": "light"
     },
     "output_type": "display_data"
    }
   ],
   "source": [
    "# Desafio!\n",
    "\n",
    "from skimage import io\n",
    "import numpy as np\n",
    "import matplotlib.pyplot as plt\n",
    "\n",
    "img = io.imread('./numpy-logo.jpg') # Carregamento da imagem\n",
    "\n",
    "print(type(img))\n",
    "\n",
    "# Vamo tentar por slicing primeiro\n",
    "\n",
    "print(img.shape)\n",
    "# Partindo do príncipio de Slicing, encontramos o shape da imagem utilizada de (576, 1280, 4)\n",
    "\n",
    "# Decidi atribuir à uma nova imagem, metade dos arrays horizontal e vertical (576 e 1280)\n",
    "\n",
    "img_cortada = img[0:288, 0:640, :]\n",
    "\n",
    "# Exibi o shape da imagem cortada pra saber se tinha dado certo\n",
    "\n",
    "print(img_cortada.shape)\n",
    "\n",
    "# Por fim exibi a imagem cortada tanto na horizontal quanto na vertical!\n",
    "\n",
    "plt.imshow(img_cortada) # Exibição da imagem"
   ]
  },
  {
   "cell_type": "code",
   "execution_count": null,
   "metadata": {},
   "outputs": [],
   "source": []
  }
 ],
 "metadata": {
  "kernelspec": {
   "display_name": "Python 3.10.5 64-bit",
   "language": "python",
   "name": "python3"
  },
  "language_info": {
   "codemirror_mode": {
    "name": "ipython",
    "version": 3
   },
   "file_extension": ".py",
   "mimetype": "text/x-python",
   "name": "python",
   "nbconvert_exporter": "python",
   "pygments_lexer": "ipython3",
   "version": "3.10.5"
  },
  "orig_nbformat": 4,
  "vscode": {
   "interpreter": {
    "hash": "8e76ed3c32135994001530bed0f811497db14313295d850ff0a56919f27a1e47"
   }
  }
 },
 "nbformat": 4,
 "nbformat_minor": 2
}
