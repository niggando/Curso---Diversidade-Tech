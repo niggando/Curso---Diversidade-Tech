{
 "cells": [
  {
   "cell_type": "code",
   "execution_count": 5,
   "metadata": {},
   "outputs": [
    {
     "name": "stdout",
     "output_type": "stream",
     "text": [
      "Utilizando For:\n",
      "1\n",
      "2\n",
      "3\n",
      "4\n",
      "5\n",
      "6\n",
      "7\n",
      "8\n",
      "9\n",
      "10\n",
      "11\n",
      "12\n",
      "--------------------------------\n",
      "Utilizando Numpy <nditer>:\n",
      "1\n",
      "2\n",
      "3\n",
      "4\n",
      "5\n",
      "6\n",
      "7\n",
      "8\n",
      "9\n",
      "10\n",
      "11\n",
      "12\n",
      "--------------------------------\n"
     ]
    }
   ],
   "source": [
    "# 1 -\n",
    "import numpy as np\n",
    "\n",
    "arr = np.array([[[1, 2, 3], [4, 5, 6]], [[7, 8, 9], [10, 11, 12]]])\n",
    "\n",
    "print(\"Utilizando For:\")\n",
    "for x in arr:\n",
    "    for y in x:\n",
    "        for z in y:\n",
    "            print(z)\n",
    "            \n",
    "print('-'*32)\n",
    "print(\"Utilizando Numpy <nditer>:\")\n",
    "for i in np.nditer(arr):\n",
    "    print(i)\n",
    "    \n",
    "print('-'*32)\n",
    "\n",
    "# Em questão de velocidade de execução, ambas desempenham de igual forma, porém a função própria do Numpy é muito superior o no quesito de legibilidade por fazer a mesma coisa que o for de 3 dimensões em apenas um for.\n",
    "\n"
   ]
  },
  {
   "cell_type": "code",
   "execution_count": 71,
   "metadata": {},
   "outputs": [
    {
     "name": "stdout",
     "output_type": "stream",
     "text": [
      "['uva' 'maçã' 'banana']\n",
      "Array Modificado <np.delete>:  ['maçã' 'banana']\n"
     ]
    }
   ],
   "source": [
    "# 2\n",
    "\n",
    "# Array usado pra não ficar tendo que digitar toda hora euahuea\n",
    "# comidas_favoritas = [\"maçã\", \"uva\", \"morango\", \"melancia\", \"acelga\"]\n",
    "\n",
    "comidas_favoritas = []\n",
    "vogais = ['a', 'e', 'i', 'o', 'u']\n",
    "\n",
    "count = int(input(\"Digite o número de comidas favoritas:\"))\n",
    "\n",
    "for i in range(count):\n",
    "    comidas_favoritas.append(input(f\"Digite {i+1}º sua comida favorita:\"))\n",
    "\n",
    "arr_comidas = np.array(comidas_favoritas)\n",
    "\n",
    "print(\"Array Original: \", arr_comidas)\n",
    "\n",
    "index = 0\n",
    "indexes = []\n",
    "# Decidi percorrer o array coletando os indexes de onde encontrei palavras iniciadas em vogais. Sei que provavelmente daria pra fazer isso em uma linha usando comprehension, mas tô pegando o jeito.\n",
    "for x in arr_comidas:\n",
    "    if x[0] in vogais:\n",
    "        indexes.append(index)\n",
    "    index += 1\n",
    "# Ao fim passo as modificações para um array criado, removendo os indexes que encontrei ao percorrer o original\n",
    "arr_modificado = np.delete(arr_comidas, indexes)\n",
    "print(\"Array Modificado <np.delete>: \", arr_modificado)\n",
    "\n",
    "# A idéia veio dps de mta pesquisa e veio daqui: https://www.delftstack.com/pt/howto/numpy/numpy-remove-element-from-array/"
   ]
  },
  {
   "cell_type": "code",
   "execution_count": 82,
   "metadata": {},
   "outputs": [
    {
     "name": "stdout",
     "output_type": "stream",
     "text": [
      "Dimensão <a> ()\n",
      "O array <a> contém apenas um elemento.\n",
      "Dimensão <b> (5,)\n",
      "Dimensão <c> (2, 3)\n",
      "Dimensão <d> (2, 2, 3)\n"
     ]
    }
   ],
   "source": [
    "# 3 - Shape!\n",
    "\n",
    "a = np.array(2)\n",
    "b = np.array([1, 2, 3, 4, 5])\n",
    "c = np.array([[1, 2, 3], [4, 5, 6]])\n",
    "d = np.array([[[1, 2, 3], [4, 5, 6]], [[7, 8, 9], [10, 11, 12]]])\n",
    "\n",
    "print(\"Dimensão <a>\", np.shape(a))\n",
    "print(\"O array <a> contém apenas um elemento.\")\n",
    "print(\"Dimensão <b>\", np.shape(b))\n",
    "print(\"Dimensão <c>\", np.shape(c))\n",
    "print(\"Dimensão <d>\", np.shape(d))"
   ]
  },
  {
   "cell_type": "code",
   "execution_count": 89,
   "metadata": {},
   "outputs": [
    {
     "name": "stdout",
     "output_type": "stream",
     "text": [
      "4x3 <reshape>: \n",
      "[['1' '2' '3']\n",
      " ['4' 'Amelia' 'Bruna']\n",
      " ['Carolina' 'Débora' 'True']\n",
      " ['False' 'False' 'True']]\n",
      "--------------------------------\n",
      "3x4 <reshape>: \n",
      "[['1' '2' '3' '4']\n",
      " ['Amelia' 'Bruna' 'Carolina' 'Débora']\n",
      " ['True' 'False' 'False' 'True']]\n",
      "--------------------------------\n"
     ]
    }
   ],
   "source": [
    "# 4 - Reshape!!!\n",
    "\n",
    "arr = [1, 2, 3, 4, 'Amelia', 'Bruna', 'Carolina', 'Débora', True, False, False, True]\n",
    "\n",
    "array_4 = np.array(arr)\n",
    "\n",
    "array_4 = array_4.reshape(4, 3)\n",
    "\n",
    "print(\"4x3 <reshape>: \")\n",
    "print(array_4)\n",
    "print('-'*32)\n",
    "\n",
    "array_4 = array_4.reshape(3, 4)\n",
    "\n",
    "print(\"3x4 <reshape>: \")\n",
    "print(array_4)\n",
    "print('-'*32)"
   ]
  },
  {
   "cell_type": "code",
   "execution_count": 94,
   "metadata": {},
   "outputs": [
    {
     "name": "stdout",
     "output_type": "stream",
     "text": [
      "3x3x3 <reshape>: \n",
      "[[[ 0  1  2]\n",
      "  [ 3  4  5]\n",
      "  [ 6  7  8]]\n",
      "\n",
      " [[ 9 10 11]\n",
      "  [12 13 14]\n",
      "  [15 16 17]]\n",
      "\n",
      " [[18 19 20]\n",
      "  [21 22 23]\n",
      "  [24 25 26]]]\n",
      "--------------------------------\n"
     ]
    }
   ],
   "source": [
    "# 5\n",
    "arr = range(27)\n",
    "\n",
    "arr_5 = np.array(arr)\n",
    "\n",
    "arr_5 = arr_5.reshape(3, 3, 3)\n",
    "\n",
    "print(\"3x3x3 <reshape>: \")\n",
    "print(arr_5)\n",
    "print('-'*32)\n",
    "\n",
    "# Uma matriz de 3D é semelhante à uma matriz 3x3, porém com uma camada a mais, tornando-se um \"cubo\". A partir desta terceira camada é um pouco difícil pra nós entendermos, porém poderia ser interpretada como a \"profundidade\" de um cubo.\n"
   ]
  },
  {
   "cell_type": "code",
   "execution_count": 95,
   "metadata": {},
   "outputs": [
    {
     "ename": "ValueError",
     "evalue": "cannot reshape array of size 8 into shape (3,3,3)",
     "output_type": "error",
     "traceback": [
      "\u001b[1;31m---------------------------------------------------------------------------\u001b[0m",
      "\u001b[1;31mValueError\u001b[0m                                Traceback (most recent call last)",
      "\u001b[1;32mc:\\Users\\Viatec\\Documents\\Estudos\\Diversidade Tech\\3. DiversidadeTech\\Modulo 3 - Técnicas de Programação\\Exercícios\\numpy_III.ipynb Célula: 6\u001b[0m in \u001b[0;36m<cell line: 5>\u001b[1;34m()\u001b[0m\n\u001b[0;32m      <a href='vscode-notebook-cell:/c%3A/Users/Viatec/Documents/Estudos/Diversidade%20Tech/3.%20DiversidadeTech/Modulo%203%20-%20T%C3%A9cnicas%20de%20Programa%C3%A7%C3%A3o/Exerc%C3%ADcios/numpy_III.ipynb#X10sZmlsZQ%3D%3D?line=0'>1</a>\u001b[0m \u001b[39m# 6 -\u001b[39;00m\n\u001b[0;32m      <a href='vscode-notebook-cell:/c%3A/Users/Viatec/Documents/Estudos/Diversidade%20Tech/3.%20DiversidadeTech/Modulo%203%20-%20T%C3%A9cnicas%20de%20Programa%C3%A7%C3%A3o/Exerc%C3%ADcios/numpy_III.ipynb#X10sZmlsZQ%3D%3D?line=2'>3</a>\u001b[0m arr \u001b[39m=\u001b[39m [\u001b[39m1\u001b[39m, \u001b[39m2\u001b[39m, \u001b[39m3\u001b[39m, \u001b[39m4\u001b[39m, \u001b[39m5\u001b[39m, \u001b[39m6\u001b[39m, \u001b[39m7\u001b[39m, \u001b[39m8\u001b[39m]\n\u001b[1;32m----> <a href='vscode-notebook-cell:/c%3A/Users/Viatec/Documents/Estudos/Diversidade%20Tech/3.%20DiversidadeTech/Modulo%203%20-%20T%C3%A9cnicas%20de%20Programa%C3%A7%C3%A3o/Exerc%C3%ADcios/numpy_III.ipynb#X10sZmlsZQ%3D%3D?line=4'>5</a>\u001b[0m arr_6 \u001b[39m=\u001b[39m np\u001b[39m.\u001b[39;49marray(arr)\u001b[39m.\u001b[39;49mreshape(\u001b[39m3\u001b[39;49m, \u001b[39m3\u001b[39;49m, \u001b[39m3\u001b[39;49m)\n",
      "\u001b[1;31mValueError\u001b[0m: cannot reshape array of size 8 into shape (3,3,3)"
     ]
    }
   ],
   "source": [
    "# 6 -\n",
    "\n",
    "arr = [1, 2, 3, 4, 5, 6, 7, 8]\n",
    "\n",
    "arr_6 = np.array(arr).reshape(3, 3, 3)\n",
    "\n",
    "# Não funciona, basicamente pois não há elementos suficientes para preencher toda matriz. Nosso array possui apenas 8 elementos enquanto a matriz solicita o produto de todas as suas \"arestas\". Sendo assim, seriam necessários (no mínimo) 3x3x3 = 27 elementos.\n"
   ]
  },
  {
   "cell_type": "code",
   "execution_count": 97,
   "metadata": {},
   "outputs": [
    {
     "name": "stdout",
     "output_type": "stream",
     "text": [
      "Utilizando Numpy <nditer>:\n",
      "1\n",
      "2\n",
      "3\n",
      "4\n",
      "5\n",
      "6\n",
      "7\n",
      "8\n",
      "--------------------------------\n",
      "Utilizando Numpy <nditer>:\n",
      "1\n",
      "2\n",
      "3\n",
      "4\n",
      "5\n",
      "6\n",
      "7\n",
      "8\n"
     ]
    }
   ],
   "source": [
    "# 7 - \n",
    "\n",
    "arr = [[[1, 2], [3, 4]], [[5, 6], [7, 8]]]\n",
    "\n",
    "arr_7 = np.array(arr)\n",
    "\n",
    "print(\"Utilizando for encaixado:\")\n",
    "for x in arr_7:\n",
    "    for y in x:\n",
    "        for z in y:\n",
    "            print(z)\n",
    "print('-'*32)\n",
    "\n",
    "print(\"Utilizando Numpy <nditer>:\")\n",
    "for i in np.nditer(arr_7):\n",
    "    print(i)\n"
   ]
  },
  {
   "cell_type": "code",
   "execution_count": 122,
   "metadata": {},
   "outputs": [
    {
     "name": "stdout",
     "output_type": "stream",
     "text": [
      "Utilizando for encaixado:\n",
      "(0, 0, 0) = 1\n",
      "(0, 0, 1) = 2\n",
      "(0, 1, 0) = 3\n",
      "(0, 1, 1) = 4\n",
      "(1, 0, 0) = 5\n",
      "(1, 0, 1) = 6\n",
      "(1, 1, 0) = 7\n",
      "(1, 1, 1) = 8\n",
      "--------------------------------\n",
      "Utilizando Numpy <ndenumerate>:\n",
      "(0, 0, 0) 1\n",
      "(0, 0, 1) 2\n",
      "(0, 1, 0) 3\n",
      "(0, 1, 1) 4\n",
      "(1, 0, 0) 5\n",
      "(1, 0, 1) 6\n",
      "(1, 1, 0) 7\n",
      "(1, 1, 1) 8\n",
      "--------------------------------\n"
     ]
    }
   ],
   "source": [
    "# 8 - \n",
    "arr = [[[1, 2], [3, 4]], [[5, 6], [7, 8]]]\n",
    "\n",
    "arr_8 = np.array(arr)\n",
    "contx = 0\n",
    "conty = 0\n",
    "contz = 0\n",
    "\n",
    "\n",
    "print(\"Utilizando for encaixado:\")\n",
    "for x in arr_7:\n",
    "    for y in x:\n",
    "        for z in y:\n",
    "            print(f\"({contx}, {conty}, {contz}) = {z}\")\n",
    "            contz += 1\n",
    "        conty += 1\n",
    "        contz = 0 # resetando o indice\n",
    "    contx += 1\n",
    "    conty = 0 # resetando o indice\n",
    "    contz = 0 # resetando o indice\n",
    "print('-'*32)\n",
    "    \n",
    "print(\"Utilizando Numpy <ndenumerate>:\")\n",
    "for index, j in np.ndenumerate(arr_8):\n",
    "    print(index, j)\n",
    "print('-'*32)\n",
    "        \n",
    "            \n",
    "            \n",
    "\n"
   ]
  },
  {
   "cell_type": "code",
   "execution_count": 114,
   "metadata": {},
   "outputs": [
    {
     "name": "stdout",
     "output_type": "stream",
     "text": [
      "[1 2 3 4 5 6]\n",
      "[[1 2 3]\n",
      " [4 5 6]]\n"
     ]
    }
   ],
   "source": [
    "# 9 -\n",
    "\n",
    "arr_1 = np.array([1, 2, 3])\n",
    "arr_2 = np.array([4, 5, 6])\n",
    "\n",
    "\n",
    "arr_horizontal =  np.hstack((arr_1, arr_2))\n",
    "print(\"Array resultante horizontal <hstack>: \")\n",
    "print(arr_horizontal)\n",
    "print('-'*21)\n",
    "\n",
    "\n",
    "arr_vertical = np.vstack((arr_1, arr_2))\n",
    "print(\"Array resultante vertical <vstack>: \")\n",
    "print(arr_vertical)\n",
    "print('-'*21)"
   ]
  },
  {
   "cell_type": "code",
   "execution_count": 123,
   "metadata": {},
   "outputs": [
    {
     "name": "stdout",
     "output_type": "stream",
     "text": [
      "A palavra uva no index (2,) possui apenas duas vogais.\n",
      "A palavra kiwi no index (8,) possui apenas duas vogais.\n"
     ]
    }
   ],
   "source": [
    "# 10 - \n",
    "\n",
    "frutas = ['banana', 'morango', 'uva', 'pitaia', 'abacate', 'abacaxi', 'acerola', 'jenipapo', 'kiwi']\n",
    "\n",
    "vogais = ['a', 'e', 'i', 'o', 'u']\n",
    "\n",
    "arr_frutas = np.array(frutas)\n",
    "count = 0\n",
    "\n",
    "for index, x in np.ndenumerate(arr_frutas):\n",
    "    for y in x:\n",
    "        if y in vogais:\n",
    "            count += 1\n",
    "    if count == 2:\n",
    "        print(f\"A palavra {x} no index {index} possui apenas duas vogais.\")\n",
    "    count = 0"
   ]
  },
  {
   "cell_type": "code",
   "execution_count": 133,
   "metadata": {},
   "outputs": [
    {
     "name": "stdout",
     "output_type": "stream",
     "text": [
      "Array Original\n",
      "[[1 2]\n",
      " [3 4]\n",
      " [5 6]\n",
      " [7 8]]\n",
      "--------------------------------\n",
      "Divisão de array <split>: \n",
      "[[1 2]\n",
      " [3 4]]\n",
      "(2, 2)\n",
      "--------------------------------\n",
      "Divisão de array <split>: \n",
      "[[5 6]\n",
      " [7 8]]\n",
      "(2, 2)\n",
      "--------------------------------\n",
      "Array Original\n",
      "[[1 2 3]\n",
      " [4 5 6]\n",
      " [7 8 9]]\n",
      "--------------------------------\n",
      "Divisão de array - coluna 1 <split>: \n",
      "[[1]\n",
      " [4]\n",
      " [7]]\n",
      "(3, 1)\n",
      "--------------------------------\n",
      "Divisão de array - coluna 2 <split>: \n",
      "[[2]\n",
      " [5]\n",
      " [8]]\n",
      "(3, 1)\n",
      "--------------------------------\n",
      "Divisão de array - coluna 3 <split>: \n",
      "[[3]\n",
      " [6]\n",
      " [9]]\n",
      "(3, 1)\n",
      "--------------------------------\n"
     ]
    }
   ],
   "source": [
    "# 11 -\n",
    "\n",
    "arr = [[1, 2], [3, 4], [5, 6], [7, 8]]\n",
    "\n",
    "arr_11 = np.array(arr)\n",
    "\n",
    "print(\"Array Original\")\n",
    "print(arr_11)\n",
    "print('-'*32)\n",
    "\n",
    "arr_dividido = np.split(arr_11, 2)\n",
    "\n",
    "print(\"Divisão de array <split>: \")\n",
    "print(arr_dividido[0])\n",
    "print(np.shape(arr_dividido[0]))\n",
    "print('-'*32)\n",
    "\n",
    "print(\"Divisão de array <split>: \")\n",
    "print(arr_dividido[1])\n",
    "print(np.shape(arr_dividido[1]))\n",
    "print('-'*32)\n",
    "\n",
    "arr = [[1, 2, 3], [4, 5, 6], [7, 8, 9]]\n",
    "arr_11 = np.array(arr)\n",
    "\n",
    "print(\"Array Original\")\n",
    "print(arr_11)\n",
    "print('-'*32)\n",
    "\n",
    "arr_dividido = np.split(arr_11, 3, axis = 1)\n",
    "\n",
    "print(\"Divisão de array - coluna 1 <split>: \")\n",
    "print(arr_dividido[0])\n",
    "print(np.shape(arr_dividido[0]))\n",
    "print('-'*32)\n",
    "\n",
    "print(\"Divisão de array - coluna 2 <split>: \")\n",
    "print(arr_dividido[1])\n",
    "print(np.shape(arr_dividido[1]))\n",
    "print('-'*32)\n",
    "\n",
    "print(\"Divisão de array - coluna 3 <split>: \")\n",
    "print(arr_dividido[2])\n",
    "print(np.shape(arr_dividido[2]))\n",
    "print('-'*32)\n"
   ]
  },
  {
   "cell_type": "code",
   "execution_count": 156,
   "metadata": {},
   "outputs": [
    {
     "name": "stdout",
     "output_type": "stream",
     "text": [
      "['Amélia' '13' 'F' 'peixes' '1.51' '9' '7' 'True' 'Bruno' '14' 'O' 'leão'\n",
      " '1.6' '4' '10' 'False' 'João' '14' 'M' 'escorpião' '1.58' '8' '9' 'True'\n",
      " 'Jordana' '13' 'F' 'escorpião' '1.72' '9' '9' 'False']\n"
     ]
    }
   ],
   "source": [
    "arr = ['Amélia', 13, 'F', 'peixes', 1.51, 9, 7, True, 'Bruno', 14, 'O', 'leão', 1.60, 4, 10, False, 'João', 14, 'M', 'escorpião', 1.58, 8, 9, True, 'Jordana', 13, 'F', 'escorpião', 1.72, 9, 9, False]\n",
    "\n",
    "arr_12 = np.array(arr)\n",
    "print(arr_12)\n"
   ]
  },
  {
   "cell_type": "code",
   "execution_count": 183,
   "metadata": {},
   "outputs": [
    {
     "name": "stdout",
     "output_type": "stream",
     "text": [
      "Indexs de Strings no array\n",
      "(0,) Amélia\n",
      "(2,) F\n",
      "(3,) peixes\n",
      "(8,) Bruno\n",
      "(10,) O\n",
      "(11,) leão\n",
      "(16,) João\n",
      "(18,) M\n",
      "(19,) escorpião\n",
      "(24,) Jordana\n",
      "(26,) F\n",
      "(27,) escorpião\n",
      "--------------------------------\n",
      "Array do aluno: Amélia\n",
      "['Amélia' '13' 'F' 'peixes' '1.51' '9' '7' 'True']\n",
      "--------------------------------\n",
      "Array do aluno: Bruno\n",
      "['Bruno' '14' 'O' 'leão' '1.6' '4' '10' 'False']\n",
      "--------------------------------\n",
      "Array do aluno: João\n",
      "['João' '14' 'M' 'escorpião' '1.58' '8' '9' 'True']\n",
      "--------------------------------\n",
      "Array do aluno: Jordana\n",
      "['Jordana' '13' 'F' 'escorpião' '1.72' '9' '9' 'False']\n",
      "--------------------------------\n"
     ]
    }
   ],
   "source": [
    "# 12 - Desafio!\n",
    "\n",
    "arr = ['Amélia', 13, 'F', 'peixes', 1.51, 9, 7, True, 'Bruno', 14, 'O', 'leão', 1.60, 4, 10, False, 'João', 14, 'M', 'escorpião', 1.58, 8, 9, True, 'Jordana', 13, 'F', 'escorpião', 1.72, 9, 9, False]\n",
    "\n",
    "arr_12 = np.array(arr)\n",
    "\n",
    "# Imprimindo indexes com informações do tipo string\n",
    "print('Indexs de Strings no array')\n",
    "for index, x in np.ndenumerate(arr_12):\n",
    "    if not x[0].isnumeric():\n",
    "        if x != 'True' and x != 'False':\n",
    "            print(index, x)\n",
    "\n",
    "print('-'*32)\n",
    "# Separando as informações do objeto\n",
    "\n",
    "arr_dividido = np.split(arr_12, 4)\n",
    "\n",
    "arr_1 = arr_dividido[0]\n",
    "arr_2 = arr_dividido[1]\n",
    "arr_3 = arr_dividido[2]\n",
    "arr_4 = arr_dividido[3]\n",
    "\n",
    "\n",
    "print(f\"Array do aluno: {arr_1[0]}\")\n",
    "print(arr_1)\n",
    "print('-'*32)\n",
    "\n",
    "print(f\"Array do aluno: {arr_2[0]}\")\n",
    "print(arr_2)\n",
    "print('-'*32)\n",
    "\n",
    "print(f\"Array do aluno: {arr_3[0]}\")\n",
    "print(arr_3)\n",
    "print('-'*32)\n",
    "\n",
    "print(f\"Array do aluno: {arr_4[0]}\")\n",
    "print(arr_4)\n",
    "print('-'*32)\n",
    "\n",
    "  \n",
    "    "
   ]
  },
  {
   "cell_type": "code",
   "execution_count": 229,
   "metadata": {},
   "outputs": [
    {
     "name": "stdout",
     "output_type": "stream",
     "text": [
      "Matriz 4x2 do aluno: Amélia\n",
      "[['Amélia' '1.51']\n",
      " ['13' '9']\n",
      " ['F' '7']\n",
      " ['peixes' 'True']]\n",
      "--------------------------------\n",
      "Matriz 4x2 do aluno: Bruno\n",
      "[['Bruno' '1.6']\n",
      " ['14' '4']\n",
      " ['O' '10']\n",
      " ['leão' 'False']]\n",
      "--------------------------------\n",
      "Matriz 4x2 do aluno: João\n",
      "[['João' '1.58']\n",
      " ['14' '8']\n",
      " ['M' '9']\n",
      " ['escorpião' 'True']]\n",
      "--------------------------------\n",
      "Matriz 4x2 do aluno: Jordana\n",
      "[['Jordana' '1.72']\n",
      " ['13' '9']\n",
      " ['F' '9']\n",
      " ['escorpião' 'False']]\n",
      "--------------------------------\n"
     ]
    }
   ],
   "source": [
    "# Separar em duas colunas com nome, idade, genero e signo já a segunda, com altura, nota primeiro bimestre e nota segundo bimestre \n",
    "def retorna_Matriz(array):\n",
    "    matriz = np.split(array, 2)\n",
    "    x = matriz[0]\n",
    "    y = matriz[1]\n",
    "    matriz = np.column_stack((x,y)).reshape(4,2)\n",
    "    return matriz\n",
    "\n",
    "print(f\"Matriz 4x2 do aluno: {arr_1[0]}\")\n",
    "print(retorna_Matriz(arr_1))\n",
    "print('-'*32)\n",
    "\n",
    "print(f\"Matriz 4x2 do aluno: {arr_2[0]}\")\n",
    "print(retorna_Matriz(arr_2))\n",
    "print('-'*32)\n",
    "\n",
    "print(f\"Matriz 4x2 do aluno: {arr_3[0]}\")\n",
    "print(retorna_Matriz(arr_3))\n",
    "print('-'*32)\n",
    "\n",
    "print(f\"Matriz 4x2 do aluno: {arr_4[0]}\")\n",
    "print(retorna_Matriz(arr_4))\n",
    "print('-'*32)\n"
   ]
  },
  {
   "cell_type": "code",
   "execution_count": 265,
   "metadata": {},
   "outputs": [
    {
     "name": "stdout",
     "output_type": "stream",
     "text": [
      "Array do aluno: Amélia\n",
      "['Amélia' '1.51' '13' '9' '7' 'peixes' 'True']\n",
      "--------------------------------\n",
      "Array do aluno: Bruno\n",
      "['Bruno' '1.6' '14' '4' 'O' '10' 'leão' 'False']\n",
      "--------------------------------\n",
      "Array do aluno: João\n",
      "['João' '1.58' '14' '8' 'M' '9' 'escorpião' 'True']\n",
      "--------------------------------\n",
      "Array do aluno: Jordana\n",
      "['Jordana' '1.72' '13' '9' '9' 'escorpião' 'False']\n",
      "--------------------------------\n"
     ]
    }
   ],
   "source": [
    "# Eliminando gênero de alunos com idade inferior à 13 anos\n",
    "\n",
    "def verifica_Idade(matriz):\n",
    "    if int(matriz[1,0]) < 14:\n",
    "        array_mod = np.delete(matriz,[4]) # Aparentemente, transforma minha matriz em array\n",
    "        return array_mod\n",
    "    else:\n",
    "        return matriz.flatten()\n",
    "\n",
    "mtx_1 = retorna_Matriz(arr_1)\n",
    "mtx_2 = retorna_Matriz(arr_2)\n",
    "mtx_3 = retorna_Matriz(arr_3)\n",
    "mtx_4 = retorna_Matriz(arr_4)\n",
    "\n",
    "# teste = verifica_Idade(mtx_1)\n",
    "# print(teste)\n",
    "\n",
    "print(f\"Array do aluno: {arr_1[0]}\")\n",
    "print(verifica_Idade(mtx_1))\n",
    "print('-'*32)\n",
    "\n",
    "print(f\"Array do aluno: {arr_2[0]}\")\n",
    "print(verifica_Idade(mtx_2))\n",
    "print('-'*32)\n",
    "\n",
    "print(f\"Array do aluno: {arr_3[0]}\")\n",
    "print(verifica_Idade(mtx_3))\n",
    "print('-'*32)\n",
    "\n",
    "print(f\"Array do aluno: {arr_4[0]}\")\n",
    "print(verifica_Idade(mtx_4))\n",
    "print('-'*32)"
   ]
  },
  {
   "cell_type": "code",
   "execution_count": null,
   "metadata": {},
   "outputs": [],
   "source": []
  }
 ],
 "metadata": {
  "kernelspec": {
   "display_name": "Python 3.10.5 64-bit",
   "language": "python",
   "name": "python3"
  },
  "language_info": {
   "codemirror_mode": {
    "name": "ipython",
    "version": 3
   },
   "file_extension": ".py",
   "mimetype": "text/x-python",
   "name": "python",
   "nbconvert_exporter": "python",
   "pygments_lexer": "ipython3",
   "version": "3.10.5"
  },
  "orig_nbformat": 4,
  "vscode": {
   "interpreter": {
    "hash": "8e76ed3c32135994001530bed0f811497db14313295d850ff0a56919f27a1e47"
   }
  }
 },
 "nbformat": 4,
 "nbformat_minor": 2
}
