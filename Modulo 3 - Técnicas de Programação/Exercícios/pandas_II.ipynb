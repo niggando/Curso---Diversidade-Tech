{
  "cells": [
    {
      "cell_type": "markdown",
      "metadata": {
        "id": "2sGnM74UX_TA"
      },
      "source": [
        "Séries - Pandas"
      ]
    },
    {
      "cell_type": "code",
      "execution_count": 5,
      "metadata": {
        "id": "kvqmFtTRWfyI"
      },
      "outputs": [],
      "source": [
        "#3 - Calcular média e desvio padrão\n",
        "\n",
        "import pandas as pd"
      ]
    },
    {
      "cell_type": "code",
      "execution_count": 6,
      "metadata": {
        "id": "PQlgAzpAYSTE"
      },
      "outputs": [],
      "source": [
        "# Criando uma lista para preencher a série\n",
        "\n",
        "list_series = [1, 2, 3, 4, 5, 6, 7, 8, 9, 5, 3]\n",
        "\n",
        "series = pd.Series(list_series)"
      ]
    },
    {
      "cell_type": "code",
      "execution_count": 7,
      "metadata": {
        "colab": {
          "base_uri": "https://localhost:8080/"
        },
        "id": "QRmbAIPUYw9S",
        "outputId": "10fc0f13-8242-4408-9464-479bc6910b1f"
      },
      "outputs": [
        {
          "name": "stdout",
          "output_type": "stream",
          "text": [
            "0     1\n",
            "1     2\n",
            "2     3\n",
            "3     4\n",
            "4     5\n",
            "5     6\n",
            "6     7\n",
            "7     8\n",
            "8     9\n",
            "9     5\n",
            "10    3\n",
            "dtype: int64\n"
          ]
        }
      ],
      "source": [
        "print(series)"
      ]
    },
    {
      "cell_type": "code",
      "execution_count": 8,
      "metadata": {
        "colab": {
          "base_uri": "https://localhost:8080/"
        },
        "id": "AT9LykGGY4-v",
        "outputId": "b848d7d3-6276-4193-e1e3-4605dacfba1d"
      },
      "outputs": [
        {
          "name": "stdout",
          "output_type": "stream",
          "text": [
            "Média:  4.818181818181818\n",
            "Desvio Padrão:  2.522624895547565\n"
          ]
        }
      ],
      "source": [
        "# Solicitando média da série através do método mean()\n",
        "print('Média: ', series.mean())\n",
        "# Solicitando o desvio padrão através do método std()\n",
        "print('Desvio Padrão: ', series.std())"
      ]
    },
    {
      "cell_type": "code",
      "execution_count": 9,
      "metadata": {
        "id": "WaTzCFDgZFSf"
      },
      "outputs": [],
      "source": [
        "# 4 - Criar um array com 20 números aleatórios entre 1 e 5. \n",
        "import random"
      ]
    },
    {
      "cell_type": "code",
      "execution_count": 10,
      "metadata": {
        "colab": {
          "base_uri": "https://localhost:8080/"
        },
        "id": "c5tlnPp2ZgHI",
        "outputId": "7ec831fb-f212-48e1-a4b7-903ded473dc1"
      },
      "outputs": [
        {
          "name": "stdout",
          "output_type": "stream",
          "text": [
            "0     1\n",
            "1     3\n",
            "2     1\n",
            "3     5\n",
            "4     2\n",
            "5     1\n",
            "6     1\n",
            "7     1\n",
            "8     5\n",
            "9     5\n",
            "10    3\n",
            "11    4\n",
            "12    3\n",
            "13    4\n",
            "14    3\n",
            "15    1\n",
            "16    2\n",
            "17    4\n",
            "18    2\n",
            "19    3\n",
            "dtype: int64\n",
            "---------------------\n"
          ]
        }
      ],
      "source": [
        "list_random = [random.randint(1,5) for i in range(20)] # utilizando List Comprehension para praticar\n",
        "array_random = pd.Series(list_random)\n",
        "print(array_random)\n",
        "print('-'*21)\n",
        "\n",
        "a = array_random.value_counts()"
      ]
    },
    {
      "cell_type": "code",
      "execution_count": 11,
      "metadata": {
        "id": "eqAO2AapabOo"
      },
      "outputs": [],
      "source": [
        "index = a.index.tolist()\n",
        "values = a.values.tolist()"
      ]
    },
    {
      "cell_type": "code",
      "execution_count": null,
      "metadata": {
        "id": "aLYiB7S_hQhI"
      },
      "outputs": [],
      "source": []
    },
    {
      "cell_type": "code",
      "execution_count": 12,
      "metadata": {
        "colab": {
          "base_uri": "https://localhost:8080/"
        },
        "id": "4TqiDdRgfV7Q",
        "outputId": "d9838bcf-8a8d-47ea-f4bf-705e623900c2"
      },
      "outputs": [
        {
          "name": "stdout",
          "output_type": "stream",
          "text": [
            "[1, 3, 5, 2, 4]\n",
            "[6, 5, 3, 3, 3]\n",
            "O número 1 aparece 6 vezes, com uma frequência de: 11.11 %\n",
            "O número 3 aparece 5 vezes, com uma frequência de: 27.78 %\n",
            "O número 5 aparece 3 vezes, com uma frequência de: 27.78 %\n",
            "O número 2 aparece 3 vezes, com uma frequência de: 11.11 %\n",
            "O número 4 aparece 3 vezes, com uma frequência de: 22.22 %\n"
          ]
        }
      ],
      "source": [
        "print(a.index.tolist())\n",
        "print(a.values.tolist())\n",
        "\n",
        "for i in range(len(index)):\n",
        "  print(f'O número {index[i]} aparece {values[i]} vezes, com uma frequência de: {round((((values[i]*index[i])/array_random.sum())*100),2)} %')"
      ]
    },
    {
      "cell_type": "code",
      "execution_count": 13,
      "metadata": {
        "colab": {
          "base_uri": "https://localhost:8080/"
        },
        "id": "YgMTr8rwfiNI",
        "outputId": "25542d41-6e48-4666-f890-112895614dfd"
      },
      "outputs": [
        {
          "name": "stdout",
          "output_type": "stream",
          "text": [
            "0    1\n",
            "1    3\n",
            "2    1\n",
            "3    2\n",
            "4    5\n",
            "5    1\n",
            "6    4\n",
            "7    2\n",
            "8    3\n",
            "9    4\n",
            "dtype: int64\n"
          ]
        }
      ],
      "source": [
        "# 5 - \n",
        "# Criando array aleatório\n",
        "array_random = pd.Series([random.randint(1,5) for i in range(10)])\n",
        "print(array_random)"
      ]
    },
    {
      "cell_type": "code",
      "execution_count": 14,
      "metadata": {
        "colab": {
          "base_uri": "https://localhost:8080/",
          "height": 434
        },
        "id": "55QCrYknhlxR",
        "outputId": "b0520c00-8b13-46d1-c2ff-c0b8bfc05994"
      },
      "outputs": [
        {
          "name": "stdout",
          "output_type": "stream",
          "text": [
            "A Frequência dos valores é\n"
          ]
        },
        {
          "data": {
            "text/plain": [
              "1    3\n",
              "3    2\n",
              "2    2\n",
              "4    2\n",
              "5    1\n",
              "dtype: int64"
            ]
          },
          "metadata": {},
          "output_type": "display_data"
        },
        {
          "name": "stdout",
          "output_type": "stream",
          "text": [
            "---------------------\n",
            "Os valores mais frequentes são:\n"
          ]
        },
        {
          "data": {
            "text/plain": [
              "[1]"
            ]
          },
          "metadata": {},
          "output_type": "display_data"
        },
        {
          "name": "stdout",
          "output_type": "stream",
          "text": [
            "---------------------\n",
            "O novo array é:\n"
          ]
        },
        {
          "data": {
            "text/plain": [
              "0              1\n",
              "1    Outro valor\n",
              "2              1\n",
              "3    Outro valor\n",
              "4    Outro valor\n",
              "5              1\n",
              "6    Outro valor\n",
              "7    Outro valor\n",
              "8    Outro valor\n",
              "9    Outro valor\n",
              "dtype: object"
            ]
          },
          "metadata": {},
          "output_type": "display_data"
        },
        {
          "name": "stdout",
          "output_type": "stream",
          "text": [
            "---------------------\n"
          ]
        }
      ],
      "source": [
        "# Contando a frequência de cada elemento\n",
        "freq = array_random.value_counts()\n",
        "print('A Frequência dos valores é')\n",
        "display(freq)\n",
        "print('-'*21)\n",
        "\n",
        "# Atribuindo os itens mais frequentes à uma variável\n",
        "mode = array_random.mode()\n",
        "print('Os valores mais frequentes são:')\n",
        "display(mode.tolist())\n",
        "print('-'*21)\n",
        "\n",
        "\n",
        "# Substituindo na serie original os valores que não são os mais frequentes\n",
        "array_novo = array_random.copy()\n",
        "array_novo[~array_random.isin(mode)] = 'Outro valor'\n",
        "print('O novo array é:')\n",
        "display(array_novo)\n",
        "print('-'*21)\n"
      ]
    },
    {
      "cell_type": "code",
      "execution_count": 15,
      "metadata": {
        "colab": {
          "base_uri": "https://localhost:8080/"
        },
        "id": "FMRx4jLqhpoJ",
        "outputId": "47fa6441-8db4-4533-fdfd-4c440d58c011"
      },
      "outputs": [
        {
          "name": "stdout",
          "output_type": "stream",
          "text": [
            "[3 2 7 6 8 9 0 5 4 1]\n"
          ]
        }
      ],
      "source": [
        "# 6 - \n",
        "import numpy as np\n",
        "# Criando um numpy array\n",
        "np_array = np.arange(0, 10, 1)\n",
        "# Embaralhando com o Shuffle\n",
        "random.shuffle(np_array)\n",
        "print(np_array)"
      ]
    },
    {
      "cell_type": "code",
      "execution_count": 16,
      "metadata": {
        "colab": {
          "base_uri": "https://localhost:8080/"
        },
        "id": "FaJPOd-Pm-cB",
        "outputId": "171ee8bc-19d5-4db7-df73-30854135353a"
      },
      "outputs": [
        {
          "name": "stdout",
          "output_type": "stream",
          "text": [
            "3         6\n",
            "2         2\n",
            "7      5040\n",
            "6       720\n",
            "8     40320\n",
            "9    362880\n",
            "0         0\n",
            "5       120\n",
            "4        24\n",
            "1         1\n",
            "dtype: int64\n"
          ]
        }
      ],
      "source": [
        "# Criando uma lista para armazenar o fatorial desses valores\n",
        "\n",
        "def fatorial(n):\n",
        "  if n == 0:\n",
        "    return n\n",
        "  k = 1\n",
        "  while n >= 2:\n",
        "    k *= n\n",
        "    n -=1\n",
        "  return k\n",
        "\n",
        "fat = []\n",
        "for i in range(len(np_array)):\n",
        "  fat.append(fatorial(np_array[i]))\n",
        "# Criando a série utilizando o array embaralhado como indice\n",
        "serie = pd.Series(fat, index = np_array)\n",
        "print(serie)\n"
      ]
    },
    {
      "cell_type": "markdown",
      "metadata": {
        "id": "3PquO1wuTYJi"
      },
      "source": [
        "Lista - Pandas 1"
      ]
    },
    {
      "cell_type": "code",
      "execution_count": 17,
      "metadata": {
        "colab": {
          "base_uri": "https://localhost:8080/",
          "height": 104
        },
        "id": "YW5c4LLvqJ3a",
        "outputId": "1394cf8e-df19-4188-d600-aa16f9f4f93c"
      },
      "outputs": [
        {
          "data": {
            "text/plain": [
              "Fundamental Completo      451\n",
              "Médio Completo            627\n",
              "Superior Completo         292\n",
              "Pós-Graduação Completa     95\n",
              "dtype: int64"
            ]
          },
          "metadata": {},
          "output_type": "display_data"
        }
      ],
      "source": [
        "# 1 - \n",
        "# Criando Dicionário para série\n",
        "dict_insc = {\n",
        "    'Fundamental Completo': 451,\n",
        "    'Médio Completo': 627,\n",
        "    'Superior Completo': 292,\n",
        "    'Pós-Graduação Completa': 95\n",
        "}\n",
        "# Criando Série baseada no dicionário\n",
        "series_inscritos = pd.Series(dict_insc)\n",
        "display(series_inscritos)"
      ]
    },
    {
      "cell_type": "code",
      "execution_count": 18,
      "metadata": {
        "colab": {
          "base_uri": "https://localhost:8080/"
        },
        "id": "4xzZdlDsUIwV",
        "outputId": "c05339f3-2a97-4f76-fdd6-cbdaefd83ab3"
      },
      "outputs": [
        {
          "name": "stdout",
          "output_type": "stream",
          "text": [
            "O total de inscritos é: 1465\n"
          ]
        }
      ],
      "source": [
        "# Total de inscritos\n",
        "print('O total de inscritos é:',series_inscritos.sum())"
      ]
    },
    {
      "cell_type": "code",
      "execution_count": 19,
      "metadata": {
        "colab": {
          "base_uri": "https://localhost:8080/"
        },
        "id": "WIZp9E_KUUzM",
        "outputId": "f8acb0c9-26c3-4703-87eb-817fd5a8a531"
      },
      "outputs": [
        {
          "name": "stdout",
          "output_type": "stream",
          "text": [
            "O número de inscritos que possui, no mínimo, superior completo: 387\n"
          ]
        }
      ],
      "source": [
        "# Número de Inscritos que possui pelo menos superior completo\n",
        "print('O número de inscritos que possui, no mínimo, superior completo:', series_inscritos[['Superior Completo','Pós-Graduação Completa']].sum())"
      ]
    },
    {
      "cell_type": "code",
      "execution_count": 20,
      "metadata": {
        "colab": {
          "base_uri": "https://localhost:8080/",
          "height": 104
        },
        "id": "Np5LG1RKVKY3",
        "outputId": "224f6e1e-b660-41f1-c90f-8384ef3c378b"
      },
      "outputs": [
        {
          "data": {
            "text/plain": [
              "Fundamental Completo      68\n",
              "Medio Completo            93\n",
              "Superior Completo         22\n",
              "Pós-Graduação Completa     0\n",
              "dtype: int64"
            ]
          },
          "metadata": {},
          "output_type": "display_data"
        }
      ],
      "source": [
        "# Series - prorrogação por categoria [68, 93, 22, 0]\n",
        "alt = [68, 93, 22, 0]\n",
        "\n",
        "series_prorrog = pd.Series(data = alt, index = ['Fundamental Completo', 'Medio Completo', 'Superior Completo', 'Pós-Graduação Completa'])\n",
        "display(series_prorrog)"
      ]
    },
    {
      "cell_type": "code",
      "execution_count": 21,
      "metadata": {
        "colab": {
          "base_uri": "https://localhost:8080/"
        },
        "id": "tmVADNZTgf1G",
        "outputId": "1df51adc-88e7-4176-f2dd-14404fd1747c"
      },
      "outputs": [
        {
          "name": "stdout",
          "output_type": "stream",
          "text": [
            "O total de inscritos é: 1648\n"
          ]
        }
      ],
      "source": [
        "# Número total de inscritos pós prorrogação\n",
        "\n",
        "print('O total de inscritos é:', series_inscritos.sum()+ series_prorrog.sum())"
      ]
    },
    {
      "cell_type": "code",
      "execution_count": 22,
      "metadata": {
        "colab": {
          "base_uri": "https://localhost:8080/",
          "height": 173
        },
        "id": "530yjOFGhFBX",
        "outputId": "ec5dc797-b240-4e08-b694-51378bc4ba45"
      },
      "outputs": [
        {
          "data": {
            "text/plain": [
              "Wilfred     2.0\n",
              "Abbie       7.0\n",
              "Harry       5.5\n",
              "Julia      10.0\n",
              "Carrie      6.2\n",
              "dtype: float64"
            ]
          },
          "metadata": {},
          "output_type": "display_data"
        },
        {
          "name": "stdout",
          "output_type": "stream",
          "text": [
            "Foram aprovados 2 alunos, sendo estes: ['Abbie', 'Julia']\n",
            "A média da turma foi:  6.14\n",
            "O nome dos alunos acima da média: ['Abbie', 'Julia', 'Carrie']\n"
          ]
        }
      ],
      "source": [
        "# 2 - \n",
        "\n",
        "alunos = ['Wilfred', 'Abbie', 'Harry', 'Julia', 'Carrie']\n",
        "notas = [2, 7, 5.5, 10, 6.2]\n",
        "\n",
        "# Criando a série dos alunos/notas\n",
        "serie_notas = pd.Series(data = notas, index = alunos)\n",
        "display(serie_notas)\n",
        "\n",
        "# Retornar o número de alunos aprovados\n",
        "aprovados = serie_notas >= 7 # Máscara de aprovados\n",
        "\n",
        "print(f'Foram aprovados {serie_notas.index[aprovados].value_counts().sum()} alunos, sendo estes: {serie_notas.index[aprovados].tolist()}')\n",
        "\n",
        "# Retornando a média da turma\n",
        "print('A média da turma foi: ', serie_notas.mean())\n",
        "\n",
        "# Retornando alunos acima da média\n",
        "acima_media = serie_notas > serie_notas.mean()\n",
        "print(f'O nome dos alunos acima da média: {serie_notas.index[acima_media].tolist()}')"
      ]
    },
    {
      "cell_type": "code",
      "execution_count": 23,
      "metadata": {
        "colab": {
          "base_uri": "https://localhost:8080/",
          "height": 206
        },
        "id": "cQ_6nwmYjZGu",
        "outputId": "b3473d0e-5a7b-42b2-98d3-c99fae09bf4e"
      },
      "outputs": [
        {
          "data": {
            "text/html": [
              "<div>\n",
              "<style scoped>\n",
              "    .dataframe tbody tr th:only-of-type {\n",
              "        vertical-align: middle;\n",
              "    }\n",
              "\n",
              "    .dataframe tbody tr th {\n",
              "        vertical-align: top;\n",
              "    }\n",
              "\n",
              "    .dataframe thead th {\n",
              "        text-align: right;\n",
              "    }\n",
              "</style>\n",
              "<table border=\"1\" class=\"dataframe\">\n",
              "  <thead>\n",
              "    <tr style=\"text-align: right;\">\n",
              "      <th></th>\n",
              "      <th>Peso</th>\n",
              "      <th>Altura</th>\n",
              "      <th>Idade</th>\n",
              "    </tr>\n",
              "  </thead>\n",
              "  <tbody>\n",
              "    <tr>\n",
              "      <th>0</th>\n",
              "      <td>72</td>\n",
              "      <td>180</td>\n",
              "      <td>31</td>\n",
              "    </tr>\n",
              "    <tr>\n",
              "      <th>1</th>\n",
              "      <td>80</td>\n",
              "      <td>170</td>\n",
              "      <td>21</td>\n",
              "    </tr>\n",
              "    <tr>\n",
              "      <th>2</th>\n",
              "      <td>60</td>\n",
              "      <td>175</td>\n",
              "      <td>16</td>\n",
              "    </tr>\n",
              "    <tr>\n",
              "      <th>3</th>\n",
              "      <td>90</td>\n",
              "      <td>174</td>\n",
              "      <td>28</td>\n",
              "    </tr>\n",
              "    <tr>\n",
              "      <th>4</th>\n",
              "      <td>100</td>\n",
              "      <td>185</td>\n",
              "      <td>23</td>\n",
              "    </tr>\n",
              "  </tbody>\n",
              "</table>\n",
              "</div>"
            ],
            "text/plain": [
              "   Peso  Altura  Idade\n",
              "0    72     180     31\n",
              "1    80     170     21\n",
              "2    60     175     16\n",
              "3    90     174     28\n",
              "4   100     185     23"
            ]
          },
          "metadata": {},
          "output_type": "display_data"
        }
      ],
      "source": [
        "# 3 - venha de DataFrame papai\n",
        "\n",
        "df_imc = pd.DataFrame(\n",
        "    data = [\n",
        "        [72, 180, 31], # pode desenhar assim, mas da pra fazer por dictionary tbm\n",
        "        [80, 170, 21],\n",
        "        [60, 175, 16],\n",
        "        [90, 174, 28],\n",
        "        [100, 185 , 23]],\n",
        "        columns = ['Peso', 'Altura', 'Idade'] # há como nomear os index tbm, por padrão ele só conta\n",
        ")\n",
        "display(df_imc)"
      ]
    },
    {
      "cell_type": "code",
      "execution_count": 24,
      "metadata": {
        "colab": {
          "base_uri": "https://localhost:8080/",
          "height": 832
        },
        "id": "wRCFl5pTrliS",
        "outputId": "693357cf-4cdb-494b-8786-17e1936f9b17"
      },
      "outputs": [
        {
          "data": {
            "text/html": [
              "<div>\n",
              "<style scoped>\n",
              "    .dataframe tbody tr th:only-of-type {\n",
              "        vertical-align: middle;\n",
              "    }\n",
              "\n",
              "    .dataframe tbody tr th {\n",
              "        vertical-align: top;\n",
              "    }\n",
              "\n",
              "    .dataframe thead th {\n",
              "        text-align: right;\n",
              "    }\n",
              "</style>\n",
              "<table border=\"1\" class=\"dataframe\">\n",
              "  <thead>\n",
              "    <tr style=\"text-align: right;\">\n",
              "      <th></th>\n",
              "      <th>Altura</th>\n",
              "    </tr>\n",
              "  </thead>\n",
              "  <tbody>\n",
              "    <tr>\n",
              "      <th>0</th>\n",
              "      <td>180</td>\n",
              "    </tr>\n",
              "    <tr>\n",
              "      <th>1</th>\n",
              "      <td>170</td>\n",
              "    </tr>\n",
              "    <tr>\n",
              "      <th>2</th>\n",
              "      <td>175</td>\n",
              "    </tr>\n",
              "    <tr>\n",
              "      <th>3</th>\n",
              "      <td>174</td>\n",
              "    </tr>\n",
              "    <tr>\n",
              "      <th>4</th>\n",
              "      <td>185</td>\n",
              "    </tr>\n",
              "  </tbody>\n",
              "</table>\n",
              "</div>"
            ],
            "text/plain": [
              "   Altura\n",
              "0     180\n",
              "1     170\n",
              "2     175\n",
              "3     174\n",
              "4     185"
            ]
          },
          "metadata": {},
          "output_type": "display_data"
        },
        {
          "name": "stdout",
          "output_type": "stream",
          "text": [
            "---------------------\n",
            "Média da idade das pessoas: Idade    23.8\n",
            "dtype: float64\n",
            "---------------------\n"
          ]
        },
        {
          "data": {
            "text/html": [
              "<div>\n",
              "<style scoped>\n",
              "    .dataframe tbody tr th:only-of-type {\n",
              "        vertical-align: middle;\n",
              "    }\n",
              "\n",
              "    .dataframe tbody tr th {\n",
              "        vertical-align: top;\n",
              "    }\n",
              "\n",
              "    .dataframe thead th {\n",
              "        text-align: right;\n",
              "    }\n",
              "</style>\n",
              "<table border=\"1\" class=\"dataframe\">\n",
              "  <thead>\n",
              "    <tr style=\"text-align: right;\">\n",
              "      <th></th>\n",
              "      <th>Altura</th>\n",
              "    </tr>\n",
              "  </thead>\n",
              "  <tbody>\n",
              "    <tr>\n",
              "      <th>1</th>\n",
              "      <td>170.0</td>\n",
              "    </tr>\n",
              "    <tr>\n",
              "      <th>2</th>\n",
              "      <td>175.0</td>\n",
              "    </tr>\n",
              "    <tr>\n",
              "      <th>3</th>\n",
              "      <td>174.0</td>\n",
              "    </tr>\n",
              "  </tbody>\n",
              "</table>\n",
              "</div>"
            ],
            "text/plain": [
              "   Altura\n",
              "1   170.0\n",
              "2   175.0\n",
              "3   174.0"
            ]
          },
          "metadata": {},
          "output_type": "display_data"
        },
        {
          "name": "stdout",
          "output_type": "stream",
          "text": [
            "---------------------\n"
          ]
        },
        {
          "data": {
            "text/html": [
              "<div>\n",
              "<style scoped>\n",
              "    .dataframe tbody tr th:only-of-type {\n",
              "        vertical-align: middle;\n",
              "    }\n",
              "\n",
              "    .dataframe tbody tr th {\n",
              "        vertical-align: top;\n",
              "    }\n",
              "\n",
              "    .dataframe thead th {\n",
              "        text-align: right;\n",
              "    }\n",
              "</style>\n",
              "<table border=\"1\" class=\"dataframe\">\n",
              "  <thead>\n",
              "    <tr style=\"text-align: right;\">\n",
              "      <th></th>\n",
              "      <th>Peso</th>\n",
              "      <th>Altura</th>\n",
              "      <th>Idade</th>\n",
              "      <th>IMC</th>\n",
              "    </tr>\n",
              "  </thead>\n",
              "  <tbody>\n",
              "    <tr>\n",
              "      <th>0</th>\n",
              "      <td>72</td>\n",
              "      <td>180</td>\n",
              "      <td>31</td>\n",
              "      <td>22.22</td>\n",
              "    </tr>\n",
              "    <tr>\n",
              "      <th>1</th>\n",
              "      <td>80</td>\n",
              "      <td>170</td>\n",
              "      <td>21</td>\n",
              "      <td>27.68</td>\n",
              "    </tr>\n",
              "    <tr>\n",
              "      <th>2</th>\n",
              "      <td>60</td>\n",
              "      <td>175</td>\n",
              "      <td>16</td>\n",
              "      <td>19.59</td>\n",
              "    </tr>\n",
              "    <tr>\n",
              "      <th>3</th>\n",
              "      <td>90</td>\n",
              "      <td>174</td>\n",
              "      <td>28</td>\n",
              "      <td>29.73</td>\n",
              "    </tr>\n",
              "    <tr>\n",
              "      <th>4</th>\n",
              "      <td>100</td>\n",
              "      <td>185</td>\n",
              "      <td>23</td>\n",
              "      <td>29.22</td>\n",
              "    </tr>\n",
              "  </tbody>\n",
              "</table>\n",
              "</div>"
            ],
            "text/plain": [
              "   Peso  Altura  Idade    IMC\n",
              "0    72     180     31  22.22\n",
              "1    80     170     21  27.68\n",
              "2    60     175     16  19.59\n",
              "3    90     174     28  29.73\n",
              "4   100     185     23  29.22"
            ]
          },
          "metadata": {},
          "output_type": "display_data"
        },
        {
          "name": "stdout",
          "output_type": "stream",
          "text": [
            "---------------------\n"
          ]
        },
        {
          "data": {
            "text/html": [
              "<div>\n",
              "<style scoped>\n",
              "    .dataframe tbody tr th:only-of-type {\n",
              "        vertical-align: middle;\n",
              "    }\n",
              "\n",
              "    .dataframe tbody tr th {\n",
              "        vertical-align: top;\n",
              "    }\n",
              "\n",
              "    .dataframe thead th {\n",
              "        text-align: right;\n",
              "    }\n",
              "</style>\n",
              "<table border=\"1\" class=\"dataframe\">\n",
              "  <thead>\n",
              "    <tr style=\"text-align: right;\">\n",
              "      <th></th>\n",
              "      <th>Peso</th>\n",
              "      <th>Altura</th>\n",
              "      <th>IMC</th>\n",
              "    </tr>\n",
              "  </thead>\n",
              "  <tbody>\n",
              "    <tr>\n",
              "      <th>0</th>\n",
              "      <td>72</td>\n",
              "      <td>180</td>\n",
              "      <td>22.22</td>\n",
              "    </tr>\n",
              "    <tr>\n",
              "      <th>1</th>\n",
              "      <td>80</td>\n",
              "      <td>170</td>\n",
              "      <td>27.68</td>\n",
              "    </tr>\n",
              "    <tr>\n",
              "      <th>2</th>\n",
              "      <td>60</td>\n",
              "      <td>175</td>\n",
              "      <td>19.59</td>\n",
              "    </tr>\n",
              "    <tr>\n",
              "      <th>3</th>\n",
              "      <td>90</td>\n",
              "      <td>174</td>\n",
              "      <td>29.73</td>\n",
              "    </tr>\n",
              "    <tr>\n",
              "      <th>4</th>\n",
              "      <td>100</td>\n",
              "      <td>185</td>\n",
              "      <td>29.22</td>\n",
              "    </tr>\n",
              "  </tbody>\n",
              "</table>\n",
              "</div>"
            ],
            "text/plain": [
              "   Peso  Altura    IMC\n",
              "0    72     180  22.22\n",
              "1    80     170  27.68\n",
              "2    60     175  19.59\n",
              "3    90     174  29.73\n",
              "4   100     185  29.22"
            ]
          },
          "metadata": {},
          "output_type": "display_data"
        },
        {
          "name": "stdout",
          "output_type": "stream",
          "text": [
            "---------------------\n"
          ]
        }
      ],
      "source": [
        "# Visualizando os dados com a altura \n",
        "display(df_imc[['Altura']])\n",
        "print('-'*21)\n",
        "\n",
        "# Obtendo a média da idade das pessoas\n",
        "print('Média da idade das pessoas:', df_imc[['Idade']].mean())\n",
        "print('-'*21)\n",
        "\n",
        "# Obtendo dados das pessoas abaixo da média de altura\n",
        "media_altura = df_imc[['Altura']] < df_imc[['Altura']].mean() # Criando máscara\n",
        "\n",
        "# Definindo a Coluna [['Altura']] -> Passando a máscara [media_altura] -> removendo NaN vindos após passar\n",
        "# a máscara .dropna()\n",
        "display(df_imc[['Altura']][media_altura].dropna())\n",
        "print('-'*21)\n",
        "\n",
        "# Criando uma nova coluna chamada IMC\n",
        "df_imc['IMC'] = round(df_imc['Peso'] / (df_imc['Altura']/100)**2, 2)\n",
        "\n",
        "display(df_imc)\n",
        "print('-'*21)\n",
        "\n",
        "# Removendo a coluna com a idade\n",
        "df_imc_alt = df_imc.drop(columns=['Idade'])\n",
        "display(df_imc_alt)\n",
        "print('-'*21)\n",
        "\n",
        "# Salvando num csv\n",
        "\n",
        "df_imc_alt.to_csv('imc.csv')"
      ]
    },
    {
      "cell_type": "code",
      "execution_count": 25,
      "metadata": {
        "colab": {
          "base_uri": "https://localhost:8080/",
          "height": 224
        },
        "id": "p5Y1ftmuzTsd",
        "outputId": "981d20cc-3ef4-4345-d6ad-2e4f55c72d19"
      },
      "outputs": [
        {
          "data": {
            "text/html": [
              "<div>\n",
              "<style scoped>\n",
              "    .dataframe tbody tr th:only-of-type {\n",
              "        vertical-align: middle;\n",
              "    }\n",
              "\n",
              "    .dataframe tbody tr th {\n",
              "        vertical-align: top;\n",
              "    }\n",
              "\n",
              "    .dataframe thead th {\n",
              "        text-align: right;\n",
              "    }\n",
              "</style>\n",
              "<table border=\"1\" class=\"dataframe\">\n",
              "  <thead>\n",
              "    <tr style=\"text-align: right;\">\n",
              "      <th></th>\n",
              "      <th>Peso</th>\n",
              "      <th>Altura</th>\n",
              "      <th>IMC</th>\n",
              "    </tr>\n",
              "  </thead>\n",
              "  <tbody>\n",
              "    <tr>\n",
              "      <th>0</th>\n",
              "      <td>72</td>\n",
              "      <td>180</td>\n",
              "      <td>22.22</td>\n",
              "    </tr>\n",
              "    <tr>\n",
              "      <th>1</th>\n",
              "      <td>80</td>\n",
              "      <td>170</td>\n",
              "      <td>27.68</td>\n",
              "    </tr>\n",
              "    <tr>\n",
              "      <th>2</th>\n",
              "      <td>60</td>\n",
              "      <td>175</td>\n",
              "      <td>19.59</td>\n",
              "    </tr>\n",
              "    <tr>\n",
              "      <th>3</th>\n",
              "      <td>90</td>\n",
              "      <td>174</td>\n",
              "      <td>29.73</td>\n",
              "    </tr>\n",
              "    <tr>\n",
              "      <th>4</th>\n",
              "      <td>100</td>\n",
              "      <td>185</td>\n",
              "      <td>29.22</td>\n",
              "    </tr>\n",
              "  </tbody>\n",
              "</table>\n",
              "</div>"
            ],
            "text/plain": [
              "   Peso  Altura    IMC\n",
              "0    72     180  22.22\n",
              "1    80     170  27.68\n",
              "2    60     175  19.59\n",
              "3    90     174  29.73\n",
              "4   100     185  29.22"
            ]
          },
          "metadata": {},
          "output_type": "display_data"
        },
        {
          "name": "stdout",
          "output_type": "stream",
          "text": [
            "-----------------------\n"
          ]
        }
      ],
      "source": [
        "# 4 -\n",
        "nomes = ['Kaio', 'Mila', 'Lorenna', 'Luis', 'Renato']\n",
        "df_imc = pd.read_csv('./imc.csv').drop(columns = ['Unnamed: 0'])\n",
        "\n",
        "display(df_imc)\n",
        "print('-'*23)"
      ]
    },
    {
      "cell_type": "code",
      "execution_count": 26,
      "metadata": {
        "colab": {
          "base_uri": "https://localhost:8080/",
          "height": 238
        },
        "id": "k2B5z4Pw03mG",
        "outputId": "efa2440f-0d6e-4daf-e775-8be551323ac9"
      },
      "outputs": [
        {
          "data": {
            "text/html": [
              "<div>\n",
              "<style scoped>\n",
              "    .dataframe tbody tr th:only-of-type {\n",
              "        vertical-align: middle;\n",
              "    }\n",
              "\n",
              "    .dataframe tbody tr th {\n",
              "        vertical-align: top;\n",
              "    }\n",
              "\n",
              "    .dataframe thead th {\n",
              "        text-align: right;\n",
              "    }\n",
              "</style>\n",
              "<table border=\"1\" class=\"dataframe\">\n",
              "  <thead>\n",
              "    <tr style=\"text-align: right;\">\n",
              "      <th></th>\n",
              "      <th>Peso</th>\n",
              "      <th>Altura</th>\n",
              "      <th>IMC</th>\n",
              "    </tr>\n",
              "    <tr>\n",
              "      <th>Nome</th>\n",
              "      <th></th>\n",
              "      <th></th>\n",
              "      <th></th>\n",
              "    </tr>\n",
              "  </thead>\n",
              "  <tbody>\n",
              "    <tr>\n",
              "      <th>Kaio</th>\n",
              "      <td>72</td>\n",
              "      <td>180</td>\n",
              "      <td>22.22</td>\n",
              "    </tr>\n",
              "    <tr>\n",
              "      <th>Mila</th>\n",
              "      <td>80</td>\n",
              "      <td>170</td>\n",
              "      <td>27.68</td>\n",
              "    </tr>\n",
              "    <tr>\n",
              "      <th>Lorenna</th>\n",
              "      <td>60</td>\n",
              "      <td>175</td>\n",
              "      <td>19.59</td>\n",
              "    </tr>\n",
              "    <tr>\n",
              "      <th>Luis</th>\n",
              "      <td>90</td>\n",
              "      <td>174</td>\n",
              "      <td>29.73</td>\n",
              "    </tr>\n",
              "    <tr>\n",
              "      <th>Renato</th>\n",
              "      <td>100</td>\n",
              "      <td>185</td>\n",
              "      <td>29.22</td>\n",
              "    </tr>\n",
              "  </tbody>\n",
              "</table>\n",
              "</div>"
            ],
            "text/plain": [
              "         Peso  Altura    IMC\n",
              "Nome                        \n",
              "Kaio       72     180  22.22\n",
              "Mila       80     170  27.68\n",
              "Lorenna    60     175  19.59\n",
              "Luis       90     174  29.73\n",
              "Renato    100     185  29.22"
            ]
          },
          "metadata": {},
          "output_type": "display_data"
        }
      ],
      "source": [
        "# Renomeando as linhas\n",
        "df_imc['Nome'] = nomes\n",
        "\n",
        "df_alt = df_imc.set_index('Nome')\n",
        "\n",
        "display(df_alt)"
      ]
    },
    {
      "cell_type": "code",
      "execution_count": 27,
      "metadata": {
        "colab": {
          "base_uri": "https://localhost:8080/"
        },
        "id": "PHuEVslu2M-H",
        "outputId": "aef278e6-ba92-49f7-9f40-e0074aa1ddf5"
      },
      "outputs": [
        {
          "name": "stdout",
          "output_type": "stream",
          "text": [
            "As pessoas que se encaixam em \"sobrepeso\" são:  ['Mila', 'Luis', 'Renato']\n"
          ]
        }
      ],
      "source": [
        "# Criando máscara para sobrepeso\n",
        "sobrepeso = (df_alt['IMC'] > 25) & (df_alt['IMC'] < 29.9)\n",
        "\n",
        "print('As pessoas que se encaixam em \"sobrepeso\" são: ', df_alt[['IMC']][sobrepeso].index.tolist())"
      ]
    },
    {
      "cell_type": "code",
      "execution_count": 28,
      "metadata": {
        "id": "7qG0jOtg4iCi"
      },
      "outputs": [],
      "source": [
        "# 5 -\n",
        "\n",
        "df_imc = pd.read_csv('./imc.csv').drop(columns = ['Unnamed: 0'])"
      ]
    },
    {
      "cell_type": "code",
      "execution_count": 29,
      "metadata": {
        "colab": {
          "base_uri": "https://localhost:8080/",
          "height": 206
        },
        "id": "fQ_eQ5NjQmDi",
        "outputId": "7b0ef23b-1368-4f1f-9cb4-69561a8117b0"
      },
      "outputs": [
        {
          "data": {
            "text/html": [
              "<div>\n",
              "<style scoped>\n",
              "    .dataframe tbody tr th:only-of-type {\n",
              "        vertical-align: middle;\n",
              "    }\n",
              "\n",
              "    .dataframe tbody tr th {\n",
              "        vertical-align: top;\n",
              "    }\n",
              "\n",
              "    .dataframe thead th {\n",
              "        text-align: right;\n",
              "    }\n",
              "</style>\n",
              "<table border=\"1\" class=\"dataframe\">\n",
              "  <thead>\n",
              "    <tr style=\"text-align: right;\">\n",
              "      <th></th>\n",
              "      <th>Peso</th>\n",
              "      <th>Altura</th>\n",
              "      <th>IMC</th>\n",
              "      <th>Classificação</th>\n",
              "    </tr>\n",
              "  </thead>\n",
              "  <tbody>\n",
              "    <tr>\n",
              "      <th>0</th>\n",
              "      <td>72</td>\n",
              "      <td>180</td>\n",
              "      <td>22.22</td>\n",
              "      <td>Normal</td>\n",
              "    </tr>\n",
              "    <tr>\n",
              "      <th>1</th>\n",
              "      <td>80</td>\n",
              "      <td>170</td>\n",
              "      <td>27.68</td>\n",
              "      <td>Sobrepeso</td>\n",
              "    </tr>\n",
              "    <tr>\n",
              "      <th>2</th>\n",
              "      <td>60</td>\n",
              "      <td>175</td>\n",
              "      <td>19.59</td>\n",
              "      <td>Normal</td>\n",
              "    </tr>\n",
              "    <tr>\n",
              "      <th>3</th>\n",
              "      <td>90</td>\n",
              "      <td>174</td>\n",
              "      <td>29.73</td>\n",
              "      <td>Sobrepeso</td>\n",
              "    </tr>\n",
              "    <tr>\n",
              "      <th>4</th>\n",
              "      <td>100</td>\n",
              "      <td>185</td>\n",
              "      <td>29.22</td>\n",
              "      <td>Sobrepeso</td>\n",
              "    </tr>\n",
              "  </tbody>\n",
              "</table>\n",
              "</div>"
            ],
            "text/plain": [
              "   Peso  Altura    IMC Classificação\n",
              "0    72     180  22.22        Normal\n",
              "1    80     170  27.68     Sobrepeso\n",
              "2    60     175  19.59        Normal\n",
              "3    90     174  29.73     Sobrepeso\n",
              "4   100     185  29.22     Sobrepeso"
            ]
          },
          "metadata": {},
          "output_type": "display_data"
        }
      ],
      "source": [
        "# Adicionando a coluna e preenchendo com nada\n",
        "# df_imc['Classificação'] = None -> Deprecated\n",
        "\n",
        "# Criando e Mapeando a coluna utilizando o iterrows\n",
        "for idx, rows in df_imc.iterrows():\n",
        "  if rows['IMC'] < 18.5:\n",
        "    df_imc.loc[idx, 'Classificação'] = 'Magreza'\n",
        "  elif rows['IMC'] > 18.5 and rows['IMC'] < 24.9:\n",
        "    df_imc.loc[idx, 'Classificação'] = 'Normal'\n",
        "  elif rows['IMC'] > 25.0 and rows['IMC'] < 29.9:\n",
        "    df_imc.loc[idx, 'Classificação'] = 'Sobrepeso'\n",
        "  elif rows['IMC'] > 30.0 and rows['IMC'] < 39.9:\n",
        "    df_imc.loc[idx, 'Classificação'] = 'Obesidade'\n",
        "  elif rows['IMC'] > 40.0:\n",
        "    df_imc.loc[idx, 'Classificação'] = 'Obesidade Grave'\n",
        "\n",
        "display(df_imc)"
      ]
    },
    {
      "cell_type": "code",
      "execution_count": null,
      "metadata": {
        "id": "Vf6JkAAgY0SR"
      },
      "outputs": [],
      "source": [
        "# Exportando pra xlsx\n",
        "\n",
        "df_imc.to_excel('./df_imc_mod.xlsx')"
      ]
    },
    {
      "cell_type": "markdown",
      "metadata": {
        "id": "Yf9atWr8pM8a"
      },
      "source": [
        "Lista - Pandas 2"
      ]
    },
    {
      "cell_type": "markdown",
      "metadata": {},
      "source": [
        "Questão 1 - O arquivo avocado.csv consiste em um dataset que contém dados sobre vendas de abacates (avocado, em inglês) em diversas regiões dos Estados Unidos. Essa dataset contém as seguintes colunas:\n",
        "\n",
        " - Date - a data da observação\n",
        " - AveragePrice - o preço médio de um único abacate\n",
        " - year - o ano\n",
        " - region - a cidade ou região da observação\n",
        " - Total Volume - volume total de abacates vendidos\n",
        "\n",
        "Além das informações acima, contidas no arquivo avocado.csv, o tipo do abacate (convencional ou orgânico) também seria uma informação importante para a sua análise. Suponhamos que você conseguiu essas informações para cada uma das observações do arquivo avocado.csv, na mesma ordem, e salvou-as no arquivo avocado_type.csv. Portanto, tudo o que você precisa é juntar esses dois arquivos em um mesmo DataFrame. E, em seguida, salve-o em um arquivo csv."
      ]
    },
    {
      "cell_type": "code",
      "execution_count": 36,
      "metadata": {
        "id": "DXOex0NPZoNX"
      },
      "outputs": [],
      "source": [
        "# Lendo arquivos de abacates\n",
        "\n",
        "df_avocado = pd.read_csv('./datasets/avocado.csv')\n",
        "df_avocado_type = pd.read_csv('./datasets/avocado_type.csv')"
      ]
    },
    {
      "cell_type": "code",
      "execution_count": 33,
      "metadata": {
        "colab": {
          "base_uri": "https://localhost:8080/",
          "height": 206
        },
        "id": "PoPHyG45A4JI",
        "outputId": "aed7d6de-7e6b-47a8-cf43-61a2d900de3c"
      },
      "outputs": [
        {
          "data": {
            "text/html": [
              "<div>\n",
              "<style scoped>\n",
              "    .dataframe tbody tr th:only-of-type {\n",
              "        vertical-align: middle;\n",
              "    }\n",
              "\n",
              "    .dataframe tbody tr th {\n",
              "        vertical-align: top;\n",
              "    }\n",
              "\n",
              "    .dataframe thead th {\n",
              "        text-align: right;\n",
              "    }\n",
              "</style>\n",
              "<table border=\"1\" class=\"dataframe\">\n",
              "  <thead>\n",
              "    <tr style=\"text-align: right;\">\n",
              "      <th></th>\n",
              "      <th>Date</th>\n",
              "      <th>AveragePrice</th>\n",
              "      <th>Total Volume</th>\n",
              "      <th>year</th>\n",
              "      <th>region</th>\n",
              "    </tr>\n",
              "  </thead>\n",
              "  <tbody>\n",
              "    <tr>\n",
              "      <th>0</th>\n",
              "      <td>2015-12-27</td>\n",
              "      <td>1.33</td>\n",
              "      <td>64236.62</td>\n",
              "      <td>2015</td>\n",
              "      <td>Albany</td>\n",
              "    </tr>\n",
              "    <tr>\n",
              "      <th>1</th>\n",
              "      <td>2015-12-20</td>\n",
              "      <td>1.35</td>\n",
              "      <td>54876.98</td>\n",
              "      <td>2015</td>\n",
              "      <td>Albany</td>\n",
              "    </tr>\n",
              "    <tr>\n",
              "      <th>2</th>\n",
              "      <td>2015-12-13</td>\n",
              "      <td>0.93</td>\n",
              "      <td>118220.22</td>\n",
              "      <td>2015</td>\n",
              "      <td>Albany</td>\n",
              "    </tr>\n",
              "    <tr>\n",
              "      <th>3</th>\n",
              "      <td>2015-12-06</td>\n",
              "      <td>1.08</td>\n",
              "      <td>78992.15</td>\n",
              "      <td>2015</td>\n",
              "      <td>Albany</td>\n",
              "    </tr>\n",
              "    <tr>\n",
              "      <th>4</th>\n",
              "      <td>2015-11-29</td>\n",
              "      <td>1.28</td>\n",
              "      <td>51039.60</td>\n",
              "      <td>2015</td>\n",
              "      <td>Albany</td>\n",
              "    </tr>\n",
              "  </tbody>\n",
              "</table>\n",
              "</div>"
            ],
            "text/plain": [
              "         Date  AveragePrice  Total Volume  year  region\n",
              "0  2015-12-27          1.33      64236.62  2015  Albany\n",
              "1  2015-12-20          1.35      54876.98  2015  Albany\n",
              "2  2015-12-13          0.93     118220.22  2015  Albany\n",
              "3  2015-12-06          1.08      78992.15  2015  Albany\n",
              "4  2015-11-29          1.28      51039.60  2015  Albany"
            ]
          },
          "execution_count": 33,
          "metadata": {},
          "output_type": "execute_result"
        }
      ],
      "source": [
        "# Verificando dados\n",
        "df_avocado.head()"
      ]
    },
    {
      "cell_type": "code",
      "execution_count": 37,
      "metadata": {
        "id": "ClwvVNufA6rS"
      },
      "outputs": [
        {
          "data": {
            "text/html": [
              "<div>\n",
              "<style scoped>\n",
              "    .dataframe tbody tr th:only-of-type {\n",
              "        vertical-align: middle;\n",
              "    }\n",
              "\n",
              "    .dataframe tbody tr th {\n",
              "        vertical-align: top;\n",
              "    }\n",
              "\n",
              "    .dataframe thead th {\n",
              "        text-align: right;\n",
              "    }\n",
              "</style>\n",
              "<table border=\"1\" class=\"dataframe\">\n",
              "  <thead>\n",
              "    <tr style=\"text-align: right;\">\n",
              "      <th></th>\n",
              "      <th>type</th>\n",
              "    </tr>\n",
              "  </thead>\n",
              "  <tbody>\n",
              "    <tr>\n",
              "      <th>0</th>\n",
              "      <td>conventional</td>\n",
              "    </tr>\n",
              "    <tr>\n",
              "      <th>1</th>\n",
              "      <td>conventional</td>\n",
              "    </tr>\n",
              "    <tr>\n",
              "      <th>2</th>\n",
              "      <td>conventional</td>\n",
              "    </tr>\n",
              "    <tr>\n",
              "      <th>3</th>\n",
              "      <td>conventional</td>\n",
              "    </tr>\n",
              "    <tr>\n",
              "      <th>4</th>\n",
              "      <td>conventional</td>\n",
              "    </tr>\n",
              "  </tbody>\n",
              "</table>\n",
              "</div>"
            ],
            "text/plain": [
              "           type\n",
              "0  conventional\n",
              "1  conventional\n",
              "2  conventional\n",
              "3  conventional\n",
              "4  conventional"
            ]
          },
          "execution_count": 37,
          "metadata": {},
          "output_type": "execute_result"
        }
      ],
      "source": [
        "df_avocado_type.head()"
      ]
    },
    {
      "cell_type": "code",
      "execution_count": 38,
      "metadata": {},
      "outputs": [],
      "source": [
        "# Criando um dataframe (desnecessário, mas o ideal seria não modificar o original) a partir do dataframe original\n",
        "avocado_type = df_avocado"
      ]
    },
    {
      "cell_type": "code",
      "execution_count": 39,
      "metadata": {
        "id": "IA3uIzy4BERl"
      },
      "outputs": [],
      "source": [
        "# Criando uma coluna nova e adicionando a série vinda dos valores do dataset de tipos\n",
        "avocado_type['type'] = df_avocado_type.values"
      ]
    },
    {
      "cell_type": "code",
      "execution_count": 40,
      "metadata": {},
      "outputs": [
        {
          "data": {
            "text/html": [
              "<div>\n",
              "<style scoped>\n",
              "    .dataframe tbody tr th:only-of-type {\n",
              "        vertical-align: middle;\n",
              "    }\n",
              "\n",
              "    .dataframe tbody tr th {\n",
              "        vertical-align: top;\n",
              "    }\n",
              "\n",
              "    .dataframe thead th {\n",
              "        text-align: right;\n",
              "    }\n",
              "</style>\n",
              "<table border=\"1\" class=\"dataframe\">\n",
              "  <thead>\n",
              "    <tr style=\"text-align: right;\">\n",
              "      <th></th>\n",
              "      <th>Date</th>\n",
              "      <th>AveragePrice</th>\n",
              "      <th>Total Volume</th>\n",
              "      <th>year</th>\n",
              "      <th>region</th>\n",
              "      <th>type</th>\n",
              "    </tr>\n",
              "  </thead>\n",
              "  <tbody>\n",
              "    <tr>\n",
              "      <th>0</th>\n",
              "      <td>2015-12-27</td>\n",
              "      <td>1.33</td>\n",
              "      <td>64236.62</td>\n",
              "      <td>2015</td>\n",
              "      <td>Albany</td>\n",
              "      <td>conventional</td>\n",
              "    </tr>\n",
              "    <tr>\n",
              "      <th>1</th>\n",
              "      <td>2015-12-20</td>\n",
              "      <td>1.35</td>\n",
              "      <td>54876.98</td>\n",
              "      <td>2015</td>\n",
              "      <td>Albany</td>\n",
              "      <td>conventional</td>\n",
              "    </tr>\n",
              "    <tr>\n",
              "      <th>2</th>\n",
              "      <td>2015-12-13</td>\n",
              "      <td>0.93</td>\n",
              "      <td>118220.22</td>\n",
              "      <td>2015</td>\n",
              "      <td>Albany</td>\n",
              "      <td>conventional</td>\n",
              "    </tr>\n",
              "    <tr>\n",
              "      <th>3</th>\n",
              "      <td>2015-12-06</td>\n",
              "      <td>1.08</td>\n",
              "      <td>78992.15</td>\n",
              "      <td>2015</td>\n",
              "      <td>Albany</td>\n",
              "      <td>conventional</td>\n",
              "    </tr>\n",
              "    <tr>\n",
              "      <th>4</th>\n",
              "      <td>2015-11-29</td>\n",
              "      <td>1.28</td>\n",
              "      <td>51039.60</td>\n",
              "      <td>2015</td>\n",
              "      <td>Albany</td>\n",
              "      <td>conventional</td>\n",
              "    </tr>\n",
              "  </tbody>\n",
              "</table>\n",
              "</div>"
            ],
            "text/plain": [
              "         Date  AveragePrice  Total Volume  year  region          type\n",
              "0  2015-12-27          1.33      64236.62  2015  Albany  conventional\n",
              "1  2015-12-20          1.35      54876.98  2015  Albany  conventional\n",
              "2  2015-12-13          0.93     118220.22  2015  Albany  conventional\n",
              "3  2015-12-06          1.08      78992.15  2015  Albany  conventional\n",
              "4  2015-11-29          1.28      51039.60  2015  Albany  conventional"
            ]
          },
          "execution_count": 40,
          "metadata": {},
          "output_type": "execute_result"
        }
      ],
      "source": [
        "# Verificando as colunas\n",
        "avocado_type.head()"
      ]
    },
    {
      "cell_type": "code",
      "execution_count": 42,
      "metadata": {},
      "outputs": [],
      "source": [
        "# Por fim, salvando em csv\n",
        "avocado_type.to_csv('./datasets/avocado_type.csv')"
      ]
    },
    {
      "cell_type": "code",
      "execution_count": 43,
      "metadata": {},
      "outputs": [],
      "source": [
        "# Randomizando o tipo através de uma série\n",
        "tipos = pd.Series(np.random.randint(0, 2, df_avocado.shape[0]))\n",
        "tipos = tipos.map({0: 'convencional', 1:'orgânico'})"
      ]
    },
    {
      "cell_type": "code",
      "execution_count": 44,
      "metadata": {},
      "outputs": [
        {
          "data": {
            "text/plain": [
              "0        orgânico\n",
              "1        orgânico\n",
              "2        orgânico\n",
              "3    convencional\n",
              "4        orgânico\n",
              "dtype: object"
            ]
          },
          "execution_count": 44,
          "metadata": {},
          "output_type": "execute_result"
        }
      ],
      "source": [
        "tipos.head()"
      ]
    },
    {
      "cell_type": "code",
      "execution_count": 45,
      "metadata": {},
      "outputs": [],
      "source": [
        "# Atribuindo a série criada à coluna de tipos\n",
        "avocado_type['type'] = tipos"
      ]
    },
    {
      "cell_type": "code",
      "execution_count": 46,
      "metadata": {},
      "outputs": [
        {
          "data": {
            "text/html": [
              "<div>\n",
              "<style scoped>\n",
              "    .dataframe tbody tr th:only-of-type {\n",
              "        vertical-align: middle;\n",
              "    }\n",
              "\n",
              "    .dataframe tbody tr th {\n",
              "        vertical-align: top;\n",
              "    }\n",
              "\n",
              "    .dataframe thead th {\n",
              "        text-align: right;\n",
              "    }\n",
              "</style>\n",
              "<table border=\"1\" class=\"dataframe\">\n",
              "  <thead>\n",
              "    <tr style=\"text-align: right;\">\n",
              "      <th></th>\n",
              "      <th>Date</th>\n",
              "      <th>AveragePrice</th>\n",
              "      <th>Total Volume</th>\n",
              "      <th>year</th>\n",
              "      <th>region</th>\n",
              "      <th>type</th>\n",
              "    </tr>\n",
              "  </thead>\n",
              "  <tbody>\n",
              "    <tr>\n",
              "      <th>0</th>\n",
              "      <td>2015-12-27</td>\n",
              "      <td>1.33</td>\n",
              "      <td>64236.62</td>\n",
              "      <td>2015</td>\n",
              "      <td>Albany</td>\n",
              "      <td>orgânico</td>\n",
              "    </tr>\n",
              "    <tr>\n",
              "      <th>1</th>\n",
              "      <td>2015-12-20</td>\n",
              "      <td>1.35</td>\n",
              "      <td>54876.98</td>\n",
              "      <td>2015</td>\n",
              "      <td>Albany</td>\n",
              "      <td>orgânico</td>\n",
              "    </tr>\n",
              "    <tr>\n",
              "      <th>2</th>\n",
              "      <td>2015-12-13</td>\n",
              "      <td>0.93</td>\n",
              "      <td>118220.22</td>\n",
              "      <td>2015</td>\n",
              "      <td>Albany</td>\n",
              "      <td>orgânico</td>\n",
              "    </tr>\n",
              "    <tr>\n",
              "      <th>3</th>\n",
              "      <td>2015-12-06</td>\n",
              "      <td>1.08</td>\n",
              "      <td>78992.15</td>\n",
              "      <td>2015</td>\n",
              "      <td>Albany</td>\n",
              "      <td>convencional</td>\n",
              "    </tr>\n",
              "    <tr>\n",
              "      <th>4</th>\n",
              "      <td>2015-11-29</td>\n",
              "      <td>1.28</td>\n",
              "      <td>51039.60</td>\n",
              "      <td>2015</td>\n",
              "      <td>Albany</td>\n",
              "      <td>orgânico</td>\n",
              "    </tr>\n",
              "  </tbody>\n",
              "</table>\n",
              "</div>"
            ],
            "text/plain": [
              "         Date  AveragePrice  Total Volume  year  region          type\n",
              "0  2015-12-27          1.33      64236.62  2015  Albany      orgânico\n",
              "1  2015-12-20          1.35      54876.98  2015  Albany      orgânico\n",
              "2  2015-12-13          0.93     118220.22  2015  Albany      orgânico\n",
              "3  2015-12-06          1.08      78992.15  2015  Albany  convencional\n",
              "4  2015-11-29          1.28      51039.60  2015  Albany      orgânico"
            ]
          },
          "execution_count": 46,
          "metadata": {},
          "output_type": "execute_result"
        }
      ],
      "source": [
        "# Verificando a coluna adicionada\n",
        "avocado_type.head()"
      ]
    },
    {
      "cell_type": "code",
      "execution_count": 72,
      "metadata": {},
      "outputs": [],
      "source": [
        "avocado_type.to_csv('./datasets/avocado_type_random.csv', index=False)"
      ]
    },
    {
      "cell_type": "markdown",
      "metadata": {},
      "source": [
        "Questão 2 - Carregue o arquivo csv que você salvou na questão anterior e, em seguida, obtenha o que é solicitado nos itens elencados abaixo:\n",
        "\n",
        " - (a) A quantidade de abacates do tipo convecional e do tipo orgânico.\n",
        " - (b) A quantidade de registros (linhas) de abacates vendidos para cada região.\n",
        " - (c) Para que todos os labels das colunas fiquem padronizados, renomeie aqueles que estão iniciando em letra minúscula para que iniciem em letra maiúscula.\n",
        " - (d) Uma vez que você já possui uma coluna com a data, remova a coluna que apresenta o ano."
      ]
    },
    {
      "cell_type": "code",
      "execution_count": 76,
      "metadata": {},
      "outputs": [],
      "source": [
        "df_avocado = pd.read_csv('./datasets/avocado_type_random.csv')"
      ]
    },
    {
      "cell_type": "code",
      "execution_count": 77,
      "metadata": {},
      "outputs": [
        {
          "data": {
            "text/html": [
              "<div>\n",
              "<style scoped>\n",
              "    .dataframe tbody tr th:only-of-type {\n",
              "        vertical-align: middle;\n",
              "    }\n",
              "\n",
              "    .dataframe tbody tr th {\n",
              "        vertical-align: top;\n",
              "    }\n",
              "\n",
              "    .dataframe thead th {\n",
              "        text-align: right;\n",
              "    }\n",
              "</style>\n",
              "<table border=\"1\" class=\"dataframe\">\n",
              "  <thead>\n",
              "    <tr style=\"text-align: right;\">\n",
              "      <th></th>\n",
              "      <th>Date</th>\n",
              "      <th>AveragePrice</th>\n",
              "      <th>Total Volume</th>\n",
              "      <th>year</th>\n",
              "      <th>region</th>\n",
              "      <th>type</th>\n",
              "    </tr>\n",
              "  </thead>\n",
              "  <tbody>\n",
              "    <tr>\n",
              "      <th>0</th>\n",
              "      <td>2015-12-27</td>\n",
              "      <td>1.33</td>\n",
              "      <td>64236.62</td>\n",
              "      <td>2015</td>\n",
              "      <td>Albany</td>\n",
              "      <td>orgânico</td>\n",
              "    </tr>\n",
              "    <tr>\n",
              "      <th>1</th>\n",
              "      <td>2015-12-20</td>\n",
              "      <td>1.35</td>\n",
              "      <td>54876.98</td>\n",
              "      <td>2015</td>\n",
              "      <td>Albany</td>\n",
              "      <td>orgânico</td>\n",
              "    </tr>\n",
              "    <tr>\n",
              "      <th>2</th>\n",
              "      <td>2015-12-13</td>\n",
              "      <td>0.93</td>\n",
              "      <td>118220.22</td>\n",
              "      <td>2015</td>\n",
              "      <td>Albany</td>\n",
              "      <td>orgânico</td>\n",
              "    </tr>\n",
              "    <tr>\n",
              "      <th>3</th>\n",
              "      <td>2015-12-06</td>\n",
              "      <td>1.08</td>\n",
              "      <td>78992.15</td>\n",
              "      <td>2015</td>\n",
              "      <td>Albany</td>\n",
              "      <td>convencional</td>\n",
              "    </tr>\n",
              "    <tr>\n",
              "      <th>4</th>\n",
              "      <td>2015-11-29</td>\n",
              "      <td>1.28</td>\n",
              "      <td>51039.60</td>\n",
              "      <td>2015</td>\n",
              "      <td>Albany</td>\n",
              "      <td>orgânico</td>\n",
              "    </tr>\n",
              "  </tbody>\n",
              "</table>\n",
              "</div>"
            ],
            "text/plain": [
              "         Date  AveragePrice  Total Volume  year  region          type\n",
              "0  2015-12-27          1.33      64236.62  2015  Albany      orgânico\n",
              "1  2015-12-20          1.35      54876.98  2015  Albany      orgânico\n",
              "2  2015-12-13          0.93     118220.22  2015  Albany      orgânico\n",
              "3  2015-12-06          1.08      78992.15  2015  Albany  convencional\n",
              "4  2015-11-29          1.28      51039.60  2015  Albany      orgânico"
            ]
          },
          "execution_count": 77,
          "metadata": {},
          "output_type": "execute_result"
        }
      ],
      "source": [
        "df_avocado.head()"
      ]
    },
    {
      "cell_type": "code",
      "execution_count": 62,
      "metadata": {},
      "outputs": [
        {
          "name": "stdout",
          "output_type": "stream",
          "text": [
            "Dados convencionais e orgânicos\n"
          ]
        },
        {
          "data": {
            "text/plain": [
              "orgânico        9187\n",
              "convencional    9062\n",
              "Name: type, dtype: int64"
            ]
          },
          "execution_count": 62,
          "metadata": {},
          "output_type": "execute_result"
        }
      ],
      "source": [
        "# Retornando a quantidade de abacates do tipo convencional e do tipo orgânico\n",
        "print('Dados convencionais e orgânicos')\n",
        "df_avocado['type'].value_counts()"
      ]
    },
    {
      "cell_type": "code",
      "execution_count": 63,
      "metadata": {},
      "outputs": [
        {
          "data": {
            "text/plain": [
              "Albany                338\n",
              "Sacramento            338\n",
              "Northeast             338\n",
              "NorthernNewEngland    338\n",
              "Orlando               338\n",
              "Name: region, dtype: int64"
            ]
          },
          "execution_count": 63,
          "metadata": {},
          "output_type": "execute_result"
        }
      ],
      "source": [
        "# Retornando a quantidade de abacates vendidos em cada região \n",
        "df_avocado['region'].value_counts()"
      ]
    },
    {
      "cell_type": "code",
      "execution_count": 68,
      "metadata": {},
      "outputs": [
        {
          "data": {
            "text/html": [
              "<div>\n",
              "<style scoped>\n",
              "    .dataframe tbody tr th:only-of-type {\n",
              "        vertical-align: middle;\n",
              "    }\n",
              "\n",
              "    .dataframe tbody tr th {\n",
              "        vertical-align: top;\n",
              "    }\n",
              "\n",
              "    .dataframe thead th {\n",
              "        text-align: right;\n",
              "    }\n",
              "</style>\n",
              "<table border=\"1\" class=\"dataframe\">\n",
              "  <thead>\n",
              "    <tr style=\"text-align: right;\">\n",
              "      <th></th>\n",
              "      <th>Date</th>\n",
              "      <th>AveragePrice</th>\n",
              "      <th>Total Volume</th>\n",
              "      <th>year</th>\n",
              "      <th>region</th>\n",
              "      <th>type</th>\n",
              "    </tr>\n",
              "  </thead>\n",
              "  <tbody>\n",
              "    <tr>\n",
              "      <th>0</th>\n",
              "      <td>2015-12-27</td>\n",
              "      <td>1.33</td>\n",
              "      <td>64236.62</td>\n",
              "      <td>2015</td>\n",
              "      <td>Albany</td>\n",
              "      <td>orgânico</td>\n",
              "    </tr>\n",
              "    <tr>\n",
              "      <th>1</th>\n",
              "      <td>2015-12-20</td>\n",
              "      <td>1.35</td>\n",
              "      <td>54876.98</td>\n",
              "      <td>2015</td>\n",
              "      <td>Albany</td>\n",
              "      <td>orgânico</td>\n",
              "    </tr>\n",
              "    <tr>\n",
              "      <th>2</th>\n",
              "      <td>2015-12-13</td>\n",
              "      <td>0.93</td>\n",
              "      <td>118220.22</td>\n",
              "      <td>2015</td>\n",
              "      <td>Albany</td>\n",
              "      <td>orgânico</td>\n",
              "    </tr>\n",
              "    <tr>\n",
              "      <th>3</th>\n",
              "      <td>2015-12-06</td>\n",
              "      <td>1.08</td>\n",
              "      <td>78992.15</td>\n",
              "      <td>2015</td>\n",
              "      <td>Albany</td>\n",
              "      <td>convencional</td>\n",
              "    </tr>\n",
              "    <tr>\n",
              "      <th>4</th>\n",
              "      <td>2015-11-29</td>\n",
              "      <td>1.28</td>\n",
              "      <td>51039.60</td>\n",
              "      <td>2015</td>\n",
              "      <td>Albany</td>\n",
              "      <td>orgânico</td>\n",
              "    </tr>\n",
              "  </tbody>\n",
              "</table>\n",
              "</div>"
            ],
            "text/plain": [
              "         Date  AveragePrice  Total Volume  year  region          type\n",
              "0  2015-12-27          1.33      64236.62  2015  Albany      orgânico\n",
              "1  2015-12-20          1.35      54876.98  2015  Albany      orgânico\n",
              "2  2015-12-13          0.93     118220.22  2015  Albany      orgânico\n",
              "3  2015-12-06          1.08      78992.15  2015  Albany  convencional\n",
              "4  2015-11-29          1.28      51039.60  2015  Albany      orgânico"
            ]
          },
          "execution_count": 68,
          "metadata": {},
          "output_type": "execute_result"
        }
      ],
      "source": [
        "df_avocado.head()"
      ]
    },
    {
      "cell_type": "code",
      "execution_count": 69,
      "metadata": {},
      "outputs": [
        {
          "data": {
            "text/html": [
              "<div>\n",
              "<style scoped>\n",
              "    .dataframe tbody tr th:only-of-type {\n",
              "        vertical-align: middle;\n",
              "    }\n",
              "\n",
              "    .dataframe tbody tr th {\n",
              "        vertical-align: top;\n",
              "    }\n",
              "\n",
              "    .dataframe thead th {\n",
              "        text-align: right;\n",
              "    }\n",
              "</style>\n",
              "<table border=\"1\" class=\"dataframe\">\n",
              "  <thead>\n",
              "    <tr style=\"text-align: right;\">\n",
              "      <th></th>\n",
              "      <th>date</th>\n",
              "      <th>average_price</th>\n",
              "      <th>total_volume</th>\n",
              "      <th>year</th>\n",
              "      <th>region</th>\n",
              "      <th>type</th>\n",
              "    </tr>\n",
              "  </thead>\n",
              "  <tbody>\n",
              "    <tr>\n",
              "      <th>0</th>\n",
              "      <td>2015-12-27</td>\n",
              "      <td>1.33</td>\n",
              "      <td>64236.62</td>\n",
              "      <td>2015</td>\n",
              "      <td>Albany</td>\n",
              "      <td>orgânico</td>\n",
              "    </tr>\n",
              "    <tr>\n",
              "      <th>1</th>\n",
              "      <td>2015-12-20</td>\n",
              "      <td>1.35</td>\n",
              "      <td>54876.98</td>\n",
              "      <td>2015</td>\n",
              "      <td>Albany</td>\n",
              "      <td>orgânico</td>\n",
              "    </tr>\n",
              "    <tr>\n",
              "      <th>2</th>\n",
              "      <td>2015-12-13</td>\n",
              "      <td>0.93</td>\n",
              "      <td>118220.22</td>\n",
              "      <td>2015</td>\n",
              "      <td>Albany</td>\n",
              "      <td>orgânico</td>\n",
              "    </tr>\n",
              "    <tr>\n",
              "      <th>3</th>\n",
              "      <td>2015-12-06</td>\n",
              "      <td>1.08</td>\n",
              "      <td>78992.15</td>\n",
              "      <td>2015</td>\n",
              "      <td>Albany</td>\n",
              "      <td>convencional</td>\n",
              "    </tr>\n",
              "    <tr>\n",
              "      <th>4</th>\n",
              "      <td>2015-11-29</td>\n",
              "      <td>1.28</td>\n",
              "      <td>51039.60</td>\n",
              "      <td>2015</td>\n",
              "      <td>Albany</td>\n",
              "      <td>orgânico</td>\n",
              "    </tr>\n",
              "    <tr>\n",
              "      <th>...</th>\n",
              "      <td>...</td>\n",
              "      <td>...</td>\n",
              "      <td>...</td>\n",
              "      <td>...</td>\n",
              "      <td>...</td>\n",
              "      <td>...</td>\n",
              "    </tr>\n",
              "    <tr>\n",
              "      <th>18244</th>\n",
              "      <td>2018-02-04</td>\n",
              "      <td>1.63</td>\n",
              "      <td>17074.83</td>\n",
              "      <td>2018</td>\n",
              "      <td>WestTexNewMexico</td>\n",
              "      <td>convencional</td>\n",
              "    </tr>\n",
              "    <tr>\n",
              "      <th>18245</th>\n",
              "      <td>2018-01-28</td>\n",
              "      <td>1.71</td>\n",
              "      <td>13888.04</td>\n",
              "      <td>2018</td>\n",
              "      <td>WestTexNewMexico</td>\n",
              "      <td>orgânico</td>\n",
              "    </tr>\n",
              "    <tr>\n",
              "      <th>18246</th>\n",
              "      <td>2018-01-21</td>\n",
              "      <td>1.87</td>\n",
              "      <td>13766.76</td>\n",
              "      <td>2018</td>\n",
              "      <td>WestTexNewMexico</td>\n",
              "      <td>convencional</td>\n",
              "    </tr>\n",
              "    <tr>\n",
              "      <th>18247</th>\n",
              "      <td>2018-01-14</td>\n",
              "      <td>1.93</td>\n",
              "      <td>16205.22</td>\n",
              "      <td>2018</td>\n",
              "      <td>WestTexNewMexico</td>\n",
              "      <td>convencional</td>\n",
              "    </tr>\n",
              "    <tr>\n",
              "      <th>18248</th>\n",
              "      <td>2018-01-07</td>\n",
              "      <td>1.62</td>\n",
              "      <td>17489.58</td>\n",
              "      <td>2018</td>\n",
              "      <td>WestTexNewMexico</td>\n",
              "      <td>orgânico</td>\n",
              "    </tr>\n",
              "  </tbody>\n",
              "</table>\n",
              "<p>18249 rows × 6 columns</p>\n",
              "</div>"
            ],
            "text/plain": [
              "             date  average_price  total_volume  year            region  \\\n",
              "0      2015-12-27           1.33      64236.62  2015            Albany   \n",
              "1      2015-12-20           1.35      54876.98  2015            Albany   \n",
              "2      2015-12-13           0.93     118220.22  2015            Albany   \n",
              "3      2015-12-06           1.08      78992.15  2015            Albany   \n",
              "4      2015-11-29           1.28      51039.60  2015            Albany   \n",
              "...           ...            ...           ...   ...               ...   \n",
              "18244  2018-02-04           1.63      17074.83  2018  WestTexNewMexico   \n",
              "18245  2018-01-28           1.71      13888.04  2018  WestTexNewMexico   \n",
              "18246  2018-01-21           1.87      13766.76  2018  WestTexNewMexico   \n",
              "18247  2018-01-14           1.93      16205.22  2018  WestTexNewMexico   \n",
              "18248  2018-01-07           1.62      17489.58  2018  WestTexNewMexico   \n",
              "\n",
              "               type  \n",
              "0          orgânico  \n",
              "1          orgânico  \n",
              "2          orgânico  \n",
              "3      convencional  \n",
              "4          orgânico  \n",
              "...             ...  \n",
              "18244  convencional  \n",
              "18245      orgânico  \n",
              "18246  convencional  \n",
              "18247  convencional  \n",
              "18248      orgânico  \n",
              "\n",
              "[18249 rows x 6 columns]"
            ]
          },
          "execution_count": 69,
          "metadata": {},
          "output_type": "execute_result"
        }
      ],
      "source": [
        "# Padronizando as colunas do dataframe\n",
        "# df.rename(columns={\"A\": \"a\", \"B\": \"c\"})\n",
        "\n",
        "df_avocado.rename(columns = {\n",
        "    'Date': 'date',\n",
        "    'AveragePrice': 'average_price',\n",
        "    'Total Volume': 'total_volume'\n",
        "})"
      ]
    },
    {
      "cell_type": "code",
      "execution_count": 75,
      "metadata": {},
      "outputs": [
        {
          "data": {
            "text/html": [
              "<div>\n",
              "<style scoped>\n",
              "    .dataframe tbody tr th:only-of-type {\n",
              "        vertical-align: middle;\n",
              "    }\n",
              "\n",
              "    .dataframe tbody tr th {\n",
              "        vertical-align: top;\n",
              "    }\n",
              "\n",
              "    .dataframe thead th {\n",
              "        text-align: right;\n",
              "    }\n",
              "</style>\n",
              "<table border=\"1\" class=\"dataframe\">\n",
              "  <thead>\n",
              "    <tr style=\"text-align: right;\">\n",
              "      <th></th>\n",
              "      <th>Date</th>\n",
              "      <th>AveragePrice</th>\n",
              "      <th>Total Volume</th>\n",
              "      <th>region</th>\n",
              "      <th>type</th>\n",
              "    </tr>\n",
              "  </thead>\n",
              "  <tbody>\n",
              "    <tr>\n",
              "      <th>0</th>\n",
              "      <td>2015-12-27</td>\n",
              "      <td>1.33</td>\n",
              "      <td>64236.62</td>\n",
              "      <td>Albany</td>\n",
              "      <td>orgânico</td>\n",
              "    </tr>\n",
              "    <tr>\n",
              "      <th>1</th>\n",
              "      <td>2015-12-20</td>\n",
              "      <td>1.35</td>\n",
              "      <td>54876.98</td>\n",
              "      <td>Albany</td>\n",
              "      <td>orgânico</td>\n",
              "    </tr>\n",
              "    <tr>\n",
              "      <th>2</th>\n",
              "      <td>2015-12-13</td>\n",
              "      <td>0.93</td>\n",
              "      <td>118220.22</td>\n",
              "      <td>Albany</td>\n",
              "      <td>orgânico</td>\n",
              "    </tr>\n",
              "    <tr>\n",
              "      <th>3</th>\n",
              "      <td>2015-12-06</td>\n",
              "      <td>1.08</td>\n",
              "      <td>78992.15</td>\n",
              "      <td>Albany</td>\n",
              "      <td>convencional</td>\n",
              "    </tr>\n",
              "    <tr>\n",
              "      <th>4</th>\n",
              "      <td>2015-11-29</td>\n",
              "      <td>1.28</td>\n",
              "      <td>51039.60</td>\n",
              "      <td>Albany</td>\n",
              "      <td>orgânico</td>\n",
              "    </tr>\n",
              "    <tr>\n",
              "      <th>...</th>\n",
              "      <td>...</td>\n",
              "      <td>...</td>\n",
              "      <td>...</td>\n",
              "      <td>...</td>\n",
              "      <td>...</td>\n",
              "    </tr>\n",
              "    <tr>\n",
              "      <th>18244</th>\n",
              "      <td>2018-02-04</td>\n",
              "      <td>1.63</td>\n",
              "      <td>17074.83</td>\n",
              "      <td>WestTexNewMexico</td>\n",
              "      <td>convencional</td>\n",
              "    </tr>\n",
              "    <tr>\n",
              "      <th>18245</th>\n",
              "      <td>2018-01-28</td>\n",
              "      <td>1.71</td>\n",
              "      <td>13888.04</td>\n",
              "      <td>WestTexNewMexico</td>\n",
              "      <td>orgânico</td>\n",
              "    </tr>\n",
              "    <tr>\n",
              "      <th>18246</th>\n",
              "      <td>2018-01-21</td>\n",
              "      <td>1.87</td>\n",
              "      <td>13766.76</td>\n",
              "      <td>WestTexNewMexico</td>\n",
              "      <td>convencional</td>\n",
              "    </tr>\n",
              "    <tr>\n",
              "      <th>18247</th>\n",
              "      <td>2018-01-14</td>\n",
              "      <td>1.93</td>\n",
              "      <td>16205.22</td>\n",
              "      <td>WestTexNewMexico</td>\n",
              "      <td>convencional</td>\n",
              "    </tr>\n",
              "    <tr>\n",
              "      <th>18248</th>\n",
              "      <td>2018-01-07</td>\n",
              "      <td>1.62</td>\n",
              "      <td>17489.58</td>\n",
              "      <td>WestTexNewMexico</td>\n",
              "      <td>orgânico</td>\n",
              "    </tr>\n",
              "  </tbody>\n",
              "</table>\n",
              "<p>18249 rows × 5 columns</p>\n",
              "</div>"
            ],
            "text/plain": [
              "             Date  AveragePrice  Total Volume            region          type\n",
              "0      2015-12-27          1.33      64236.62            Albany      orgânico\n",
              "1      2015-12-20          1.35      54876.98            Albany      orgânico\n",
              "2      2015-12-13          0.93     118220.22            Albany      orgânico\n",
              "3      2015-12-06          1.08      78992.15            Albany  convencional\n",
              "4      2015-11-29          1.28      51039.60            Albany      orgânico\n",
              "...           ...           ...           ...               ...           ...\n",
              "18244  2018-02-04          1.63      17074.83  WestTexNewMexico  convencional\n",
              "18245  2018-01-28          1.71      13888.04  WestTexNewMexico      orgânico\n",
              "18246  2018-01-21          1.87      13766.76  WestTexNewMexico  convencional\n",
              "18247  2018-01-14          1.93      16205.22  WestTexNewMexico  convencional\n",
              "18248  2018-01-07          1.62      17489.58  WestTexNewMexico      orgânico\n",
              "\n",
              "[18249 rows x 5 columns]"
            ]
          },
          "execution_count": 75,
          "metadata": {},
          "output_type": "execute_result"
        }
      ],
      "source": [
        "# Dropando a coluna year\n",
        "df_avocado.drop(columns = 'year')"
      ]
    },
    {
      "cell_type": "markdown",
      "metadata": {},
      "source": [
        "Questão 03 - Carregue, em um objeto DataFrame, o mesmo dataset que você salvou na questão Q1, agrupe os dados do DF pelo tipo do abacate e, em seguida, obtenha:\n",
        "\n",
        "- (a) A volume total de abacates vendidos para cada tipo.\n",
        "- (b) O preço médio dos abacates vendidos para cada tipo."
      ]
    },
    {
      "cell_type": "code",
      "execution_count": 78,
      "metadata": {},
      "outputs": [],
      "source": [
        "# Carregando dataframe\n",
        "df_avocado = pd.read_csv('./datasets/avocado_type_random.csv')"
      ]
    },
    {
      "cell_type": "code",
      "execution_count": 94,
      "metadata": {},
      "outputs": [
        {
          "data": {
            "text/html": [
              "<div>\n",
              "<style scoped>\n",
              "    .dataframe tbody tr th:only-of-type {\n",
              "        vertical-align: middle;\n",
              "    }\n",
              "\n",
              "    .dataframe tbody tr th {\n",
              "        vertical-align: top;\n",
              "    }\n",
              "\n",
              "    .dataframe thead th {\n",
              "        text-align: right;\n",
              "    }\n",
              "</style>\n",
              "<table border=\"1\" class=\"dataframe\">\n",
              "  <thead>\n",
              "    <tr style=\"text-align: right;\">\n",
              "      <th></th>\n",
              "      <th>Date</th>\n",
              "      <th>AveragePrice</th>\n",
              "      <th>Total Volume</th>\n",
              "      <th>year</th>\n",
              "      <th>region</th>\n",
              "      <th>type</th>\n",
              "    </tr>\n",
              "  </thead>\n",
              "  <tbody>\n",
              "    <tr>\n",
              "      <th>0</th>\n",
              "      <td>2015-12-27</td>\n",
              "      <td>1.33</td>\n",
              "      <td>64236.62</td>\n",
              "      <td>2015</td>\n",
              "      <td>Albany</td>\n",
              "      <td>orgânico</td>\n",
              "    </tr>\n",
              "  </tbody>\n",
              "</table>\n",
              "</div>"
            ],
            "text/plain": [
              "         Date  AveragePrice  Total Volume  year  region      type\n",
              "0  2015-12-27          1.33      64236.62  2015  Albany  orgânico"
            ]
          },
          "execution_count": 94,
          "metadata": {},
          "output_type": "execute_result"
        }
      ],
      "source": [
        "df_avocado.head(1)"
      ]
    },
    {
      "cell_type": "code",
      "execution_count": 88,
      "metadata": {},
      "outputs": [
        {
          "data": {
            "text/plain": [
              "type\n",
              "convencional    7.636508e+09\n",
              "orgânico        7.886894e+09\n",
              "Name: Total Volume, dtype: float64"
            ]
          },
          "execution_count": 88,
          "metadata": {},
          "output_type": "execute_result"
        }
      ],
      "source": [
        "# Agrupando com groupby e obtendo o volume total para cada tipo\n",
        "\n",
        "df_avocado.groupby(['type'])['Total Volume'].sum()"
      ]
    },
    {
      "cell_type": "code",
      "execution_count": 95,
      "metadata": {},
      "outputs": [
        {
          "data": {
            "text/plain": [
              "type\n",
              "convencional    1.403339\n",
              "orgânico        1.408582\n",
              "Name: AveragePrice, dtype: float64"
            ]
          },
          "execution_count": 95,
          "metadata": {},
          "output_type": "execute_result"
        }
      ],
      "source": [
        "# O preço médio dos abacates vendidos pra cada tipo\n",
        "df_avocado.groupby(['type'])['AveragePrice'].mean()"
      ]
    },
    {
      "cell_type": "markdown",
      "metadata": {},
      "source": [
        "Questão 4 - O arquivo googleplaystore.csv é um dataset que contém diversas informações sobre aplicativos disponíveis para download na Google Play Store. Logo após, verifique se existem dados duplicados e/ou ausentes nesse dataset.\n",
        "\n",
        "Caso existam dados duplicados, remova-os. Caso existam dados ausentes, você pode removê-los ou pensar em alguma maneira de preenchê-los."
      ]
    },
    {
      "cell_type": "code",
      "execution_count": 131,
      "metadata": {},
      "outputs": [],
      "source": [
        "# Carregando o dataset\n",
        "df_playstore = pd.read_csv('./datasets/googleplaystore.csv')"
      ]
    },
    {
      "cell_type": "code",
      "execution_count": 132,
      "metadata": {},
      "outputs": [
        {
          "data": {
            "text/html": [
              "<div>\n",
              "<style scoped>\n",
              "    .dataframe tbody tr th:only-of-type {\n",
              "        vertical-align: middle;\n",
              "    }\n",
              "\n",
              "    .dataframe tbody tr th {\n",
              "        vertical-align: top;\n",
              "    }\n",
              "\n",
              "    .dataframe thead th {\n",
              "        text-align: right;\n",
              "    }\n",
              "</style>\n",
              "<table border=\"1\" class=\"dataframe\">\n",
              "  <thead>\n",
              "    <tr style=\"text-align: right;\">\n",
              "      <th></th>\n",
              "      <th>App</th>\n",
              "      <th>Category</th>\n",
              "      <th>Rating</th>\n",
              "      <th>Reviews</th>\n",
              "      <th>Size</th>\n",
              "      <th>Installs</th>\n",
              "      <th>Type</th>\n",
              "      <th>Price</th>\n",
              "      <th>Content Rating</th>\n",
              "      <th>Genres</th>\n",
              "      <th>Last Updated</th>\n",
              "      <th>Current Ver</th>\n",
              "      <th>Android Ver</th>\n",
              "    </tr>\n",
              "  </thead>\n",
              "  <tbody>\n",
              "    <tr>\n",
              "      <th>0</th>\n",
              "      <td>Photo Editor &amp; Candy Camera &amp; Grid &amp; ScrapBook</td>\n",
              "      <td>ART_AND_DESIGN</td>\n",
              "      <td>4.1</td>\n",
              "      <td>159</td>\n",
              "      <td>19M</td>\n",
              "      <td>10,000+</td>\n",
              "      <td>Free</td>\n",
              "      <td>0</td>\n",
              "      <td>Everyone</td>\n",
              "      <td>Art &amp; Design</td>\n",
              "      <td>January 7, 2018</td>\n",
              "      <td>1.0.0</td>\n",
              "      <td>4.0.3 and up</td>\n",
              "    </tr>\n",
              "    <tr>\n",
              "      <th>1</th>\n",
              "      <td>Coloring book moana</td>\n",
              "      <td>ART_AND_DESIGN</td>\n",
              "      <td>3.9</td>\n",
              "      <td>967</td>\n",
              "      <td>14M</td>\n",
              "      <td>500,000+</td>\n",
              "      <td>Free</td>\n",
              "      <td>0</td>\n",
              "      <td>Everyone</td>\n",
              "      <td>Art &amp; Design;Pretend Play</td>\n",
              "      <td>January 15, 2018</td>\n",
              "      <td>2.0.0</td>\n",
              "      <td>4.0.3 and up</td>\n",
              "    </tr>\n",
              "  </tbody>\n",
              "</table>\n",
              "</div>"
            ],
            "text/plain": [
              "                                              App        Category  Rating  \\\n",
              "0  Photo Editor & Candy Camera & Grid & ScrapBook  ART_AND_DESIGN     4.1   \n",
              "1                             Coloring book moana  ART_AND_DESIGN     3.9   \n",
              "\n",
              "  Reviews Size  Installs  Type Price Content Rating  \\\n",
              "0     159  19M   10,000+  Free     0       Everyone   \n",
              "1     967  14M  500,000+  Free     0       Everyone   \n",
              "\n",
              "                      Genres      Last Updated Current Ver   Android Ver  \n",
              "0               Art & Design   January 7, 2018       1.0.0  4.0.3 and up  \n",
              "1  Art & Design;Pretend Play  January 15, 2018       2.0.0  4.0.3 and up  "
            ]
          },
          "execution_count": 132,
          "metadata": {},
          "output_type": "execute_result"
        }
      ],
      "source": [
        "# Dando uma olhada no arquivo\n",
        "df_playstore.head(2)"
      ]
    },
    {
      "cell_type": "code",
      "execution_count": 133,
      "metadata": {},
      "outputs": [
        {
          "name": "stdout",
          "output_type": "stream",
          "text": [
            "<class 'pandas.core.frame.DataFrame'>\n",
            "RangeIndex: 10841 entries, 0 to 10840\n",
            "Data columns (total 13 columns):\n",
            " #   Column          Non-Null Count  Dtype  \n",
            "---  ------          --------------  -----  \n",
            " 0   App             10841 non-null  object \n",
            " 1   Category        10841 non-null  object \n",
            " 2   Rating          9367 non-null   float64\n",
            " 3   Reviews         10841 non-null  object \n",
            " 4   Size            10841 non-null  object \n",
            " 5   Installs        10841 non-null  object \n",
            " 6   Type            10840 non-null  object \n",
            " 7   Price           10841 non-null  object \n",
            " 8   Content Rating  10840 non-null  object \n",
            " 9   Genres          10841 non-null  object \n",
            " 10  Last Updated    10841 non-null  object \n",
            " 11  Current Ver     10833 non-null  object \n",
            " 12  Android Ver     10838 non-null  object \n",
            "dtypes: float64(1), object(12)\n",
            "memory usage: 1.1+ MB\n"
          ]
        }
      ],
      "source": [
        "df_playstore.info()"
      ]
    },
    {
      "cell_type": "code",
      "execution_count": 135,
      "metadata": {},
      "outputs": [],
      "source": [
        "# Dropando as linhas duplicadas, mantendo a primeira por padrão\n",
        "df_playstore = df_playstore.drop_duplicates()"
      ]
    },
    {
      "cell_type": "code",
      "execution_count": 136,
      "metadata": {},
      "outputs": [
        {
          "name": "stdout",
          "output_type": "stream",
          "text": [
            "<class 'pandas.core.frame.DataFrame'>\n",
            "Int64Index: 10358 entries, 0 to 10840\n",
            "Data columns (total 13 columns):\n",
            " #   Column          Non-Null Count  Dtype  \n",
            "---  ------          --------------  -----  \n",
            " 0   App             10358 non-null  object \n",
            " 1   Category        10358 non-null  object \n",
            " 2   Rating          8893 non-null   float64\n",
            " 3   Reviews         10358 non-null  object \n",
            " 4   Size            10358 non-null  object \n",
            " 5   Installs        10358 non-null  object \n",
            " 6   Type            10357 non-null  object \n",
            " 7   Price           10358 non-null  object \n",
            " 8   Content Rating  10357 non-null  object \n",
            " 9   Genres          10358 non-null  object \n",
            " 10  Last Updated    10358 non-null  object \n",
            " 11  Current Ver     10350 non-null  object \n",
            " 12  Android Ver     10355 non-null  object \n",
            "dtypes: float64(1), object(12)\n",
            "memory usage: 1.1+ MB\n"
          ]
        }
      ],
      "source": [
        "df_playstore.info()"
      ]
    },
    {
      "cell_type": "code",
      "execution_count": 137,
      "metadata": {},
      "outputs": [],
      "source": [
        "# Tratando infos faltando!\n",
        "# Há informações faltando nas seguintes colunas: Type, Content Rating, Current Ver, Android Ver e Rating.\n",
        "\n",
        "# Todas exceto a Rating são poucas lindas quando comparadas ao todo, sendo assim serão retiradas.\n",
        "# Dropando linhas das colunas selecionadas\n",
        "\n",
        "df_playstore = df_playstore.dropna(subset = ['Type', 'Content Rating', 'Current Ver', 'Android Ver'])\n"
      ]
    },
    {
      "cell_type": "code",
      "execution_count": 138,
      "metadata": {},
      "outputs": [
        {
          "name": "stdout",
          "output_type": "stream",
          "text": [
            "<class 'pandas.core.frame.DataFrame'>\n",
            "Int64Index: 10346 entries, 0 to 10840\n",
            "Data columns (total 13 columns):\n",
            " #   Column          Non-Null Count  Dtype  \n",
            "---  ------          --------------  -----  \n",
            " 0   App             10346 non-null  object \n",
            " 1   Category        10346 non-null  object \n",
            " 2   Rating          8886 non-null   float64\n",
            " 3   Reviews         10346 non-null  object \n",
            " 4   Size            10346 non-null  object \n",
            " 5   Installs        10346 non-null  object \n",
            " 6   Type            10346 non-null  object \n",
            " 7   Price           10346 non-null  object \n",
            " 8   Content Rating  10346 non-null  object \n",
            " 9   Genres          10346 non-null  object \n",
            " 10  Last Updated    10346 non-null  object \n",
            " 11  Current Ver     10346 non-null  object \n",
            " 12  Android Ver     10346 non-null  object \n",
            "dtypes: float64(1), object(12)\n",
            "memory usage: 1.1+ MB\n"
          ]
        }
      ],
      "source": [
        "df_playstore.info()"
      ]
    },
    {
      "cell_type": "code",
      "execution_count": 139,
      "metadata": {},
      "outputs": [
        {
          "data": {
            "text/plain": [
              "4.187958586540626"
            ]
          },
          "execution_count": 139,
          "metadata": {},
          "output_type": "execute_result"
        }
      ],
      "source": [
        "# Tratando o Rating\n",
        "# Primeiro, vamos descobrir a média desses valores. Os valores NaN não são ignorados ao fazer a média\n",
        "# daí, precisamos fazer esse tratamento pra chegar no resultado de média da coluna.\n",
        "\n",
        "df_playstore['Rating'].mean(skipna=True)"
      ]
    },
    {
      "cell_type": "code",
      "execution_count": 140,
      "metadata": {},
      "outputs": [
        {
          "data": {
            "text/plain": [
              "4.3"
            ]
          },
          "execution_count": 140,
          "metadata": {},
          "output_type": "execute_result"
        }
      ],
      "source": [
        "# Vale observar também a mediana dos valores\n",
        "df_playstore['Rating'].median(skipna=True)"
      ]
    },
    {
      "cell_type": "code",
      "execution_count": 141,
      "metadata": {},
      "outputs": [],
      "source": [
        "mean = df_playstore['Rating'].mean(skipna=True)"
      ]
    },
    {
      "cell_type": "code",
      "execution_count": 142,
      "metadata": {},
      "outputs": [],
      "source": [
        "# Como os valores foram quase os mesmos, optei por manter a média dos valores no preenchimento dos NaN.\n",
        "# Esse tratamento se deu por conta da grande quantidade de dados e por ser um métrica que pode ser inter-\n",
        "# -pretada pelo todo. A chance de um usuário ter dado uma nota '4.18+' nessa massa de dados é grande.\n",
        "\n",
        "df_playstore = df_playstore.fillna(value = mean)"
      ]
    },
    {
      "cell_type": "code",
      "execution_count": 143,
      "metadata": {},
      "outputs": [
        {
          "name": "stdout",
          "output_type": "stream",
          "text": [
            "<class 'pandas.core.frame.DataFrame'>\n",
            "Int64Index: 10346 entries, 0 to 10840\n",
            "Data columns (total 13 columns):\n",
            " #   Column          Non-Null Count  Dtype  \n",
            "---  ------          --------------  -----  \n",
            " 0   App             10346 non-null  object \n",
            " 1   Category        10346 non-null  object \n",
            " 2   Rating          10346 non-null  float64\n",
            " 3   Reviews         10346 non-null  object \n",
            " 4   Size            10346 non-null  object \n",
            " 5   Installs        10346 non-null  object \n",
            " 6   Type            10346 non-null  object \n",
            " 7   Price           10346 non-null  object \n",
            " 8   Content Rating  10346 non-null  object \n",
            " 9   Genres          10346 non-null  object \n",
            " 10  Last Updated    10346 non-null  object \n",
            " 11  Current Ver     10346 non-null  object \n",
            " 12  Android Ver     10346 non-null  object \n",
            "dtypes: float64(1), object(12)\n",
            "memory usage: 1.1+ MB\n"
          ]
        }
      ],
      "source": [
        "df_playstore.info()"
      ]
    },
    {
      "cell_type": "markdown",
      "metadata": {},
      "source": [
        "Questão 05 - O arquivo houses_to_rent.csv consiste em um dataset que contém dados sobre casas para alugar no Brasil. Carregue-o em um objeto DataFrame e verifique os dados contidos nas colunas desse DF (você pode utilizar os métodos head, tail e info). Logo após, verifique se existem dados duplicados e/ou ausentes nesse dataset.\n",
        "\n",
        "Caso existam dados duplicados, remova-os. Caso existam dados ausentes, você pode removê-los ou pensar em alguma maneira de preenchê-lo"
      ]
    },
    {
      "cell_type": "code",
      "execution_count": 144,
      "metadata": {},
      "outputs": [],
      "source": [
        "# Carregando o arquivo csv\n",
        "\n",
        "df_houses = pd.read_csv('./datasets/houses_to_rent.csv')"
      ]
    },
    {
      "cell_type": "code",
      "execution_count": 146,
      "metadata": {},
      "outputs": [
        {
          "data": {
            "text/html": [
              "<div>\n",
              "<style scoped>\n",
              "    .dataframe tbody tr th:only-of-type {\n",
              "        vertical-align: middle;\n",
              "    }\n",
              "\n",
              "    .dataframe tbody tr th {\n",
              "        vertical-align: top;\n",
              "    }\n",
              "\n",
              "    .dataframe thead th {\n",
              "        text-align: right;\n",
              "    }\n",
              "</style>\n",
              "<table border=\"1\" class=\"dataframe\">\n",
              "  <thead>\n",
              "    <tr style=\"text-align: right;\">\n",
              "      <th></th>\n",
              "      <th>city</th>\n",
              "      <th>area</th>\n",
              "      <th>rooms</th>\n",
              "      <th>bathroom</th>\n",
              "      <th>parking spaces</th>\n",
              "      <th>floor</th>\n",
              "      <th>animal</th>\n",
              "      <th>furniture</th>\n",
              "      <th>hoa (R$)</th>\n",
              "      <th>rent amount (R$)</th>\n",
              "      <th>property tax (R$)</th>\n",
              "      <th>fire insurance (R$)</th>\n",
              "      <th>total (R$)</th>\n",
              "    </tr>\n",
              "  </thead>\n",
              "  <tbody>\n",
              "    <tr>\n",
              "      <th>0</th>\n",
              "      <td>São Paulo</td>\n",
              "      <td>70</td>\n",
              "      <td>2</td>\n",
              "      <td>1</td>\n",
              "      <td>1</td>\n",
              "      <td>7</td>\n",
              "      <td>acept</td>\n",
              "      <td>furnished</td>\n",
              "      <td>2065</td>\n",
              "      <td>3300</td>\n",
              "      <td>211</td>\n",
              "      <td>42</td>\n",
              "      <td>5618</td>\n",
              "    </tr>\n",
              "    <tr>\n",
              "      <th>1</th>\n",
              "      <td>São Paulo</td>\n",
              "      <td>320</td>\n",
              "      <td>4</td>\n",
              "      <td>4</td>\n",
              "      <td>0</td>\n",
              "      <td>20</td>\n",
              "      <td>acept</td>\n",
              "      <td>not furnished</td>\n",
              "      <td>1200</td>\n",
              "      <td>4960</td>\n",
              "      <td>1750</td>\n",
              "      <td>63</td>\n",
              "      <td>7973</td>\n",
              "    </tr>\n",
              "    <tr>\n",
              "      <th>2</th>\n",
              "      <td>Porto Alegre</td>\n",
              "      <td>80</td>\n",
              "      <td>1</td>\n",
              "      <td>1</td>\n",
              "      <td>1</td>\n",
              "      <td>6</td>\n",
              "      <td>acept</td>\n",
              "      <td>not furnished</td>\n",
              "      <td>1000</td>\n",
              "      <td>2800</td>\n",
              "      <td>0</td>\n",
              "      <td>41</td>\n",
              "      <td>3841</td>\n",
              "    </tr>\n",
              "    <tr>\n",
              "      <th>3</th>\n",
              "      <td>Porto Alegre</td>\n",
              "      <td>51</td>\n",
              "      <td>2</td>\n",
              "      <td>1</td>\n",
              "      <td>0</td>\n",
              "      <td>2</td>\n",
              "      <td>acept</td>\n",
              "      <td>not furnished</td>\n",
              "      <td>270</td>\n",
              "      <td>1112</td>\n",
              "      <td>22</td>\n",
              "      <td>17</td>\n",
              "      <td>1421</td>\n",
              "    </tr>\n",
              "    <tr>\n",
              "      <th>4</th>\n",
              "      <td>São Paulo</td>\n",
              "      <td>25</td>\n",
              "      <td>1</td>\n",
              "      <td>1</td>\n",
              "      <td>0</td>\n",
              "      <td>1</td>\n",
              "      <td>not acept</td>\n",
              "      <td>not furnished</td>\n",
              "      <td>0</td>\n",
              "      <td>800</td>\n",
              "      <td>25</td>\n",
              "      <td>11</td>\n",
              "      <td>836</td>\n",
              "    </tr>\n",
              "  </tbody>\n",
              "</table>\n",
              "</div>"
            ],
            "text/plain": [
              "           city  area  rooms  bathroom  parking spaces floor     animal  \\\n",
              "0     São Paulo    70      2         1               1     7      acept   \n",
              "1     São Paulo   320      4         4               0    20      acept   \n",
              "2  Porto Alegre    80      1         1               1     6      acept   \n",
              "3  Porto Alegre    51      2         1               0     2      acept   \n",
              "4     São Paulo    25      1         1               0     1  not acept   \n",
              "\n",
              "       furniture  hoa (R$)  rent amount (R$)  property tax (R$)  \\\n",
              "0      furnished      2065              3300                211   \n",
              "1  not furnished      1200              4960               1750   \n",
              "2  not furnished      1000              2800                  0   \n",
              "3  not furnished       270              1112                 22   \n",
              "4  not furnished         0               800                 25   \n",
              "\n",
              "   fire insurance (R$)  total (R$)  \n",
              "0                   42        5618  \n",
              "1                   63        7973  \n",
              "2                   41        3841  \n",
              "3                   17        1421  \n",
              "4                   11         836  "
            ]
          },
          "execution_count": 146,
          "metadata": {},
          "output_type": "execute_result"
        }
      ],
      "source": [
        "# Dando uma olhada no arquivo\n",
        "df_houses.head()"
      ]
    },
    {
      "cell_type": "code",
      "execution_count": 147,
      "metadata": {},
      "outputs": [
        {
          "data": {
            "text/html": [
              "<div>\n",
              "<style scoped>\n",
              "    .dataframe tbody tr th:only-of-type {\n",
              "        vertical-align: middle;\n",
              "    }\n",
              "\n",
              "    .dataframe tbody tr th {\n",
              "        vertical-align: top;\n",
              "    }\n",
              "\n",
              "    .dataframe thead th {\n",
              "        text-align: right;\n",
              "    }\n",
              "</style>\n",
              "<table border=\"1\" class=\"dataframe\">\n",
              "  <thead>\n",
              "    <tr style=\"text-align: right;\">\n",
              "      <th></th>\n",
              "      <th>city</th>\n",
              "      <th>area</th>\n",
              "      <th>rooms</th>\n",
              "      <th>bathroom</th>\n",
              "      <th>parking spaces</th>\n",
              "      <th>floor</th>\n",
              "      <th>animal</th>\n",
              "      <th>furniture</th>\n",
              "      <th>hoa (R$)</th>\n",
              "      <th>rent amount (R$)</th>\n",
              "      <th>property tax (R$)</th>\n",
              "      <th>fire insurance (R$)</th>\n",
              "      <th>total (R$)</th>\n",
              "    </tr>\n",
              "  </thead>\n",
              "  <tbody>\n",
              "    <tr>\n",
              "      <th>10687</th>\n",
              "      <td>Porto Alegre</td>\n",
              "      <td>63</td>\n",
              "      <td>2</td>\n",
              "      <td>1</td>\n",
              "      <td>1</td>\n",
              "      <td>5</td>\n",
              "      <td>not acept</td>\n",
              "      <td>furnished</td>\n",
              "      <td>402</td>\n",
              "      <td>1478</td>\n",
              "      <td>24</td>\n",
              "      <td>22</td>\n",
              "      <td>1926</td>\n",
              "    </tr>\n",
              "    <tr>\n",
              "      <th>10688</th>\n",
              "      <td>São Paulo</td>\n",
              "      <td>285</td>\n",
              "      <td>4</td>\n",
              "      <td>4</td>\n",
              "      <td>4</td>\n",
              "      <td>17</td>\n",
              "      <td>acept</td>\n",
              "      <td>not furnished</td>\n",
              "      <td>3100</td>\n",
              "      <td>15000</td>\n",
              "      <td>973</td>\n",
              "      <td>191</td>\n",
              "      <td>19260</td>\n",
              "    </tr>\n",
              "    <tr>\n",
              "      <th>10689</th>\n",
              "      <td>Rio de Janeiro</td>\n",
              "      <td>70</td>\n",
              "      <td>3</td>\n",
              "      <td>3</td>\n",
              "      <td>0</td>\n",
              "      <td>8</td>\n",
              "      <td>not acept</td>\n",
              "      <td>furnished</td>\n",
              "      <td>980</td>\n",
              "      <td>6000</td>\n",
              "      <td>332</td>\n",
              "      <td>78</td>\n",
              "      <td>7390</td>\n",
              "    </tr>\n",
              "    <tr>\n",
              "      <th>10690</th>\n",
              "      <td>Rio de Janeiro</td>\n",
              "      <td>120</td>\n",
              "      <td>2</td>\n",
              "      <td>2</td>\n",
              "      <td>2</td>\n",
              "      <td>8</td>\n",
              "      <td>acept</td>\n",
              "      <td>furnished</td>\n",
              "      <td>1585</td>\n",
              "      <td>12000</td>\n",
              "      <td>279</td>\n",
              "      <td>155</td>\n",
              "      <td>14020</td>\n",
              "    </tr>\n",
              "    <tr>\n",
              "      <th>10691</th>\n",
              "      <td>São Paulo</td>\n",
              "      <td>80</td>\n",
              "      <td>2</td>\n",
              "      <td>1</td>\n",
              "      <td>0</td>\n",
              "      <td>-</td>\n",
              "      <td>acept</td>\n",
              "      <td>not furnished</td>\n",
              "      <td>0</td>\n",
              "      <td>1400</td>\n",
              "      <td>165</td>\n",
              "      <td>22</td>\n",
              "      <td>1587</td>\n",
              "    </tr>\n",
              "  </tbody>\n",
              "</table>\n",
              "</div>"
            ],
            "text/plain": [
              "                 city  area  rooms  bathroom  parking spaces floor     animal  \\\n",
              "10687    Porto Alegre    63      2         1               1     5  not acept   \n",
              "10688       São Paulo   285      4         4               4    17      acept   \n",
              "10689  Rio de Janeiro    70      3         3               0     8  not acept   \n",
              "10690  Rio de Janeiro   120      2         2               2     8      acept   \n",
              "10691       São Paulo    80      2         1               0     -      acept   \n",
              "\n",
              "           furniture  hoa (R$)  rent amount (R$)  property tax (R$)  \\\n",
              "10687      furnished       402              1478                 24   \n",
              "10688  not furnished      3100             15000                973   \n",
              "10689      furnished       980              6000                332   \n",
              "10690      furnished      1585             12000                279   \n",
              "10691  not furnished         0              1400                165   \n",
              "\n",
              "       fire insurance (R$)  total (R$)  \n",
              "10687                   22        1926  \n",
              "10688                  191       19260  \n",
              "10689                   78        7390  \n",
              "10690                  155       14020  \n",
              "10691                   22        1587  "
            ]
          },
          "execution_count": 147,
          "metadata": {},
          "output_type": "execute_result"
        }
      ],
      "source": [
        "df_houses.tail()"
      ]
    },
    {
      "cell_type": "code",
      "execution_count": 148,
      "metadata": {},
      "outputs": [
        {
          "name": "stdout",
          "output_type": "stream",
          "text": [
            "<class 'pandas.core.frame.DataFrame'>\n",
            "RangeIndex: 10692 entries, 0 to 10691\n",
            "Data columns (total 13 columns):\n",
            " #   Column               Non-Null Count  Dtype \n",
            "---  ------               --------------  ----- \n",
            " 0   city                 10692 non-null  object\n",
            " 1   area                 10692 non-null  int64 \n",
            " 2   rooms                10692 non-null  int64 \n",
            " 3   bathroom             10692 non-null  int64 \n",
            " 4   parking spaces       10692 non-null  int64 \n",
            " 5   floor                10692 non-null  object\n",
            " 6   animal               10692 non-null  object\n",
            " 7   furniture            10692 non-null  object\n",
            " 8   hoa (R$)             10692 non-null  int64 \n",
            " 9   rent amount (R$)     10692 non-null  int64 \n",
            " 10  property tax (R$)    10692 non-null  int64 \n",
            " 11  fire insurance (R$)  10692 non-null  int64 \n",
            " 12  total (R$)           10692 non-null  int64 \n",
            "dtypes: int64(9), object(4)\n",
            "memory usage: 1.1+ MB\n"
          ]
        }
      ],
      "source": [
        "df_houses.info()"
      ]
    },
    {
      "cell_type": "code",
      "execution_count": 153,
      "metadata": {},
      "outputs": [
        {
          "data": {
            "text/plain": [
              "city                   0\n",
              "area                   0\n",
              "rooms                  0\n",
              "bathroom               0\n",
              "parking spaces         0\n",
              "floor                  0\n",
              "animal                 0\n",
              "furniture              0\n",
              "hoa (R$)               0\n",
              "rent amount (R$)       0\n",
              "property tax (R$)      0\n",
              "fire insurance (R$)    0\n",
              "total (R$)             0\n",
              "dtype: int64"
            ]
          },
          "execution_count": 153,
          "metadata": {},
          "output_type": "execute_result"
        }
      ],
      "source": [
        "# De acordo com o info, das 10692 entradas, nenhuma é nula.\n",
        "# Verificando nulos\n",
        "df_houses.isna().sum()"
      ]
    },
    {
      "cell_type": "code",
      "execution_count": 158,
      "metadata": {},
      "outputs": [
        {
          "data": {
            "text/plain": [
              "358"
            ]
          },
          "execution_count": 158,
          "metadata": {},
          "output_type": "execute_result"
        }
      ],
      "source": [
        "# Verificando linhas duplicadas\n",
        "df_houses.duplicated().sum()"
      ]
    },
    {
      "cell_type": "code",
      "execution_count": 159,
      "metadata": {},
      "outputs": [],
      "source": [
        "# Como só há dados duplicados, podemos aplicar a remoção\n",
        "df_houses = df_houses.drop_duplicates()"
      ]
    },
    {
      "cell_type": "code",
      "execution_count": 160,
      "metadata": {},
      "outputs": [
        {
          "data": {
            "text/plain": [
              "0"
            ]
          },
          "execution_count": 160,
          "metadata": {},
          "output_type": "execute_result"
        }
      ],
      "source": [
        "# Verificando\n",
        "df_houses.duplicated().sum()"
      ]
    },
    {
      "cell_type": "code",
      "execution_count": null,
      "metadata": {},
      "outputs": [],
      "source": []
    }
  ],
  "metadata": {
    "colab": {
      "provenance": []
    },
    "kernelspec": {
      "display_name": "Python 3.8.5 ('base')",
      "language": "python",
      "name": "python3"
    },
    "language_info": {
      "codemirror_mode": {
        "name": "ipython",
        "version": 3
      },
      "file_extension": ".py",
      "mimetype": "text/x-python",
      "name": "python",
      "nbconvert_exporter": "python",
      "pygments_lexer": "ipython3",
      "version": "3.8.5"
    },
    "vscode": {
      "interpreter": {
        "hash": "3665bd8eefc71f7305aaf519ece2bf07af0507bb4df96a780de4b4965463bb15"
      }
    }
  },
  "nbformat": 4,
  "nbformat_minor": 0
}
