{
 "cells": [
  {
   "cell_type": "code",
   "execution_count": 2,
   "metadata": {},
   "outputs": [],
   "source": [
    "# 1 - Testando Hipóteses\n",
    "import numpy as np\n",
    "arr = np.arange(50)"
   ]
  },
  {
   "cell_type": "code",
   "execution_count": 3,
   "metadata": {},
   "outputs": [
    {
     "data": {
      "text/plain": [
       "array([ 0,  1,  2,  3,  4,  5,  6,  7,  8,  9, 10, 11, 12, 13, 14, 15, 16,\n",
       "       17, 18, 19, 20, 21, 22, 23, 24, 25, 26, 27, 28, 29, 30, 31, 32, 33,\n",
       "       34, 35, 36, 37, 38, 39, 40, 41, 42, 43, 44, 45, 46, 47, 48, 49])"
      ]
     },
     "execution_count": 3,
     "metadata": {},
     "output_type": "execute_result"
    }
   ],
   "source": [
    "arr"
   ]
  },
  {
   "cell_type": "code",
   "execution_count": 4,
   "metadata": {},
   "outputs": [
    {
     "name": "stdout",
     "output_type": "stream",
     "text": [
      "[0 1 0 1 0 1 0 1 0 1 0 1 0 1 0 1 0 1 0 1 0 1 0 1 0 1 0 1 0 1 0 1 0 1 0 1 0\n",
      " 1 0 1 0 1 0 1 0 1 0 1 0 1]\n"
     ]
    }
   ],
   "source": [
    "arr_atualizado = arr[arr % 2]\n",
    "print(arr_atualizado)"
   ]
  },
  {
   "cell_type": "code",
   "execution_count": 5,
   "metadata": {},
   "outputs": [
    {
     "name": "stdout",
     "output_type": "stream",
     "text": [
      "[ 6  7  8  9 10 11 12 13 14 15 16 17 18 19 20 21 22 23 24 25 26 27 28 29\n",
      " 30 31 32 33 34 35 36 37 38 39 40 41 42 43 44 45 46 47 48 49]\n"
     ]
    }
   ],
   "source": [
    "arr_atualizado = arr[arr > 5]\n",
    "print(arr_atualizado)"
   ]
  },
  {
   "cell_type": "code",
   "execution_count": 6,
   "metadata": {},
   "outputs": [
    {
     "name": "stdout",
     "output_type": "stream",
     "text": [
      "[ 0  1  2  3  4  5  6  7  8  9 10]\n"
     ]
    }
   ],
   "source": [
    "arr_atualizado = arr[arr <= 10]\n",
    "print(arr_atualizado)"
   ]
  },
  {
   "cell_type": "code",
   "execution_count": 16,
   "metadata": {},
   "outputs": [
    {
     "name": "stdout",
     "output_type": "stream",
     "text": [
      "[ 0  1  2  3  4  5  6  7  8  9 10 11 12 13 14 15 16 17 18 19 20 21 22 23\n",
      " 24 25 26 27 28 29 30 31 32 33 34 35 36 37 38 39 40 41 42 43 44 45 46 47\n",
      " 48 49]\n"
     ]
    }
   ],
   "source": [
    "arr_atualizado = arr[(arr != 1) | (arr != 3)]\n",
    "print(arr_atualizado)"
   ]
  },
  {
   "cell_type": "code",
   "execution_count": 62,
   "metadata": {},
   "outputs": [
    {
     "name": "stdout",
     "output_type": "stream",
     "text": [
      "[24 68 80 19 23 76 40 33 72 27 48 21 40 34 78]\n"
     ]
    }
   ],
   "source": [
    "# 2 Criar um array aleatório e máscaras\n",
    "\n",
    "# Criando array aleatório de 15 itens\n",
    "import numpy as np\n",
    "from random import random\n",
    "arr = np.random.randint(0, 100, 15)\n",
    "# Verificando o Array\n",
    "print(arr)\n",
    "\n"
   ]
  },
  {
   "cell_type": "code",
   "execution_count": 56,
   "metadata": {},
   "outputs": [
    {
     "name": "stdout",
     "output_type": "stream",
     "text": [
      "O maior número do array <max>: 84\n"
     ]
    }
   ],
   "source": [
    "# Maior número do array\n",
    "print(\"O maior número do array <max>:\", arr.max())"
   ]
  },
  {
   "cell_type": "code",
   "execution_count": 57,
   "metadata": {},
   "outputs": [
    {
     "name": "stdout",
     "output_type": "stream",
     "text": [
      "A posição do maior número <argmax>:  12\n"
     ]
    }
   ],
   "source": [
    "# Posição do maior número do array\n",
    "# Utilizando argmax\n",
    "print(\"A posição do maior número <argmax>: \", arr.argmax())\n"
   ]
  },
  {
   "cell_type": "code",
   "execution_count": 58,
   "metadata": {},
   "outputs": [
    {
     "name": "stdout",
     "output_type": "stream",
     "text": [
      "[21 24 49 20 21 21 25 25 84 67]\n"
     ]
    }
   ],
   "source": [
    "# Verificando quais números são maiores que 10\n",
    "# Aplicação de máscaras\n",
    "\n",
    "mascara_1 = arr[arr > 10]\n",
    "print(mascara_1)"
   ]
  },
  {
   "cell_type": "code",
   "execution_count": 61,
   "metadata": {},
   "outputs": [
    {
     "name": "stdout",
     "output_type": "stream",
     "text": [
      "[21, 24, 20, 21, 21, 25, 25]\n"
     ]
    }
   ],
   "source": [
    "# Criando uma lista com os números entre 10 e 30\n",
    "\n",
    "mascara_2 = arr[(arr > 10) & (arr < 30)]\n",
    "mascara_2 = mascara_2.tolist()\n",
    "print(mascara_2)"
   ]
  },
  {
   "cell_type": "code",
   "execution_count": 151,
   "metadata": {},
   "outputs": [
    {
     "name": "stdout",
     "output_type": "stream",
     "text": [
      "Matriz 1\n",
      "[[  0  20]\n",
      " [ 40  60]\n",
      " [ 80 100]]\n",
      "---------------------\n",
      "Matriz 2\n",
      "[[32 12]\n",
      " [74 36]\n",
      " [25 29]\n",
      " [86 76]\n",
      " [62 98]]\n",
      "---------------------\n",
      "Matriz 3\n",
      "[[1 0]\n",
      " [0 1]]\n",
      "---------------------\n",
      "Matriz resultante <matmul>\n",
      "[[  0  20]\n",
      " [ 40  60]\n",
      " [ 80 100]]\n",
      "---------------------\n"
     ]
    }
   ],
   "source": [
    "# 3 - Utilizando Matrizes! \n",
    "\n",
    "# Criando uma matriz (3,2) linearmente espaçada entre 0 e 100 com intervalos de 20\n",
    "\n",
    "mat_1 = (np.linspace(0, 100, 6).astype(int)).reshape(3,2)\n",
    "\n",
    "print('Matriz 1')\n",
    "print(mat_1)\n",
    "print('-'*21)\n",
    "\n",
    "# Gerando uma matriz (5, 2) com números entre 0, 100\n",
    "\n",
    "mat_2 = np.random.randint(0, 100, (5, 2))\n",
    "\n",
    "print('Matriz 2')\n",
    "print(mat_2)\n",
    "print('-'*21)\n",
    "\n",
    "\n",
    "# Criando um array com dimensões que quando multiplique a matriz do item a devolva a mesma (matriz identidade!)\n",
    "\n",
    "mat_3 = np.identity(2, dtype = int)\n",
    "\n",
    "print('Matriz 3')\n",
    "print(mat_3)\n",
    "print('-'*21)\n",
    "\n",
    "\n",
    "matmul = np.matmul(mat_1, mat_3)\n",
    "\n",
    "print('Matriz resultante <matmul>')\n",
    "print(matmul)\n",
    "print('-'*21)\n",
    "\n",
    "\n",
    "\n"
   ]
  },
  {
   "cell_type": "code",
   "execution_count": null,
   "metadata": {},
   "outputs": [],
   "source": []
  }
 ],
 "metadata": {
  "kernelspec": {
   "display_name": "Python 3.10.5 64-bit",
   "language": "python",
   "name": "python3"
  },
  "language_info": {
   "codemirror_mode": {
    "name": "ipython",
    "version": 3
   },
   "file_extension": ".py",
   "mimetype": "text/x-python",
   "name": "python",
   "nbconvert_exporter": "python",
   "pygments_lexer": "ipython3",
   "version": "3.10.5"
  },
  "orig_nbformat": 4,
  "vscode": {
   "interpreter": {
    "hash": "8e76ed3c32135994001530bed0f811497db14313295d850ff0a56919f27a1e47"
   }
  }
 },
 "nbformat": 4,
 "nbformat_minor": 2
}
