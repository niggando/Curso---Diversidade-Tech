{
 "cells": [
  {
   "cell_type": "code",
   "execution_count": null,
   "metadata": {},
   "outputs": [],
   "source": [
    "m1 = int(input('Media da dupla'))\n",
    "m2 = int(input('Media do Trio'))\n",
    "\n",
    "idade = (m2*3) - (m1*2)\n",
    "\n",
    "print(idade)"
   ]
  }
 ],
 "metadata": {
  "language_info": {
   "name": "python"
  },
  "orig_nbformat": 4
 },
 "nbformat": 4,
 "nbformat_minor": 2
}
