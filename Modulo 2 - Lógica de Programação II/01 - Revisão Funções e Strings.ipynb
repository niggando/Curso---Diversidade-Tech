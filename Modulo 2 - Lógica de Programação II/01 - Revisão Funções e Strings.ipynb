{
 "cells": [
  {
   "cell_type": "markdown",
   "metadata": {},
   "source": [
    "### Revisão - Funções e Manipulações de Strings\n",
    "\n",
    "#### Quais as vantagens em usar funções?"
   ]
  },
  {
   "cell_type": "code",
   "execution_count": 1,
   "metadata": {},
   "outputs": [
    {
     "name": "stdout",
     "output_type": "stream",
     "text": [
      "x\n"
     ]
    }
   ],
   "source": [
    "x = print('x')"
   ]
  },
  {
   "cell_type": "markdown",
   "metadata": {},
   "source": [
    "### Vamos relembrar? "
   ]
  },
  {
   "cell_type": "markdown",
   "metadata": {},
   "source": [
    "##### 1. Tamanho de strings. Faça um programa que leia 2 strings e informe o conteúdo delas seguido do seu comprimento. Informe também se duas strings possuem o mesmo comprimento e são iguais ou diferentes no conteúdo."
   ]
  },
  {
   "cell_type": "code",
   "execution_count": 11,
   "metadata": {},
   "outputs": [
    {
     "name": "stdout",
     "output_type": "stream",
     "text": [
      "str1:Kaio com 4 caracteres.\n",
      "str2:kaio com 4 caracteres.\n",
      "As strings são iguais\n"
     ]
    }
   ],
   "source": [
    "def verificaTamanho(a, b):\n",
    "    if len(a) == len(b):\n",
    "        return True\n",
    "    else:\n",
    "        return False\n",
    "\n",
    "def verificaConteudo(a,b):\n",
    "    verifica = True\n",
    "    for i in range(len(a)):\n",
    "        if a[i] == b[i]:\n",
    "            verifica = True\n",
    "        else:\n",
    "            verifica = False\n",
    "            return verifica\n",
    "    return verifica\n",
    "\n",
    "\n",
    "\n",
    "\n",
    "string1 = input('Digite a primeira sentença')\n",
    "string2 = input('Digite a segunda sentença')\n",
    "\n",
    "print(f'str1:{string1} com {len(string1)} caracteres.')\n",
    "print(f'str2:{string2} com {len(string2)} caracteres.')\n",
    "\n",
    "if verificaTamanho(string1, string2):\n",
    "    if verificaConteudo(string1.upper(),string2.upper()):\n",
    "        print('As strings são iguais')\n",
    "    else:\n",
    "        print('As strings são diferentes, porém possuem o mesmo tamanho.')\n",
    "\n",
    "else:\n",
    "    print('As strings são diferentes e não possuem o mesmo tamanho')\n",
    "\n"
   ]
  },
  {
   "cell_type": "markdown",
   "metadata": {},
   "source": [
    "##### 2.  Nome ao contrário em maiúsculas. Faça um programa que permita ao usuário digitar o seu nome e em seguida mostre o nome do usuário de trás para frente utilizando somente letras maiúsculas. Dica: lembre−se que ao informar o nome o usuário pode digitar letras maiúsculas ou minúsculas."
   ]
  },
  {
   "cell_type": "markdown",
   "metadata": {},
   "source": [
    "##### 3. Nome na vertical. Faça um programa que solicite o nome do usuário e imprima-o na vertical."
   ]
  },
  {
   "cell_type": "markdown",
   "metadata": {},
   "source": [
    "#### Dicionário"
   ]
  },
  {
   "cell_type": "code",
   "execution_count": 4,
   "metadata": {},
   "outputs": [
    {
     "name": "stdout",
     "output_type": "stream",
     "text": [
      "Teo --- 7\n",
      "Guilherme --- 8\n"
     ]
    }
   ],
   "source": [
    "# Dict\n",
    "\n",
    "notas = {'Teo': 7, 'Guilherme': 8}\n",
    "notas['Guilherme']\n",
    "\n",
    "for key, value in notas.items():\n",
    "    print(f'{key} --- {value}')"
   ]
  },
  {
   "cell_type": "code",
   "execution_count": 6,
   "metadata": {},
   "outputs": [
    {
     "name": "stdout",
     "output_type": "stream",
     "text": [
      "Teo --- 8\n",
      "Guilherme --- 8\n"
     ]
    }
   ],
   "source": [
    "notas = {'Teo': 7, 'Guilherme': 8}\n",
    "notas['Guilherme']\n",
    "\n",
    "for key in notas.keys():\n",
    "    print(f'{key} --- {value}')"
   ]
  },
  {
   "cell_type": "code",
   "execution_count": 5,
   "metadata": {},
   "outputs": [
    {
     "name": "stdout",
     "output_type": "stream",
     "text": [
      "Teo\n",
      "Guilherme\n"
     ]
    }
   ],
   "source": [
    "notas = {'Teo': 7, 'Guilherme': 8}\n",
    "notas['Guilherme']\n",
    "\n",
    "for nota in notas:\n",
    "    print(nota)"
   ]
  },
  {
   "cell_type": "code",
   "execution_count": null,
   "metadata": {},
   "outputs": [],
   "source": []
  },
  {
   "cell_type": "markdown",
   "metadata": {},
   "source": []
  }
 ],
 "metadata": {
  "kernelspec": {
   "display_name": "Python 3.10.5 64-bit",
   "language": "python",
   "name": "python3"
  },
  "language_info": {
   "codemirror_mode": {
    "name": "ipython",
    "version": 3
   },
   "file_extension": ".py",
   "mimetype": "text/x-python",
   "name": "python",
   "nbconvert_exporter": "python",
   "pygments_lexer": "ipython3",
   "version": "3.10.5"
  },
  "orig_nbformat": 4,
  "vscode": {
   "interpreter": {
    "hash": "8e76ed3c32135994001530bed0f811497db14313295d850ff0a56919f27a1e47"
   }
  }
 },
 "nbformat": 4,
 "nbformat_minor": 2
}
