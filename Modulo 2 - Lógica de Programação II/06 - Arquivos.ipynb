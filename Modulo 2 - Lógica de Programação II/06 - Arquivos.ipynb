{
 "cells": [
  {
   "cell_type": "markdown",
   "metadata": {},
   "source": [
    "### Manipulando arquivos em Python!"
   ]
  },
  {
   "cell_type": "code",
   "execution_count": 7,
   "metadata": {},
   "outputs": [
    {
     "name": "stdout",
     "output_type": "stream",
     "text": [
      "mil quientos e oitenta\n",
      "\n",
      "vinte e um mil\n",
      "\n",
      "2k\n",
      "\n",
      "3m\n",
      "\n",
      "4g\n",
      "\n",
      "oitocentos e oitenta\n",
      "\n",
      "noventa e três\n",
      "\n",
      "mil e oitenta e cinco\n",
      "\n",
      "um bilhão quientos e oitenta milhoẽs oitocentos e trinta mil e quarenta e quatro\n",
      "\n",
      "dezenove mil\n",
      "\n",
      "1.2m\n",
      "\n",
      "1,4g\n",
      "\n",
      "vinte e um\n",
      "\n",
      "cinco\n",
      "\n",
      "trinta e três\n",
      "\n",
      "onze\n",
      "\n",
      "mil novecentos e oitenta\n",
      "\n",
      "quarenta e nove milhões\n",
      "\n",
      "duzentos e treze\n",
      "\n",
      "treze mil e treze\n",
      "\n",
      "treze milhões trezentos e treze mil e treze\n",
      "\n",
      "trezentos e treze\n",
      "\n",
      "cento e treze\n",
      "\n",
      "quinhetos e treze\n",
      "\n",
      "novecentos de treze\n",
      "\n",
      "treze\n"
     ]
    }
   ],
   "source": [
    "# Iterando sobre um arquivo\n",
    "arquivo = open('arquivo.txt', 'r', encoding = 'utf-8')\n",
    "for linha in arquivo:\n",
    "    print(linha)\n",
    "arquivo.close()"
   ]
  },
  {
   "cell_type": "code",
   "execution_count": 10,
   "metadata": {},
   "outputs": [
    {
     "name": "stdout",
     "output_type": "stream",
     "text": [
      "mil quientos e oitenta\n",
      "\n",
      "vinte e um mil\n",
      "\n",
      "2k\n",
      "\n",
      "3m\n",
      "\n",
      "4g\n",
      "\n",
      "oitocentos e oitenta\n",
      "\n",
      "noventa e três\n",
      "\n",
      "mil e oitenta e cinco\n",
      "\n",
      "um bilhão quientos e oitenta milhoẽs oitocentos e trinta mil e quarenta e quatro\n",
      "\n",
      "dezenove mil\n",
      "\n",
      "1.2m\n",
      "\n",
      "1,4g\n",
      "\n",
      "vinte e um\n",
      "\n",
      "cinco\n",
      "\n",
      "trinta e três\n",
      "\n",
      "onze\n",
      "\n",
      "mil novecentos e oitenta\n",
      "\n",
      "quarenta e nove milhões\n",
      "\n",
      "duzentos e treze\n",
      "\n",
      "treze mil e treze\n",
      "\n",
      "treze milhões trezentos e treze mil e treze\n",
      "\n",
      "trezentos e treze\n",
      "\n",
      "cento e treze\n",
      "\n",
      "quinhetos e treze\n",
      "\n",
      "novecentos de treze\n",
      "\n",
      "treze\n",
      "\n",
      "Nova linha\n"
     ]
    }
   ],
   "source": [
    "# Função que lê o arquivo e converte-o\n",
    "\n",
    "def itera_arquivo():\n",
    "    arquivo = open('arquivo.txt', 'r') # Abra o arquivo (leitura)\n",
    "    conteudo = arquivo.readlines()\n",
    "    conteudo.append('\\nNova linha')   # insira seu conteúdo\n",
    "\n",
    "    \n",
    "    arquivo = open('nome.txt', 'w') # Abre novamente o arquivo (escrita)\n",
    "    arquivo.writelines(conteudo) # escreva o conteúdo criado anteriormente nele.\n",
    "\n",
    "    arquivo = open('nome.txt', 'r', encoding = 'utf-8')\n",
    "    for linha in arquivo:\n",
    "        print(linha)    \n",
    "    arquivo.close()\n",
    "\n",
    "\n",
    "itera_arquivo()"
   ]
  },
  {
   "cell_type": "code",
   "execution_count": 51,
   "metadata": {},
   "outputs": [],
   "source": [
    "file = open('Aula 07 - atividade dados.txt', 'r', encoding = 'utf-8')\n",
    "\n",
    "lista = file.readlines()\n",
    "listId = []\n",
    "listNomes = []\n",
    "listNasc = []\n",
    "\n",
    "for linha in lista[1:]:\n",
    "    arquivo = linha.split(';')\n",
    "    listId.append(arquivo[0])\n",
    "    listNomes.append(arquivo[1])\n",
    "    listNasc.append(arquivo[2])\n",
    "    \n",
    "dict_nomes = {'Id Município': listId, 'Nomes': listNomes, 'Quantidade': listNasc}\n",
    "\n",
    "\n",
    "\n"
   ]
  },
  {
   "cell_type": "code",
   "execution_count": 50,
   "metadata": {},
   "outputs": [],
   "source": [
    "# Utilizando List Comprehension\n",
    "file = open('Aula 07 - atividade dados.txt', 'r', encoding = 'utf-8')\n",
    "lista = file.readlines()\n",
    "\n",
    "dict_nomes_comp = {\n",
    "    'id_municipio': [linha.strip('\\n').split(';')[0] for lista in lista[1:]],\n",
    "    'nome': [linha.strip('\\n').split(';')[1] for lista in lista[1:]],\n",
    "    'quantidade': [linha.strip('\\n').split(';')[2] for lista in lista[1:]]\n",
    "}"
   ]
  },
  {
   "cell_type": "markdown",
   "metadata": {},
   "source": [
    "\n",
    "## Expressão Regular\n",
    "\n",
    "#### Sub\n",
    "    Identifica um padrão e substitui (tal qual replace)\n",
    "\n",
    "#### Search\n",
    "    Retorna um determinado padrão encontrado no texto\n",
    "\n",
    "#### Match\n",
    "    informa se o padrão existe no texto (bool)"
   ]
  },
  {
   "cell_type": "code",
   "execution_count": 52,
   "metadata": {},
   "outputs": [
    {
     "data": {
      "text/plain": [
       "'mil duzentos trinta'"
      ]
     },
     "execution_count": 52,
     "metadata": {},
     "output_type": "execute_result"
    }
   ],
   "source": [
    "from re import sub\n",
    "\n",
    "txt = 'mil, duzentos, trinta'\n",
    "\n",
    "new_txt = sub(',', '', txt)\n",
    "new_txt"
   ]
  },
  {
   "cell_type": "code",
   "execution_count": null,
   "metadata": {},
   "outputs": [],
   "source": []
  }
 ],
 "metadata": {
  "kernelspec": {
   "display_name": "Python 3.10.5 64-bit",
   "language": "python",
   "name": "python3"
  },
  "language_info": {
   "codemirror_mode": {
    "name": "ipython",
    "version": 3
   },
   "file_extension": ".py",
   "mimetype": "text/x-python",
   "name": "python",
   "nbconvert_exporter": "python",
   "pygments_lexer": "ipython3",
   "version": "3.10.5"
  },
  "orig_nbformat": 4,
  "vscode": {
   "interpreter": {
    "hash": "8e76ed3c32135994001530bed0f811497db14313295d850ff0a56919f27a1e47"
   }
  }
 },
 "nbformat": 4,
 "nbformat_minor": 2
}
