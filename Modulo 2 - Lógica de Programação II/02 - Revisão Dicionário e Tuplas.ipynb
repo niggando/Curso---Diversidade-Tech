{
 "cells": [
  {
   "cell_type": "markdown",
   "metadata": {},
   "source": [
    "#### Exercício de Revisão Dicionário\n",
    "\n",
    "Sistema de controle de notas:\n",
    "\n",
    "O sistema deve permitir ao usuário adicionar, editar, remover e deletar.\n",
    "\n",
    "O sistema deve retornar a média das notas.\n",
    "\n",
    "O sistema deve retornar o nome dos alunos que estão acima da média \n",
    "\n",
    "O sistema deve retornar o nome dos alunos que estão abaixo da média.\n",
    "\n",
    "O sistema deve ter a opção de sair.\n",
    "\n",
    "dict_notas = {'nome':nota}"
   ]
  },
  {
   "cell_type": "code",
   "execution_count": 9,
   "metadata": {},
   "outputs": [
    {
     "name": "stdout",
     "output_type": "stream",
     "text": [
      "{'Kaio': 10.0, 'Ana': 10.0}\n",
      "A turma final é: \n",
      " {'Kaio': 10.0, 'Ana': 10.0}\n",
      "Programa finalizado.\n"
     ]
    }
   ],
   "source": [
    "# def verifica_nome(nome, sala):\n",
    "#     for i in range(len(sala)):\n",
    "#         if nome == sala[i][0]:\n",
    "#             return True\n",
    "#         else:\n",
    "#             return False\n",
    "\n",
    "# def adiciona_nota(dictionary):\n",
    "#     dado = input('Digite o Nome a Nota do aluno, separados por vírgulas')\n",
    "\n",
    "#     lista_aluno = dado.split(',')\n",
    "\n",
    "#     lista_aluno[1] = float(lista_aluno[1])\n",
    "\n",
    "#     while lista_aluno[1] < 0 or lista_aluno[1] > 10:\n",
    "#         lista_aluno[1] = int(input('Nota Inválida, digite novamente:'))\n",
    "\n",
    "#     dictionary[lista_aluno[0]] = lista_aluno[1]\n",
    "\n",
    "#     return dictionary\n",
    "\n",
    "# def atualiza_nota(dictionary,nome,nota_nova):\n",
    "#     for key in dictionary.keys():\n",
    "#         if key == nome:\n",
    "#             dictionary[key] = nota_nova\n",
    "#         else:\n",
    "#             continue\n",
    "#     return dictionary\n",
    "\n",
    "# def deleta_nota(dictionary, nome):\n",
    "#     for key in dictionary.keys():\n",
    "#         if key == nome:\n",
    "#             dictionary.pop(nome)\n",
    "#         else:\n",
    "#             continue\n",
    "#     return dictionary\n",
    "\n",
    "\n",
    "# def exibe_turma(dictionary):\n",
    "#     for key in dictionary.keys():\n",
    "#         print(f'{key} --- {value}')\n",
    "\n",
    "\n",
    "\n",
    "\n",
    "# saida = False\n",
    "# dict_notas = {}\n",
    "# while saida != True:\n",
    "#     opcao = int(input('Digite a opção desejada: \\n |  1 - Adicionar aluno e nota \\n | 2 - Atualizar nota \\n | 3 - Deletar aluno e nota \\n | 4 - Exibir média \\n | 5 - Aprovados e Reprovados \\n | 6 - Exibir Turma \\n | 7 - Sair'))\n",
    "\n",
    "#     if opcao == 1:\n",
    "#         dict_notas = adiciona_nota(dict_notas)\n",
    "        \n",
    "#     elif opcao == 2:\n",
    "#         nome = input('Digite o nome do aluno que deseja fazer alteração.')\n",
    "#         nota_nova = float(input('Digite a nova nota do aluno.'))\n",
    "#         dict_notas = atualiza_nota(dict_notas, nome, nota_nova)\n",
    "        \n",
    "#     elif opcao == 3:\n",
    "#         nome = input('Digite o nome do aluno que deseja remover')\n",
    "#         dict_notas = deleta_nota(dict_notas, nome)\n",
    "        \n",
    "#     elif opcao == 4:\n",
    "#         pass\n",
    "\n",
    "#     elif opcao == 5:\n",
    "#         pass\n",
    "\n",
    "#     elif opcao == 6:\n",
    "#             #exibe_turma(dict_notas)\n",
    "#         print(dict_notas)\n",
    "\n",
    "#     elif opcao == 7:\n",
    "#         print(f'A turma final é: \\n{dict_notas}')\n",
    "#         print('Programa finalizado.')\n",
    "#         saida = True\n",
    "        \n",
    "#     else:\n",
    "#         print('Opção não encontrada, digite novamente.')\n",
    "#         continue     "
   ]
  },
  {
   "cell_type": "markdown",
   "metadata": {},
   "source": [
    "#### Resolução do professor "
   ]
  },
  {
   "cell_type": "code",
   "execution_count": 4,
   "metadata": {},
   "outputs": [],
   "source": [
    "def insert(dict_notas, nome, nota):\n",
    "    dict_notas[nome] = nota\n",
    "    return dict_notas\n",
    "\n",
    "def update(dict_notas, nome, nota):\n",
    "    if nome in dict_notas.keys():\n",
    "        dict_notas[nome] = nota\n",
    "        return dict_notas\n",
    "\n",
    "    print('Aluno não encontrado')\n",
    "    return dict_notas\n",
    "\n",
    "def delete(dict_notas,nome):\n",
    "    if nome in dict_notas.keys():\n",
    "        dict_notas.pop(nome)\n",
    "        return dict_notas\n",
    "\n",
    "def avg(dict_notas):\n",
    "    return sum(dict_notas.values()) / len(dict_notas)\n",
    "\n",
    "def avg_up(dict_notas):\n",
    "    media = avg(dict_notas)\n",
    "\n",
    "    nomes = []\n",
    "    for key, value in dict_notas.items():\n",
    "        if value >= media:\n",
    "            nomes.append(key)\n",
    "    \n",
    "    return nomes\n",
    "\n",
    "def avg_down(dict_notas):\n",
    "    media = avg(dict_notas)\n",
    "\n",
    "    nomes = []\n",
    "    for key, value in dict_notas.items():\n",
    "        if value < media:\n",
    "            nomes.append(key)\n",
    "    \n",
    "    return nomes\n",
    "\n"
   ]
  },
  {
   "cell_type": "code",
   "execution_count": 2,
   "metadata": {},
   "outputs": [
    {
     "name": "stdout",
     "output_type": "stream",
     "text": [
      "{}\n",
      "1 - Adicionar\n",
      "2 - Atualizar\n",
      "3 - Remover\n",
      "4 - Media\n",
      "5 - Aprovados\n",
      "6 - Reprovados\n",
      "7 - Sair\n",
      "{'Kaio': 10.0}\n",
      "1 - Adicionar\n",
      "2 - Atualizar\n",
      "3 - Remover\n",
      "4 - Media\n",
      "5 - Aprovados\n",
      "6 - Reprovados\n",
      "7 - Sair\n",
      "{'Kaio': 10.0, 'Ana': 8.0}\n",
      "1 - Adicionar\n",
      "2 - Atualizar\n",
      "3 - Remover\n",
      "4 - Media\n",
      "5 - Aprovados\n",
      "6 - Reprovados\n",
      "7 - Sair\n",
      "9.0\n",
      "{'Kaio': 10.0, 'Ana': 8.0}\n",
      "1 - Adicionar\n",
      "2 - Atualizar\n",
      "3 - Remover\n",
      "4 - Media\n",
      "5 - Aprovados\n",
      "6 - Reprovados\n",
      "7 - Sair\n",
      "Opção inválida, digite novamente\n",
      "{'Kaio': 10.0, 'Ana': 8.0}\n",
      "1 - Adicionar\n",
      "2 - Atualizar\n",
      "3 - Remover\n",
      "4 - Media\n",
      "5 - Aprovados\n",
      "6 - Reprovados\n",
      "7 - Sair\n"
     ]
    }
   ],
   "source": [
    "condicao = True\n",
    "dict_notas = {}\n",
    "\n",
    "while condicao == True:\n",
    "    print(dict_notas)\n",
    "\n",
    "    print('1 - Adicionar')\n",
    "    print('2 - Atualizar')\n",
    "    print('3 - Remover')\n",
    "    print('4 - Media')\n",
    "    print('5 - Aprovados')\n",
    "    print('6 - Reprovados')\n",
    "    print('7 - Sair')\n",
    "\n",
    "    opc = int(input())\n",
    "\n",
    "    if opc == 1:\n",
    "        nome = input('Digite o nome do aluno')\n",
    "        nota = float(input(f'Digite a nota do aluno {nome}'))\n",
    "        dict_notas = insert(dict_notas, nome, nota)\n",
    "\n",
    "    elif opc == 2:\n",
    "        nome = input('Digite o nome do aluno')\n",
    "        nota = float(input(f'Digite a nova nota do aluno {nome}'))\n",
    "        dict_notas = update(dict_notas, nome, nota)\n",
    "\n",
    "    elif opc == 3:\n",
    "        nome = input('Digite o nome do aluno')\n",
    "        dict_notas = update(dict_notas, nome)\n",
    "\n",
    "    elif opc == 4:\n",
    "        print(avg(dict_notas))\n",
    "\n",
    "    elif opc == 5:\n",
    "        print(avg_up(dict_notas))\n",
    "\n",
    "    elif opc == 6:\n",
    "        print(avg_down(dict_notas))\n",
    "        \n",
    "    elif opc == 7:\n",
    "        condicao = False\n",
    "    \n",
    "    else:\n",
    "        print('Opção inválida, digite novamente')\n",
    "\n"
   ]
  },
  {
   "cell_type": "markdown",
   "metadata": {},
   "source": [
    "#### ... Aula de hoje:\n",
    "\n",
    "##### List Comprehension\n",
    "##### Conceitos de programação funcional"
   ]
  },
  {
   "cell_type": "code",
   "execution_count": 5,
   "metadata": {},
   "outputs": [
    {
     "data": {
      "text/plain": [
       "[4, 6, 8, 10, 12]"
      ]
     },
     "execution_count": 5,
     "metadata": {},
     "output_type": "execute_result"
    }
   ],
   "source": [
    "lista_teste = [2,3,4,5,6]\n",
    "lista_aux = []\n",
    "\n",
    "for l in lista_teste:\n",
    "    lista_aux.append(l*2)\n",
    "lista_aux\n"
   ]
  },
  {
   "cell_type": "code",
   "execution_count": 6,
   "metadata": {},
   "outputs": [
    {
     "data": {
      "text/plain": [
       "[4, 6, 8, 10, 12]"
      ]
     },
     "execution_count": 6,
     "metadata": {},
     "output_type": "execute_result"
    }
   ],
   "source": [
    "# usando list Comprehenshion\n",
    "list_aux_comp = [l*2 for l in lista_teste]\n",
    "list_aux_comp"
   ]
  },
  {
   "cell_type": "code",
   "execution_count": 8,
   "metadata": {},
   "outputs": [
    {
     "data": {
      "text/plain": [
       "[3, 5]"
      ]
     },
     "execution_count": 8,
     "metadata": {},
     "output_type": "execute_result"
    }
   ],
   "source": [
    "list_aux_comp = [l for l in lista_teste if l % 2 == 1]\n",
    "list_aux_comp"
   ]
  },
  {
   "cell_type": "markdown",
   "metadata": {},
   "source": [
    "#### Conceitos de programação funcional\n",
    "map(), filter(), lambda( )"
   ]
  },
  {
   "cell_type": "code",
   "execution_count": 10,
   "metadata": {},
   "outputs": [
    {
     "data": {
      "text/plain": [
       "[4, 6, 8, 10, 12]"
      ]
     },
     "execution_count": 10,
     "metadata": {},
     "output_type": "execute_result"
    }
   ],
   "source": [
    "lista_teste = [2,3,4,5,6]\n",
    "list_map = list(map(lambda x: x*2, lista_teste))\n",
    "list_map"
   ]
  },
  {
   "cell_type": "code",
   "execution_count": 11,
   "metadata": {},
   "outputs": [
    {
     "data": {
      "text/plain": [
       "[3, 5, 7, 9, 11]"
      ]
     },
     "execution_count": 11,
     "metadata": {},
     "output_type": "execute_result"
    }
   ],
   "source": [
    "lista_teste = [2,3,4,5,6]\n",
    "lista_teste1 = [1,2,3,4,5]\n",
    "list_map = list(map(lambda x,y: x+y, lista_teste, lista_teste1))\n",
    "list_map"
   ]
  },
  {
   "cell_type": "code",
   "execution_count": 13,
   "metadata": {},
   "outputs": [
    {
     "data": {
      "text/plain": [
       "[2, 9, 4, 15, 6]"
      ]
     },
     "execution_count": 13,
     "metadata": {},
     "output_type": "execute_result"
    }
   ],
   "source": [
    "# Usando um if de cria\n",
    "\n",
    "lista_teste = [2,3,4,5,6]\n",
    "\n",
    "list_map = list(map(lambda x: x*3 if x % 2 == 1 else x, lista_teste))\n",
    "\n",
    "list_map"
   ]
  },
  {
   "cell_type": "code",
   "execution_count": null,
   "metadata": {},
   "outputs": [],
   "source": []
  }
 ],
 "metadata": {
  "kernelspec": {
   "display_name": "Python 3.10.5 64-bit",
   "language": "python",
   "name": "python3"
  },
  "language_info": {
   "codemirror_mode": {
    "name": "ipython",
    "version": 3
   },
   "file_extension": ".py",
   "mimetype": "text/x-python",
   "name": "python",
   "nbconvert_exporter": "python",
   "pygments_lexer": "ipython3",
   "version": "3.10.5"
  },
  "orig_nbformat": 4,
  "vscode": {
   "interpreter": {
    "hash": "8e76ed3c32135994001530bed0f811497db14313295d850ff0a56919f27a1e47"
   }
  }
 },
 "nbformat": 4,
 "nbformat_minor": 2
}
