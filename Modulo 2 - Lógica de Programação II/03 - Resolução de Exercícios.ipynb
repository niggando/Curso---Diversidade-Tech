{
 "cells": [
  {
   "cell_type": "code",
   "execution_count": 5,
   "metadata": {},
   "outputs": [
    {
     "name": "stdout",
     "output_type": "stream",
     "text": [
      "aeiou\n"
     ]
    }
   ],
   "source": [
    "# dict_acentos = {'á': 'a'}\n",
    "# str\n",
    "# texto = 'áeiou'\n",
    "\n",
    "# for l in range(len(texto)):\n",
    "#     if texto[l] in dict_acentos.keys():\n",
    "#         texto[l] = dict_acentos[l]\n",
    "\n",
    "dict_acentos = {\n",
    "    'á': 'a',\n",
    "    'à': 'a',\n",
    "    'â': 'a',\n",
    "    'ä': 'a',\n",
    "    'ã': 'a',\n",
    "    'é': 'e',\n",
    "    'ê': 'e',\n",
    "    'ë': 'e',\n",
    "    'í': 'i',\n",
    "    'î': 'i',\n",
    "    'ï': 'i',\n",
    "    'ó': 'o',\n",
    "    'ô': 'o',\n",
    "    'ö': 'o',\n",
    "    'õ': 'o',\n",
    "    'ú': 'u',\n",
    "    'û': 'u',\n",
    "    'ü': 'u',\n",
    "    }\n",
    "texto = 'áéíou'\n",
    "\n",
    "str = ''\n",
    "\n",
    "for l in range(len(texto)):\n",
    "    if texto[l] in dict_acentos.keys():\n",
    "        str += dict_acentos[texto[l]]\n",
    "        continue\n",
    "    str += texto[l] \n",
    "\n",
    "print(str)"
   ]
  },
  {
   "cell_type": "markdown",
   "metadata": {},
   "source": [
    "#### Expressões regulares!\n",
    "\n",
    "##### Utilizado para buscar padrões no texto (REGEX)\n",
    "\n",
    "https://docs.python.org/3/library/re.html"
   ]
  },
  {
   "cell_type": "code",
   "execution_count": 12,
   "metadata": {},
   "outputs": [
    {
     "data": {
      "text/plain": [
       "'aaaaaeaeiou'"
      ]
     },
     "execution_count": 12,
     "metadata": {},
     "output_type": "execute_result"
    }
   ],
   "source": [
    "import re\n",
    "\n",
    "texto = 'áàâãáèãêiou'\n",
    "\n",
    "texto = re.sub('[áàâã]','a',texto)\n",
    "texto = re.sub('[éèê]','e',texto)\n",
    "\n",
    "texto"
   ]
  },
  {
   "cell_type": "code",
   "execution_count": 13,
   "metadata": {},
   "outputs": [
    {
     "data": {
      "text/plain": [
       "'á'"
      ]
     },
     "execution_count": 13,
     "metadata": {},
     "output_type": "execute_result"
    }
   ],
   "source": [
    "texto = 'áàâãáèãêiou'\n",
    "re.match('[áéí]', texto).group()"
   ]
  },
  {
   "cell_type": "code",
   "execution_count": 14,
   "metadata": {},
   "outputs": [
    {
     "data": {
      "text/plain": [
       "'25'"
      ]
     },
     "execution_count": 14,
     "metadata": {},
     "output_type": "execute_result"
    }
   ],
   "source": [
    "texto = '25k'\n",
    "\n",
    "re.search('[\\d]*',texto).group()"
   ]
  },
  {
   "cell_type": "code",
   "execution_count": 16,
   "metadata": {},
   "outputs": [
    {
     "name": "stdout",
     "output_type": "stream",
     "text": [
      "2.5\n"
     ]
    }
   ],
   "source": [
    "n = '2.5'\n",
    "try: \n",
    "    number = float(n)\n",
    "except:\n",
    "    print('Erro!!')\n",
    "\n",
    "print(number)"
   ]
  },
  {
   "cell_type": "code",
   "execution_count": 18,
   "metadata": {},
   "outputs": [
    {
     "data": {
      "text/plain": [
       "True"
      ]
     },
     "execution_count": 18,
     "metadata": {},
     "output_type": "execute_result"
    }
   ],
   "source": [
    "n = 2.5\n",
    "\n",
    "isinstance(n, float)"
   ]
  },
  {
   "cell_type": "code",
   "execution_count": 20,
   "metadata": {},
   "outputs": [
    {
     "ename": "error",
     "evalue": "bad character range a-Z at position 1",
     "output_type": "error",
     "traceback": [
      "\u001b[1;31m---------------------------------------------------------------------------\u001b[0m",
      "\u001b[1;31merror\u001b[0m                                     Traceback (most recent call last)",
      "\u001b[1;32mc:\\Users\\Viatec\\Documents\\Estudos\\Diversidade Tech\\DiversidadeTech\\Modulo 2 - Lógica de Programação II\\03 - Resolução de Exercícios.ipynb Célula: 8\u001b[0m in \u001b[0;36m<cell line: 3>\u001b[1;34m()\u001b[0m\n\u001b[0;32m      <a href='vscode-notebook-cell:/c%3A/Users/Viatec/Documents/Estudos/Diversidade%20Tech/DiversidadeTech/Modulo%202%20-%20L%C3%B3gica%20de%20Programa%C3%A7%C3%A3o%20II/03%20-%20Resolu%C3%A7%C3%A3o%20de%20Exerc%C3%ADcios.ipynb#X10sZmlsZQ%3D%3D?line=0'>1</a>\u001b[0m texto \u001b[39m=\u001b[39m \u001b[39m'\u001b[39m\u001b[39m2,5g\u001b[39m\u001b[39m'\u001b[39m\n\u001b[1;32m----> <a href='vscode-notebook-cell:/c%3A/Users/Viatec/Documents/Estudos/Diversidade%20Tech/DiversidadeTech/Modulo%202%20-%20L%C3%B3gica%20de%20Programa%C3%A7%C3%A3o%20II/03%20-%20Resolu%C3%A7%C3%A3o%20de%20Exerc%C3%ADcios.ipynb#X10sZmlsZQ%3D%3D?line=2'>3</a>\u001b[0m re\u001b[39m.\u001b[39;49msearch(\u001b[39m'\u001b[39;49m\u001b[39m[a-Z]\u001b[39;49m\u001b[39m'\u001b[39;49m, texto)\u001b[39m.\u001b[39mgroup()\n",
      "File \u001b[1;32mc:\\Users\\Viatec\\AppData\\Local\\Programs\\Python\\Python310\\lib\\re.py:200\u001b[0m, in \u001b[0;36msearch\u001b[1;34m(pattern, string, flags)\u001b[0m\n\u001b[0;32m    197\u001b[0m \u001b[39mdef\u001b[39;00m \u001b[39msearch\u001b[39m(pattern, string, flags\u001b[39m=\u001b[39m\u001b[39m0\u001b[39m):\n\u001b[0;32m    198\u001b[0m     \u001b[39m\"\"\"Scan through string looking for a match to the pattern, returning\u001b[39;00m\n\u001b[0;32m    199\u001b[0m \u001b[39m    a Match object, or None if no match was found.\"\"\"\u001b[39;00m\n\u001b[1;32m--> 200\u001b[0m     \u001b[39mreturn\u001b[39;00m _compile(pattern, flags)\u001b[39m.\u001b[39msearch(string)\n",
      "File \u001b[1;32mc:\\Users\\Viatec\\AppData\\Local\\Programs\\Python\\Python310\\lib\\re.py:303\u001b[0m, in \u001b[0;36m_compile\u001b[1;34m(pattern, flags)\u001b[0m\n\u001b[0;32m    301\u001b[0m \u001b[39mif\u001b[39;00m \u001b[39mnot\u001b[39;00m sre_compile\u001b[39m.\u001b[39misstring(pattern):\n\u001b[0;32m    302\u001b[0m     \u001b[39mraise\u001b[39;00m \u001b[39mTypeError\u001b[39;00m(\u001b[39m\"\u001b[39m\u001b[39mfirst argument must be string or compiled pattern\u001b[39m\u001b[39m\"\u001b[39m)\n\u001b[1;32m--> 303\u001b[0m p \u001b[39m=\u001b[39m sre_compile\u001b[39m.\u001b[39;49mcompile(pattern, flags)\n\u001b[0;32m    304\u001b[0m \u001b[39mif\u001b[39;00m \u001b[39mnot\u001b[39;00m (flags \u001b[39m&\u001b[39m DEBUG):\n\u001b[0;32m    305\u001b[0m     \u001b[39mif\u001b[39;00m \u001b[39mlen\u001b[39m(_cache) \u001b[39m>\u001b[39m\u001b[39m=\u001b[39m _MAXCACHE:\n\u001b[0;32m    306\u001b[0m         \u001b[39m# Drop the oldest item\u001b[39;00m\n",
      "File \u001b[1;32mc:\\Users\\Viatec\\AppData\\Local\\Programs\\Python\\Python310\\lib\\sre_compile.py:788\u001b[0m, in \u001b[0;36mcompile\u001b[1;34m(p, flags)\u001b[0m\n\u001b[0;32m    786\u001b[0m \u001b[39mif\u001b[39;00m isstring(p):\n\u001b[0;32m    787\u001b[0m     pattern \u001b[39m=\u001b[39m p\n\u001b[1;32m--> 788\u001b[0m     p \u001b[39m=\u001b[39m sre_parse\u001b[39m.\u001b[39;49mparse(p, flags)\n\u001b[0;32m    789\u001b[0m \u001b[39melse\u001b[39;00m:\n\u001b[0;32m    790\u001b[0m     pattern \u001b[39m=\u001b[39m \u001b[39mNone\u001b[39;00m\n",
      "File \u001b[1;32mc:\\Users\\Viatec\\AppData\\Local\\Programs\\Python\\Python310\\lib\\sre_parse.py:955\u001b[0m, in \u001b[0;36mparse\u001b[1;34m(str, flags, state)\u001b[0m\n\u001b[0;32m    952\u001b[0m state\u001b[39m.\u001b[39mstr \u001b[39m=\u001b[39m \u001b[39mstr\u001b[39m\n\u001b[0;32m    954\u001b[0m \u001b[39mtry\u001b[39;00m:\n\u001b[1;32m--> 955\u001b[0m     p \u001b[39m=\u001b[39m _parse_sub(source, state, flags \u001b[39m&\u001b[39;49m SRE_FLAG_VERBOSE, \u001b[39m0\u001b[39;49m)\n\u001b[0;32m    956\u001b[0m \u001b[39mexcept\u001b[39;00m Verbose:\n\u001b[0;32m    957\u001b[0m     \u001b[39m# the VERBOSE flag was switched on inside the pattern.  to be\u001b[39;00m\n\u001b[0;32m    958\u001b[0m     \u001b[39m# on the safe side, we'll parse the whole thing again...\u001b[39;00m\n\u001b[0;32m    959\u001b[0m     state \u001b[39m=\u001b[39m State()\n",
      "File \u001b[1;32mc:\\Users\\Viatec\\AppData\\Local\\Programs\\Python\\Python310\\lib\\sre_parse.py:444\u001b[0m, in \u001b[0;36m_parse_sub\u001b[1;34m(source, state, verbose, nested)\u001b[0m\n\u001b[0;32m    442\u001b[0m start \u001b[39m=\u001b[39m source\u001b[39m.\u001b[39mtell()\n\u001b[0;32m    443\u001b[0m \u001b[39mwhile\u001b[39;00m \u001b[39mTrue\u001b[39;00m:\n\u001b[1;32m--> 444\u001b[0m     itemsappend(_parse(source, state, verbose, nested \u001b[39m+\u001b[39;49m \u001b[39m1\u001b[39;49m,\n\u001b[0;32m    445\u001b[0m                        \u001b[39mnot\u001b[39;49;00m nested \u001b[39mand\u001b[39;49;00m \u001b[39mnot\u001b[39;49;00m items))\n\u001b[0;32m    446\u001b[0m     \u001b[39mif\u001b[39;00m \u001b[39mnot\u001b[39;00m sourcematch(\u001b[39m\"\u001b[39m\u001b[39m|\u001b[39m\u001b[39m\"\u001b[39m):\n\u001b[0;32m    447\u001b[0m         \u001b[39mbreak\u001b[39;00m\n",
      "File \u001b[1;32mc:\\Users\\Viatec\\AppData\\Local\\Programs\\Python\\Python310\\lib\\sre_parse.py:599\u001b[0m, in \u001b[0;36m_parse\u001b[1;34m(source, state, verbose, nested, first)\u001b[0m\n\u001b[0;32m    597\u001b[0m     \u001b[39mif\u001b[39;00m hi \u001b[39m<\u001b[39m lo:\n\u001b[0;32m    598\u001b[0m         msg \u001b[39m=\u001b[39m \u001b[39m\"\u001b[39m\u001b[39mbad character range \u001b[39m\u001b[39m%s\u001b[39;00m\u001b[39m-\u001b[39m\u001b[39m%s\u001b[39;00m\u001b[39m\"\u001b[39m \u001b[39m%\u001b[39m (this, that)\n\u001b[1;32m--> 599\u001b[0m         \u001b[39mraise\u001b[39;00m source\u001b[39m.\u001b[39merror(msg, \u001b[39mlen\u001b[39m(this) \u001b[39m+\u001b[39m \u001b[39m1\u001b[39m \u001b[39m+\u001b[39m \u001b[39mlen\u001b[39m(that))\n\u001b[0;32m    600\u001b[0m     setappend((RANGE, (lo, hi)))\n\u001b[0;32m    601\u001b[0m \u001b[39melse\u001b[39;00m:\n",
      "\u001b[1;31merror\u001b[0m: bad character range a-Z at position 1"
     ]
    }
   ],
   "source": [
    "texto = '2,5g'\n",
    "\n",
    "re.search('[a-Z]', texto).group()"
   ]
  },
  {
   "cell_type": "code",
   "execution_count": 23,
   "metadata": {},
   "outputs": [
    {
     "data": {
      "text/plain": [
       "['a', 'casa', 'a', 'bela']"
      ]
     },
     "execution_count": 23,
     "metadata": {},
     "output_type": "execute_result"
    }
   ],
   "source": [
    "texto = 'A casa É Bela'.lower()\n",
    "\n",
    "texto = re.sub('[áàãâ]','a',texto)\n",
    "texto = re.sub('[éèê]','a',texto)\n",
    "texto= re.sub('[íìî]','i',texto)\n",
    "texto= re.sub('[óòôõ]','o',texto)\n",
    "texto= re.sub('[úùû]','u',texto)\n",
    "\n",
    "texto.split()"
   ]
  },
  {
   "cell_type": "code",
   "execution_count": 33,
   "metadata": {},
   "outputs": [
    {
     "name": "stdout",
     "output_type": "stream",
     "text": [
      "['casa', 'e', 'bela']\n"
     ]
    }
   ],
   "source": [
    "# Questão 2 - List Comprehension\n",
    "\n",
    "def facilita_vida(texto):\n",
    "    texto = texto.lower()\n",
    "    texto = re.sub('[éèê]','e',texto)\n",
    "    return texto.split()\n",
    "\n",
    "\n",
    "entrada1 = 'A casa é bela'\n",
    "entrada2 = 'É uma bela casa'\n",
    "\n",
    "L1 = facilita_vida(entrada1)\n",
    "L2 = facilita_vida(entrada2)\n",
    "\n",
    "saida = [e for e in L1 if e in L2]\n",
    "\n",
    "print(saida)\n",
    "\n",
    "\n",
    "\n",
    "\n",
    "    "
   ]
  },
  {
   "cell_type": "code",
   "execution_count": null,
   "metadata": {},
   "outputs": [],
   "source": []
  }
 ],
 "metadata": {
  "kernelspec": {
   "display_name": "Python 3.10.5 64-bit",
   "language": "python",
   "name": "python3"
  },
  "language_info": {
   "codemirror_mode": {
    "name": "ipython",
    "version": 3
   },
   "file_extension": ".py",
   "mimetype": "text/x-python",
   "name": "python",
   "nbconvert_exporter": "python",
   "pygments_lexer": "ipython3",
   "version": "3.10.5"
  },
  "orig_nbformat": 4,
  "vscode": {
   "interpreter": {
    "hash": "8e76ed3c32135994001530bed0f811497db14313295d850ff0a56919f27a1e47"
   }
  }
 },
 "nbformat": 4,
 "nbformat_minor": 2
}
