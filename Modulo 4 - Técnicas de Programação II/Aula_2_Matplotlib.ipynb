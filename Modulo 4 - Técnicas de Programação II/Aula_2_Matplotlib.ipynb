{
  "cells": [
    {
      "cell_type": "markdown",
      "metadata": {
        "id": "4vwYaEbEZ4nY"
      },
      "source": [
        "# Aula 2 - Matplotlib"
      ]
    },
    {
      "cell_type": "markdown",
      "metadata": {
        "id": "94he9PoubPgw"
      },
      "source": [
        "### Documentações"
      ]
    },
    {
      "cell_type": "markdown",
      "metadata": {
        "id": "bDc-ZpjtNdbi"
      },
      "source": [
        "[Matplotlib](https://matplotlib.org/stable/tutorials/introductory/usage.html)"
      ]
    },
    {
      "cell_type": "markdown",
      "metadata": {
        "id": "haYz6TsaLS0M"
      },
      "source": [
        "### Importando os Dados"
      ]
    },
    {
      "cell_type": "code",
      "execution_count": 39,
      "metadata": {
        "id": "7zyjFyDCpxV5"
      },
      "outputs": [],
      "source": [
        "# # instalando a biblioteca\n",
        "# !pip install matplotlib==3.5"
      ]
    },
    {
      "cell_type": "code",
      "execution_count": 40,
      "metadata": {
        "colab": {
          "base_uri": "https://localhost:8080/"
        },
        "id": "q3v50CHn9RwS",
        "outputId": "e0183886-0028-4714-e96d-1a5ac2adfe07"
      },
      "outputs": [
        {
          "name": "stdout",
          "output_type": "stream",
          "text": [
            "Name: matplotlib\n",
            "Version: 3.6.2\n",
            "Summary: Python plotting package\n",
            "Home-page: https://matplotlib.org\n",
            "Author: John D. Hunter, Michael Droettboom\n",
            "Author-email: matplotlib-users@python.org\n",
            "License: PSF\n",
            "Location: c:\\users\\viatec\\appdata\\local\\programs\\python\\python310\\lib\\site-packages\n",
            "Requires: contourpy, cycler, fonttools, kiwisolver, numpy, packaging, pillow, pyparsing, python-dateutil\n",
            "Required-by: seaborn\n"
          ]
        }
      ],
      "source": [
        "!pip show matplotlib"
      ]
    },
    {
      "cell_type": "code",
      "execution_count": 4,
      "metadata": {
        "id": "KqmaVR4YI2bD"
      },
      "outputs": [],
      "source": [
        "# importando a biblioteca\n",
        "import matplotlib.pyplot as plt\n",
        "import pandas as pd\n",
        "import numpy as np"
      ]
    },
    {
      "cell_type": "code",
      "execution_count": 5,
      "metadata": {
        "id": "gYwv4x1vN7LB"
      },
      "outputs": [],
      "source": [
        "# importando a base de dados\n",
        "df = pd.read_csv('http://dados.agricultura.gov.br/dataset/420c0514-92da-4888-be85-290a0785e8a9/resource/65cce855-685e-4cfa-b3a4-2d192fc83b4e/download/rfflorestasplantadasibge2014-2016.csv',\n",
        "                 encoding='Windows 1252',\n",
        "                 delimiter=';')"
      ]
    },
    {
      "cell_type": "code",
      "execution_count": 6,
      "metadata": {
        "colab": {
          "base_uri": "https://localhost:8080/",
          "height": 206
        },
        "id": "dzAM2D6jOyuW",
        "outputId": "631a5ef5-1771-4bfd-9cea-9f5dc635e869"
      },
      "outputs": [
        {
          "data": {
            "text/html": [
              "<div>\n",
              "<style scoped>\n",
              "    .dataframe tbody tr th:only-of-type {\n",
              "        vertical-align: middle;\n",
              "    }\n",
              "\n",
              "    .dataframe tbody tr th {\n",
              "        vertical-align: top;\n",
              "    }\n",
              "\n",
              "    .dataframe thead th {\n",
              "        text-align: right;\n",
              "    }\n",
              "</style>\n",
              "<table border=\"1\" class=\"dataframe\">\n",
              "  <thead>\n",
              "    <tr style=\"text-align: right;\">\n",
              "      <th></th>\n",
              "      <th>Ano (data)</th>\n",
              "      <th>País</th>\n",
              "      <th>Região</th>\n",
              "      <th>Estado</th>\n",
              "      <th>Estado sigla</th>\n",
              "      <th>Município (Municípios)</th>\n",
              "      <th>Município Estado</th>\n",
              "      <th>Latitude</th>\n",
              "      <th>Longitude</th>\n",
              "      <th>Espécie florestal</th>\n",
              "      <th>Área (ha)</th>\n",
              "    </tr>\n",
              "  </thead>\n",
              "  <tbody>\n",
              "    <tr>\n",
              "      <th>0</th>\n",
              "      <td>31/12/2014</td>\n",
              "      <td>Brasil</td>\n",
              "      <td>Norte</td>\n",
              "      <td>Rondônia</td>\n",
              "      <td>RO</td>\n",
              "      <td>Alta Floresta D'Oeste</td>\n",
              "      <td>Alta Floresta D'Oeste (RO)</td>\n",
              "      <td>-12,47</td>\n",
              "      <td>-62,27</td>\n",
              "      <td>Eucalipto</td>\n",
              "      <td>0.0</td>\n",
              "    </tr>\n",
              "    <tr>\n",
              "      <th>1</th>\n",
              "      <td>31/12/2015</td>\n",
              "      <td>Brasil</td>\n",
              "      <td>Norte</td>\n",
              "      <td>Rondônia</td>\n",
              "      <td>RO</td>\n",
              "      <td>Alta Floresta D'Oeste</td>\n",
              "      <td>Alta Floresta D'Oeste (RO)</td>\n",
              "      <td>-12,47</td>\n",
              "      <td>-62,27</td>\n",
              "      <td>Eucalipto</td>\n",
              "      <td>0.0</td>\n",
              "    </tr>\n",
              "    <tr>\n",
              "      <th>2</th>\n",
              "      <td>31/12/2016</td>\n",
              "      <td>Brasil</td>\n",
              "      <td>Norte</td>\n",
              "      <td>Rondônia</td>\n",
              "      <td>RO</td>\n",
              "      <td>Alta Floresta D'Oeste</td>\n",
              "      <td>Alta Floresta D'Oeste (RO)</td>\n",
              "      <td>-12,47</td>\n",
              "      <td>-62,27</td>\n",
              "      <td>Eucalipto</td>\n",
              "      <td>0.0</td>\n",
              "    </tr>\n",
              "    <tr>\n",
              "      <th>3</th>\n",
              "      <td>31/12/2014</td>\n",
              "      <td>Brasil</td>\n",
              "      <td>Norte</td>\n",
              "      <td>Rondônia</td>\n",
              "      <td>RO</td>\n",
              "      <td>Alta Floresta D'Oeste</td>\n",
              "      <td>Alta Floresta D'Oeste (RO)</td>\n",
              "      <td>-12,47</td>\n",
              "      <td>-62,27</td>\n",
              "      <td>Pinus</td>\n",
              "      <td>0.0</td>\n",
              "    </tr>\n",
              "    <tr>\n",
              "      <th>4</th>\n",
              "      <td>31/12/2015</td>\n",
              "      <td>Brasil</td>\n",
              "      <td>Norte</td>\n",
              "      <td>Rondônia</td>\n",
              "      <td>RO</td>\n",
              "      <td>Alta Floresta D'Oeste</td>\n",
              "      <td>Alta Floresta D'Oeste (RO)</td>\n",
              "      <td>-12,47</td>\n",
              "      <td>-62,27</td>\n",
              "      <td>Pinus</td>\n",
              "      <td>0.0</td>\n",
              "    </tr>\n",
              "  </tbody>\n",
              "</table>\n",
              "</div>"
            ],
            "text/plain": [
              "   Ano (data)    País Região    Estado Estado sigla Município (Municípios)  \\\n",
              "0  31/12/2014  Brasil  Norte  Rondônia           RO  Alta Floresta D'Oeste   \n",
              "1  31/12/2015  Brasil  Norte  Rondônia           RO  Alta Floresta D'Oeste   \n",
              "2  31/12/2016  Brasil  Norte  Rondônia           RO  Alta Floresta D'Oeste   \n",
              "3  31/12/2014  Brasil  Norte  Rondônia           RO  Alta Floresta D'Oeste   \n",
              "4  31/12/2015  Brasil  Norte  Rondônia           RO  Alta Floresta D'Oeste   \n",
              "\n",
              "             Município Estado Latitude Longitude Espécie florestal  Área (ha)  \n",
              "0  Alta Floresta D'Oeste (RO)   -12,47    -62,27         Eucalipto        0.0  \n",
              "1  Alta Floresta D'Oeste (RO)   -12,47    -62,27         Eucalipto        0.0  \n",
              "2  Alta Floresta D'Oeste (RO)   -12,47    -62,27         Eucalipto        0.0  \n",
              "3  Alta Floresta D'Oeste (RO)   -12,47    -62,27             Pinus        0.0  \n",
              "4  Alta Floresta D'Oeste (RO)   -12,47    -62,27             Pinus        0.0  "
            ]
          },
          "execution_count": 6,
          "metadata": {},
          "output_type": "execute_result"
        }
      ],
      "source": [
        "df.head()"
      ]
    },
    {
      "cell_type": "code",
      "execution_count": 7,
      "metadata": {
        "colab": {
          "base_uri": "https://localhost:8080/"
        },
        "id": "znIVZgyT93LH",
        "outputId": "76e52064-c628-4145-a989-ee07255c1b8d"
      },
      "outputs": [
        {
          "name": "stdout",
          "output_type": "stream",
          "text": [
            "<class 'pandas.core.frame.DataFrame'>\n",
            "RangeIndex: 31014 entries, 0 to 31013\n",
            "Data columns (total 11 columns):\n",
            " #   Column                  Non-Null Count  Dtype  \n",
            "---  ------                  --------------  -----  \n",
            " 0   Ano (data)              31014 non-null  object \n",
            " 1   País                    31014 non-null  object \n",
            " 2   Região                  31014 non-null  object \n",
            " 3   Estado                  31014 non-null  object \n",
            " 4   Estado sigla            31014 non-null  object \n",
            " 5   Município (Municípios)  31014 non-null  object \n",
            " 6   Município Estado        31014 non-null  object \n",
            " 7   Latitude                31014 non-null  object \n",
            " 8   Longitude               31014 non-null  object \n",
            " 9   Espécie florestal       31014 non-null  object \n",
            " 10  Área (ha)               29658 non-null  float64\n",
            "dtypes: float64(1), object(10)\n",
            "memory usage: 2.6+ MB\n"
          ]
        }
      ],
      "source": [
        "df.info()"
      ]
    },
    {
      "cell_type": "markdown",
      "metadata": {
        "id": "kNw2cRoi67mp"
      },
      "source": [
        "### Gráfico de Barras"
      ]
    },
    {
      "cell_type": "markdown",
      "metadata": {
        "id": "3XrjDkguY7Pb"
      },
      "source": [
        "Qual a quantidade de registro de reflorastamento por estado?"
      ]
    },
    {
      "cell_type": "markdown",
      "metadata": {
        "id": "4uBiJYBY-fkc"
      },
      "source": [
        "O processo de plotagem:\n",
        "1. entender os dados que temos\n",
        "2. Entender a questão de negócio\n",
        "3. realizar as transformações\n",
        "4. realizar a plotagem"
      ]
    },
    {
      "cell_type": "code",
      "execution_count": 8,
      "metadata": {
        "colab": {
          "base_uri": "https://localhost:8080/",
          "height": 206
        },
        "id": "6gWVM2GEQQBx",
        "outputId": "834f0090-1375-439d-ca4e-b6cb46f9805c"
      },
      "outputs": [
        {
          "data": {
            "text/html": [
              "<div>\n",
              "<style scoped>\n",
              "    .dataframe tbody tr th:only-of-type {\n",
              "        vertical-align: middle;\n",
              "    }\n",
              "\n",
              "    .dataframe tbody tr th {\n",
              "        vertical-align: top;\n",
              "    }\n",
              "\n",
              "    .dataframe thead th {\n",
              "        text-align: right;\n",
              "    }\n",
              "</style>\n",
              "<table border=\"1\" class=\"dataframe\">\n",
              "  <thead>\n",
              "    <tr style=\"text-align: right;\">\n",
              "      <th></th>\n",
              "      <th>Ano (data)</th>\n",
              "      <th>País</th>\n",
              "      <th>Região</th>\n",
              "      <th>Estado</th>\n",
              "      <th>Estado sigla</th>\n",
              "      <th>Município (Municípios)</th>\n",
              "      <th>Município Estado</th>\n",
              "      <th>Latitude</th>\n",
              "      <th>Longitude</th>\n",
              "      <th>Espécie florestal</th>\n",
              "      <th>Área (ha)</th>\n",
              "    </tr>\n",
              "  </thead>\n",
              "  <tbody>\n",
              "    <tr>\n",
              "      <th>0</th>\n",
              "      <td>31/12/2014</td>\n",
              "      <td>Brasil</td>\n",
              "      <td>Norte</td>\n",
              "      <td>Rondônia</td>\n",
              "      <td>RO</td>\n",
              "      <td>Alta Floresta D'Oeste</td>\n",
              "      <td>Alta Floresta D'Oeste (RO)</td>\n",
              "      <td>-12,47</td>\n",
              "      <td>-62,27</td>\n",
              "      <td>Eucalipto</td>\n",
              "      <td>0.0</td>\n",
              "    </tr>\n",
              "    <tr>\n",
              "      <th>1</th>\n",
              "      <td>31/12/2015</td>\n",
              "      <td>Brasil</td>\n",
              "      <td>Norte</td>\n",
              "      <td>Rondônia</td>\n",
              "      <td>RO</td>\n",
              "      <td>Alta Floresta D'Oeste</td>\n",
              "      <td>Alta Floresta D'Oeste (RO)</td>\n",
              "      <td>-12,47</td>\n",
              "      <td>-62,27</td>\n",
              "      <td>Eucalipto</td>\n",
              "      <td>0.0</td>\n",
              "    </tr>\n",
              "    <tr>\n",
              "      <th>2</th>\n",
              "      <td>31/12/2016</td>\n",
              "      <td>Brasil</td>\n",
              "      <td>Norte</td>\n",
              "      <td>Rondônia</td>\n",
              "      <td>RO</td>\n",
              "      <td>Alta Floresta D'Oeste</td>\n",
              "      <td>Alta Floresta D'Oeste (RO)</td>\n",
              "      <td>-12,47</td>\n",
              "      <td>-62,27</td>\n",
              "      <td>Eucalipto</td>\n",
              "      <td>0.0</td>\n",
              "    </tr>\n",
              "    <tr>\n",
              "      <th>3</th>\n",
              "      <td>31/12/2014</td>\n",
              "      <td>Brasil</td>\n",
              "      <td>Norte</td>\n",
              "      <td>Rondônia</td>\n",
              "      <td>RO</td>\n",
              "      <td>Alta Floresta D'Oeste</td>\n",
              "      <td>Alta Floresta D'Oeste (RO)</td>\n",
              "      <td>-12,47</td>\n",
              "      <td>-62,27</td>\n",
              "      <td>Pinus</td>\n",
              "      <td>0.0</td>\n",
              "    </tr>\n",
              "    <tr>\n",
              "      <th>4</th>\n",
              "      <td>31/12/2015</td>\n",
              "      <td>Brasil</td>\n",
              "      <td>Norte</td>\n",
              "      <td>Rondônia</td>\n",
              "      <td>RO</td>\n",
              "      <td>Alta Floresta D'Oeste</td>\n",
              "      <td>Alta Floresta D'Oeste (RO)</td>\n",
              "      <td>-12,47</td>\n",
              "      <td>-62,27</td>\n",
              "      <td>Pinus</td>\n",
              "      <td>0.0</td>\n",
              "    </tr>\n",
              "  </tbody>\n",
              "</table>\n",
              "</div>"
            ],
            "text/plain": [
              "   Ano (data)    País Região    Estado Estado sigla Município (Municípios)  \\\n",
              "0  31/12/2014  Brasil  Norte  Rondônia           RO  Alta Floresta D'Oeste   \n",
              "1  31/12/2015  Brasil  Norte  Rondônia           RO  Alta Floresta D'Oeste   \n",
              "2  31/12/2016  Brasil  Norte  Rondônia           RO  Alta Floresta D'Oeste   \n",
              "3  31/12/2014  Brasil  Norte  Rondônia           RO  Alta Floresta D'Oeste   \n",
              "4  31/12/2015  Brasil  Norte  Rondônia           RO  Alta Floresta D'Oeste   \n",
              "\n",
              "             Município Estado Latitude Longitude Espécie florestal  Área (ha)  \n",
              "0  Alta Floresta D'Oeste (RO)   -12,47    -62,27         Eucalipto        0.0  \n",
              "1  Alta Floresta D'Oeste (RO)   -12,47    -62,27         Eucalipto        0.0  \n",
              "2  Alta Floresta D'Oeste (RO)   -12,47    -62,27         Eucalipto        0.0  \n",
              "3  Alta Floresta D'Oeste (RO)   -12,47    -62,27             Pinus        0.0  \n",
              "4  Alta Floresta D'Oeste (RO)   -12,47    -62,27             Pinus        0.0  "
            ]
          },
          "execution_count": 8,
          "metadata": {},
          "output_type": "execute_result"
        }
      ],
      "source": [
        "# visualizando o dataframe\n",
        "df.head()"
      ]
    },
    {
      "cell_type": "code",
      "execution_count": 9,
      "metadata": {
        "colab": {
          "base_uri": "https://localhost:8080/"
        },
        "id": "AC2w-nQrZE_u",
        "outputId": "802603ed-93fa-4ced-e795-df13f22e2868"
      },
      "outputs": [
        {
          "data": {
            "text/plain": [
              "Minas Gerais           7191\n",
              "São Paulo              4617\n",
              "Rio Grande do Sul      4419\n",
              "Paraná                 3510\n",
              "Santa Catarina         2637\n",
              "Goiás                  1404\n",
              "Mato Grosso            1008\n",
              "Bahia                   945\n",
              "Tocantins               756\n",
              "Espírito Santo          702\n",
              "Rio de Janeiro          693\n",
              "Mato Grosso do Sul      684\n",
              "Maranhão                495\n",
              "Alagoas                 369\n",
              "Rio Grande do Norte     261\n",
              "Pará                    261\n",
              "Rondônia                261\n",
              "Piauí                   225\n",
              "Sergipe                 189\n",
              "Ceará                   135\n",
              "Roraima                  90\n",
              "Paraíba                  63\n",
              "Pernambuco               45\n",
              "Amapá                    45\n",
              "Distrito Federal          9\n",
              "Name: Estado, dtype: int64"
            ]
          },
          "execution_count": 9,
          "metadata": {},
          "output_type": "execute_result"
        }
      ],
      "source": [
        "# valores por estado\n",
        "df['Estado'].value_counts()"
      ]
    },
    {
      "cell_type": "code",
      "execution_count": 10,
      "metadata": {
        "colab": {
          "base_uri": "https://localhost:8080/",
          "height": 289
        },
        "id": "5454QkboNa8-",
        "outputId": "fea60c47-a458-4805-f5e6-e72bc7a2f31d"
      },
      "outputs": [
        {
          "data": {
            "text/plain": [
              "<AxesSubplot: >"
            ]
          },
          "execution_count": 10,
          "metadata": {},
          "output_type": "execute_result"
        },
        {
          "data": {
            "image/png": "[encoded data removed]",
            "text/plain": [
              "<Figure size 432x288 with 1 Axes>"
            ]
          },
          "metadata": {
            "needs_background": "light"
          },
          "output_type": "display_data"
        }
      ],
      "source": [
        "# definindo as variaveis do gráfico\n",
        "\n",
        "df['Estado sigla'].value_counts().plot.bar()"
      ]
    },
    {
      "cell_type": "code",
      "execution_count": 11,
      "metadata": {
        "colab": {
          "base_uri": "https://localhost:8080/"
        },
        "id": "2MLWubu-RBQ3",
        "outputId": "8b4fb7b7-c6d1-4c1f-a775-3f6faf1188de"
      },
      "outputs": [
        {
          "data": {
            "text/plain": [
              "Index(['MG', 'SP', 'RS', 'PR', 'SC', 'GO', 'MT', 'BA', 'TO', 'ES', 'RJ', 'MS',\n",
              "       'MA', 'AL', 'RN', 'PA', 'RO', 'PI', 'SE', 'CE', 'RR', 'PB', 'PE', 'AP',\n",
              "       'DF'],\n",
              "      dtype='object')"
            ]
          },
          "execution_count": 11,
          "metadata": {},
          "output_type": "execute_result"
        }
      ],
      "source": [
        "# exibindo a variavel x\n",
        "x_bar = df['Estado sigla'].value_counts().index\n",
        "x_bar"
      ]
    },
    {
      "cell_type": "code",
      "execution_count": 12,
      "metadata": {
        "colab": {
          "base_uri": "https://localhost:8080/"
        },
        "id": "K-wkfYvfRDF7",
        "outputId": "f1a9bd63-c28d-4e5d-8c3d-bf12f5d9ded9"
      },
      "outputs": [
        {
          "data": {
            "text/plain": [
              "MG    7191\n",
              "SP    4617\n",
              "RS    4419\n",
              "PR    3510\n",
              "SC    2637\n",
              "GO    1404\n",
              "MT    1008\n",
              "BA     945\n",
              "TO     756\n",
              "ES     702\n",
              "RJ     693\n",
              "MS     684\n",
              "MA     495\n",
              "AL     369\n",
              "RN     261\n",
              "PA     261\n",
              "RO     261\n",
              "PI     225\n",
              "SE     189\n",
              "CE     135\n",
              "RR      90\n",
              "PB      63\n",
              "PE      45\n",
              "AP      45\n",
              "DF       9\n",
              "Name: Estado sigla, dtype: int64"
            ]
          },
          "execution_count": 12,
          "metadata": {},
          "output_type": "execute_result"
        }
      ],
      "source": [
        "# exibindo a variavel y\n",
        "y_bar = df['Estado sigla'].value_counts()\n",
        "y_bar"
      ]
    },
    {
      "cell_type": "code",
      "execution_count": 13,
      "metadata": {
        "colab": {
          "base_uri": "https://localhost:8080/",
          "height": 282
        },
        "id": "z1BVPwOFRFqi",
        "outputId": "be0f1939-1163-4ebe-df0b-429291ee63dc"
      },
      "outputs": [
        {
          "data": {
            "text/plain": [
              "<BarContainer object of 25 artists>"
            ]
          },
          "execution_count": 13,
          "metadata": {},
          "output_type": "execute_result"
        },
        {
          "data": {
            "image/png": "[encoded data removed]",
            "text/plain": [
              "<Figure size 432x288 with 1 Axes>"
            ]
          },
          "metadata": {
            "needs_background": "light"
          },
          "output_type": "display_data"
        }
      ],
      "source": [
        "# plotando o grafico sem plt.show\n",
        "\n",
        "plt.bar(x_bar, y_bar)"
      ]
    },
    {
      "cell_type": "code",
      "execution_count": 14,
      "metadata": {
        "colab": {
          "base_uri": "https://localhost:8080/",
          "height": 265
        },
        "id": "BOVaHqa1t_3t",
        "outputId": "1ced980f-2afa-4f65-9ed5-fb79b68d5ec9"
      },
      "outputs": [
        {
          "data": {
            "image/png": "[encoded data removed]",
            "text/plain": [
              "<Figure size 432x288 with 1 Axes>"
            ]
          },
          "metadata": {
            "needs_background": "light"
          },
          "output_type": "display_data"
        }
      ],
      "source": [
        "# plotando o grafico com plt.show\n",
        "plt.bar(x_bar, y_bar)\n",
        "plt.show()"
      ]
    },
    {
      "cell_type": "code",
      "execution_count": 15,
      "metadata": {
        "colab": {
          "base_uri": "https://localhost:8080/",
          "height": 409
        },
        "id": "QZ2cHA1ek3dW",
        "outputId": "d7157c33-8633-46be-86b5-a4ca106ba28b"
      },
      "outputs": [
        {
          "data": {
            "image/png": "[encoded data removed]",
            "text/plain": [
              "<Figure size 1152x432 with 1 Axes>"
            ]
          },
          "metadata": {
            "needs_background": "light"
          },
          "output_type": "display_data"
        }
      ],
      "source": [
        "# adicionando título, rótulos dos eixos e aplicando outras configurações\n",
        "plt.figure(figsize=(16, 6))\n",
        "plt.bar(x_bar, y_bar, color='darkblue')\n",
        "plt.title('Quantidade de Registros Florestais por Estado', fontsize=16)\n",
        "plt.xlabel('Estado', fontsize=12)\n",
        "plt.ylabel('Quantidade', fontsize=12)\n",
        "plt.xticks(fontsize=10)\n",
        "plt.yticks(fontsize=10)\n",
        "plt.show()"
      ]
    },
    {
      "cell_type": "markdown",
      "metadata": {
        "id": "s3rAvG59yLwZ"
      },
      "source": [
        "Qual o TOP10 estados com mais quantidade de registro de reflorastamento?"
      ]
    },
    {
      "cell_type": "code",
      "execution_count": 16,
      "metadata": {
        "colab": {
          "base_uri": "https://localhost:8080/",
          "height": 206
        },
        "id": "mKHcDfbrEFtE",
        "outputId": "73c7a90d-9c76-4570-a31d-d58dab721e4a"
      },
      "outputs": [
        {
          "data": {
            "text/html": [
              "<div>\n",
              "<style scoped>\n",
              "    .dataframe tbody tr th:only-of-type {\n",
              "        vertical-align: middle;\n",
              "    }\n",
              "\n",
              "    .dataframe tbody tr th {\n",
              "        vertical-align: top;\n",
              "    }\n",
              "\n",
              "    .dataframe thead th {\n",
              "        text-align: right;\n",
              "    }\n",
              "</style>\n",
              "<table border=\"1\" class=\"dataframe\">\n",
              "  <thead>\n",
              "    <tr style=\"text-align: right;\">\n",
              "      <th></th>\n",
              "      <th>index</th>\n",
              "      <th>Estado sigla</th>\n",
              "    </tr>\n",
              "  </thead>\n",
              "  <tbody>\n",
              "    <tr>\n",
              "      <th>0</th>\n",
              "      <td>MG</td>\n",
              "      <td>7191</td>\n",
              "    </tr>\n",
              "    <tr>\n",
              "      <th>1</th>\n",
              "      <td>SP</td>\n",
              "      <td>4617</td>\n",
              "    </tr>\n",
              "    <tr>\n",
              "      <th>2</th>\n",
              "      <td>RS</td>\n",
              "      <td>4419</td>\n",
              "    </tr>\n",
              "    <tr>\n",
              "      <th>3</th>\n",
              "      <td>PR</td>\n",
              "      <td>3510</td>\n",
              "    </tr>\n",
              "    <tr>\n",
              "      <th>4</th>\n",
              "      <td>SC</td>\n",
              "      <td>2637</td>\n",
              "    </tr>\n",
              "  </tbody>\n",
              "</table>\n",
              "</div>"
            ],
            "text/plain": [
              "  index  Estado sigla\n",
              "0    MG          7191\n",
              "1    SP          4617\n",
              "2    RS          4419\n",
              "3    PR          3510\n",
              "4    SC          2637"
            ]
          },
          "execution_count": 16,
          "metadata": {},
          "output_type": "execute_result"
        }
      ],
      "source": [
        "df_bar = df['Estado sigla'].value_counts().head(10).reset_index()\n",
        "df_bar.head()"
      ]
    },
    {
      "cell_type": "code",
      "execution_count": 17,
      "metadata": {
        "colab": {
          "base_uri": "https://localhost:8080/",
          "height": 409
        },
        "id": "PO2fP_d-zcQl",
        "outputId": "628a60d6-f37a-4da0-f41a-8a2d7e54a536"
      },
      "outputs": [
        {
          "data": {
            "image/png": "[encoded data removed]",
            "text/plain": [
              "<Figure size 1152x432 with 1 Axes>"
            ]
          },
          "metadata": {
            "needs_background": "light"
          },
          "output_type": "display_data"
        }
      ],
      "source": [
        "# top 10 estados\n",
        "plt.figure(figsize=(16, 6))\n",
        "plt.bar('index', 'Estado sigla', data = df_bar, color='darkblue')\n",
        "plt.title('Quantidade de Registros Florestais por Estado', fontsize=16)\n",
        "plt.xlabel('Estado', fontsize=12)\n",
        "plt.ylabel('Quantidade', fontsize=12)\n",
        "plt.xticks(fontsize=10)\n",
        "plt.yticks(fontsize=10)\n",
        "plt.show()"
      ]
    },
    {
      "cell_type": "markdown",
      "metadata": {
        "id": "M5PVrk2uzoY0"
      },
      "source": [
        "#### Utilizando subplots para incluir rótulos nos dados"
      ]
    },
    {
      "cell_type": "code",
      "execution_count": 18,
      "metadata": {
        "colab": {
          "base_uri": "https://localhost:8080/",
          "height": 304
        },
        "id": "7s3zGPwa0Mzq",
        "outputId": "b41d1a59-ae7f-4259-c670-c7cdba7273a2"
      },
      "outputs": [
        {
          "name": "stdout",
          "output_type": "stream",
          "text": [
            "3 Figure(432x288) [[<AxesSubplot: > <AxesSubplot: >]\n",
            " [<AxesSubplot: > <AxesSubplot: >]]\n"
          ]
        },
        {
          "data": {
            "image/png": "[encoded data removed]",
            "text/plain": [
              "<Figure size 432x288 with 4 Axes>"
            ]
          },
          "metadata": {
            "needs_background": "light"
          },
          "output_type": "display_data"
        }
      ],
      "source": [
        "# fig1 = plt.figure()\n",
        "# print(1, fig1)\n",
        "\n",
        "# fig2, ax2 = plt.subplots()\n",
        "# print(2, fig2, ax2)\n",
        "\n",
        "fig3, ax3 = plt.subplots(2,2)\n",
        "print(3, fig3, ax3)"
      ]
    },
    {
      "cell_type": "code",
      "execution_count": 19,
      "metadata": {
        "colab": {
          "base_uri": "https://localhost:8080/",
          "height": 409
        },
        "id": "tp2tlT4Q6njK",
        "outputId": "6fbc7fd9-f06b-4feb-9b33-2ebbcca0f73c"
      },
      "outputs": [
        {
          "data": {
            "image/png": "[encoded data removed]",
            "text/plain": [
              "<Figure size 1152x432 with 1 Axes>"
            ]
          },
          "metadata": {
            "needs_background": "light"
          },
          "output_type": "display_data"
        }
      ],
      "source": [
        "# Incluindo rótulo nas barras\n",
        "\n",
        "fig, ax = plt.subplots(figsize=(16, 6))\n",
        "bars = ax.bar('index', 'Estado sigla', data = df_bar, color='darkblue')\n",
        "plt.title('Quantidade de Registros Florestais por Estado', fontsize=16)\n",
        "plt.xlabel('Estado', fontsize=12)\n",
        "plt.ylabel('Quantidade', fontsize=12)\n",
        "plt.xticks(fontsize=10)\n",
        "plt.yticks(fontsize=10)\n",
        "\n",
        "ax.bar_label(bars)\n",
        "plt.show()"
      ]
    },
    {
      "cell_type": "markdown",
      "metadata": {
        "id": "VqzMVQW2XnMO"
      },
      "source": [
        "### Configurações Gráficos"
      ]
    },
    {
      "cell_type": "markdown",
      "metadata": {
        "id": "KxR7CZ8RXtxb"
      },
      "source": [
        "[Documentação rcParams](https://matplotlib.org/stable/api/matplotlib_configuration_api.html#matplotlib.rcParams)"
      ]
    },
    {
      "cell_type": "code",
      "execution_count": 20,
      "metadata": {
        "id": "YnA-km5iXqWo"
      },
      "outputs": [],
      "source": [
        "# tamanho do gráfico\n",
        "plt.rcParams['figure.figsize'] = (16, 6)\n",
        "# tamanho do rótulos dos ticks do eixo x\n",
        "plt.rcParams['xtick.labelsize'] = 11\n",
        "# tamanho do rótulos dos ticks do eixo y\n",
        "plt.rcParams['ytick.labelsize'] = 11\n",
        "# tamanho da fonte do gráfico\n",
        "plt.rcParams['font.size'] = 10\n",
        "# tamanho do título\n",
        "plt.rcParams['axes.titlesize'] = 16\n",
        "# tamanho dos rótulos de eixo\n",
        "plt.rcParams['axes.labelsize'] = 12"
      ]
    },
    {
      "cell_type": "code",
      "execution_count": 21,
      "metadata": {
        "colab": {
          "base_uri": "https://localhost:8080/",
          "height": 409
        },
        "id": "iS9F8_RW_Ys1",
        "outputId": "417f466c-0c73-435e-8fa1-154777fbd8d6"
      },
      "outputs": [
        {
          "data": {
            "image/png": "[encoded data removed]",
            "text/plain": [
              "<Figure size 1152x432 with 1 Axes>"
            ]
          },
          "metadata": {
            "needs_background": "light"
          },
          "output_type": "display_data"
        }
      ],
      "source": [
        "# plotando gráfico com os parametros globais aplicados\n",
        "\n",
        "fig, ax = plt.subplots()\n",
        "bars = ax.bar('index', 'Estado sigla', data = df_bar, color='darkblue')\n",
        "\n",
        "plt.title('Quantidade de Registros Florestais por Estado')\n",
        "plt.xlabel('Estado')\n",
        "plt.ylabel('Quantidade')\n",
        "\n",
        "\n",
        "ax.bar_label(bars)\n",
        "plt.show()"
      ]
    },
    {
      "cell_type": "code",
      "execution_count": 22,
      "metadata": {
        "id": "epOyMiiRCnOS"
      },
      "outputs": [],
      "source": [
        "fig.savefig('grafico.png')"
      ]
    },
    {
      "cell_type": "markdown",
      "metadata": {
        "id": "afWQAnyCNh2V"
      },
      "source": [
        "### Gráfico de Linhas"
      ]
    },
    {
      "cell_type": "code",
      "execution_count": 23,
      "metadata": {
        "colab": {
          "base_uri": "https://localhost:8080/",
          "height": 206
        },
        "id": "E1nV3nvYWSvB",
        "outputId": "fbdb8fb8-5b80-45c4-a924-8950ca34e11e"
      },
      "outputs": [
        {
          "data": {
            "text/html": [
              "<div>\n",
              "<style scoped>\n",
              "    .dataframe tbody tr th:only-of-type {\n",
              "        vertical-align: middle;\n",
              "    }\n",
              "\n",
              "    .dataframe tbody tr th {\n",
              "        vertical-align: top;\n",
              "    }\n",
              "\n",
              "    .dataframe thead th {\n",
              "        text-align: right;\n",
              "    }\n",
              "</style>\n",
              "<table border=\"1\" class=\"dataframe\">\n",
              "  <thead>\n",
              "    <tr style=\"text-align: right;\">\n",
              "      <th></th>\n",
              "      <th>Ano (data)</th>\n",
              "      <th>País</th>\n",
              "      <th>Região</th>\n",
              "      <th>Estado</th>\n",
              "      <th>Estado sigla</th>\n",
              "      <th>Município (Municípios)</th>\n",
              "      <th>Município Estado</th>\n",
              "      <th>Latitude</th>\n",
              "      <th>Longitude</th>\n",
              "      <th>Espécie florestal</th>\n",
              "      <th>Área (ha)</th>\n",
              "    </tr>\n",
              "  </thead>\n",
              "  <tbody>\n",
              "    <tr>\n",
              "      <th>0</th>\n",
              "      <td>31/12/2014</td>\n",
              "      <td>Brasil</td>\n",
              "      <td>Norte</td>\n",
              "      <td>Rondônia</td>\n",
              "      <td>RO</td>\n",
              "      <td>Alta Floresta D'Oeste</td>\n",
              "      <td>Alta Floresta D'Oeste (RO)</td>\n",
              "      <td>-12,47</td>\n",
              "      <td>-62,27</td>\n",
              "      <td>Eucalipto</td>\n",
              "      <td>0.0</td>\n",
              "    </tr>\n",
              "    <tr>\n",
              "      <th>1</th>\n",
              "      <td>31/12/2015</td>\n",
              "      <td>Brasil</td>\n",
              "      <td>Norte</td>\n",
              "      <td>Rondônia</td>\n",
              "      <td>RO</td>\n",
              "      <td>Alta Floresta D'Oeste</td>\n",
              "      <td>Alta Floresta D'Oeste (RO)</td>\n",
              "      <td>-12,47</td>\n",
              "      <td>-62,27</td>\n",
              "      <td>Eucalipto</td>\n",
              "      <td>0.0</td>\n",
              "    </tr>\n",
              "    <tr>\n",
              "      <th>2</th>\n",
              "      <td>31/12/2016</td>\n",
              "      <td>Brasil</td>\n",
              "      <td>Norte</td>\n",
              "      <td>Rondônia</td>\n",
              "      <td>RO</td>\n",
              "      <td>Alta Floresta D'Oeste</td>\n",
              "      <td>Alta Floresta D'Oeste (RO)</td>\n",
              "      <td>-12,47</td>\n",
              "      <td>-62,27</td>\n",
              "      <td>Eucalipto</td>\n",
              "      <td>0.0</td>\n",
              "    </tr>\n",
              "    <tr>\n",
              "      <th>3</th>\n",
              "      <td>31/12/2014</td>\n",
              "      <td>Brasil</td>\n",
              "      <td>Norte</td>\n",
              "      <td>Rondônia</td>\n",
              "      <td>RO</td>\n",
              "      <td>Alta Floresta D'Oeste</td>\n",
              "      <td>Alta Floresta D'Oeste (RO)</td>\n",
              "      <td>-12,47</td>\n",
              "      <td>-62,27</td>\n",
              "      <td>Pinus</td>\n",
              "      <td>0.0</td>\n",
              "    </tr>\n",
              "    <tr>\n",
              "      <th>4</th>\n",
              "      <td>31/12/2015</td>\n",
              "      <td>Brasil</td>\n",
              "      <td>Norte</td>\n",
              "      <td>Rondônia</td>\n",
              "      <td>RO</td>\n",
              "      <td>Alta Floresta D'Oeste</td>\n",
              "      <td>Alta Floresta D'Oeste (RO)</td>\n",
              "      <td>-12,47</td>\n",
              "      <td>-62,27</td>\n",
              "      <td>Pinus</td>\n",
              "      <td>0.0</td>\n",
              "    </tr>\n",
              "  </tbody>\n",
              "</table>\n",
              "</div>"
            ],
            "text/plain": [
              "   Ano (data)    País Região    Estado Estado sigla Município (Municípios)  \\\n",
              "0  31/12/2014  Brasil  Norte  Rondônia           RO  Alta Floresta D'Oeste   \n",
              "1  31/12/2015  Brasil  Norte  Rondônia           RO  Alta Floresta D'Oeste   \n",
              "2  31/12/2016  Brasil  Norte  Rondônia           RO  Alta Floresta D'Oeste   \n",
              "3  31/12/2014  Brasil  Norte  Rondônia           RO  Alta Floresta D'Oeste   \n",
              "4  31/12/2015  Brasil  Norte  Rondônia           RO  Alta Floresta D'Oeste   \n",
              "\n",
              "             Município Estado Latitude Longitude Espécie florestal  Área (ha)  \n",
              "0  Alta Floresta D'Oeste (RO)   -12,47    -62,27         Eucalipto        0.0  \n",
              "1  Alta Floresta D'Oeste (RO)   -12,47    -62,27         Eucalipto        0.0  \n",
              "2  Alta Floresta D'Oeste (RO)   -12,47    -62,27         Eucalipto        0.0  \n",
              "3  Alta Floresta D'Oeste (RO)   -12,47    -62,27             Pinus        0.0  \n",
              "4  Alta Floresta D'Oeste (RO)   -12,47    -62,27             Pinus        0.0  "
            ]
          },
          "execution_count": 23,
          "metadata": {},
          "output_type": "execute_result"
        }
      ],
      "source": [
        "# visualizando o dataframe\n",
        "df.head()"
      ]
    },
    {
      "cell_type": "markdown",
      "metadata": {
        "id": "J2WTgulUSxKs"
      },
      "source": [
        "Qual a soma total das áreas reflorestadas ao longo dos anos?"
      ]
    },
    {
      "cell_type": "code",
      "execution_count": 24,
      "metadata": {
        "id": "5jF9UlqZN5ob"
      },
      "outputs": [],
      "source": [
        "# agrupando o total reflorestado por ano\n",
        "df_area_por_ano = df.groupby('Ano (data)')['Área (ha)'].sum()"
      ]
    },
    {
      "cell_type": "code",
      "execution_count": 25,
      "metadata": {
        "colab": {
          "base_uri": "https://localhost:8080/"
        },
        "id": "J2bTIAK4Di55",
        "outputId": "e85b4aaf-f21a-4ab7-a4c8-1061fe1d31f7"
      },
      "outputs": [
        {
          "data": {
            "text/plain": [
              "Ano (data)\n",
              "31/12/2014     9366741.0\n",
              "31/12/2015     9937947.0\n",
              "31/12/2016    10023076.0\n",
              "Name: Área (ha), dtype: float64"
            ]
          },
          "execution_count": 25,
          "metadata": {},
          "output_type": "execute_result"
        }
      ],
      "source": [
        "df_area_por_ano"
      ]
    },
    {
      "cell_type": "code",
      "execution_count": 26,
      "metadata": {
        "colab": {
          "base_uri": "https://localhost:8080/",
          "height": 402
        },
        "id": "FUQ0VvUeuYD_",
        "outputId": "e5f1c47f-22b2-455d-ba5b-04998aa04b8f"
      },
      "outputs": [
        {
          "data": {
            "text/plain": [
              "[<matplotlib.lines.Line2D at 0x164452e52d0>]"
            ]
          },
          "execution_count": 26,
          "metadata": {},
          "output_type": "execute_result"
        },
        {
          "data": {
            "image/png": "[encoded data removed]",
            "text/plain": [
              "<Figure size 1152x432 with 1 Axes>"
            ]
          },
          "metadata": {
            "needs_background": "light"
          },
          "output_type": "display_data"
        }
      ],
      "source": [
        "# visualizando o resultado em um gráfico de linha\n",
        "plt.plot(df_area_por_ano.index, df_area_por_ano.values)"
      ]
    },
    {
      "cell_type": "markdown",
      "metadata": {
        "id": "pPWDfTjiTRru"
      },
      "source": [
        "Qual a soma total das áreas reflorestadas ao longo dos anos observando as espécies?\n"
      ]
    },
    {
      "cell_type": "code",
      "execution_count": 27,
      "metadata": {
        "colab": {
          "base_uri": "https://localhost:8080/",
          "height": 206
        },
        "id": "cUIVh8S5EDv3",
        "outputId": "ff8cb985-5d01-4ce2-d7eb-b61c79eb6af9"
      },
      "outputs": [
        {
          "data": {
            "text/html": [
              "<div>\n",
              "<style scoped>\n",
              "    .dataframe tbody tr th:only-of-type {\n",
              "        vertical-align: middle;\n",
              "    }\n",
              "\n",
              "    .dataframe tbody tr th {\n",
              "        vertical-align: top;\n",
              "    }\n",
              "\n",
              "    .dataframe thead th {\n",
              "        text-align: right;\n",
              "    }\n",
              "</style>\n",
              "<table border=\"1\" class=\"dataframe\">\n",
              "  <thead>\n",
              "    <tr style=\"text-align: right;\">\n",
              "      <th></th>\n",
              "      <th>Ano (data)</th>\n",
              "      <th>País</th>\n",
              "      <th>Região</th>\n",
              "      <th>Estado</th>\n",
              "      <th>Estado sigla</th>\n",
              "      <th>Município (Municípios)</th>\n",
              "      <th>Município Estado</th>\n",
              "      <th>Latitude</th>\n",
              "      <th>Longitude</th>\n",
              "      <th>Espécie florestal</th>\n",
              "      <th>Área (ha)</th>\n",
              "    </tr>\n",
              "  </thead>\n",
              "  <tbody>\n",
              "    <tr>\n",
              "      <th>0</th>\n",
              "      <td>31/12/2014</td>\n",
              "      <td>Brasil</td>\n",
              "      <td>Norte</td>\n",
              "      <td>Rondônia</td>\n",
              "      <td>RO</td>\n",
              "      <td>Alta Floresta D'Oeste</td>\n",
              "      <td>Alta Floresta D'Oeste (RO)</td>\n",
              "      <td>-12,47</td>\n",
              "      <td>-62,27</td>\n",
              "      <td>Eucalipto</td>\n",
              "      <td>0.0</td>\n",
              "    </tr>\n",
              "    <tr>\n",
              "      <th>1</th>\n",
              "      <td>31/12/2015</td>\n",
              "      <td>Brasil</td>\n",
              "      <td>Norte</td>\n",
              "      <td>Rondônia</td>\n",
              "      <td>RO</td>\n",
              "      <td>Alta Floresta D'Oeste</td>\n",
              "      <td>Alta Floresta D'Oeste (RO)</td>\n",
              "      <td>-12,47</td>\n",
              "      <td>-62,27</td>\n",
              "      <td>Eucalipto</td>\n",
              "      <td>0.0</td>\n",
              "    </tr>\n",
              "    <tr>\n",
              "      <th>2</th>\n",
              "      <td>31/12/2016</td>\n",
              "      <td>Brasil</td>\n",
              "      <td>Norte</td>\n",
              "      <td>Rondônia</td>\n",
              "      <td>RO</td>\n",
              "      <td>Alta Floresta D'Oeste</td>\n",
              "      <td>Alta Floresta D'Oeste (RO)</td>\n",
              "      <td>-12,47</td>\n",
              "      <td>-62,27</td>\n",
              "      <td>Eucalipto</td>\n",
              "      <td>0.0</td>\n",
              "    </tr>\n",
              "    <tr>\n",
              "      <th>3</th>\n",
              "      <td>31/12/2014</td>\n",
              "      <td>Brasil</td>\n",
              "      <td>Norte</td>\n",
              "      <td>Rondônia</td>\n",
              "      <td>RO</td>\n",
              "      <td>Alta Floresta D'Oeste</td>\n",
              "      <td>Alta Floresta D'Oeste (RO)</td>\n",
              "      <td>-12,47</td>\n",
              "      <td>-62,27</td>\n",
              "      <td>Pinus</td>\n",
              "      <td>0.0</td>\n",
              "    </tr>\n",
              "    <tr>\n",
              "      <th>4</th>\n",
              "      <td>31/12/2015</td>\n",
              "      <td>Brasil</td>\n",
              "      <td>Norte</td>\n",
              "      <td>Rondônia</td>\n",
              "      <td>RO</td>\n",
              "      <td>Alta Floresta D'Oeste</td>\n",
              "      <td>Alta Floresta D'Oeste (RO)</td>\n",
              "      <td>-12,47</td>\n",
              "      <td>-62,27</td>\n",
              "      <td>Pinus</td>\n",
              "      <td>0.0</td>\n",
              "    </tr>\n",
              "  </tbody>\n",
              "</table>\n",
              "</div>"
            ],
            "text/plain": [
              "   Ano (data)    País Região    Estado Estado sigla Município (Municípios)  \\\n",
              "0  31/12/2014  Brasil  Norte  Rondônia           RO  Alta Floresta D'Oeste   \n",
              "1  31/12/2015  Brasil  Norte  Rondônia           RO  Alta Floresta D'Oeste   \n",
              "2  31/12/2016  Brasil  Norte  Rondônia           RO  Alta Floresta D'Oeste   \n",
              "3  31/12/2014  Brasil  Norte  Rondônia           RO  Alta Floresta D'Oeste   \n",
              "4  31/12/2015  Brasil  Norte  Rondônia           RO  Alta Floresta D'Oeste   \n",
              "\n",
              "             Município Estado Latitude Longitude Espécie florestal  Área (ha)  \n",
              "0  Alta Floresta D'Oeste (RO)   -12,47    -62,27         Eucalipto        0.0  \n",
              "1  Alta Floresta D'Oeste (RO)   -12,47    -62,27         Eucalipto        0.0  \n",
              "2  Alta Floresta D'Oeste (RO)   -12,47    -62,27         Eucalipto        0.0  \n",
              "3  Alta Floresta D'Oeste (RO)   -12,47    -62,27             Pinus        0.0  \n",
              "4  Alta Floresta D'Oeste (RO)   -12,47    -62,27             Pinus        0.0  "
            ]
          },
          "execution_count": 27,
          "metadata": {},
          "output_type": "execute_result"
        }
      ],
      "source": [
        "df.head()"
      ]
    },
    {
      "cell_type": "code",
      "execution_count": 28,
      "metadata": {
        "colab": {
          "base_uri": "https://localhost:8080/",
          "height": 143
        },
        "id": "7VMPtHVGrP3q",
        "outputId": "69e234f6-27b2-4a6e-c5b2-cd1a26c914ed"
      },
      "outputs": [
        {
          "name": "stderr",
          "output_type": "stream",
          "text": [
            "C:\\Users\\Viatec\\AppData\\Local\\Temp\\ipykernel_21356\\3283884688.py:2: FutureWarning: In a future version of pandas all arguments of DataFrame.pivot will be keyword-only.\n",
            "  df.groupby(['Ano (data)','Espécie florestal'])[['Área (ha)']].sum().reset_index().pivot('Ano (data)', 'Espécie florestal', 'Área (ha)').reset_index()\n"
          ]
        },
        {
          "data": {
            "text/html": [
              "<div>\n",
              "<style scoped>\n",
              "    .dataframe tbody tr th:only-of-type {\n",
              "        vertical-align: middle;\n",
              "    }\n",
              "\n",
              "    .dataframe tbody tr th {\n",
              "        vertical-align: top;\n",
              "    }\n",
              "\n",
              "    .dataframe thead th {\n",
              "        text-align: right;\n",
              "    }\n",
              "</style>\n",
              "<table border=\"1\" class=\"dataframe\">\n",
              "  <thead>\n",
              "    <tr style=\"text-align: right;\">\n",
              "      <th>Espécie florestal</th>\n",
              "      <th>Ano (data)</th>\n",
              "      <th>Eucalipto</th>\n",
              "      <th>Outras espécies</th>\n",
              "      <th>Pinus</th>\n",
              "    </tr>\n",
              "  </thead>\n",
              "  <tbody>\n",
              "    <tr>\n",
              "      <th>0</th>\n",
              "      <td>31/12/2014</td>\n",
              "      <td>6952509.0</td>\n",
              "      <td>364998.0</td>\n",
              "      <td>2049234.0</td>\n",
              "    </tr>\n",
              "    <tr>\n",
              "      <th>1</th>\n",
              "      <td>31/12/2015</td>\n",
              "      <td>7444625.0</td>\n",
              "      <td>427762.0</td>\n",
              "      <td>2065560.0</td>\n",
              "    </tr>\n",
              "    <tr>\n",
              "      <th>2</th>\n",
              "      <td>31/12/2016</td>\n",
              "      <td>7543707.0</td>\n",
              "      <td>400207.0</td>\n",
              "      <td>2079162.0</td>\n",
              "    </tr>\n",
              "  </tbody>\n",
              "</table>\n",
              "</div>"
            ],
            "text/plain": [
              "Espécie florestal  Ano (data)  Eucalipto  Outras espécies      Pinus\n",
              "0                  31/12/2014  6952509.0         364998.0  2049234.0\n",
              "1                  31/12/2015  7444625.0         427762.0  2065560.0\n",
              "2                  31/12/2016  7543707.0         400207.0  2079162.0"
            ]
          },
          "execution_count": 28,
          "metadata": {},
          "output_type": "execute_result"
        }
      ],
      "source": [
        "# agrupando os a soma por data e especie\n",
        "df.groupby(['Ano (data)','Espécie florestal'])[['Área (ha)']].sum().reset_index().pivot('Ano (data)', 'Espécie florestal', 'Área (ha)').reset_index()\n"
      ]
    },
    {
      "cell_type": "code",
      "execution_count": 29,
      "metadata": {
        "colab": {
          "base_uri": "https://localhost:8080/",
          "height": 143
        },
        "id": "uBiS4aI1MMAi",
        "outputId": "aa3273aa-b5e2-4477-9676-43509fd4222d"
      },
      "outputs": [
        {
          "name": "stderr",
          "output_type": "stream",
          "text": [
            "C:\\Users\\Viatec\\AppData\\Local\\Temp\\ipykernel_21356\\1848506736.py:2: FutureWarning: In a future version of pandas all arguments of DataFrame.pivot will be keyword-only.\n",
            "  df_especie = df.groupby(['Ano (data)','Espécie florestal'])[['Área (ha)']].sum().reset_index().pivot('Ano (data)', 'Espécie florestal', 'Área (ha)').reset_index()\n"
          ]
        },
        {
          "data": {
            "text/html": [
              "<div>\n",
              "<style scoped>\n",
              "    .dataframe tbody tr th:only-of-type {\n",
              "        vertical-align: middle;\n",
              "    }\n",
              "\n",
              "    .dataframe tbody tr th {\n",
              "        vertical-align: top;\n",
              "    }\n",
              "\n",
              "    .dataframe thead th {\n",
              "        text-align: right;\n",
              "    }\n",
              "</style>\n",
              "<table border=\"1\" class=\"dataframe\">\n",
              "  <thead>\n",
              "    <tr style=\"text-align: right;\">\n",
              "      <th>Espécie florestal</th>\n",
              "      <th>Ano (data)</th>\n",
              "      <th>Eucalipto</th>\n",
              "      <th>Outras espécies</th>\n",
              "      <th>Pinus</th>\n",
              "    </tr>\n",
              "  </thead>\n",
              "  <tbody>\n",
              "    <tr>\n",
              "      <th>0</th>\n",
              "      <td>31/12/2014</td>\n",
              "      <td>6952509.0</td>\n",
              "      <td>364998.0</td>\n",
              "      <td>2049234.0</td>\n",
              "    </tr>\n",
              "    <tr>\n",
              "      <th>1</th>\n",
              "      <td>31/12/2015</td>\n",
              "      <td>7444625.0</td>\n",
              "      <td>427762.0</td>\n",
              "      <td>2065560.0</td>\n",
              "    </tr>\n",
              "    <tr>\n",
              "      <th>2</th>\n",
              "      <td>31/12/2016</td>\n",
              "      <td>7543707.0</td>\n",
              "      <td>400207.0</td>\n",
              "      <td>2079162.0</td>\n",
              "    </tr>\n",
              "  </tbody>\n",
              "</table>\n",
              "</div>"
            ],
            "text/plain": [
              "Espécie florestal  Ano (data)  Eucalipto  Outras espécies      Pinus\n",
              "0                  31/12/2014  6952509.0         364998.0  2049234.0\n",
              "1                  31/12/2015  7444625.0         427762.0  2065560.0\n",
              "2                  31/12/2016  7543707.0         400207.0  2079162.0"
            ]
          },
          "execution_count": 29,
          "metadata": {},
          "output_type": "execute_result"
        }
      ],
      "source": [
        "# transformando a consulta em um dataframe\n",
        "df_especie = df.groupby(['Ano (data)','Espécie florestal'])[['Área (ha)']].sum().reset_index().pivot('Ano (data)', 'Espécie florestal', 'Área (ha)').reset_index()\n",
        "df_especie"
      ]
    },
    {
      "cell_type": "code",
      "execution_count": 30,
      "metadata": {
        "colab": {
          "base_uri": "https://localhost:8080/",
          "height": 385
        },
        "id": "vMgaYh-yr5tz",
        "outputId": "43effef2-229c-4c9f-a7c0-5aff6f20fa73"
      },
      "outputs": [
        {
          "data": {
            "image/png": "[encoded data removed]",
            "text/plain": [
              "<Figure size 1152x432 with 1 Axes>"
            ]
          },
          "metadata": {
            "needs_background": "light"
          },
          "output_type": "display_data"
        }
      ],
      "source": [
        "# visualizando o resultado em um gráfico de linha das especies\n",
        "\n",
        "plt.plot('Ano (data)', 'Eucalipto', data = df_especie)\n",
        "plt.plot('Ano (data)', 'Pinus', data = df_especie)\n",
        "plt.plot('Ano (data)', 'Outras espécies', data = df_especie)\n",
        "plt.legend()\n",
        "plt.show()"
      ]
    },
    {
      "cell_type": "code",
      "execution_count": 31,
      "metadata": {
        "colab": {
          "base_uri": "https://localhost:8080/",
          "height": 385
        },
        "id": "8wWQ3eKZGXa4",
        "outputId": "e85c4b1a-e5e7-4c8d-9f09-7f65937a4a3e"
      },
      "outputs": [],
      "source": [
        "# # Há como fazer dessa maneira, porém não há tanta personalização (ou há mas é mt manual)\n",
        "# df_especie = df.groupby(['Ano (data)','Espécie florestal'])[['Área (ha)']].sum().reset_index().pivot('Ano (data)', 'Espécie florestal', 'Área (ha)')\n",
        "# plt.plot(df_especie);"
      ]
    },
    {
      "cell_type": "code",
      "execution_count": 32,
      "metadata": {
        "colab": {
          "base_uri": "https://localhost:8080/",
          "height": 385
        },
        "id": "9XTx-PO9IAtn",
        "outputId": "fc5f898f-9851-4975-98c5-c0115631d7d6"
      },
      "outputs": [
        {
          "data": {
            "image/png": "[encoded data removed]",
            "text/plain": [
              "<Figure size 1152x432 with 1 Axes>"
            ]
          },
          "metadata": {
            "needs_background": "light"
          },
          "output_type": "display_data"
        }
      ],
      "source": [
        "# visualizando o resultado em um gráfico de linha das espécies + total\n",
        "# df_area_por_ano\n",
        "\n",
        "plt.plot('Ano (data)', 'Eucalipto', data = df_especie)\n",
        "plt.plot('Ano (data)', 'Pinus', data = df_especie)\n",
        "plt.plot('Ano (data)', 'Outras espécies', data = df_especie)\n",
        "plt.plot(df_area_por_ano.index, df_area_por_ano.values, label = 'Total')\n",
        "plt.legend()\n",
        "plt.show()"
      ]
    },
    {
      "cell_type": "markdown",
      "metadata": {
        "id": "f8eh0-jyNjtk"
      },
      "source": [
        "### Gráfico de Dispersão"
      ]
    },
    {
      "cell_type": "markdown",
      "metadata": {
        "id": "ob_gI6Y5UVuM"
      },
      "source": [
        "Qual a correlação da quantidade de área reflorestada com o total observando por estado?"
      ]
    },
    {
      "cell_type": "code",
      "execution_count": 33,
      "metadata": {
        "colab": {
          "base_uri": "https://localhost:8080/",
          "height": 81
        },
        "id": "aTdh_msEMyEw",
        "outputId": "dcb46daa-7c10-4ee1-fbb3-313aa511df84"
      },
      "outputs": [
        {
          "data": {
            "text/html": [
              "<div>\n",
              "<style scoped>\n",
              "    .dataframe tbody tr th:only-of-type {\n",
              "        vertical-align: middle;\n",
              "    }\n",
              "\n",
              "    .dataframe tbody tr th {\n",
              "        vertical-align: top;\n",
              "    }\n",
              "\n",
              "    .dataframe thead th {\n",
              "        text-align: right;\n",
              "    }\n",
              "</style>\n",
              "<table border=\"1\" class=\"dataframe\">\n",
              "  <thead>\n",
              "    <tr style=\"text-align: right;\">\n",
              "      <th></th>\n",
              "      <th>Ano (data)</th>\n",
              "      <th>País</th>\n",
              "      <th>Região</th>\n",
              "      <th>Estado</th>\n",
              "      <th>Estado sigla</th>\n",
              "      <th>Município (Municípios)</th>\n",
              "      <th>Município Estado</th>\n",
              "      <th>Latitude</th>\n",
              "      <th>Longitude</th>\n",
              "      <th>Espécie florestal</th>\n",
              "      <th>Área (ha)</th>\n",
              "    </tr>\n",
              "  </thead>\n",
              "  <tbody>\n",
              "    <tr>\n",
              "      <th>0</th>\n",
              "      <td>31/12/2014</td>\n",
              "      <td>Brasil</td>\n",
              "      <td>Norte</td>\n",
              "      <td>Rondônia</td>\n",
              "      <td>RO</td>\n",
              "      <td>Alta Floresta D'Oeste</td>\n",
              "      <td>Alta Floresta D'Oeste (RO)</td>\n",
              "      <td>-12,47</td>\n",
              "      <td>-62,27</td>\n",
              "      <td>Eucalipto</td>\n",
              "      <td>0.0</td>\n",
              "    </tr>\n",
              "  </tbody>\n",
              "</table>\n",
              "</div>"
            ],
            "text/plain": [
              "   Ano (data)    País Região    Estado Estado sigla Município (Municípios)  \\\n",
              "0  31/12/2014  Brasil  Norte  Rondônia           RO  Alta Floresta D'Oeste   \n",
              "\n",
              "             Município Estado Latitude Longitude Espécie florestal  Área (ha)  \n",
              "0  Alta Floresta D'Oeste (RO)   -12,47    -62,27         Eucalipto        0.0  "
            ]
          },
          "execution_count": 33,
          "metadata": {},
          "output_type": "execute_result"
        }
      ],
      "source": [
        "df.head(1)"
      ]
    },
    {
      "cell_type": "code",
      "execution_count": 34,
      "metadata": {
        "colab": {
          "base_uri": "https://localhost:8080/"
        },
        "id": "cww9iSBYvBU5",
        "outputId": "2ca2361a-d29f-493b-a77a-be14f4b6d36a"
      },
      "outputs": [
        {
          "data": {
            "text/plain": [
              "Estado sigla\n",
              "AL    369\n",
              "AP     45\n",
              "BA    945\n",
              "CE    135\n",
              "DF      9\n",
              "Name: Estado sigla, dtype: int64"
            ]
          },
          "execution_count": 34,
          "metadata": {},
          "output_type": "execute_result"
        }
      ],
      "source": [
        "# quantidade de registros de reflorestamento por estado\n",
        "df.groupby('Estado sigla')['Estado sigla'].count().head()"
      ]
    },
    {
      "cell_type": "code",
      "execution_count": 35,
      "metadata": {
        "colab": {
          "base_uri": "https://localhost:8080/"
        },
        "id": "wyLU_92nNLUZ",
        "outputId": "611ae321-289e-44c9-f8e0-9d2b20626dda"
      },
      "outputs": [
        {
          "data": {
            "text/plain": [
              "MG    7191\n",
              "SP    4617\n",
              "RS    4419\n",
              "PR    3510\n",
              "SC    2637\n",
              "Name: Estado sigla, dtype: int64"
            ]
          },
          "execution_count": 35,
          "metadata": {},
          "output_type": "execute_result"
        }
      ],
      "source": [
        "df['Estado sigla'].value_counts().head()"
      ]
    },
    {
      "cell_type": "code",
      "execution_count": 36,
      "metadata": {
        "colab": {
          "base_uri": "https://localhost:8080/"
        },
        "id": "ghFqFq--vFKn",
        "outputId": "22141e05-ab74-4b86-996d-8120569e6d2b"
      },
      "outputs": [
        {
          "data": {
            "text/plain": [
              "Estado sigla\n",
              "AL      25034.0\n",
              "AP     478001.0\n",
              "BA    1732806.0\n",
              "CE        549.0\n",
              "DF      11018.0\n",
              "Name: Área (ha), dtype: float64"
            ]
          },
          "execution_count": 36,
          "metadata": {},
          "output_type": "execute_result"
        }
      ],
      "source": [
        "# soma da área de reflorestamento por estado\n",
        "df.groupby('Estado sigla')['Área (ha)'].sum().head()"
      ]
    },
    {
      "cell_type": "code",
      "execution_count": 37,
      "metadata": {
        "colab": {
          "base_uri": "https://localhost:8080/"
        },
        "id": "FxTvopgKveyU",
        "outputId": "a3020a17-b339-4e4f-986e-c04daa02e01d"
      },
      "outputs": [
        {
          "data": {
            "text/plain": [
              "AL    369\n",
              "AP     45\n",
              "BA    945\n",
              "CE    135\n",
              "DF      9\n",
              "Name: Estado sigla, dtype: int64"
            ]
          },
          "execution_count": 37,
          "metadata": {},
          "output_type": "execute_result"
        }
      ],
      "source": [
        "# quantidade por estado ordenada por estado\n",
        "df['Estado sigla'].value_counts().sort_index().head()"
      ]
    },
    {
      "cell_type": "code",
      "execution_count": 38,
      "metadata": {
        "colab": {
          "base_uri": "https://localhost:8080/",
          "height": 385
        },
        "id": "K05Qj8hIutfc",
        "outputId": "f63fd02e-f07e-4a43-b866-b3f4b3a988fe"
      },
      "outputs": [
        {
          "data": {
            "image/png": "[encoded data removed]",
            "text/plain": [
              "<Figure size 1152x432 with 1 Axes>"
            ]
          },
          "metadata": {
            "needs_background": "light"
          },
          "output_type": "display_data"
        }
      ],
      "source": [
        "# visualizando o resultado em um gráfico de dispersão\n",
        "x_scatter = df['Estado sigla'].value_counts().sort_index()\n",
        "y_scatter = df.groupby('Estado sigla')['Área (ha)'].sum()\n",
        "plt.scatter(x_scatter, y_scatter);\n",
        "plt.show()"
      ]
    },
    {
      "cell_type": "code",
      "execution_count": 41,
      "metadata": {
        "colab": {
          "base_uri": "https://localhost:8080/",
          "height": 206
        },
        "id": "4V-JWKS8Kx1R",
        "outputId": "64852347-1ed6-44c7-bcc6-ca5f520d2e7d"
      },
      "outputs": [
        {
          "data": {
            "text/html": [
              "<div>\n",
              "<style scoped>\n",
              "    .dataframe tbody tr th:only-of-type {\n",
              "        vertical-align: middle;\n",
              "    }\n",
              "\n",
              "    .dataframe tbody tr th {\n",
              "        vertical-align: top;\n",
              "    }\n",
              "\n",
              "    .dataframe thead th {\n",
              "        text-align: right;\n",
              "    }\n",
              "</style>\n",
              "<table border=\"1\" class=\"dataframe\">\n",
              "  <thead>\n",
              "    <tr style=\"text-align: right;\">\n",
              "      <th></th>\n",
              "      <th>Estado sigla</th>\n",
              "      <th>qtd_reflo</th>\n",
              "      <th>area_reflo</th>\n",
              "    </tr>\n",
              "  </thead>\n",
              "  <tbody>\n",
              "    <tr>\n",
              "      <th>0</th>\n",
              "      <td>AL</td>\n",
              "      <td>369</td>\n",
              "      <td>25034.0</td>\n",
              "    </tr>\n",
              "    <tr>\n",
              "      <th>1</th>\n",
              "      <td>AP</td>\n",
              "      <td>45</td>\n",
              "      <td>478001.0</td>\n",
              "    </tr>\n",
              "    <tr>\n",
              "      <th>2</th>\n",
              "      <td>BA</td>\n",
              "      <td>945</td>\n",
              "      <td>1732806.0</td>\n",
              "    </tr>\n",
              "    <tr>\n",
              "      <th>3</th>\n",
              "      <td>CE</td>\n",
              "      <td>135</td>\n",
              "      <td>549.0</td>\n",
              "    </tr>\n",
              "    <tr>\n",
              "      <th>4</th>\n",
              "      <td>DF</td>\n",
              "      <td>9</td>\n",
              "      <td>11018.0</td>\n",
              "    </tr>\n",
              "  </tbody>\n",
              "</table>\n",
              "</div>"
            ],
            "text/plain": [
              "  Estado sigla  qtd_reflo  area_reflo\n",
              "0           AL        369     25034.0\n",
              "1           AP         45    478001.0\n",
              "2           BA        945   1732806.0\n",
              "3           CE        135       549.0\n",
              "4           DF          9     11018.0"
            ]
          },
          "execution_count": 41,
          "metadata": {},
          "output_type": "execute_result"
        }
      ],
      "source": [
        "# forma alternativa de gerar o dataframe\n",
        "df_scatter = df.groupby('Estado sigla').agg({\n",
        "    'Estado sigla': 'count',\n",
        "    'Área (ha)': 'sum'\n",
        "}).rename(columns={\n",
        "    'Estado sigla': 'qtd_reflo',\n",
        "    'Área (ha)': 'area_reflo'\n",
        "}).reset_index()\n",
        "\n",
        "df_scatter.head()"
      ]
    },
    {
      "cell_type": "code",
      "execution_count": 42,
      "metadata": {
        "colab": {
          "base_uri": "https://localhost:8080/",
          "height": 385
        },
        "id": "jUMR5E7RwXTz",
        "outputId": "18f4a3c8-fd43-4863-97bb-8eab1c807656"
      },
      "outputs": [
        {
          "data": {
            "image/png": "[encoded data removed]",
            "text/plain": [
              "<Figure size 1152x432 with 1 Axes>"
            ]
          },
          "metadata": {
            "needs_background": "light"
          },
          "output_type": "display_data"
        }
      ],
      "source": [
        "# visualizando o resultado em um gráfico de dispersão\n",
        "plt.scatter(x = 'qtd_reflo', y = 'area_reflo', data = df_scatter)\n",
        "plt.show()"
      ]
    },
    {
      "cell_type": "markdown",
      "metadata": {
        "id": "931FHs9QzVhb"
      },
      "source": [
        "### Plotando Vários Gráficos"
      ]
    },
    {
      "cell_type": "code",
      "execution_count": 43,
      "metadata": {
        "id": "kPrlITMYRKIA"
      },
      "outputs": [],
      "source": [
        "x_plot = df_area_por_ano.index\n",
        "y_plot = df_area_por_ano.values"
      ]
    },
    {
      "cell_type": "code",
      "execution_count": 44,
      "metadata": {
        "colab": {
          "base_uri": "https://localhost:8080/",
          "height": 402
        },
        "id": "F0HoTKM-zbRO",
        "outputId": "2b398c72-832f-4780-b3cb-0c3703fc2190"
      },
      "outputs": [
        {
          "data": {
            "text/plain": [
              "[<matplotlib.lines.Line2D at 0x16445fa39a0>]"
            ]
          },
          "execution_count": 44,
          "metadata": {},
          "output_type": "execute_result"
        },
        {
          "data": {
            "image/png": "[encoded data removed]",
            "text/plain": [
              "<Figure size 1584x432 with 3 Axes>"
            ]
          },
          "metadata": {
            "needs_background": "light"
          },
          "output_type": "display_data"
        }
      ],
      "source": [
        "# plotando vários gráficos com múltiplos axes (unidimensional)\n",
        "\n",
        "# fig = plt.figure(params)\n",
        "# fig, ax = plt.subplots() # único axes\n",
        "# fig, ax = plt.subplots(2, 2) # múltiplos axes\n",
        "\n",
        "fig, ax = plt.subplots(1, 3, figsize=(22, 6));\n",
        "ax[0].bar(x_bar, y_bar)\n",
        "ax[1].scatter(x_scatter, y_scatter)\n",
        "ax[2].plot(x_plot, y_plot)"
      ]
    },
    {
      "cell_type": "code",
      "execution_count": 45,
      "metadata": {
        "colab": {
          "base_uri": "https://localhost:8080/",
          "height": 417
        },
        "id": "ii6bTkFoivYx",
        "outputId": "73543692-3348-413e-e80e-17a33e0536cf"
      },
      "outputs": [
        {
          "data": {
            "image/png": "[encoded data removed]",
            "text/plain": [
              "<Figure size 1584x432 with 4 Axes>"
            ]
          },
          "metadata": {
            "needs_background": "light"
          },
          "output_type": "display_data"
        }
      ],
      "source": [
        "# plotando vários gráficos com múltiplos axes (bidimensional / matriz)\n",
        "\n",
        "fig, ax = plt.subplots(2, 2, figsize = (22, 6), sharex = True, sharey = True)\n",
        "# ax[0,0].set_xlabel('Estados')\n",
        "# ax[0,0].set_ylabel('quantidade')\n",
        "ax[0,0].bar(x_bar, y_bar, color = 'darkblue')\n",
        "ax[0][1].bar(x_bar, y_bar, color = 'red')\n",
        "ax[1,0].bar(x_bar, y_bar, color = 'green')\n",
        "ax[1][1].bar(x_bar, y_bar, color = 'purple')\n",
        "\n",
        "# plt.xlabel('estados')\n",
        "# plt.ylabel('quantidades')\n",
        "plt.suptitle('Quantidade de Registros por Estado', fontsize = 16)\n",
        "\n",
        "plt.show()"
      ]
    },
    {
      "cell_type": "markdown",
      "metadata": {
        "id": "Mm0jn3h2wyiq"
      },
      "source": [
        "### Atividade"
      ]
    },
    {
      "cell_type": "markdown",
      "metadata": {
        "id": "t5dFD1NQxhyc"
      },
      "source": [
        "Instruções\n",
        "- Resolver as questões abaixo. Subir o notebook em um repositório público no GitHub e enviar no [Formulário](https://docs.google.com/forms/d/e/1FAIpQLSf8IUCLt4kowhHhB3SRQofE2I8NuXuDadBYjRHqUxgb3yWOaQ/viewform)\n",
        "- Para resolver as questões abaixo utilizar o dataset do seaborn: 'mpg'\n",
        "- Para os gráficos finais de cada questão, eles devem possuir título, rótulo dos eixos definidos e legenda (quando necessário)."
      ]
    },
    {
      "cell_type": "code",
      "execution_count": 46,
      "metadata": {
        "id": "2eatAzKQswGX"
      },
      "outputs": [],
      "source": [
        "import pandas as pd\n",
        "import seaborn as sns\n",
        "import matplotlib.pyplot as plt"
      ]
    },
    {
      "cell_type": "code",
      "execution_count": 47,
      "metadata": {
        "id": "WLwDpewOtHR3"
      },
      "outputs": [],
      "source": [
        "# importa dataset\n",
        "\n",
        "df = sns.load_dataset('mpg')"
      ]
    },
    {
      "cell_type": "code",
      "execution_count": 48,
      "metadata": {
        "colab": {
          "base_uri": "https://localhost:8080/",
          "height": 206
        },
        "id": "ZVZcFhp9YpUS",
        "outputId": "881f0fa3-a733-432b-e8ac-b8a4926d50f0"
      },
      "outputs": [
        {
          "data": {
            "text/html": [
              "<div>\n",
              "<style scoped>\n",
              "    .dataframe tbody tr th:only-of-type {\n",
              "        vertical-align: middle;\n",
              "    }\n",
              "\n",
              "    .dataframe tbody tr th {\n",
              "        vertical-align: top;\n",
              "    }\n",
              "\n",
              "    .dataframe thead th {\n",
              "        text-align: right;\n",
              "    }\n",
              "</style>\n",
              "<table border=\"1\" class=\"dataframe\">\n",
              "  <thead>\n",
              "    <tr style=\"text-align: right;\">\n",
              "      <th></th>\n",
              "      <th>mpg</th>\n",
              "      <th>cylinders</th>\n",
              "      <th>displacement</th>\n",
              "      <th>horsepower</th>\n",
              "      <th>weight</th>\n",
              "      <th>acceleration</th>\n",
              "      <th>model_year</th>\n",
              "      <th>origin</th>\n",
              "      <th>name</th>\n",
              "    </tr>\n",
              "  </thead>\n",
              "  <tbody>\n",
              "    <tr>\n",
              "      <th>0</th>\n",
              "      <td>18.0</td>\n",
              "      <td>8</td>\n",
              "      <td>307.0</td>\n",
              "      <td>130.0</td>\n",
              "      <td>3504</td>\n",
              "      <td>12.0</td>\n",
              "      <td>70</td>\n",
              "      <td>usa</td>\n",
              "      <td>chevrolet chevelle malibu</td>\n",
              "    </tr>\n",
              "    <tr>\n",
              "      <th>1</th>\n",
              "      <td>15.0</td>\n",
              "      <td>8</td>\n",
              "      <td>350.0</td>\n",
              "      <td>165.0</td>\n",
              "      <td>3693</td>\n",
              "      <td>11.5</td>\n",
              "      <td>70</td>\n",
              "      <td>usa</td>\n",
              "      <td>buick skylark 320</td>\n",
              "    </tr>\n",
              "    <tr>\n",
              "      <th>2</th>\n",
              "      <td>18.0</td>\n",
              "      <td>8</td>\n",
              "      <td>318.0</td>\n",
              "      <td>150.0</td>\n",
              "      <td>3436</td>\n",
              "      <td>11.0</td>\n",
              "      <td>70</td>\n",
              "      <td>usa</td>\n",
              "      <td>plymouth satellite</td>\n",
              "    </tr>\n",
              "    <tr>\n",
              "      <th>3</th>\n",
              "      <td>16.0</td>\n",
              "      <td>8</td>\n",
              "      <td>304.0</td>\n",
              "      <td>150.0</td>\n",
              "      <td>3433</td>\n",
              "      <td>12.0</td>\n",
              "      <td>70</td>\n",
              "      <td>usa</td>\n",
              "      <td>amc rebel sst</td>\n",
              "    </tr>\n",
              "    <tr>\n",
              "      <th>4</th>\n",
              "      <td>17.0</td>\n",
              "      <td>8</td>\n",
              "      <td>302.0</td>\n",
              "      <td>140.0</td>\n",
              "      <td>3449</td>\n",
              "      <td>10.5</td>\n",
              "      <td>70</td>\n",
              "      <td>usa</td>\n",
              "      <td>ford torino</td>\n",
              "    </tr>\n",
              "  </tbody>\n",
              "</table>\n",
              "</div>"
            ],
            "text/plain": [
              "    mpg  cylinders  displacement  horsepower  weight  acceleration  \\\n",
              "0  18.0          8         307.0       130.0    3504          12.0   \n",
              "1  15.0          8         350.0       165.0    3693          11.5   \n",
              "2  18.0          8         318.0       150.0    3436          11.0   \n",
              "3  16.0          8         304.0       150.0    3433          12.0   \n",
              "4  17.0          8         302.0       140.0    3449          10.5   \n",
              "\n",
              "   model_year origin                       name  \n",
              "0          70    usa  chevrolet chevelle malibu  \n",
              "1          70    usa          buick skylark 320  \n",
              "2          70    usa         plymouth satellite  \n",
              "3          70    usa              amc rebel sst  \n",
              "4          70    usa                ford torino  "
            ]
          },
          "execution_count": 48,
          "metadata": {},
          "output_type": "execute_result"
        }
      ],
      "source": [
        "df.head()"
      ]
    },
    {
      "cell_type": "code",
      "execution_count": 49,
      "metadata": {
        "colab": {
          "base_uri": "https://localhost:8080/"
        },
        "id": "ynUGpOA0UCn7",
        "outputId": "75318150-0c70-46a4-c38f-7e94b1d84251"
      },
      "outputs": [
        {
          "name": "stdout",
          "output_type": "stream",
          "text": [
            "<class 'pandas.core.frame.DataFrame'>\n",
            "RangeIndex: 398 entries, 0 to 397\n",
            "Data columns (total 9 columns):\n",
            " #   Column        Non-Null Count  Dtype  \n",
            "---  ------        --------------  -----  \n",
            " 0   mpg           398 non-null    float64\n",
            " 1   cylinders     398 non-null    int64  \n",
            " 2   displacement  398 non-null    float64\n",
            " 3   horsepower    392 non-null    float64\n",
            " 4   weight        398 non-null    int64  \n",
            " 5   acceleration  398 non-null    float64\n",
            " 6   model_year    398 non-null    int64  \n",
            " 7   origin        398 non-null    object \n",
            " 8   name          398 non-null    object \n",
            "dtypes: float64(4), int64(3), object(2)\n",
            "memory usage: 28.1+ KB\n"
          ]
        }
      ],
      "source": [
        "df.info()"
      ]
    },
    {
      "cell_type": "code",
      "execution_count": null,
      "metadata": {
        "colab": {
          "base_uri": "https://localhost:8080/"
        },
        "id": "eXa7m4YHUUGH",
        "outputId": "ae3bc1f8-9e47-4d46-eed7-e2000954e352"
      },
      "outputs": [],
      "source": []
    },
    {
      "cell_type": "code",
      "execution_count": 50,
      "metadata": {
        "colab": {
          "base_uri": "https://localhost:8080/"
        },
        "id": "cqCytPJ3Ux9N",
        "outputId": "30189fa6-419c-434d-f7aa-31aa26a9f860"
      },
      "outputs": [
        {
          "data": {
            "text/plain": [
              "398"
            ]
          },
          "execution_count": 50,
          "metadata": {},
          "output_type": "execute_result"
        }
      ],
      "source": [
        "len(df)"
      ]
    },
    {
      "cell_type": "markdown",
      "metadata": {
        "id": "xHZnoZLJyw68"
      },
      "source": [
        "#### Questão 1"
      ]
    },
    {
      "cell_type": "markdown",
      "metadata": {
        "id": "QA6tvZbXtYvw"
      },
      "source": [
        "Verificar se a base de dados possui valores nulos. Para as linhas com valores nulos, deletar as mesmas. Ao final da questão verificar se a base de dados ficou com 392 registros e 9 colunas."
      ]
    },
    {
      "cell_type": "code",
      "execution_count": 51,
      "metadata": {
        "colab": {
          "base_uri": "https://localhost:8080/"
        },
        "id": "ZA701s58tJjO",
        "outputId": "faf02c19-b8bc-4f96-dff6-d8f9fd619c9d"
      },
      "outputs": [
        {
          "data": {
            "text/plain": [
              "mpg             0\n",
              "cylinders       0\n",
              "displacement    0\n",
              "horsepower      6\n",
              "weight          0\n",
              "acceleration    0\n",
              "model_year      0\n",
              "origin          0\n",
              "name            0\n",
              "dtype: int64"
            ]
          },
          "execution_count": 51,
          "metadata": {},
          "output_type": "execute_result"
        }
      ],
      "source": [
        "# Verificando linhas com valor nulo\n",
        "df.isna().sum()"
      ]
    },
    {
      "cell_type": "code",
      "execution_count": 52,
      "metadata": {
        "id": "rhew6x5xxSni"
      },
      "outputs": [],
      "source": [
        "# Retirando linhas com valor nulo\n",
        "df = df.dropna()"
      ]
    },
    {
      "cell_type": "code",
      "execution_count": 53,
      "metadata": {
        "colab": {
          "base_uri": "https://localhost:8080/"
        },
        "id": "x9bOvWm2tVSq",
        "outputId": "a95c5e60-e728-43ad-a0cc-3f4eeba06097"
      },
      "outputs": [
        {
          "data": {
            "text/plain": [
              "(392, 9)"
            ]
          },
          "execution_count": 53,
          "metadata": {},
          "output_type": "execute_result"
        }
      ],
      "source": [
        "df.shape"
      ]
    },
    {
      "cell_type": "markdown",
      "metadata": {
        "id": "qHF6jaTSy1qg"
      },
      "source": [
        "#### Questão 2"
      ]
    },
    {
      "cell_type": "markdown",
      "metadata": {
        "id": "BM2iKIK-uAx-"
      },
      "source": [
        "Qual a quantidade de carros por origem (*origin*)? Responda utilizando um gráfico de barras e inclua os rótulos dos dados."
      ]
    },
    {
      "cell_type": "markdown",
      "metadata": {},
      "source": [
        "Passos para plotagem:\n",
        "1. entender o dataset\n",
        "2. entender a nossa questão de negócio\n",
        "3. efetuar o tratamento dos dados\n",
        "4. realizar a plotagem"
      ]
    },
    {
      "cell_type": "code",
      "execution_count": 54,
      "metadata": {
        "colab": {
          "base_uri": "https://localhost:8080/",
          "height": 206
        },
        "id": "ATO8JBqPLUV0",
        "outputId": "8077ae6e-53e8-437d-da7a-27e443c0f72f"
      },
      "outputs": [
        {
          "data": {
            "text/html": [
              "<div>\n",
              "<style scoped>\n",
              "    .dataframe tbody tr th:only-of-type {\n",
              "        vertical-align: middle;\n",
              "    }\n",
              "\n",
              "    .dataframe tbody tr th {\n",
              "        vertical-align: top;\n",
              "    }\n",
              "\n",
              "    .dataframe thead th {\n",
              "        text-align: right;\n",
              "    }\n",
              "</style>\n",
              "<table border=\"1\" class=\"dataframe\">\n",
              "  <thead>\n",
              "    <tr style=\"text-align: right;\">\n",
              "      <th></th>\n",
              "      <th>mpg</th>\n",
              "      <th>cylinders</th>\n",
              "      <th>displacement</th>\n",
              "      <th>horsepower</th>\n",
              "      <th>weight</th>\n",
              "      <th>acceleration</th>\n",
              "      <th>model_year</th>\n",
              "      <th>origin</th>\n",
              "      <th>name</th>\n",
              "    </tr>\n",
              "  </thead>\n",
              "  <tbody>\n",
              "    <tr>\n",
              "      <th>0</th>\n",
              "      <td>18.0</td>\n",
              "      <td>8</td>\n",
              "      <td>307.0</td>\n",
              "      <td>130.0</td>\n",
              "      <td>3504</td>\n",
              "      <td>12.0</td>\n",
              "      <td>70</td>\n",
              "      <td>usa</td>\n",
              "      <td>chevrolet chevelle malibu</td>\n",
              "    </tr>\n",
              "    <tr>\n",
              "      <th>1</th>\n",
              "      <td>15.0</td>\n",
              "      <td>8</td>\n",
              "      <td>350.0</td>\n",
              "      <td>165.0</td>\n",
              "      <td>3693</td>\n",
              "      <td>11.5</td>\n",
              "      <td>70</td>\n",
              "      <td>usa</td>\n",
              "      <td>buick skylark 320</td>\n",
              "    </tr>\n",
              "    <tr>\n",
              "      <th>2</th>\n",
              "      <td>18.0</td>\n",
              "      <td>8</td>\n",
              "      <td>318.0</td>\n",
              "      <td>150.0</td>\n",
              "      <td>3436</td>\n",
              "      <td>11.0</td>\n",
              "      <td>70</td>\n",
              "      <td>usa</td>\n",
              "      <td>plymouth satellite</td>\n",
              "    </tr>\n",
              "    <tr>\n",
              "      <th>3</th>\n",
              "      <td>16.0</td>\n",
              "      <td>8</td>\n",
              "      <td>304.0</td>\n",
              "      <td>150.0</td>\n",
              "      <td>3433</td>\n",
              "      <td>12.0</td>\n",
              "      <td>70</td>\n",
              "      <td>usa</td>\n",
              "      <td>amc rebel sst</td>\n",
              "    </tr>\n",
              "    <tr>\n",
              "      <th>4</th>\n",
              "      <td>17.0</td>\n",
              "      <td>8</td>\n",
              "      <td>302.0</td>\n",
              "      <td>140.0</td>\n",
              "      <td>3449</td>\n",
              "      <td>10.5</td>\n",
              "      <td>70</td>\n",
              "      <td>usa</td>\n",
              "      <td>ford torino</td>\n",
              "    </tr>\n",
              "  </tbody>\n",
              "</table>\n",
              "</div>"
            ],
            "text/plain": [
              "    mpg  cylinders  displacement  horsepower  weight  acceleration  \\\n",
              "0  18.0          8         307.0       130.0    3504          12.0   \n",
              "1  15.0          8         350.0       165.0    3693          11.5   \n",
              "2  18.0          8         318.0       150.0    3436          11.0   \n",
              "3  16.0          8         304.0       150.0    3433          12.0   \n",
              "4  17.0          8         302.0       140.0    3449          10.5   \n",
              "\n",
              "   model_year origin                       name  \n",
              "0          70    usa  chevrolet chevelle malibu  \n",
              "1          70    usa          buick skylark 320  \n",
              "2          70    usa         plymouth satellite  \n",
              "3          70    usa              amc rebel sst  \n",
              "4          70    usa                ford torino  "
            ]
          },
          "execution_count": 54,
          "metadata": {},
          "output_type": "execute_result"
        }
      ],
      "source": [
        "df.head()"
      ]
    },
    {
      "cell_type": "code",
      "execution_count": 55,
      "metadata": {
        "colab": {
          "base_uri": "https://localhost:8080/"
        },
        "id": "mQzAgwxDupqd",
        "outputId": "6cf0de59-0b04-4d8b-e5c3-21ac6753cde2"
      },
      "outputs": [
        {
          "data": {
            "text/plain": [
              "usa       245\n",
              "japan      79\n",
              "europe     68\n",
              "Name: origin, dtype: int64"
            ]
          },
          "execution_count": 55,
          "metadata": {},
          "output_type": "execute_result"
        }
      ],
      "source": [
        "df_carro_origem = df['origin'].value_counts()\n",
        "df_carro_origem"
      ]
    },
    {
      "cell_type": "code",
      "execution_count": 56,
      "metadata": {
        "id": "QHlZyJZRZQ-X"
      },
      "outputs": [],
      "source": [
        "x_bar = df_carro_origem.index\n",
        "y_bar = df_carro_origem.values"
      ]
    },
    {
      "cell_type": "code",
      "execution_count": 57,
      "metadata": {
        "colab": {
          "base_uri": "https://localhost:8080/",
          "height": 392
        },
        "id": "dlDCLDhLcy0X",
        "outputId": "825ae23e-016f-4071-e0e0-2f5f14479568"
      },
      "outputs": [
        {
          "data": {
            "image/png": "[encoded data removed]",
            "text/plain": [
              "<Figure size 1152x432 with 1 Axes>"
            ]
          },
          "metadata": {
            "needs_background": "light"
          },
          "output_type": "display_data"
        }
      ],
      "source": [
        "fig, ax = plt.subplots()\n",
        "bars = ax.bar(x_bar, y_bar)\n",
        "\n",
        "plt.title('Quantidade de Carros por Origem', fontsize=16)\n",
        "ax.bar_label(bars, padding=2,  fontsize=12)\n",
        "\n",
        "plt.show()\n"
      ]
    },
    {
      "cell_type": "markdown",
      "metadata": {
        "id": "_CsMciDSy6Aa"
      },
      "source": [
        "#### Questão 3"
      ]
    },
    {
      "cell_type": "markdown",
      "metadata": {
        "id": "W6YZiNejuSwE"
      },
      "source": [
        "Qual a média da potência (*horsepower*) dos carros por origem?"
      ]
    },
    {
      "cell_type": "code",
      "execution_count": 58,
      "metadata": {
        "colab": {
          "base_uri": "https://localhost:8080/"
        },
        "id": "zWzQ7c7Qy6-0",
        "outputId": "97cdd2ae-104c-4b0b-e08b-46ec452004ec"
      },
      "outputs": [
        {
          "name": "stdout",
          "output_type": "stream",
          "text": [
            "<class 'pandas.core.frame.DataFrame'>\n",
            "Int64Index: 392 entries, 0 to 397\n",
            "Data columns (total 9 columns):\n",
            " #   Column        Non-Null Count  Dtype  \n",
            "---  ------        --------------  -----  \n",
            " 0   mpg           392 non-null    float64\n",
            " 1   cylinders     392 non-null    int64  \n",
            " 2   displacement  392 non-null    float64\n",
            " 3   horsepower    392 non-null    float64\n",
            " 4   weight        392 non-null    int64  \n",
            " 5   acceleration  392 non-null    float64\n",
            " 6   model_year    392 non-null    int64  \n",
            " 7   origin        392 non-null    object \n",
            " 8   name          392 non-null    object \n",
            "dtypes: float64(4), int64(3), object(2)\n",
            "memory usage: 30.6+ KB\n"
          ]
        }
      ],
      "source": [
        "df.info()"
      ]
    },
    {
      "cell_type": "code",
      "execution_count": 59,
      "metadata": {
        "id": "C_3t3uU2aHfH"
      },
      "outputs": [],
      "source": [
        "grafico_media_potencia = df.groupby('origin')['horsepower'].mean()"
      ]
    },
    {
      "cell_type": "code",
      "execution_count": 60,
      "metadata": {
        "colab": {
          "base_uri": "https://localhost:8080/",
          "height": 374
        },
        "id": "Z7it2yIovjc8",
        "outputId": "7ed58d10-54a3-4d42-8181-2c309414f38c"
      },
      "outputs": [
        {
          "data": {
            "image/png": "[encoded data removed]",
            "text/plain": [
              "<Figure size 1152x432 with 1 Axes>"
            ]
          },
          "metadata": {
            "needs_background": "light"
          },
          "output_type": "display_data"
        }
      ],
      "source": [
        "plt.bar(grafico_media_potencia.index, grafico_media_potencia.values);"
      ]
    },
    {
      "cell_type": "markdown",
      "metadata": {
        "id": "6VrR1rqTy7WN"
      },
      "source": [
        "#### Questão 4"
      ]
    },
    {
      "cell_type": "markdown",
      "metadata": {
        "id": "KzsEshzevysX"
      },
      "source": [
        "Qual a correlacão da potência (*horsepower*) com a aceleração (*acceleration*) cos carros?"
      ]
    },
    {
      "cell_type": "code",
      "execution_count": 61,
      "metadata": {
        "colab": {
          "base_uri": "https://localhost:8080/",
          "height": 363
        },
        "id": "N3zsPTD6aqVy",
        "outputId": "0489ea15-f6e2-455f-a6d6-5a7ec34a9b3a"
      },
      "outputs": [
        {
          "data": {
            "text/html": [
              "<div>\n",
              "<style scoped>\n",
              "    .dataframe tbody tr th:only-of-type {\n",
              "        vertical-align: middle;\n",
              "    }\n",
              "\n",
              "    .dataframe tbody tr th {\n",
              "        vertical-align: top;\n",
              "    }\n",
              "\n",
              "    .dataframe thead th {\n",
              "        text-align: right;\n",
              "    }\n",
              "</style>\n",
              "<table border=\"1\" class=\"dataframe\">\n",
              "  <thead>\n",
              "    <tr style=\"text-align: right;\">\n",
              "      <th></th>\n",
              "      <th>mpg</th>\n",
              "      <th>cylinders</th>\n",
              "      <th>displacement</th>\n",
              "      <th>horsepower</th>\n",
              "      <th>weight</th>\n",
              "      <th>acceleration</th>\n",
              "      <th>model_year</th>\n",
              "      <th>origin</th>\n",
              "      <th>name</th>\n",
              "    </tr>\n",
              "  </thead>\n",
              "  <tbody>\n",
              "    <tr>\n",
              "      <th>0</th>\n",
              "      <td>18.0</td>\n",
              "      <td>8</td>\n",
              "      <td>307.0</td>\n",
              "      <td>130.0</td>\n",
              "      <td>3504</td>\n",
              "      <td>12.0</td>\n",
              "      <td>70</td>\n",
              "      <td>usa</td>\n",
              "      <td>chevrolet chevelle malibu</td>\n",
              "    </tr>\n",
              "    <tr>\n",
              "      <th>1</th>\n",
              "      <td>15.0</td>\n",
              "      <td>8</td>\n",
              "      <td>350.0</td>\n",
              "      <td>165.0</td>\n",
              "      <td>3693</td>\n",
              "      <td>11.5</td>\n",
              "      <td>70</td>\n",
              "      <td>usa</td>\n",
              "      <td>buick skylark 320</td>\n",
              "    </tr>\n",
              "    <tr>\n",
              "      <th>2</th>\n",
              "      <td>18.0</td>\n",
              "      <td>8</td>\n",
              "      <td>318.0</td>\n",
              "      <td>150.0</td>\n",
              "      <td>3436</td>\n",
              "      <td>11.0</td>\n",
              "      <td>70</td>\n",
              "      <td>usa</td>\n",
              "      <td>plymouth satellite</td>\n",
              "    </tr>\n",
              "    <tr>\n",
              "      <th>3</th>\n",
              "      <td>16.0</td>\n",
              "      <td>8</td>\n",
              "      <td>304.0</td>\n",
              "      <td>150.0</td>\n",
              "      <td>3433</td>\n",
              "      <td>12.0</td>\n",
              "      <td>70</td>\n",
              "      <td>usa</td>\n",
              "      <td>amc rebel sst</td>\n",
              "    </tr>\n",
              "    <tr>\n",
              "      <th>4</th>\n",
              "      <td>17.0</td>\n",
              "      <td>8</td>\n",
              "      <td>302.0</td>\n",
              "      <td>140.0</td>\n",
              "      <td>3449</td>\n",
              "      <td>10.5</td>\n",
              "      <td>70</td>\n",
              "      <td>usa</td>\n",
              "      <td>ford torino</td>\n",
              "    </tr>\n",
              "    <tr>\n",
              "      <th>5</th>\n",
              "      <td>15.0</td>\n",
              "      <td>8</td>\n",
              "      <td>429.0</td>\n",
              "      <td>198.0</td>\n",
              "      <td>4341</td>\n",
              "      <td>10.0</td>\n",
              "      <td>70</td>\n",
              "      <td>usa</td>\n",
              "      <td>ford galaxie 500</td>\n",
              "    </tr>\n",
              "    <tr>\n",
              "      <th>6</th>\n",
              "      <td>14.0</td>\n",
              "      <td>8</td>\n",
              "      <td>454.0</td>\n",
              "      <td>220.0</td>\n",
              "      <td>4354</td>\n",
              "      <td>9.0</td>\n",
              "      <td>70</td>\n",
              "      <td>usa</td>\n",
              "      <td>chevrolet impala</td>\n",
              "    </tr>\n",
              "    <tr>\n",
              "      <th>7</th>\n",
              "      <td>14.0</td>\n",
              "      <td>8</td>\n",
              "      <td>440.0</td>\n",
              "      <td>215.0</td>\n",
              "      <td>4312</td>\n",
              "      <td>8.5</td>\n",
              "      <td>70</td>\n",
              "      <td>usa</td>\n",
              "      <td>plymouth fury iii</td>\n",
              "    </tr>\n",
              "    <tr>\n",
              "      <th>8</th>\n",
              "      <td>14.0</td>\n",
              "      <td>8</td>\n",
              "      <td>455.0</td>\n",
              "      <td>225.0</td>\n",
              "      <td>4425</td>\n",
              "      <td>10.0</td>\n",
              "      <td>70</td>\n",
              "      <td>usa</td>\n",
              "      <td>pontiac catalina</td>\n",
              "    </tr>\n",
              "    <tr>\n",
              "      <th>9</th>\n",
              "      <td>15.0</td>\n",
              "      <td>8</td>\n",
              "      <td>390.0</td>\n",
              "      <td>190.0</td>\n",
              "      <td>3850</td>\n",
              "      <td>8.5</td>\n",
              "      <td>70</td>\n",
              "      <td>usa</td>\n",
              "      <td>amc ambassador dpl</td>\n",
              "    </tr>\n",
              "  </tbody>\n",
              "</table>\n",
              "</div>"
            ],
            "text/plain": [
              "    mpg  cylinders  displacement  horsepower  weight  acceleration  \\\n",
              "0  18.0          8         307.0       130.0    3504          12.0   \n",
              "1  15.0          8         350.0       165.0    3693          11.5   \n",
              "2  18.0          8         318.0       150.0    3436          11.0   \n",
              "3  16.0          8         304.0       150.0    3433          12.0   \n",
              "4  17.0          8         302.0       140.0    3449          10.5   \n",
              "5  15.0          8         429.0       198.0    4341          10.0   \n",
              "6  14.0          8         454.0       220.0    4354           9.0   \n",
              "7  14.0          8         440.0       215.0    4312           8.5   \n",
              "8  14.0          8         455.0       225.0    4425          10.0   \n",
              "9  15.0          8         390.0       190.0    3850           8.5   \n",
              "\n",
              "   model_year origin                       name  \n",
              "0          70    usa  chevrolet chevelle malibu  \n",
              "1          70    usa          buick skylark 320  \n",
              "2          70    usa         plymouth satellite  \n",
              "3          70    usa              amc rebel sst  \n",
              "4          70    usa                ford torino  \n",
              "5          70    usa           ford galaxie 500  \n",
              "6          70    usa           chevrolet impala  \n",
              "7          70    usa          plymouth fury iii  \n",
              "8          70    usa           pontiac catalina  \n",
              "9          70    usa         amc ambassador dpl  "
            ]
          },
          "execution_count": 61,
          "metadata": {},
          "output_type": "execute_result"
        }
      ],
      "source": [
        "df.head(10)"
      ]
    },
    {
      "cell_type": "code",
      "execution_count": 62,
      "metadata": {
        "id": "exANisrkbgaC"
      },
      "outputs": [],
      "source": [
        "x_scatter = df['horsepower']\n",
        "y_scatter = df['acceleration']"
      ]
    },
    {
      "cell_type": "code",
      "execution_count": 63,
      "metadata": {
        "colab": {
          "base_uri": "https://localhost:8080/",
          "height": 374
        },
        "id": "EpDgVD2swQpL",
        "outputId": "9f14c78f-f264-479e-f4e1-aa4837f926ac"
      },
      "outputs": [
        {
          "data": {
            "image/png": "[encoded data removed]",
            "text/plain": [
              "<Figure size 1152x432 with 1 Axes>"
            ]
          },
          "metadata": {
            "needs_background": "light"
          },
          "output_type": "display_data"
        }
      ],
      "source": [
        "plt.scatter(x_scatter, y_scatter)\n",
        "plt.show()"
      ]
    },
    {
      "cell_type": "markdown",
      "metadata": {
        "id": "d7QVQK12cbKy"
      },
      "source": [
        "A aceleração seria o tempo para "
      ]
    },
    {
      "cell_type": "markdown",
      "metadata": {
        "id": "iIepmt9TOVfQ"
      },
      "source": [
        "#### Questão 5"
      ]
    },
    {
      "cell_type": "markdown",
      "metadata": {
        "id": "oHx89HAlx3kw"
      },
      "source": [
        "Qual a correlacão da potência (*horsepower*) com a aceleração (*acceleration*) dos carros, segmentando de acordo com a origem (*origin*) com cores diferentes e plotando no mesmo eixo (*axes*)?"
      ]
    },
    {
      "cell_type": "code",
      "execution_count": 69,
      "metadata": {
        "id": "uf6M_1U7OeQZ"
      },
      "outputs": [
        {
          "data": {
            "image/png": "[encoded data removed]",
            "text/plain": [
              "<Figure size 1152x432 with 1 Axes>"
            ]
          },
          "metadata": {
            "needs_background": "light"
          },
          "output_type": "display_data"
        }
      ],
      "source": [
        "plt.scatter(data=df[df['origin']== 'usa'], x = 'acceleration', y = 'horsepower', c='green', label='usa')\n",
        "plt.scatter(data=df[df['origin']== 'japan'], x = 'acceleration', y = 'horsepower', c='blue', label='japan')\n",
        "plt.scatter(data=df[df['origin']== 'europe'], x = 'acceleration', y = 'horsepower', c='yellow', label='europe')\n",
        "\n",
        "plt.legend()\n",
        "plt.show()"
      ]
    },
    {
      "cell_type": "code",
      "execution_count": null,
      "metadata": {
        "id": "2X9SgjL7gHc0"
      },
      "outputs": [],
      "source": []
    }
  ],
  "metadata": {
    "colab": {
      "provenance": []
    },
    "kernelspec": {
      "display_name": "Python 3.10.5 64-bit",
      "language": "python",
      "name": "python3"
    },
    "language_info": {
      "codemirror_mode": {
        "name": "ipython",
        "version": 3
      },
      "file_extension": ".py",
      "mimetype": "text/x-python",
      "name": "python",
      "nbconvert_exporter": "python",
      "pygments_lexer": "ipython3",
      "version": "3.10.5"
    },
    "vscode": {
      "interpreter": {
        "hash": "8e76ed3c32135994001530bed0f811497db14313295d850ff0a56919f27a1e47"
      }
    }
  },
  "nbformat": 4,
  "nbformat_minor": 0
}
